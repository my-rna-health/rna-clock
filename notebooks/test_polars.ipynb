{
 "cells": [
  {
   "cell_type": "code",
   "execution_count": 1,
   "outputs": [],
   "source": [
    "import polars as pl\n",
    "from pathlib import Path\n",
    "from pycomfort.files import *\n",
    "from pycomfort import files\n",
    "import pyarrow\n",
    "import pandas as pd\n",
    "from functional import seq"
   ],
   "metadata": {
    "collapsed": false,
    "pycharm": {
     "name": "#%%\n"
    }
   }
  },
  {
   "cell_type": "code",
   "execution_count": 10,
   "outputs": [],
   "source": [
    "df = pl.DataFrame(\n",
    "    {\n",
    "        \"fruits\": [\"banana,apple\", \"lemon\", \"lemon,apple\", \"apple\", \"banana\", \"lemon\"],\n",
    "        \"some_random_column\": [2, 1, 2,1,1,1]\n",
    "    }\n",
    ")\n",
    "def filter_lemon_and_apple(arr: list):\n",
    "    return \"lemon\" in arr or \"apple\" in arr\n",
    "fruits_to_look = [\"lemon\", \"apple\"] #допустим єто массив значений для поиска\n",
    "regex = \"|\".join(fruits_to_look) #соединяем в регекс\n",
    "#df.filter(pl.col(\"fruits\").str.split(\",\").arr.diff(fruits_to_look))"
   ],
   "metadata": {
    "collapsed": false,
    "pycharm": {
     "name": "#%%\n"
    }
   }
  },
  {
   "cell_type": "code",
   "execution_count": 24,
   "outputs": [],
   "source": [
    "regex_by_element = pl.col(\"fruits\").str.split(\",\").arr.eval(pl.element().str.contains(regex))\n",
    "df.filter(regex_by_element )"
   ],
   "metadata": {
    "collapsed": false,
    "pycharm": {
     "name": "#%%\n"
    }
   }
  },
  {
   "cell_type": "code",
   "execution_count": 26,
   "outputs": [
    {
     "data": {
      "text/plain": "shape: (5, 2)\n┌──────────────┬────────────────────┐\n│ fruits       ┆ some_random_column │\n│ ---          ┆ ---                │\n│ str          ┆ i64                │\n╞══════════════╪════════════════════╡\n│ banana,apple ┆ 2                  │\n├╌╌╌╌╌╌╌╌╌╌╌╌╌╌┼╌╌╌╌╌╌╌╌╌╌╌╌╌╌╌╌╌╌╌╌┤\n│ lemon        ┆ 1                  │\n├╌╌╌╌╌╌╌╌╌╌╌╌╌╌┼╌╌╌╌╌╌╌╌╌╌╌╌╌╌╌╌╌╌╌╌┤\n│ lemon,apple  ┆ 2                  │\n├╌╌╌╌╌╌╌╌╌╌╌╌╌╌┼╌╌╌╌╌╌╌╌╌╌╌╌╌╌╌╌╌╌╌╌┤\n│ apple        ┆ 1                  │\n├╌╌╌╌╌╌╌╌╌╌╌╌╌╌┼╌╌╌╌╌╌╌╌╌╌╌╌╌╌╌╌╌╌╌╌┤\n│ lemon        ┆ 1                  │\n└──────────────┴────────────────────┘",
      "text/html": "<div>\n<style scoped>\n    .dataframe tbody tr th:only-of-type {\n        vertical-align: middle;\n    }\n\n    .dataframe tbody tr th {\n        vertical-align: top;\n    }\n\n    .dataframe thead th {\n        text-align: right;\n    }\n\n    .dataframe td {\n        white-space: pre;\n    }\n\n    .dataframe td {\n        padding-top: 0;\n    }\n\n    .dataframe td {\n        padding-bottom: 0;\n    }\n\n    .dataframe td {\n        line-height: 95%;\n    }\n</style>\n<table border=\"1\" class=\"dataframe\" >\n<small>shape: (5, 2)</small>\n<thead>\n<tr>\n<th>\nfruits\n</th>\n<th>\nsome_random_column\n</th>\n</tr>\n<tr>\n<td>\nstr\n</td>\n<td>\ni64\n</td>\n</tr>\n</thead>\n<tbody>\n<tr>\n<td>\n\"banana,apple\"\n</td>\n<td>\n2\n</td>\n</tr>\n<tr>\n<td>\n\"lemon\"\n</td>\n<td>\n1\n</td>\n</tr>\n<tr>\n<td>\n\"lemon,apple\"\n</td>\n<td>\n2\n</td>\n</tr>\n<tr>\n<td>\n\"apple\"\n</td>\n<td>\n1\n</td>\n</tr>\n<tr>\n<td>\n\"lemon\"\n</td>\n<td>\n1\n</td>\n</tr>\n</tbody>\n</table>\n</div>"
     },
     "execution_count": 26,
     "metadata": {},
     "output_type": "execute_result"
    }
   ],
   "source": [
    "df.filter(regex_by_element )"
   ],
   "metadata": {
    "collapsed": false,
    "pycharm": {
     "name": "#%%\n"
    }
   }
  },
  {
   "cell_type": "code",
   "execution_count": 13,
   "outputs": [
    {
     "data": {
      "text/plain": "shape: (3, 2)\n┌────────┬────────────────────┐\n│ fruits ┆ some_random_column │\n│ ---    ┆ ---                │\n│ str    ┆ i64                │\n╞════════╪════════════════════╡\n│ lemon  ┆ 1                  │\n├╌╌╌╌╌╌╌╌┼╌╌╌╌╌╌╌╌╌╌╌╌╌╌╌╌╌╌╌╌┤\n│ apple  ┆ 1                  │\n├╌╌╌╌╌╌╌╌┼╌╌╌╌╌╌╌╌╌╌╌╌╌╌╌╌╌╌╌╌┤\n│ lemon  ┆ 1                  │\n└────────┴────────────────────┘",
      "text/html": "<div>\n<style scoped>\n    .dataframe tbody tr th:only-of-type {\n        vertical-align: middle;\n    }\n\n    .dataframe tbody tr th {\n        vertical-align: top;\n    }\n\n    .dataframe thead th {\n        text-align: right;\n    }\n\n    .dataframe td {\n        white-space: pre;\n    }\n\n    .dataframe td {\n        padding-top: 0;\n    }\n\n    .dataframe td {\n        padding-bottom: 0;\n    }\n\n    .dataframe td {\n        line-height: 95%;\n    }\n</style>\n<table border=\"1\" class=\"dataframe\" >\n<small>shape: (3, 2)</small>\n<thead>\n<tr>\n<th>\nfruits\n</th>\n<th>\nsome_random_column\n</th>\n</tr>\n<tr>\n<td>\nstr\n</td>\n<td>\ni64\n</td>\n</tr>\n</thead>\n<tbody>\n<tr>\n<td>\n\"lemon\"\n</td>\n<td>\n1\n</td>\n</tr>\n<tr>\n<td>\n\"apple\"\n</td>\n<td>\n1\n</td>\n</tr>\n<tr>\n<td>\n\"lemon\"\n</td>\n<td>\n1\n</td>\n</tr>\n</tbody>\n</table>\n</div>"
     },
     "execution_count": 13,
     "metadata": {},
     "output_type": "execute_result"
    }
   ],
   "source": [
    "df.filter(pl.col(\"fruits\").apply(lambda f: f in [\"lemon\", \"apple\"]))"
   ],
   "metadata": {
    "collapsed": false,
    "pycharm": {
     "name": "#%%\n"
    }
   }
  },
  {
   "cell_type": "code",
   "execution_count": null,
   "outputs": [],
   "source": [
    "f."
   ],
   "metadata": {
    "collapsed": false,
    "pycharm": {
     "name": "#%%\n"
    }
   }
  }
 ],
 "metadata": {
  "kernelspec": {
   "display_name": "Python 3",
   "language": "python",
   "name": "python3"
  },
  "language_info": {
   "codemirror_mode": {
    "name": "ipython",
    "version": 2
   },
   "file_extension": ".py",
   "mimetype": "text/x-python",
   "name": "python",
   "nbconvert_exporter": "python",
   "pygments_lexer": "ipython2",
   "version": "2.7.6"
  }
 },
 "nbformat": 4,
 "nbformat_minor": 0
}