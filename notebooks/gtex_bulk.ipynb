{
 "cells": [
  {
   "cell_type": "markdown",
   "source": [
    "# Bulk RNA-Seq GTEX code\n",
    "\n",
    "Basic imports"
   ],
   "metadata": {
    "collapsed": false,
    "pycharm": {
     "name": "#%% md\n"
    }
   }
  },
  {
   "cell_type": "code",
   "execution_count": 1,
   "outputs": [],
   "source": [
    "import polars as pl\n",
    "from pathlib import Path\n",
    "from pycomfort.files import *\n",
    "from pycomfort import files\n",
    "import pyarrow"
   ],
   "metadata": {
    "collapsed": false,
    "pycharm": {
     "name": "#%%\n"
    }
   }
  },
  {
   "cell_type": "markdown",
   "source": [
    "setting up paths"
   ],
   "metadata": {
    "collapsed": false,
    "pycharm": {
     "name": "#%% md\n"
    }
   }
  },
  {
   "cell_type": "code",
   "execution_count": 2,
   "outputs": [
    {
     "name": "stdout",
     "output_type": "stream",
     "text": [
      "gtex\n",
      "\tGTEx_8_tissues_snRNAseq_atlas_071421.public_obs.h5ad\n",
      "\tGTEx_Analysis_v8_Annotations_SubjectPhenotypesDS.txt\n",
      "\tGTEx_Analysis_v8_Annotations_SampleAttributesDS.txt\n",
      "\tGTEx_8_tissues_snRNAseq_immune_atlas_071421.public_obs.h5ad\n",
      "\tGTEx_Analysis_2017-06-05_v8_RNASeQCv1.1.9_gene_tpm.gct\n"
     ]
    }
   ],
   "source": [
    "base = Path(\"..\").absolute().resolve()\n",
    "data = base / \"data\"\n",
    "input = data / \"input\"\n",
    "gtex = input / \"gtex\"\n",
    "gtex.mkdir(parents=True, exist_ok=True)\n",
    "tprint(gtex)"
   ],
   "metadata": {
    "collapsed": false,
    "pycharm": {
     "name": "#%%\n"
    }
   }
  },
  {
   "cell_type": "markdown",
   "source": [
    "## Bulk RNA-Seq"
   ],
   "metadata": {
    "collapsed": false,
    "pycharm": {
     "name": "#%% md\n"
    }
   }
  },
  {
   "cell_type": "code",
   "execution_count": 3,
   "outputs": [
    {
     "data": {
      "text/plain": "PosixPath('/home/antonkulaga/rna-clock/data/input/gtex/GTEx_Analysis_2017-06-05_v8_RNASeQCv1.1.9_gene_tpm.gct')"
     },
     "execution_count": 3,
     "metadata": {},
     "output_type": "execute_result"
    }
   ],
   "source": [
    "gct = files.with_ext(gtex, \".gct\")[0]\n",
    "gct"
   ],
   "metadata": {
    "collapsed": false,
    "pycharm": {
     "name": "#%%\n"
    }
   }
  },
  {
   "cell_type": "code",
   "execution_count": 4,
   "outputs": [
    {
     "data": {
      "text/plain": "shape: (10, 17384)\n┌───┬───────────┬────────────┬────────────┬─────┬────────────┬────────────┬────────────┬────────────┐\n│ N ┆ Descripti ┆ GTEX-1117F ┆ GTEX-1117F ┆ ... ┆ GTEX-ZZPU- ┆ GTEX-ZZPU- ┆ GTEX-ZZPU- ┆ GTEX-ZZPU- │\n│ a ┆ on        ┆ -0226-SM-5 ┆ -0426-SM-5 ┆     ┆ 2226-SM-5E ┆ 2426-SM-5E ┆ 2626-SM-5E ┆ 2726-SM-5N │\n│ m ┆ ---       ┆ GZZ7       ┆ EGHI       ┆     ┆ GIV        ┆ 44I        ┆ 45Y        ┆ Q8O        │\n│ e ┆ str       ┆ ---        ┆ ---        ┆     ┆ ---        ┆ ---        ┆ ---        ┆ ---        │\n│ - ┆           ┆ f64        ┆ f64        ┆     ┆ f64        ┆ f64        ┆ f64        ┆ f64        │\n│ - ┆           ┆            ┆            ┆     ┆            ┆            ┆            ┆            │\n│ - ┆           ┆            ┆            ┆     ┆            ┆            ┆            ┆            │\n│ s ┆           ┆            ┆            ┆     ┆            ┆            ┆            ┆            │\n│ t ┆           ┆            ┆            ┆     ┆            ┆            ┆            ┆            │\n│ r ┆           ┆            ┆            ┆     ┆            ┆            ┆            ┆            │\n╞═══╪═══════════╪════════════╪════════════╪═════╪════════════╪════════════╪════════════╪════════════╡\n│ E ┆ DDX11L1   ┆ 0.0        ┆ 0.0        ┆ ... ┆ 0.0        ┆ 0.0        ┆ 0.01965    ┆ 0.02522    │\n│ N ┆           ┆            ┆            ┆     ┆            ┆            ┆            ┆            │\n│ S ┆           ┆            ┆            ┆     ┆            ┆            ┆            ┆            │\n│ G ┆           ┆            ┆            ┆     ┆            ┆            ┆            ┆            │\n│ 0 ┆           ┆            ┆            ┆     ┆            ┆            ┆            ┆            │\n│ 0 ┆           ┆            ┆            ┆     ┆            ┆            ┆            ┆            │\n│ 0 ┆           ┆            ┆            ┆     ┆            ┆            ┆            ┆            │\n│ 0 ┆           ┆            ┆            ┆     ┆            ┆            ┆            ┆            │\n│ 0 ┆           ┆            ┆            ┆     ┆            ┆            ┆            ┆            │\n│ 2 ┆           ┆            ┆            ┆     ┆            ┆            ┆            ┆            │\n│ 2 ┆           ┆            ┆            ┆     ┆            ┆            ┆            ┆            │\n│ 3 ┆           ┆            ┆            ┆     ┆            ┆            ┆            ┆            │\n│ 9 ┆           ┆            ┆            ┆     ┆            ┆            ┆            ┆            │\n│ 7 ┆           ┆            ┆            ┆     ┆            ┆            ┆            ┆            │\n│ 2 ┆           ┆            ┆            ┆     ┆            ┆            ┆            ┆            │\n│ . ┆           ┆            ┆            ┆     ┆            ┆            ┆            ┆            │\n│ 5 ┆           ┆            ┆            ┆     ┆            ┆            ┆            ┆            │\n├╌╌╌┼╌╌╌╌╌╌╌╌╌╌╌┼╌╌╌╌╌╌╌╌╌╌╌╌┼╌╌╌╌╌╌╌╌╌╌╌╌┼╌╌╌╌╌┼╌╌╌╌╌╌╌╌╌╌╌╌┼╌╌╌╌╌╌╌╌╌╌╌╌┼╌╌╌╌╌╌╌╌╌╌╌╌┼╌╌╌╌╌╌╌╌╌╌╌╌┤\n│ E ┆ WASH7P    ┆ 8.764      ┆ 3.861      ┆ ... ┆ 1.922      ┆ 2.857      ┆ 0.8696     ┆ 2.167      │\n│ N ┆           ┆            ┆            ┆     ┆            ┆            ┆            ┆            │\n│ S ┆           ┆            ┆            ┆     ┆            ┆            ┆            ┆            │\n│ G ┆           ┆            ┆            ┆     ┆            ┆            ┆            ┆            │\n│ 0 ┆           ┆            ┆            ┆     ┆            ┆            ┆            ┆            │\n│ 0 ┆           ┆            ┆            ┆     ┆            ┆            ┆            ┆            │\n│ 0 ┆           ┆            ┆            ┆     ┆            ┆            ┆            ┆            │\n│ 0 ┆           ┆            ┆            ┆     ┆            ┆            ┆            ┆            │\n│ 0 ┆           ┆            ┆            ┆     ┆            ┆            ┆            ┆            │\n│ 2 ┆           ┆            ┆            ┆     ┆            ┆            ┆            ┆            │\n│ 2 ┆           ┆            ┆            ┆     ┆            ┆            ┆            ┆            │\n│ 7 ┆           ┆            ┆            ┆     ┆            ┆            ┆            ┆            │\n│ 2 ┆           ┆            ┆            ┆     ┆            ┆            ┆            ┆            │\n│ 3 ┆           ┆            ┆            ┆     ┆            ┆            ┆            ┆            │\n│ 2 ┆           ┆            ┆            ┆     ┆            ┆            ┆            ┆            │\n│ . ┆           ┆            ┆            ┆     ┆            ┆            ┆            ┆            │\n│ 5 ┆           ┆            ┆            ┆     ┆            ┆            ┆            ┆            │\n├╌╌╌┼╌╌╌╌╌╌╌╌╌╌╌┼╌╌╌╌╌╌╌╌╌╌╌╌┼╌╌╌╌╌╌╌╌╌╌╌╌┼╌╌╌╌╌┼╌╌╌╌╌╌╌╌╌╌╌╌┼╌╌╌╌╌╌╌╌╌╌╌╌┼╌╌╌╌╌╌╌╌╌╌╌╌┼╌╌╌╌╌╌╌╌╌╌╌╌┤\n│ E ┆ MIR6859-1 ┆ 0.0        ┆ 0.0        ┆ ... ┆ 0.0        ┆ 0.0        ┆ 0.0        ┆ 0.0        │\n│ N ┆           ┆            ┆            ┆     ┆            ┆            ┆            ┆            │\n│ S ┆           ┆            ┆            ┆     ┆            ┆            ┆            ┆            │\n│ G ┆           ┆            ┆            ┆     ┆            ┆            ┆            ┆            │\n│ 0 ┆           ┆            ┆            ┆     ┆            ┆            ┆            ┆            │\n│ 0 ┆           ┆            ┆            ┆     ┆            ┆            ┆            ┆            │\n│ 0 ┆           ┆            ┆            ┆     ┆            ┆            ┆            ┆            │\n│ 0 ┆           ┆            ┆            ┆     ┆            ┆            ┆            ┆            │\n│ 0 ┆           ┆            ┆            ┆     ┆            ┆            ┆            ┆            │\n│ 2 ┆           ┆            ┆            ┆     ┆            ┆            ┆            ┆            │\n│ 7 ┆           ┆            ┆            ┆     ┆            ┆            ┆            ┆            │\n│ 8 ┆           ┆            ┆            ┆     ┆            ┆            ┆            ┆            │\n│ 2 ┆           ┆            ┆            ┆     ┆            ┆            ┆            ┆            │\n│ 6 ┆           ┆            ┆            ┆     ┆            ┆            ┆            ┆            │\n│ 7 ┆           ┆            ┆            ┆     ┆            ┆            ┆            ┆            │\n│ . ┆           ┆            ┆            ┆     ┆            ┆            ┆            ┆            │\n│ 1 ┆           ┆            ┆            ┆     ┆            ┆            ┆            ┆            │\n├╌╌╌┼╌╌╌╌╌╌╌╌╌╌╌┼╌╌╌╌╌╌╌╌╌╌╌╌┼╌╌╌╌╌╌╌╌╌╌╌╌┼╌╌╌╌╌┼╌╌╌╌╌╌╌╌╌╌╌╌┼╌╌╌╌╌╌╌╌╌╌╌╌┼╌╌╌╌╌╌╌╌╌╌╌╌┼╌╌╌╌╌╌╌╌╌╌╌╌┤\n│ E ┆ MIR1302-2 ┆ 0.07187    ┆ 0.0        ┆ ... ┆ 0.0        ┆ 0.05216    ┆ 0.0        ┆ 0.0        │\n│ N ┆ HG        ┆            ┆            ┆     ┆            ┆            ┆            ┆            │\n│ S ┆           ┆            ┆            ┆     ┆            ┆            ┆            ┆            │\n│ G ┆           ┆            ┆            ┆     ┆            ┆            ┆            ┆            │\n│ 0 ┆           ┆            ┆            ┆     ┆            ┆            ┆            ┆            │\n│ 0 ┆           ┆            ┆            ┆     ┆            ┆            ┆            ┆            │\n│ 0 ┆           ┆            ┆            ┆     ┆            ┆            ┆            ┆            │\n│ 0 ┆           ┆            ┆            ┆     ┆            ┆            ┆            ┆            │\n│ 0 ┆           ┆            ┆            ┆     ┆            ┆            ┆            ┆            │\n│ 2 ┆           ┆            ┆            ┆     ┆            ┆            ┆            ┆            │\n│ 4 ┆           ┆            ┆            ┆     ┆            ┆            ┆            ┆            │\n│ 3 ┆           ┆            ┆            ┆     ┆            ┆            ┆            ┆            │\n│ 4 ┆           ┆            ┆            ┆     ┆            ┆            ┆            ┆            │\n│ 8 ┆           ┆            ┆            ┆     ┆            ┆            ┆            ┆            │\n│ 5 ┆           ┆            ┆            ┆     ┆            ┆            ┆            ┆            │\n│ . ┆           ┆            ┆            ┆     ┆            ┆            ┆            ┆            │\n│ 5 ┆           ┆            ┆            ┆     ┆            ┆            ┆            ┆            │\n├╌╌╌┼╌╌╌╌╌╌╌╌╌╌╌┼╌╌╌╌╌╌╌╌╌╌╌╌┼╌╌╌╌╌╌╌╌╌╌╌╌┼╌╌╌╌╌┼╌╌╌╌╌╌╌╌╌╌╌╌┼╌╌╌╌╌╌╌╌╌╌╌╌┼╌╌╌╌╌╌╌╌╌╌╌╌┼╌╌╌╌╌╌╌╌╌╌╌╌┤\n│ . ┆ ...       ┆ ...        ┆ ...        ┆ ... ┆ ...        ┆ ...        ┆ ...        ┆ ...        │\n│ . ┆           ┆            ┆            ┆     ┆            ┆            ┆            ┆            │\n│ . ┆           ┆            ┆            ┆     ┆            ┆            ┆            ┆            │\n├╌╌╌┼╌╌╌╌╌╌╌╌╌╌╌┼╌╌╌╌╌╌╌╌╌╌╌╌┼╌╌╌╌╌╌╌╌╌╌╌╌┼╌╌╌╌╌┼╌╌╌╌╌╌╌╌╌╌╌╌┼╌╌╌╌╌╌╌╌╌╌╌╌┼╌╌╌╌╌╌╌╌╌╌╌╌┼╌╌╌╌╌╌╌╌╌╌╌╌┤\n│ E ┆ OR4G11P   ┆ 0.06621    ┆ 0.05004    ┆ ... ┆ 0.1108     ┆ 0.0961     ┆ 0.03614    ┆ 0.0        │\n│ N ┆           ┆            ┆            ┆     ┆            ┆            ┆            ┆            │\n│ S ┆           ┆            ┆            ┆     ┆            ┆            ┆            ┆            │\n│ G ┆           ┆            ┆            ┆     ┆            ┆            ┆            ┆            │\n│ 0 ┆           ┆            ┆            ┆     ┆            ┆            ┆            ┆            │\n│ 0 ┆           ┆            ┆            ┆     ┆            ┆            ┆            ┆            │\n│ 0 ┆           ┆            ┆            ┆     ┆            ┆            ┆            ┆            │\n│ 0 ┆           ┆            ┆            ┆     ┆            ┆            ┆            ┆            │\n│ 0 ┆           ┆            ┆            ┆     ┆            ┆            ┆            ┆            │\n│ 2 ┆           ┆            ┆            ┆     ┆            ┆            ┆            ┆            │\n│ 4 ┆           ┆            ┆            ┆     ┆            ┆            ┆            ┆            │\n│ 0 ┆           ┆            ┆            ┆     ┆            ┆            ┆            ┆            │\n│ 3 ┆           ┆            ┆            ┆     ┆            ┆            ┆            ┆            │\n│ 6 ┆           ┆            ┆            ┆     ┆            ┆            ┆            ┆            │\n│ 1 ┆           ┆            ┆            ┆     ┆            ┆            ┆            ┆            │\n│ . ┆           ┆            ┆            ┆     ┆            ┆            ┆            ┆            │\n│ 1 ┆           ┆            ┆            ┆     ┆            ┆            ┆            ┆            │\n├╌╌╌┼╌╌╌╌╌╌╌╌╌╌╌┼╌╌╌╌╌╌╌╌╌╌╌╌┼╌╌╌╌╌╌╌╌╌╌╌╌┼╌╌╌╌╌┼╌╌╌╌╌╌╌╌╌╌╌╌┼╌╌╌╌╌╌╌╌╌╌╌╌┼╌╌╌╌╌╌╌╌╌╌╌╌┼╌╌╌╌╌╌╌╌╌╌╌╌┤\n│ E ┆ OR4F5     ┆ 0.0        ┆ 0.1025     ┆ ... ┆ 0.1135     ┆ 0.0        ┆ 0.148      ┆ 0.0        │\n│ N ┆           ┆            ┆            ┆     ┆            ┆            ┆            ┆            │\n│ S ┆           ┆            ┆            ┆     ┆            ┆            ┆            ┆            │\n│ G ┆           ┆            ┆            ┆     ┆            ┆            ┆            ┆            │\n│ 0 ┆           ┆            ┆            ┆     ┆            ┆            ┆            ┆            │\n│ 0 ┆           ┆            ┆            ┆     ┆            ┆            ┆            ┆            │\n│ 0 ┆           ┆            ┆            ┆     ┆            ┆            ┆            ┆            │\n│ 0 ┆           ┆            ┆            ┆     ┆            ┆            ┆            ┆            │\n│ 0 ┆           ┆            ┆            ┆     ┆            ┆            ┆            ┆            │\n│ 1 ┆           ┆            ┆            ┆     ┆            ┆            ┆            ┆            │\n│ 8 ┆           ┆            ┆            ┆     ┆            ┆            ┆            ┆            │\n│ 6 ┆           ┆            ┆            ┆     ┆            ┆            ┆            ┆            │\n│ 0 ┆           ┆            ┆            ┆     ┆            ┆            ┆            ┆            │\n│ 9 ┆           ┆            ┆            ┆     ┆            ┆            ┆            ┆            │\n│ 2 ┆           ┆            ┆            ┆     ┆            ┆            ┆            ┆            │\n│ . ┆           ┆            ┆            ┆     ┆            ┆            ┆            ┆            │\n│ 4 ┆           ┆            ┆            ┆     ┆            ┆            ┆            ┆            │\n├╌╌╌┼╌╌╌╌╌╌╌╌╌╌╌┼╌╌╌╌╌╌╌╌╌╌╌╌┼╌╌╌╌╌╌╌╌╌╌╌╌┼╌╌╌╌╌┼╌╌╌╌╌╌╌╌╌╌╌╌┼╌╌╌╌╌╌╌╌╌╌╌╌┼╌╌╌╌╌╌╌╌╌╌╌╌┼╌╌╌╌╌╌╌╌╌╌╌╌┤\n│ E ┆ RP11-34P1 ┆ 0.0        ┆ 0.04574    ┆ ... ┆ 0.0        ┆ 0.1098     ┆ 0.01651    ┆ 0.0212     │\n│ N ┆ 3.7       ┆            ┆            ┆     ┆            ┆            ┆            ┆            │\n│ S ┆           ┆            ┆            ┆     ┆            ┆            ┆            ┆            │\n│ G ┆           ┆            ┆            ┆     ┆            ┆            ┆            ┆            │\n│ 0 ┆           ┆            ┆            ┆     ┆            ┆            ┆            ┆            │\n│ 0 ┆           ┆            ┆            ┆     ┆            ┆            ┆            ┆            │\n│ 0 ┆           ┆            ┆            ┆     ┆            ┆            ┆            ┆            │\n│ 0 ┆           ┆            ┆            ┆     ┆            ┆            ┆            ┆            │\n│ 0 ┆           ┆            ┆            ┆     ┆            ┆            ┆            ┆            │\n│ 2 ┆           ┆            ┆            ┆     ┆            ┆            ┆            ┆            │\n│ 3 ┆           ┆            ┆            ┆     ┆            ┆            ┆            ┆            │\n│ 8 ┆           ┆            ┆            ┆     ┆            ┆            ┆            ┆            │\n│ 0 ┆           ┆            ┆            ┆     ┆            ┆            ┆            ┆            │\n│ 0 ┆           ┆            ┆            ┆     ┆            ┆            ┆            ┆            │\n│ 9 ┆           ┆            ┆            ┆     ┆            ┆            ┆            ┆            │\n│ . ┆           ┆            ┆            ┆     ┆            ┆            ┆            ┆            │\n│ 6 ┆           ┆            ┆            ┆     ┆            ┆            ┆            ┆            │\n├╌╌╌┼╌╌╌╌╌╌╌╌╌╌╌┼╌╌╌╌╌╌╌╌╌╌╌╌┼╌╌╌╌╌╌╌╌╌╌╌╌┼╌╌╌╌╌┼╌╌╌╌╌╌╌╌╌╌╌╌┼╌╌╌╌╌╌╌╌╌╌╌╌┼╌╌╌╌╌╌╌╌╌╌╌╌┼╌╌╌╌╌╌╌╌╌╌╌╌┤\n│ E ┆ CICP27    ┆ 0.03595    ┆ 0.01359    ┆ ... ┆ 0.2709     ┆ 0.05219    ┆ 0.0        ┆ 0.1134     │\n│ N ┆           ┆            ┆            ┆     ┆            ┆            ┆            ┆            │\n│ S ┆           ┆            ┆            ┆     ┆            ┆            ┆            ┆            │\n│ G ┆           ┆            ┆            ┆     ┆            ┆            ┆            ┆            │\n│ 0 ┆           ┆            ┆            ┆     ┆            ┆            ┆            ┆            │\n│ 0 ┆           ┆            ┆            ┆     ┆            ┆            ┆            ┆            │\n│ 0 ┆           ┆            ┆            ┆     ┆            ┆            ┆            ┆            │\n│ 0 ┆           ┆            ┆            ┆     ┆            ┆            ┆            ┆            │\n│ 0 ┆           ┆            ┆            ┆     ┆            ┆            ┆            ┆            │\n│ 2 ┆           ┆            ┆            ┆     ┆            ┆            ┆            ┆            │\n│ 3 ┆           ┆            ┆            ┆     ┆            ┆            ┆            ┆            │\n│ 3 ┆           ┆            ┆            ┆     ┆            ┆            ┆            ┆            │\n│ 7 ┆           ┆            ┆            ┆     ┆            ┆            ┆            ┆            │\n│ 5 ┆           ┆            ┆            ┆     ┆            ┆            ┆            ┆            │\n│ 0 ┆           ┆            ┆            ┆     ┆            ┆            ┆            ┆            │\n│ . ┆           ┆            ┆            ┆     ┆            ┆            ┆            ┆            │\n│ 3 ┆           ┆            ┆            ┆     ┆            ┆            ┆            ┆            │\n└───┴───────────┴────────────┴────────────┴─────┴────────────┴────────────┴────────────┴────────────┘",
      "text/html": "<div>\n<style scoped>\n    .dataframe tbody tr th:only-of-type {\n        vertical-align: middle;\n    }\n\n    .dataframe tbody tr th {\n        vertical-align: top;\n    }\n\n    .dataframe thead th {\n        text-align: right;\n    }\n\n    .dataframe td {\n        white-space: pre;\n    }\n\n    .dataframe td {\n        padding-top: 0;\n    }\n\n    .dataframe td {\n        padding-bottom: 0;\n    }\n\n    .dataframe td {\n        line-height: 95%;\n    }\n</style>\n<table border=\"1\" class=\"dataframe\" >\n<small>shape: (10, 17384)</small>\n<thead>\n<tr>\n<th>\nName\n</th>\n<th>\nDescription\n</th>\n<th>\nGTEX-1117F-0226-SM-5GZZ7\n</th>\n<th>\nGTEX-1117F-0426-SM-5EGHI\n</th>\n<th>\nGTEX-1117F-0526-SM-5EGHJ\n</th>\n<th>\nGTEX-1117F-0626-SM-5N9CS\n</th>\n<th>\nGTEX-1117F-0726-SM-5GIEN\n</th>\n<th>\nGTEX-1117F-1326-SM-5EGHH\n</th>\n<th>\nGTEX-1117F-2426-SM-5EGGH\n</th>\n<th>\nGTEX-1117F-2526-SM-5GZY6\n</th>\n<th>\nGTEX-1117F-2826-SM-5GZXL\n</th>\n<th>\nGTEX-1117F-2926-SM-5GZYI\n</th>\n<th>\nGTEX-1117F-3026-SM-5GZYU\n</th>\n<th>\nGTEX-1117F-3226-SM-5N9CT\n</th>\n<th>\nGTEX-111CU-0126-SM-5GZWZ\n</th>\n<th>\nGTEX-111CU-0226-SM-5GZXC\n</th>\n<th>\nGTEX-111CU-0326-SM-5GZXO\n</th>\n<th>\nGTEX-111CU-0426-SM-5GZY1\n</th>\n<th>\nGTEX-111CU-0526-SM-5EGHK\n</th>\n<th>\nGTEX-111CU-0626-SM-5EGHL\n</th>\n<th>\nGTEX-111CU-0726-SM-5GZYD\n</th>\n<th>\nGTEX-111CU-0826-SM-5EGIJ\n</th>\n<th>\nGTEX-111CU-0926-SM-5EGIK\n</th>\n<th>\nGTEX-111CU-1026-SM-5EGIL\n</th>\n<th>\nGTEX-111CU-1126-SM-5EGIM\n</th>\n<th>\nGTEX-111CU-1226-SM-5EGIN\n</th>\n<th>\nGTEX-111CU-1326-SM-5NQ8L\n</th>\n<th>\nGTEX-111CU-1426-SM-5GZYP\n</th>\n<th>\nGTEX-111CU-1526-SM-5N9FS\n</th>\n<th>\nGTEX-111CU-1726-SM-5EGHM\n</th>\n<th>\nGTEX-111CU-1826-SM-5GZYN\n</th>\n<th>\nGTEX-111CU-2026-SM-5GZZC\n</th>\n<th>\nGTEX-111CU-2226-SM-5N9G5\n</th>\n<th>\nGTEX-111FC-0126-SM-5N9DL\n</th>\n<th>\nGTEX-111FC-0226-SM-5N9B8\n</th>\n<th>\nGTEX-111FC-0326-SM-5GZZ1\n</th>\n<th>\nGTEX-111FC-0426-SM-5N9CV\n</th>\n<th>\n...\n</th>\n<th>\nGTEX-ZZ64-0826-SM-5E449\n</th>\n<th>\nGTEX-ZZ64-0926-SM-5E44L\n</th>\n<th>\nGTEX-ZZ64-1026-SM-5GZXG\n</th>\n<th>\nGTEX-ZZ64-1126-SM-5GZXY\n</th>\n<th>\nGTEX-ZZ64-1226-SM-5E43R\n</th>\n<th>\nGTEX-ZZ64-1326-SM-5E444\n</th>\n<th>\nGTEX-ZZ64-1426-SM-5NQ8C\n</th>\n<th>\nGTEX-ZZ64-1526-SM-5E43K\n</th>\n<th>\nGTEX-ZZ64-1626-SM-5E43W\n</th>\n<th>\nGTEX-ZZ64-1726-SM-5GZYB\n</th>\n<th>\nGTEX-ZZPT-0226-SM-5E43X\n</th>\n<th>\nGTEX-ZZPT-0626-SM-5GZXT\n</th>\n<th>\nGTEX-ZZPT-0926-SM-5GICZ\n</th>\n<th>\nGTEX-ZZPT-1326-SM-5E43H\n</th>\n<th>\nGTEX-ZZPT-1426-SM-5N9C5\n</th>\n<th>\nGTEX-ZZPT-2926-SM-5EQ5S\n</th>\n<th>\nGTEX-ZZPT-3026-SM-5GZXH\n</th>\n<th>\nGTEX-ZZPU-0126-SM-5E446\n</th>\n<th>\nGTEX-ZZPU-0226-SM-5N9BV\n</th>\n<th>\nGTEX-ZZPU-0326-SM-5N9BJ\n</th>\n<th>\nGTEX-ZZPU-0426-SM-5GZYH\n</th>\n<th>\nGTEX-ZZPU-0526-SM-5E44U\n</th>\n<th>\nGTEX-ZZPU-0626-SM-5E43T\n</th>\n<th>\nGTEX-ZZPU-0726-SM-5N9C8\n</th>\n<th>\nGTEX-ZZPU-0826-SM-5GZX5\n</th>\n<th>\nGTEX-ZZPU-0926-SM-5GZYT\n</th>\n<th>\nGTEX-ZZPU-1026-SM-5E457\n</th>\n<th>\nGTEX-ZZPU-1126-SM-5N9CW\n</th>\n<th>\nGTEX-ZZPU-1226-SM-5N9CK\n</th>\n<th>\nGTEX-ZZPU-1326-SM-5GZWS\n</th>\n<th>\nGTEX-ZZPU-1426-SM-5GZZ6\n</th>\n<th>\nGTEX-ZZPU-1826-SM-5E43L\n</th>\n<th>\nGTEX-ZZPU-2126-SM-5EGIU\n</th>\n<th>\nGTEX-ZZPU-2226-SM-5EGIV\n</th>\n<th>\nGTEX-ZZPU-2426-SM-5E44I\n</th>\n<th>\nGTEX-ZZPU-2626-SM-5E45Y\n</th>\n<th>\nGTEX-ZZPU-2726-SM-5NQ8O\n</th>\n</tr>\n<tr>\n<td>\nstr\n</td>\n<td>\nstr\n</td>\n<td>\nf64\n</td>\n<td>\nf64\n</td>\n<td>\nf64\n</td>\n<td>\nf64\n</td>\n<td>\nf64\n</td>\n<td>\nf64\n</td>\n<td>\nf64\n</td>\n<td>\nf64\n</td>\n<td>\nf64\n</td>\n<td>\nf64\n</td>\n<td>\nf64\n</td>\n<td>\nf64\n</td>\n<td>\nf64\n</td>\n<td>\nf64\n</td>\n<td>\nf64\n</td>\n<td>\nf64\n</td>\n<td>\nf64\n</td>\n<td>\nf64\n</td>\n<td>\nf64\n</td>\n<td>\nf64\n</td>\n<td>\nf64\n</td>\n<td>\nf64\n</td>\n<td>\nf64\n</td>\n<td>\nf64\n</td>\n<td>\nf64\n</td>\n<td>\nf64\n</td>\n<td>\nf64\n</td>\n<td>\nf64\n</td>\n<td>\nf64\n</td>\n<td>\nf64\n</td>\n<td>\nf64\n</td>\n<td>\nf64\n</td>\n<td>\nf64\n</td>\n<td>\nf64\n</td>\n<td>\nf64\n</td>\n<td>\n...\n</td>\n<td>\nf64\n</td>\n<td>\nf64\n</td>\n<td>\nf64\n</td>\n<td>\nf64\n</td>\n<td>\nf64\n</td>\n<td>\nf64\n</td>\n<td>\nf64\n</td>\n<td>\nf64\n</td>\n<td>\nf64\n</td>\n<td>\nf64\n</td>\n<td>\nf64\n</td>\n<td>\nf64\n</td>\n<td>\nf64\n</td>\n<td>\nf64\n</td>\n<td>\nf64\n</td>\n<td>\nf64\n</td>\n<td>\nf64\n</td>\n<td>\nf64\n</td>\n<td>\nf64\n</td>\n<td>\nf64\n</td>\n<td>\nf64\n</td>\n<td>\nf64\n</td>\n<td>\nf64\n</td>\n<td>\nf64\n</td>\n<td>\nf64\n</td>\n<td>\nf64\n</td>\n<td>\nf64\n</td>\n<td>\nf64\n</td>\n<td>\nf64\n</td>\n<td>\nf64\n</td>\n<td>\nf64\n</td>\n<td>\nf64\n</td>\n<td>\nf64\n</td>\n<td>\nf64\n</td>\n<td>\nf64\n</td>\n<td>\nf64\n</td>\n<td>\nf64\n</td>\n</tr>\n</thead>\n<tbody>\n<tr>\n<td>\n\"ENSG0000022397...\n</td>\n<td>\n\"DDX11L1\"\n</td>\n<td>\n0.0\n</td>\n<td>\n0.0\n</td>\n<td>\n0.0\n</td>\n<td>\n0.0\n</td>\n<td>\n0.0\n</td>\n<td>\n0.0\n</td>\n<td>\n0.0\n</td>\n<td>\n0.0\n</td>\n<td>\n0.0\n</td>\n<td>\n0.0\n</td>\n<td>\n0.0\n</td>\n<td>\n0.01776\n</td>\n<td>\n0.03757\n</td>\n<td>\n0.04667\n</td>\n<td>\n0.0\n</td>\n<td>\n0.01832\n</td>\n<td>\n0.0\n</td>\n<td>\n0.0\n</td>\n<td>\n0.06455\n</td>\n<td>\n0.0\n</td>\n<td>\n0.1064\n</td>\n<td>\n0.0\n</td>\n<td>\n0.0\n</td>\n<td>\n0.0\n</td>\n<td>\n0.0\n</td>\n<td>\n0.01936\n</td>\n<td>\n0.0\n</td>\n<td>\n0.2137\n</td>\n<td>\n0.0\n</td>\n<td>\n0.0\n</td>\n<td>\n0.02434\n</td>\n<td>\n0.0\n</td>\n<td>\n0.0\n</td>\n<td>\n0.01768\n</td>\n<td>\n0.0\n</td>\n<td>\n...\n</td>\n<td>\n0.0\n</td>\n<td>\n0.0\n</td>\n<td>\n0.0\n</td>\n<td>\n0.392\n</td>\n<td>\n0.0\n</td>\n<td>\n0.0\n</td>\n<td>\n0.0\n</td>\n<td>\n0.0\n</td>\n<td>\n0.0\n</td>\n<td>\n0.0\n</td>\n<td>\n0.0\n</td>\n<td>\n0.02796\n</td>\n<td>\n0.01816\n</td>\n<td>\n0.0\n</td>\n<td>\n0.06966\n</td>\n<td>\n0.03126\n</td>\n<td>\n0.01874\n</td>\n<td>\n0.1319\n</td>\n<td>\n0.02201\n</td>\n<td>\n0.0\n</td>\n<td>\n0.0218\n</td>\n<td>\n0.04614\n</td>\n<td>\n0.04273\n</td>\n<td>\n0.03502\n</td>\n<td>\n0.0\n</td>\n<td>\n0.0\n</td>\n<td>\n0.01989\n</td>\n<td>\n0.0\n</td>\n<td>\n0.03629\n</td>\n<td>\n0.0\n</td>\n<td>\n0.0\n</td>\n<td>\n0.0\n</td>\n<td>\n0.0\n</td>\n<td>\n0.0\n</td>\n<td>\n0.0\n</td>\n<td>\n0.01965\n</td>\n<td>\n0.02522\n</td>\n</tr>\n<tr>\n<td>\n\"ENSG0000022723...\n</td>\n<td>\n\"WASH7P\"\n</td>\n<td>\n8.764\n</td>\n<td>\n3.861\n</td>\n<td>\n7.349\n</td>\n<td>\n11.07\n</td>\n<td>\n3.306\n</td>\n<td>\n5.389\n</td>\n<td>\n11.99\n</td>\n<td>\n16.95\n</td>\n<td>\n10.04\n</td>\n<td>\n12.5\n</td>\n<td>\n9.357\n</td>\n<td>\n6.892\n</td>\n<td>\n0.9295\n</td>\n<td>\n1.823\n</td>\n<td>\n1.794\n</td>\n<td>\n2.338\n</td>\n<td>\n0.7206\n</td>\n<td>\n1.452\n</td>\n<td>\n0.9525\n</td>\n<td>\n1.828\n</td>\n<td>\n1.2\n</td>\n<td>\n0.838\n</td>\n<td>\n4.459\n</td>\n<td>\n1.909\n</td>\n<td>\n2.198\n</td>\n<td>\n1.235\n</td>\n<td>\n4.252\n</td>\n<td>\n3.101\n</td>\n<td>\n3.082\n</td>\n<td>\n1.036\n</td>\n<td>\n4.753\n</td>\n<td>\n5.766\n</td>\n<td>\n4.2\n</td>\n<td>\n1.197\n</td>\n<td>\n3.378\n</td>\n<td>\n...\n</td>\n<td>\n4.077\n</td>\n<td>\n11.49\n</td>\n<td>\n4.14\n</td>\n<td>\n4.703\n</td>\n<td>\n2.466\n</td>\n<td>\n4.744\n</td>\n<td>\n5.785\n</td>\n<td>\n1.819\n</td>\n<td>\n4.201\n</td>\n<td>\n8.683\n</td>\n<td>\n4.186\n</td>\n<td>\n3.604\n</td>\n<td>\n2.341\n</td>\n<td>\n4.139\n</td>\n<td>\n7.497\n</td>\n<td>\n3.907\n</td>\n<td>\n2.123\n</td>\n<td>\n2.747\n</td>\n<td>\n2.322\n</td>\n<td>\n1.454\n</td>\n<td>\n1.135\n</td>\n<td>\n2.733\n</td>\n<td>\n2.003\n</td>\n<td>\n1.938\n</td>\n<td>\n6.115\n</td>\n<td>\n1.016\n</td>\n<td>\n2.252\n</td>\n<td>\n1.606\n</td>\n<td>\n2.268\n</td>\n<td>\n5.386\n</td>\n<td>\n2.31\n</td>\n<td>\n2.456\n</td>\n<td>\n4.023\n</td>\n<td>\n1.922\n</td>\n<td>\n2.857\n</td>\n<td>\n0.8696\n</td>\n<td>\n2.167\n</td>\n</tr>\n<tr>\n<td>\n\"ENSG0000027826...\n</td>\n<td>\n\"MIR6859-1\"\n</td>\n<td>\n0.0\n</td>\n<td>\n0.0\n</td>\n<td>\n1.004\n</td>\n<td>\n0.0\n</td>\n<td>\n0.0\n</td>\n<td>\n0.0\n</td>\n<td>\n0.0\n</td>\n<td>\n0.0\n</td>\n<td>\n0.0\n</td>\n<td>\n0.0\n</td>\n<td>\n0.0\n</td>\n<td>\n0.0\n</td>\n<td>\n0.0\n</td>\n<td>\n0.0\n</td>\n<td>\n0.0\n</td>\n<td>\n0.0\n</td>\n<td>\n0.0\n</td>\n<td>\n0.0\n</td>\n<td>\n0.0\n</td>\n<td>\n0.0\n</td>\n<td>\n0.0\n</td>\n<td>\n0.0\n</td>\n<td>\n0.0\n</td>\n<td>\n0.0\n</td>\n<td>\n0.0\n</td>\n<td>\n0.0\n</td>\n<td>\n0.0\n</td>\n<td>\n0.0\n</td>\n<td>\n0.0\n</td>\n<td>\n0.0\n</td>\n<td>\n0.0\n</td>\n<td>\n0.0\n</td>\n<td>\n0.0\n</td>\n<td>\n0.0\n</td>\n<td>\n0.0\n</td>\n<td>\n...\n</td>\n<td>\n0.0\n</td>\n<td>\n0.0\n</td>\n<td>\n0.0\n</td>\n<td>\n0.0\n</td>\n<td>\n0.0\n</td>\n<td>\n0.0\n</td>\n<td>\n0.0\n</td>\n<td>\n0.0\n</td>\n<td>\n0.0\n</td>\n<td>\n0.0\n</td>\n<td>\n0.0\n</td>\n<td>\n0.0\n</td>\n<td>\n0.0\n</td>\n<td>\n0.0\n</td>\n<td>\n0.0\n</td>\n<td>\n0.0\n</td>\n<td>\n0.0\n</td>\n<td>\n0.0\n</td>\n<td>\n0.0\n</td>\n<td>\n0.0\n</td>\n<td>\n0.0\n</td>\n<td>\n0.0\n</td>\n<td>\n0.0\n</td>\n<td>\n0.0\n</td>\n<td>\n0.0\n</td>\n<td>\n0.4723\n</td>\n<td>\n0.0\n</td>\n<td>\n0.0\n</td>\n<td>\n0.0\n</td>\n<td>\n0.0\n</td>\n<td>\n0.0\n</td>\n<td>\n0.0\n</td>\n<td>\n0.0\n</td>\n<td>\n0.0\n</td>\n<td>\n0.0\n</td>\n<td>\n0.0\n</td>\n<td>\n0.0\n</td>\n</tr>\n<tr>\n<td>\n\"ENSG0000024348...\n</td>\n<td>\n\"MIR1302-2HG\"\n</td>\n<td>\n0.07187\n</td>\n<td>\n0.0\n</td>\n<td>\n0.0\n</td>\n<td>\n0.06761\n</td>\n<td>\n0.0\n</td>\n<td>\n0.0\n</td>\n<td>\n0.0\n</td>\n<td>\n0.0\n</td>\n<td>\n0.0\n</td>\n<td>\n0.06265\n</td>\n<td>\n0.05905\n</td>\n<td>\n0.0\n</td>\n<td>\n0.0\n</td>\n<td>\n0.04659\n</td>\n<td>\n0.0\n</td>\n<td>\n0.0\n</td>\n<td>\n0.0425\n</td>\n<td>\n0.05431\n</td>\n<td>\n0.0\n</td>\n<td>\n0.06094\n</td>\n<td>\n0.07078\n</td>\n<td>\n0.0378\n</td>\n<td>\n0.0\n</td>\n<td>\n0.0\n</td>\n<td>\n0.0\n</td>\n<td>\n0.0\n</td>\n<td>\n0.0\n</td>\n<td>\n0.06096\n</td>\n<td>\n0.0\n</td>\n<td>\n0.0\n</td>\n<td>\n0.0486\n</td>\n<td>\n0.0\n</td>\n<td>\n0.04183\n</td>\n<td>\n0.0\n</td>\n<td>\n0.0\n</td>\n<td>\n...\n</td>\n<td>\n0.0\n</td>\n<td>\n0.146\n</td>\n<td>\n0.05038\n</td>\n<td>\n0.0559\n</td>\n<td>\n0.0\n</td>\n<td>\n0.0\n</td>\n<td>\n0.0\n</td>\n<td>\n0.0\n</td>\n<td>\n0.05113\n</td>\n<td>\n0.0\n</td>\n<td>\n0.04755\n</td>\n<td>\n0.1116\n</td>\n<td>\n0.0\n</td>\n<td>\n0.0\n</td>\n<td>\n0.0\n</td>\n<td>\n0.0\n</td>\n<td>\n0.0\n</td>\n<td>\n0.1129\n</td>\n<td>\n0.0\n</td>\n<td>\n0.0\n</td>\n<td>\n0.04352\n</td>\n<td>\n0.09211\n</td>\n<td>\n0.04265\n</td>\n<td>\n0.03496\n</td>\n<td>\n0.05935\n</td>\n<td>\n0.0\n</td>\n<td>\n0.0794\n</td>\n<td>\n0.0\n</td>\n<td>\n0.0\n</td>\n<td>\n0.06073\n</td>\n<td>\n0.0\n</td>\n<td>\n0.08464\n</td>\n<td>\n0.1435\n</td>\n<td>\n0.0\n</td>\n<td>\n0.05216\n</td>\n<td>\n0.0\n</td>\n<td>\n0.0\n</td>\n</tr>\n<tr>\n<td>\n\"ENSG0000023761...\n</td>\n<td>\n\"FAM138A\"\n</td>\n<td>\n0.0\n</td>\n<td>\n0.0\n</td>\n<td>\n0.0\n</td>\n<td>\n0.0\n</td>\n<td>\n0.0\n</td>\n<td>\n0.0\n</td>\n<td>\n0.0\n</td>\n<td>\n0.03904\n</td>\n<td>\n0.0\n</td>\n<td>\n0.0\n</td>\n<td>\n0.0\n</td>\n<td>\n0.0\n</td>\n<td>\n0.0\n</td>\n<td>\n0.0331\n</td>\n<td>\n0.0\n</td>\n<td>\n0.02599\n</td>\n<td>\n0.0\n</td>\n<td>\n0.0\n</td>\n<td>\n0.03052\n</td>\n<td>\n0.04329\n</td>\n<td>\n0.0\n</td>\n<td>\n0.02685\n</td>\n<td>\n0.04188\n</td>\n<td>\n0.04332\n</td>\n<td>\n0.0\n</td>\n<td>\n0.0\n</td>\n<td>\n0.05034\n</td>\n<td>\n0.0\n</td>\n<td>\n0.0\n</td>\n<td>\n0.0\n</td>\n<td>\n0.0\n</td>\n<td>\n0.0\n</td>\n<td>\n0.0\n</td>\n<td>\n0.02508\n</td>\n<td>\n0.0\n</td>\n<td>\n...\n</td>\n<td>\n0.0\n</td>\n<td>\n0.03457\n</td>\n<td>\n0.03579\n</td>\n<td>\n0.0\n</td>\n<td>\n0.05597\n</td>\n<td>\n0.0\n</td>\n<td>\n0.0\n</td>\n<td>\n0.0\n</td>\n<td>\n0.0\n</td>\n<td>\n0.0\n</td>\n<td>\n0.03378\n</td>\n<td>\n0.0\n</td>\n<td>\n0.0\n</td>\n<td>\n0.0\n</td>\n<td>\n0.0\n</td>\n<td>\n0.0\n</td>\n<td>\n0.0\n</td>\n<td>\n0.0\n</td>\n<td>\n0.0\n</td>\n<td>\n0.0\n</td>\n<td>\n0.0\n</td>\n<td>\n0.03272\n</td>\n<td>\n0.0\n</td>\n<td>\n0.0\n</td>\n<td>\n0.0\n</td>\n<td>\n0.0\n</td>\n<td>\n0.0\n</td>\n<td>\n0.02429\n</td>\n<td>\n0.0\n</td>\n<td>\n0.0\n</td>\n<td>\n0.0\n</td>\n<td>\n0.0\n</td>\n<td>\n0.0\n</td>\n<td>\n0.0\n</td>\n<td>\n0.0\n</td>\n<td>\n0.0\n</td>\n<td>\n0.0\n</td>\n</tr>\n<tr>\n<td>\n\"ENSG0000026802...\n</td>\n<td>\n\"OR4G4P\"\n</td>\n<td>\n0.0\n</td>\n<td>\n0.056\n</td>\n<td>\n0.0\n</td>\n<td>\n0.0\n</td>\n<td>\n0.0\n</td>\n<td>\n0.0613\n</td>\n<td>\n0.09523\n</td>\n<td>\n0.0\n</td>\n<td>\n0.0555\n</td>\n<td>\n0.1292\n</td>\n<td>\n0.0\n</td>\n<td>\n0.03656\n</td>\n<td>\n0.07734\n</td>\n<td>\n0.0\n</td>\n<td>\n0.0\n</td>\n<td>\n0.0\n</td>\n<td>\n0.0\n</td>\n<td>\n0.0\n</td>\n<td>\n0.0\n</td>\n<td>\n0.0\n</td>\n<td>\n0.0\n</td>\n<td>\n0.03897\n</td>\n<td>\n0.1216\n</td>\n<td>\n0.06287\n</td>\n<td>\n0.0\n</td>\n<td>\n0.07971\n</td>\n<td>\n0.07306\n</td>\n<td>\n0.0\n</td>\n<td>\n0.0\n</td>\n<td>\n0.0\n</td>\n<td>\n0.0\n</td>\n<td>\n0.0\n</td>\n<td>\n0.0\n</td>\n<td>\n0.07278\n</td>\n<td>\n0.0\n</td>\n<td>\n...\n</td>\n<td>\n0.0\n</td>\n<td>\n0.05017\n</td>\n<td>\n0.0\n</td>\n<td>\n0.1153\n</td>\n<td>\n0.04061\n</td>\n<td>\n0.1103\n</td>\n<td>\n0.0\n</td>\n<td>\n0.03886\n</td>\n<td>\n0.0\n</td>\n<td>\n0.0\n</td>\n<td>\n0.09804\n</td>\n<td>\n0.0\n</td>\n<td>\n0.0\n</td>\n<td>\n0.0\n</td>\n<td>\n0.0\n</td>\n<td>\n0.0\n</td>\n<td>\n0.03857\n</td>\n<td>\n0.03878\n</td>\n<td>\n0.04531\n</td>\n<td>\n0.0\n</td>\n<td>\n0.04487\n</td>\n<td>\n0.0\n</td>\n<td>\n0.0\n</td>\n<td>\n0.0\n</td>\n<td>\n0.1224\n</td>\n<td>\n0.0\n</td>\n<td>\n0.1228\n</td>\n<td>\n0.03526\n</td>\n<td>\n0.0\n</td>\n<td>\n0.0\n</td>\n<td>\n0.04624\n</td>\n<td>\n0.08726\n</td>\n<td>\n0.0\n</td>\n<td>\n0.0\n</td>\n<td>\n0.0\n</td>\n<td>\n0.04044\n</td>\n<td>\n0.05191\n</td>\n</tr>\n<tr>\n<td>\n\"ENSG0000024036...\n</td>\n<td>\n\"OR4G11P\"\n</td>\n<td>\n0.06621\n</td>\n<td>\n0.05004\n</td>\n<td>\n0.0\n</td>\n<td>\n0.0\n</td>\n<td>\n0.0\n</td>\n<td>\n0.0\n</td>\n<td>\n0.0\n</td>\n<td>\n0.0\n</td>\n<td>\n0.0992\n</td>\n<td>\n0.0\n</td>\n<td>\n0.1088\n</td>\n<td>\n0.03267\n</td>\n<td>\n0.1382\n</td>\n<td>\n0.0\n</td>\n<td>\n0.04296\n</td>\n<td>\n0.0337\n</td>\n<td>\n0.03915\n</td>\n<td>\n0.0\n</td>\n<td>\n0.03958\n</td>\n<td>\n0.1684\n</td>\n<td>\n0.0\n</td>\n<td>\n0.2438\n</td>\n<td>\n0.1629\n</td>\n<td>\n0.05618\n</td>\n<td>\n0.0\n</td>\n<td>\n0.07123\n</td>\n<td>\n0.06529\n</td>\n<td>\n0.2247\n</td>\n<td>\n0.1062\n</td>\n<td>\n0.1098\n</td>\n<td>\n0.04477\n</td>\n<td>\n0.0\n</td>\n<td>\n0.07707\n</td>\n<td>\n0.09755\n</td>\n<td>\n0.1224\n</td>\n<td>\n...\n</td>\n<td>\n0.05008\n</td>\n<td>\n0.08967\n</td>\n<td>\n0.04642\n</td>\n<td>\n0.0515\n</td>\n<td>\n0.03629\n</td>\n<td>\n0.0\n</td>\n<td>\n0.0\n</td>\n<td>\n0.03473\n</td>\n<td>\n0.1884\n</td>\n<td>\n0.04887\n</td>\n<td>\n0.08761\n</td>\n<td>\n0.05143\n</td>\n<td>\n0.03341\n</td>\n<td>\n0.04716\n</td>\n<td>\n0.04271\n</td>\n<td>\n0.115\n</td>\n<td>\n0.1034\n</td>\n<td>\n0.0\n</td>\n<td>\n0.08099\n</td>\n<td>\n0.04028\n</td>\n<td>\n0.08019\n</td>\n<td>\n0.0\n</td>\n<td>\n0.1179\n</td>\n<td>\n0.0\n</td>\n<td>\n0.05468\n</td>\n<td>\n0.03417\n</td>\n<td>\n0.03658\n</td>\n<td>\n0.189\n</td>\n<td>\n0.0\n</td>\n<td>\n0.0\n</td>\n<td>\n0.04132\n</td>\n<td>\n0.07797\n</td>\n<td>\n0.0\n</td>\n<td>\n0.1108\n</td>\n<td>\n0.0961\n</td>\n<td>\n0.03614\n</td>\n<td>\n0.0\n</td>\n</tr>\n<tr>\n<td>\n\"ENSG0000018609...\n</td>\n<td>\n\"OR4F5\"\n</td>\n<td>\n0.0\n</td>\n<td>\n0.1025\n</td>\n<td>\n0.07434\n</td>\n<td>\n0.0\n</td>\n<td>\n0.04233\n</td>\n<td>\n0.05609\n</td>\n<td>\n0.1743\n</td>\n<td>\n0.0\n</td>\n<td>\n0.0\n</td>\n<td>\n0.0591\n</td>\n<td>\n0.0557\n</td>\n<td>\n0.1004\n</td>\n<td>\n0.07077\n</td>\n<td>\n0.04395\n</td>\n<td>\n0.04399\n</td>\n<td>\n0.03451\n</td>\n<td>\n0.08019\n</td>\n<td>\n0.05124\n</td>\n<td>\n0.08106\n</td>\n<td>\n0.05748\n</td>\n<td>\n0.1335\n</td>\n<td>\n0.1426\n</td>\n<td>\n0.0\n</td>\n<td>\n0.05753\n</td>\n<td>\n0.0\n</td>\n<td>\n0.03647\n</td>\n<td>\n0.1671\n</td>\n<td>\n0.115\n</td>\n<td>\n0.0\n</td>\n<td>\n0.0\n</td>\n<td>\n0.1375\n</td>\n<td>\n0.0331\n</td>\n<td>\n0.0\n</td>\n<td>\n0.09989\n</td>\n<td>\n0.06265\n</td>\n<td>\n...\n</td>\n<td>\n0.0\n</td>\n<td>\n0.09181\n</td>\n<td>\n0.04753\n</td>\n<td>\n0.0\n</td>\n<td>\n0.07433\n</td>\n<td>\n0.1009\n</td>\n<td>\n0.0\n</td>\n<td>\n0.03556\n</td>\n<td>\n0.0\n</td>\n<td>\n0.0\n</td>\n<td>\n0.1346\n</td>\n<td>\n0.05266\n</td>\n<td>\n0.06841\n</td>\n<td>\n0.09658\n</td>\n<td>\n0.0\n</td>\n<td>\n0.0\n</td>\n<td>\n0.0\n</td>\n<td>\n0.1065\n</td>\n<td>\n0.1244\n</td>\n<td>\n0.0\n</td>\n<td>\n0.08212\n</td>\n<td>\n0.0869\n</td>\n<td>\n0.1207\n</td>\n<td>\n0.0\n</td>\n<td>\n0.05599\n</td>\n<td>\n0.06997\n</td>\n<td>\n0.1124\n</td>\n<td>\n0.129\n</td>\n<td>\n0.1367\n</td>\n<td>\n0.05729\n</td>\n<td>\n0.1269\n</td>\n<td>\n0.1198\n</td>\n<td>\n0.06767\n</td>\n<td>\n0.1135\n</td>\n<td>\n0.0\n</td>\n<td>\n0.148\n</td>\n<td>\n0.0\n</td>\n</tr>\n<tr>\n<td>\n\"ENSG0000023800...\n</td>\n<td>\n\"RP11-34P13.7\"\n</td>\n<td>\n0.0\n</td>\n<td>\n0.04574\n</td>\n<td>\n0.09953\n</td>\n<td>\n0.0\n</td>\n<td>\n0.07556\n</td>\n<td>\n0.05006\n</td>\n<td>\n0.03889\n</td>\n<td>\n0.04627\n</td>\n<td>\n0.0\n</td>\n<td>\n0.05275\n</td>\n<td>\n0.02486\n</td>\n<td>\n0.02986\n</td>\n<td>\n0.01579\n</td>\n<td>\n0.0\n</td>\n<td>\n0.03927\n</td>\n<td>\n0.07701\n</td>\n<td>\n0.01789\n</td>\n<td>\n0.0\n</td>\n<td>\n0.03617\n</td>\n<td>\n0.07696\n</td>\n<td>\n0.0\n</td>\n<td>\n0.0\n</td>\n<td>\n0.07446\n</td>\n<td>\n0.02567\n</td>\n<td>\n0.0\n</td>\n<td>\n0.01628\n</td>\n<td>\n0.02983\n</td>\n<td>\n0.4107\n</td>\n<td>\n0.0\n</td>\n<td>\n0.03345\n</td>\n<td>\n0.0\n</td>\n<td>\n0.02954\n</td>\n<td>\n0.07044\n</td>\n<td>\n0.05944\n</td>\n<td>\n0.0\n</td>\n<td>\n...\n</td>\n<td>\n0.0\n</td>\n<td>\n0.08195\n</td>\n<td>\n0.02121\n</td>\n<td>\n0.6354\n</td>\n<td>\n0.0\n</td>\n<td>\n0.02252\n</td>\n<td>\n0.04343\n</td>\n<td>\n0.01587\n</td>\n<td>\n0.04305\n</td>\n<td>\n0.0\n</td>\n<td>\n0.0\n</td>\n<td>\n0.0\n</td>\n<td>\n0.0\n</td>\n<td>\n0.02155\n</td>\n<td>\n0.03903\n</td>\n<td>\n0.02627\n</td>\n<td>\n0.01575\n</td>\n<td>\n0.09502\n</td>\n<td>\n0.03701\n</td>\n<td>\n0.0\n</td>\n<td>\n0.0\n</td>\n<td>\n0.0\n</td>\n<td>\n0.03592\n</td>\n<td>\n0.0\n</td>\n<td>\n0.0\n</td>\n<td>\n0.01561\n</td>\n<td>\n0.05014\n</td>\n<td>\n0.0\n</td>\n<td>\n0.01525\n</td>\n<td>\n0.0\n</td>\n<td>\n0.03776\n</td>\n<td>\n0.03563\n</td>\n<td>\n0.0604\n</td>\n<td>\n0.0\n</td>\n<td>\n0.1098\n</td>\n<td>\n0.01651\n</td>\n<td>\n0.0212\n</td>\n</tr>\n<tr>\n<td>\n\"ENSG0000023375...\n</td>\n<td>\n\"CICP27\"\n</td>\n<td>\n0.03595\n</td>\n<td>\n0.01359\n</td>\n<td>\n0.0\n</td>\n<td>\n0.0\n</td>\n<td>\n0.0\n</td>\n<td>\n0.0\n</td>\n<td>\n0.0\n</td>\n<td>\n0.02749\n</td>\n<td>\n0.0\n</td>\n<td>\n0.0\n</td>\n<td>\n0.0\n</td>\n<td>\n0.0\n</td>\n<td>\n0.03753\n</td>\n<td>\n0.05827\n</td>\n<td>\n0.3966\n</td>\n<td>\n0.8236\n</td>\n<td>\n0.02126\n</td>\n<td>\n0.0\n</td>\n<td>\n0.4191\n</td>\n<td>\n0.03049\n</td>\n<td>\n0.03541\n</td>\n<td>\n0.06618\n</td>\n<td>\n0.08848\n</td>\n<td>\n0.03051\n</td>\n<td>\n0.1711\n</td>\n<td>\n0.06769\n</td>\n<td>\n0.04432\n</td>\n<td>\n0.2897\n</td>\n<td>\n0.173\n</td>\n<td>\n0.0\n</td>\n<td>\n0.02431\n</td>\n<td>\n0.008777\n</td>\n<td>\n0.0\n</td>\n<td>\n0.0\n</td>\n<td>\n0.0\n</td>\n<td>\n...\n</td>\n<td>\n0.08159\n</td>\n<td>\n0.04869\n</td>\n<td>\n0.0\n</td>\n<td>\n0.1958\n</td>\n<td>\n0.009854\n</td>\n<td>\n0.0\n</td>\n<td>\n0.0129\n</td>\n<td>\n0.0\n</td>\n<td>\n0.01279\n</td>\n<td>\n0.07962\n</td>\n<td>\n0.03568\n</td>\n<td>\n0.0\n</td>\n<td>\n0.0\n</td>\n<td>\n0.03841\n</td>\n<td>\n0.1739\n</td>\n<td>\n0.01561\n</td>\n<td>\n0.01872\n</td>\n<td>\n1.656\n</td>\n<td>\n0.4288\n</td>\n<td>\n0.4484\n</td>\n<td>\n0.09798\n</td>\n<td>\n0.4839\n</td>\n<td>\n0.1814\n</td>\n<td>\n0.2186\n</td>\n<td>\n0.08907\n</td>\n<td>\n0.06494\n</td>\n<td>\n0.2284\n</td>\n<td>\n0.06843\n</td>\n<td>\n0.09967\n</td>\n<td>\n0.2583\n</td>\n<td>\n0.03366\n</td>\n<td>\n0.04234\n</td>\n<td>\n0.3409\n</td>\n<td>\n0.2709\n</td>\n<td>\n0.05219\n</td>\n<td>\n0.0\n</td>\n<td>\n0.1134\n</td>\n</tr>\n</tbody>\n</table>\n</div>"
     },
     "execution_count": 4,
     "metadata": {},
     "output_type": "execute_result"
    }
   ],
   "source": [
    "rnas = pl.read_csv(gct, comment_char=\"#\", sep=\"\\t\")\n",
    "rnas.head(10)"
   ],
   "metadata": {
    "collapsed": false,
    "pycharm": {
     "name": "#%%\n"
    }
   }
  },
  {
   "cell_type": "code",
   "execution_count": 5,
   "outputs": [
    {
     "data": {
      "text/plain": "['Name',\n 'Description',\n 'GTEX-1117F-0226-SM-5GZZ7',\n 'GTEX-1117F-0426-SM-5EGHI',\n 'GTEX-1117F-0526-SM-5EGHJ',\n 'GTEX-1117F-0626-SM-5N9CS',\n 'GTEX-1117F-0726-SM-5GIEN',\n 'GTEX-1117F-1326-SM-5EGHH',\n 'GTEX-1117F-2426-SM-5EGGH',\n 'GTEX-1117F-2526-SM-5GZY6',\n 'GTEX-1117F-2826-SM-5GZXL',\n 'GTEX-1117F-2926-SM-5GZYI',\n 'GTEX-1117F-3026-SM-5GZYU',\n 'GTEX-1117F-3226-SM-5N9CT',\n 'GTEX-111CU-0126-SM-5GZWZ',\n 'GTEX-111CU-0226-SM-5GZXC',\n 'GTEX-111CU-0326-SM-5GZXO',\n 'GTEX-111CU-0426-SM-5GZY1',\n 'GTEX-111CU-0526-SM-5EGHK',\n 'GTEX-111CU-0626-SM-5EGHL',\n 'GTEX-111CU-0726-SM-5GZYD',\n 'GTEX-111CU-0826-SM-5EGIJ',\n 'GTEX-111CU-0926-SM-5EGIK',\n 'GTEX-111CU-1026-SM-5EGIL',\n 'GTEX-111CU-1126-SM-5EGIM',\n 'GTEX-111CU-1226-SM-5EGIN',\n 'GTEX-111CU-1326-SM-5NQ8L',\n 'GTEX-111CU-1426-SM-5GZYP',\n 'GTEX-111CU-1526-SM-5N9FS',\n 'GTEX-111CU-1726-SM-5EGHM',\n 'GTEX-111CU-1826-SM-5GZYN',\n 'GTEX-111CU-2026-SM-5GZZC',\n 'GTEX-111CU-2226-SM-5N9G5',\n 'GTEX-111FC-0126-SM-5N9DL',\n 'GTEX-111FC-0226-SM-5N9B8',\n 'GTEX-111FC-0326-SM-5GZZ1',\n 'GTEX-111FC-0426-SM-5N9CV',\n 'GTEX-111FC-0526-SM-5GZZ8',\n 'GTEX-111FC-0626-SM-5N9CU',\n 'GTEX-111FC-0826-SM-5GZWO',\n 'GTEX-111FC-1026-SM-5GZX1',\n 'GTEX-111FC-1126-SM-5GZWU',\n 'GTEX-111FC-1326-SM-5N9D9',\n 'GTEX-111FC-1926-SM-5GZYC',\n 'GTEX-111FC-2026-SM-5GZYO',\n 'GTEX-111FC-2526-SM-5GZXU',\n 'GTEX-111FC-2926-SM-5GZY7',\n 'GTEX-111FC-3126-SM-5GZZ2',\n 'GTEX-111FC-3326-SM-5GZYV',\n 'GTEX-111VG-0008-SM-5Q5BG',\n 'GTEX-111VG-0326-SM-5GZX7',\n 'GTEX-111VG-0526-SM-5N9BW',\n 'GTEX-111VG-0726-SM-5GIDC',\n 'GTEX-111VG-1626-SM-5EGIO',\n 'GTEX-111VG-1926-SM-5GIDO',\n 'GTEX-111VG-2226-SM-5N9DU',\n 'GTEX-111VG-2326-SM-5N9BK',\n 'GTEX-111VG-2426-SM-5GZXD',\n 'GTEX-111VG-2526-SM-5GZXP',\n 'GTEX-111VG-2626-SM-5GZY2',\n 'GTEX-111YS-0006-SM-5NQBE',\n 'GTEX-111YS-0008-SM-5Q5BH',\n 'GTEX-111YS-0126-SM-5987T',\n 'GTEX-111YS-0326-SM-5GZZ3',\n 'GTEX-111YS-0426-SM-5987O',\n 'GTEX-111YS-0526-SM-5GZXJ',\n 'GTEX-111YS-0626-SM-5GZXV',\n 'GTEX-111YS-0726-SM-5GZY8',\n 'GTEX-111YS-0826-SM-5GZYK',\n 'GTEX-111YS-0926-SM-5EGGI',\n 'GTEX-111YS-1026-SM-5GZYE',\n 'GTEX-111YS-1126-SM-5GZYQ',\n 'GTEX-111YS-1226-SM-5EGGJ',\n 'GTEX-111YS-1326-SM-5EGGK',\n 'GTEX-111YS-1426-SM-5GID8',\n 'GTEX-111YS-1526-SM-5GZYW',\n 'GTEX-111YS-1626-SM-5GZZ9',\n 'GTEX-111YS-1726-SM-5GIED',\n 'GTEX-111YS-1826-SM-5GIEP',\n 'GTEX-111YS-1926-SM-5GICC',\n 'GTEX-111YS-2026-SM-5EGGL',\n 'GTEX-111YS-2126-SM-5EGGM',\n 'GTEX-111YS-2226-SM-5987P',\n 'GTEX-111YS-2326-SM-5987L',\n 'GTEX-111YS-2426-SM-5GZZQ',\n 'GTEX-1122O-0003-SM-5Q5DL',\n 'GTEX-1122O-0005-SM-5O99J',\n 'GTEX-1122O-0008-SM-5QGR2',\n 'GTEX-1122O-0126-SM-5GICA',\n 'GTEX-1122O-0226-SM-5N9DA',\n 'GTEX-1122O-0326-SM-5H124',\n 'GTEX-1122O-0426-SM-5H12G',\n 'GTEX-1122O-0526-SM-5N9DM',\n 'GTEX-1122O-0626-SM-5N9B9',\n 'GTEX-1122O-0726-SM-5GIEV',\n 'GTEX-1122O-0826-SM-5GICV',\n 'GTEX-1122O-0926-SM-9YFLC',\n 'GTEX-1122O-1026-SM-9WYSF',\n 'GTEX-1122O-1126-SM-5NQ8X',\n 'GTEX-1122O-1226-SM-5H113',\n 'GTEX-1122O-1326-SM-5H11F',\n 'GTEX-1122O-1426-SM-5H11R',\n 'GTEX-1122O-1526-SM-5N9CL',\n 'GTEX-1122O-1626-SM-5N9CX',\n 'GTEX-1122O-1726-SM-5GICM',\n 'GTEX-1122O-1826-SM-5EGIP',\n 'GTEX-1122O-1926-SM-5EGIQ',\n 'GTEX-1122O-2026-SM-9YFMG',\n 'GTEX-1122O-2126-SM-5EGIR',\n 'GTEX-1122O-2326-SM-9YFL9',\n 'GTEX-1122O-2426-SM-5GIDN',\n 'GTEX-1128S-0005-SM-5P9HI',\n 'GTEX-1128S-0008-SM-5Q5DP',\n 'GTEX-1128S-0126-SM-5H12S',\n 'GTEX-1128S-0326-SM-5GZZF',\n 'GTEX-1128S-0726-SM-5N9D6',\n 'GTEX-1128S-0826-SM-5GZZI',\n 'GTEX-1128S-0926-SM-5GZZU',\n 'GTEX-1128S-1626-SM-5H12O',\n 'GTEX-1128S-2126-SM-5H12U',\n 'GTEX-1128S-2326-SM-5GZZY',\n 'GTEX-1128S-2426-SM-5H11B',\n 'GTEX-1128S-2526-SM-5H11N',\n 'GTEX-1128S-2626-SM-5H11Z',\n 'GTEX-1128S-2726-SM-5H12C',\n 'GTEX-1128S-2826-SM-5N9DI',\n 'GTEX-113IC-0006-SM-5NQ9C',\n 'GTEX-113IC-0008-SM-5QGRF',\n 'GTEX-113IC-0126-SM-5HL6T',\n 'GTEX-113IC-0226-SM-5HL5C',\n 'GTEX-113IC-0426-SM-5HL5O',\n 'GTEX-113IC-0526-SM-5HL76',\n 'GTEX-113JC-0006-SM-5O997',\n 'GTEX-113JC-0008-SM-5QGR6',\n 'GTEX-113JC-0126-SM-5EGJW',\n 'GTEX-113JC-0726-SM-5GZZR',\n 'GTEX-113JC-0926-SM-5H114',\n 'GTEX-113JC-1026-SM-5H117',\n 'GTEX-113JC-1926-SM-5N9GE',\n 'GTEX-113JC-2226-SM-5EGJG',\n 'GTEX-113JC-2326-SM-5EQ4E',\n 'GTEX-113JC-2726-SM-5EGIS',\n 'GTEX-113JC-2826-SM-5EGIT',\n 'GTEX-117XS-0005-SM-5PNU6',\n 'GTEX-117XS-0008-SM-5Q5DQ',\n 'GTEX-117XS-0426-SM-5GZZN',\n 'GTEX-117XS-0526-SM-5987Q',\n 'GTEX-117XS-0726-SM-5H131',\n 'GTEX-117XS-1926-SM-5GICO',\n 'GTEX-117XS-2026-SM-5GID1',\n 'GTEX-117XS-2226-SM-5GIE1',\n 'GTEX-117XS-2526-SM-5H11G',\n 'GTEX-117XS-2726-SM-5N9BL',\n 'GTEX-117XS-2926-SM-5N9BX',\n 'GTEX-117XS-3026-SM-5N9CA',\n 'GTEX-117XS-3126-SM-5GIDP',\n 'GTEX-117YW-0005-SM-5NQ8Z',\n 'GTEX-117YW-0008-SM-5QGRD',\n 'GTEX-117YW-0126-SM-5EGGN',\n 'GTEX-117YW-0226-SM-5N9CM',\n 'GTEX-117YW-0326-SM-5N9CY',\n 'GTEX-117YW-0426-SM-5GZZZ',\n 'GTEX-117YW-0526-SM-5H11C',\n 'GTEX-117YW-0826-SM-5H11O',\n 'GTEX-117YW-1426-SM-5EGGO',\n 'GTEX-117YW-1526-SM-5EGGP',\n 'GTEX-117YW-1826-SM-5PNY5',\n 'GTEX-117YW-1926-SM-5H121',\n 'GTEX-117YW-2026-SM-5N9BH',\n 'GTEX-117YW-2226-SM-5N9DB',\n 'GTEX-117YW-2426-SM-5Q5AE',\n 'GTEX-117YW-2626-SM-5GZZH',\n 'GTEX-117YW-2726-SM-5GZZT',\n 'GTEX-117YW-2826-SM-5H116',\n 'GTEX-117YX-0126-SM-5EGH5',\n 'GTEX-117YX-0226-SM-5EGH6',\n 'GTEX-117YX-0326-SM-5GICL',\n 'GTEX-117YX-0526-SM-5EGJH',\n 'GTEX-117YX-0626-SM-5EGJI',\n 'GTEX-117YX-0726-SM-5GIET',\n 'GTEX-117YX-0826-SM-5H11J',\n 'GTEX-117YX-1026-SM-5H11V',\n 'GTEX-117YX-1126-SM-5H128',\n 'GTEX-117YX-1226-SM-5H11S',\n 'GTEX-117YX-1326-SM-5H125',\n 'GTEX-117YX-1426-SM-5H12H',\n 'GTEX-117YX-1526-SM-5H12T',\n 'GTEX-117YX-1726-SM-5GZZS',\n 'GTEX-117YX-1826-SM-5H12K',\n 'GTEX-117YX-1926-SM-5GIEC',\n 'GTEX-117YX-2026-SM-5GIEF',\n 'GTEX-117YX-2126-SM-5GIEL',\n 'GTEX-117YX-2226-SM-5EGJJ',\n 'GTEX-117YX-2326-SM-5H12W',\n 'GTEX-117YX-2426-SM-5GZZJ',\n 'GTEX-117YX-2526-SM-5EQ4Q',\n 'GTEX-117YX-2626-SM-5EQ53',\n 'GTEX-1192W-0005-SM-5NQBQ',\n 'GTEX-1192W-0008-SM-5QGRE',\n 'GTEX-1192W-0126-SM-5EGGS',\n 'GTEX-1192W-0226-SM-5EGGT',\n 'GTEX-1192W-2626-SM-5Q5AF',\n 'GTEX-1192W-3026-SM-5GZZV',\n 'GTEX-1192X-0005-SM-5NQC3',\n 'GTEX-1192X-0008-SM-5Q5B7',\n 'GTEX-1192X-0011-R10a-SM-DO941',\n 'GTEX-1192X-0011-R5a-SM-DNZZA',\n 'GTEX-1192X-0011-R6a-SM-DNZZB',\n 'GTEX-1192X-0011-R7b-SM-DNZZC',\n 'GTEX-1192X-0011-R8b-SM-DO11U',\n 'GTEX-1192X-0011-R9b-SM-DO934',\n 'GTEX-1192X-0226-SM-5H12D',\n 'GTEX-1192X-0326-SM-5H11U',\n 'GTEX-1192X-0426-SM-5GIEE',\n 'GTEX-1192X-0726-SM-5987R',\n 'GTEX-1192X-1126-SM-5EGGU',\n 'GTEX-1192X-1526-SM-5H11I',\n 'GTEX-1192X-1826-SM-5GIE2',\n 'GTEX-1192X-2326-SM-5987X',\n 'GTEX-1192X-2526-SM-59868',\n 'GTEX-1192X-2726-SM-5N9DN',\n 'GTEX-1192X-2926-SM-5N9BA',\n 'GTEX-1192X-3026-SM-5N9BM',\n 'GTEX-1192X-3126-SM-5N9BY',\n 'GTEX-1192X-3226-SM-5987D',\n 'GTEX-11DXW-0006-SM-5NQ7Y',\n 'GTEX-11DXW-0008-SM-5Q59V',\n 'GTEX-11DXW-0011-R1a-SM-DNZZD',\n 'GTEX-11DXW-0011-R3b-SM-DNZZE',\n 'GTEX-11DXW-0011-R5b-SM-DO11D',\n 'GTEX-11DXW-0011-R6a-SM-DO11N',\n 'GTEX-11DXW-0011-R7b-SM-DO119',\n 'GTEX-11DXW-0226-SM-5H122',\n 'GTEX-11DXW-0326-SM-5H11W',\n 'GTEX-11DXW-0426-SM-5H12E',\n 'GTEX-11DXW-0526-SM-5H127',\n 'GTEX-11DXW-0626-SM-5N9ER',\n 'GTEX-11DXW-0726-SM-5H12J',\n 'GTEX-11DXW-0826-SM-5H118',\n 'GTEX-11DXW-1026-SM-5H11K',\n 'GTEX-11DXW-1126-SM-5H12Q',\n 'GTEX-11DXW-1226-SM-5H133',\n 'GTEX-11DXX-0005-SM-5NQ8B',\n 'GTEX-11DXX-0008-SM-5Q5B8',\n 'GTEX-11DXX-0126-SM-5EGH7',\n 'GTEX-11DXX-0226-SM-5P9HL',\n 'GTEX-11DXX-0326-SM-5PNWC',\n 'GTEX-11DXX-0426-SM-5EQ5F',\n 'GTEX-11DXX-0526-SM-5PNVR',\n 'GTEX-11DXX-0626-SM-5Q5AG',\n 'GTEX-11DXX-0726-SM-5H12X',\n 'GTEX-11DXX-0826-SM-5GZZP',\n 'GTEX-11DXX-0926-SM-5H112',\n 'GTEX-11DXX-1026-SM-5H11E',\n 'GTEX-11DXX-1126-SM-5GZZK',\n 'GTEX-11DXX-1226-SM-5GICD',\n 'GTEX-11DXX-1326-SM-5GIDZ',\n 'GTEX-11DXX-1426-SM-5GIDU',\n 'GTEX-11DXX-1526-SM-5H115',\n 'GTEX-11DXX-1626-SM-5H11H',\n 'GTEX-11DXX-1726-SM-5H11T',\n 'GTEX-11DXX-1826-SM-5H126',\n 'GTEX-11DXX-1926-SM-5EGJK',\n 'GTEX-11DXX-2026-SM-5EGJL',\n 'GTEX-11DXX-2126-SM-5PNYR',\n 'GTEX-11DXX-2326-SM-9YFKS',\n 'GTEX-11DXX-2426-SM-5GZZW',\n 'GTEX-11DXX-2526-SM-5H119',\n 'GTEX-11DXX-2626-SM-5Q5A3',\n 'GTEX-11DXX-2726-SM-5PNXO',\n 'GTEX-11DXY-0006-SM-5NQ8N',\n 'GTEX-11DXY-0008-SM-5QGR4',\n 'GTEX-11DXY-0011-R10b-SM-DO12C',\n 'GTEX-11DXY-0011-R11a-SM-DNZZN',\n 'GTEX-11DXY-0011-R5b-SM-DNZZL',\n 'GTEX-11DXY-0011-R6a-SM-DNZZF',\n 'GTEX-11DXY-0011-R7a-SM-DO11L',\n 'GTEX-11DXY-0011-R8a-SM-DO11M',\n 'GTEX-11DXY-0126-SM-5H11Q',\n 'GTEX-11DXY-0226-SM-5H123',\n 'GTEX-11DXY-0326-SM-5H12F',\n 'GTEX-11DXY-0426-SM-5H12R',\n 'GTEX-11DXY-0526-SM-5EGGQ',\n 'GTEX-11DXY-0826-SM-5EGGR',\n 'GTEX-11DXY-1026-SM-5987V',\n 'GTEX-11DXY-1126-SM-5987W',\n 'GTEX-11DXY-1326-SM-5987Z',\n 'GTEX-11DXY-1426-SM-5N9CN',\n 'GTEX-11DXY-1526-SM-5H129',\n 'GTEX-11DXY-1626-SM-5H12L',\n 'GTEX-11DXY-2026-SM-5N9CZ',\n 'GTEX-11DXY-2326-SM-5GICW',\n 'GTEX-11DXY-2626-SM-5GIE7',\n 'GTEX-11DXY-2726-SM-5GID2',\n 'GTEX-11DXY-3026-SM-5N9CB',\n 'GTEX-11DXY-3126-SM-5N9BT',\n 'GTEX-11DXY-3226-SM-5GIDE',\n 'GTEX-11DXZ-0006-SM-5LZZH',\n 'GTEX-11DXZ-0126-SM-5EGGY',\n 'GTEX-11DXZ-0226-SM-5EGGZ',\n 'GTEX-11DXZ-0326-SM-5EGH1',\n 'GTEX-11DXZ-0426-SM-5987Y',\n 'GTEX-11DXZ-0526-SM-5GU7J',\n 'GTEX-11DXZ-0626-SM-5GU77',\n 'GTEX-11DXZ-0726-SM-5N9C4',\n 'GTEX-11DXZ-0926-SM-5N9CG',\n 'GTEX-11DXZ-1026-SM-5N9D5',\n 'GTEX-11DXZ-1226-SM-5H11L',\n 'GTEX-11DXZ-1326-SM-5H11X',\n 'GTEX-11DXZ-1426-SM-5H12A',\n 'GTEX-11DXZ-1626-SM-5GIDI',\n 'GTEX-11DXZ-1726-SM-5H12M',\n 'GTEX-11DXZ-1826-SM-5H12Y',\n 'GTEX-11DXZ-1926-SM-5GZZL',\n 'GTEX-11DXZ-2026-SM-5987S',\n 'GTEX-11DXZ-2126-SM-59881',\n 'GTEX-11DXZ-2326-SM-5EGGV',\n 'GTEX-11DXZ-2426-SM-5N9DT',\n 'GTEX-11DXZ-2526-SM-5N9BG',\n 'GTEX-11DXZ-2626-SM-59882',\n 'GTEX-11DYG-0006-SM-5NQB2',\n 'GTEX-11DYG-0008-SM-5QGR5',\n 'GTEX-11DYG-0011-R10b-SM-DNZZO',\n 'GTEX-11DYG-0011-R11a-SM-DNZZP',\n 'GTEX-11DYG-0011-R5a-SM-DO928',\n 'GTEX-11DYG-0011-R6a-SM-DO936',\n 'GTEX-11DYG-0011-R7b-SM-EXUS6',\n 'GTEX-11DYG-0011-R8a-SM-DO93F',\n 'GTEX-11DYG-0126-SM-59883',\n 'GTEX-11DYG-0426-SM-5987J',\n 'GTEX-11DYG-0826-SM-5N9GH',\n 'GTEX-11DYG-0926-SM-5EGGW',\n 'GTEX-11DYG-1026-SM-5A5JQ',\n 'GTEX-11DYG-1226-SM-5N9DC',\n 'GTEX-11DYG-1326-SM-5N9DO',\n 'GTEX-11DYG-1426-SM-5A5JR',\n 'GTEX-11DYG-1526-SM-5A5JS',\n 'GTEX-11DYG-1926-SM-5H12I',\n 'GTEX-11DYG-2026-SM-5EGGX',\n 'GTEX-11DYG-2526-SM-5N9BB',\n 'GTEX-11DYG-2926-SM-5H132',\n 'GTEX-11DYG-3126-SM-5A5L6',\n 'GTEX-11DZ1-0008-SM-5QGR3',\n 'GTEX-11DZ1-0011-R10b-SM-DO943',\n 'GTEX-11DZ1-0011-R11b-SM-DO11W',\n 'GTEX-11DZ1-0011-R2a-SM-DNZZM',\n 'GTEX-11DZ1-0011-R3a-SM-DNZYY',\n 'GTEX-11DZ1-0011-R5a-SM-DO11J',\n 'GTEX-11DZ1-0011-R6b-SM-DNZZG',\n 'GTEX-11DZ1-0011-R7a-SM-DNZZH',\n 'GTEX-11DZ1-0011-R8b-SM-DNZZI',\n 'GTEX-11DZ1-0011-R9a-SM-DO933',\n 'GTEX-11DZ1-0126-SM-5985Q',\n 'GTEX-11DZ1-0226-SM-5A5KF',\n 'GTEX-11DZ1-0326-SM-5N9BN',\n 'GTEX-11DZ1-0426-SM-5H11A',\n 'GTEX-11DZ1-0926-SM-5EQ5R',\n 'GTEX-11DZ1-2026-SM-5A5KG',\n 'GTEX-11DZ1-2426-SM-5GZZX',\n 'GTEX-11DZ1-2726-SM-5A5KH',\n 'GTEX-11DZ1-2926-SM-5A5KI',\n 'GTEX-11EI6-0005-SM-5N9GN',\n 'GTEX-11EI6-0008-SM-5QGR7',\n 'GTEX-11EI6-0011-R10a-SM-DO93R',\n 'GTEX-11EI6-0011-R11a-SM-DO11V',\n 'GTEX-11EI6-0011-R1a-SM-DO93L',\n 'GTEX-11EI6-0011-R8a-SM-DO93M',\n 'GTEX-11EI6-0126-SM-5985R',\n 'GTEX-11EI6-0226-SM-5EQ64',\n 'GTEX-11EI6-0326-SM-5EQ6G',\n 'GTEX-11EI6-0426-SM-5EQ43',\n 'GTEX-11EI6-0526-SM-5985S',\n 'GTEX-11EI6-0626-SM-5985T',\n 'GTEX-11EI6-0726-SM-59866',\n 'GTEX-11EI6-0826-SM-5985V',\n 'GTEX-11EI6-1526-SM-5P9GL',\n 'GTEX-11EI6-2226-SM-5EGJM',\n 'GTEX-11EI6-2426-SM-5PNVS',\n 'GTEX-11EI6-2626-SM-5PNVT',\n 'GTEX-11EI6-2826-SM-5H11D',\n 'GTEX-11EI6-2926-SM-5985U',\n 'GTEX-11EI6-3026-SM-5GZZO',\n 'GTEX-11EI6-3126-SM-5H111',\n 'GTEX-11EM3-0001-SM-5Q5BD',\n 'GTEX-11EM3-0005-SM-5N9DK',\n 'GTEX-11EM3-0126-SM-5985K',\n 'GTEX-11EM3-0226-SM-5985Y',\n 'GTEX-11EM3-0326-SM-5A5KJ',\n 'GTEX-11EM3-0426-SM-5N9BZ',\n 'GTEX-11EM3-0526-SM-5H12N',\n 'GTEX-11EM3-0626-SM-5H12Z',\n 'GTEX-11EM3-0726-SM-5GZZM',\n 'GTEX-11EM3-0826-SM-5N9CC',\n 'GTEX-11EM3-0926-SM-5A5KK',\n 'GTEX-11EM3-1026-SM-5A5KL',\n 'GTEX-11EM3-1126-SM-5A5KM',\n 'GTEX-11EM3-1226-SM-5N9DD',\n 'GTEX-11EM3-1326-SM-5N9C6',\n 'GTEX-11EM3-1526-SM-5A5KN',\n 'GTEX-11EM3-1626-SM-5N9CO',\n 'GTEX-11EM3-1726-SM-5N9D1',\n 'GTEX-11EM3-1826-SM-5A5KO',\n 'GTEX-11EM3-1926-SM-5987U',\n 'GTEX-11EM3-2126-SM-5H11M',\n 'GTEX-11EM3-2226-SM-5H11Y',\n 'GTEX-11EM3-2326-SM-5H12B',\n 'GTEX-11EM3-2426-SM-59861',\n 'GTEX-11EMC-0002-SM-5Q5DO',\n 'GTEX-11EMC-0006-SM-5O9DN',\n 'GTEX-11EMC-0008-SM-5Q5DR',\n 'GTEX-11EMC-0011-R10a-SM-DNZZJ',\n 'GTEX-11EMC-0011-R11b-SM-DNZZK',\n 'GTEX-11EMC-0011-R2b-SM-DO114',\n 'GTEX-11EMC-0011-R8b-SM-DO91Z',\n 'GTEX-11EMC-0011-R9b-SM-DO921',\n 'GTEX-11EMC-0126-SM-5EGKV',\n 'GTEX-11EMC-0226-SM-5EGLP',\n 'GTEX-11EMC-0526-SM-5EGJN',\n 'GTEX-11EMC-0726-SM-5EGJO',\n 'GTEX-11EMC-0826-SM-59862',\n 'GTEX-11EMC-0926-SM-59863',\n 'GTEX-11EMC-1426-SM-5N9E4',\n 'GTEX-11EMC-1726-SM-5H11P',\n 'GTEX-11EMC-1826-SM-5A5JT',\n 'GTEX-11EMC-1926-SM-5A5JU',\n 'GTEX-11EMC-2026-SM-5A5JV',\n 'GTEX-11EMC-2226-SM-5A5JW',\n 'GTEX-11EMC-2526-SM-5PNVU',\n 'GTEX-11EMC-2626-SM-59864',\n 'GTEX-11EMC-2826-SM-5PNY6',\n 'GTEX-11EMC-2926-SM-5EQ4F',\n 'GTEX-11EMC-3026-SM-5EQ4R',\n 'GTEX-11EMC-3126-SM-5EGJP',\n 'GTEX-11EMC-3226-SM-5EGKW',\n 'GTEX-11EMC-3326-SM-5P9JH',\n 'GTEX-11EQ8-0006-SM-5P9HJ',\n 'GTEX-11EQ8-0008-SM-5Q5DJ',\n 'GTEX-11EQ8-0226-SM-5EQ5G',\n 'GTEX-11EQ8-0426-SM-5N9DP',\n 'GTEX-11EQ8-0526-SM-5N9BC',\n 'GTEX-11EQ8-0826-SM-5N9FG',\n 'GTEX-11EQ8-0926-SM-5H12V',\n 'GTEX-11EQ8-1326-SM-5EGJQ',\n 'GTEX-11EQ8-1426-SM-5EGJR',\n 'GTEX-11EQ8-2626-SM-5N9BO',\n 'GTEX-11EQ9-0002-SM-5QGQ1',\n 'GTEX-11EQ9-0006-SM-5LUB6',\n 'GTEX-11EQ9-0008-SM-5Q5DK',\n 'GTEX-11EQ9-0126-SM-5986I',\n 'GTEX-11EQ9-0226-SM-5A5JX',\n 'GTEX-11EQ9-0426-SM-5A5JY',\n 'GTEX-11EQ9-0526-SM-5A5JZ',\n 'GTEX-11EQ9-0626-SM-5A5K1',\n 'GTEX-11EQ9-0726-SM-5A5K2',\n 'GTEX-11EQ9-0826-SM-5986Y',\n 'GTEX-11EQ9-0926-SM-5HL6I',\n 'GTEX-11EQ9-1026-SM-5H134',\n 'GTEX-11EQ9-1126-SM-5987I',\n 'GTEX-11EQ9-1226-SM-5987E',\n 'GTEX-11EQ9-1326-SM-5985X',\n 'GTEX-11EQ9-1426-SM-5987G',\n 'GTEX-11EQ9-1526-SM-5PNY7',\n 'GTEX-11EQ9-1626-SM-5PNY8',\n 'GTEX-11EQ9-1726-SM-5HL6U',\n 'GTEX-11EQ9-1826-SM-5Q5AJ',\n 'GTEX-11EQ9-1926-SM-5PNVV',\n 'GTEX-11EQ9-2026-SM-5P9JI',\n 'GTEX-11EQ9-2126-SM-5PNVW',\n 'GTEX-11EQ9-2226-SM-5987H',\n 'GTEX-11EQ9-2326-SM-5HL5H',\n 'GTEX-11EQ9-2426-SM-5HL5T',\n 'GTEX-11EQ9-2526-SM-5HL66',\n 'GTEX-11GS4-0006-SM-5SI9M',\n 'GTEX-11GS4-0008-SM-5QGRA',\n 'GTEX-11GS4-0011-R1a-SM-DO129',\n 'GTEX-11GS4-0011-R2a-SM-DO942',\n 'GTEX-11GS4-0226-SM-5HL77',\n 'GTEX-11GS4-0326-SM-5N9F7',\n 'GTEX-11GS4-0426-SM-5N9CD',\n 'GTEX-11GS4-0526-SM-5A5KQ',\n 'GTEX-11GS4-0626-SM-5A5LC',\n 'GTEX-11GS4-0826-SM-5986J',\n 'GTEX-11GS4-1026-SM-5N9DE',\n 'GTEX-11GS4-1426-SM-5N9D2',\n 'GTEX-11GS4-1826-SM-5HL4T',\n 'GTEX-11GS4-2026-SM-5N9CP',\n 'GTEX-11GS4-2126-SM-5A5KR',\n 'GTEX-11GS4-2326-SM-5A5KS',\n 'GTEX-11GS4-2526-SM-5A5KT',\n 'GTEX-11GS4-2626-SM-5A5LD',\n 'GTEX-11GS4-2726-SM-5A5LE',\n 'GTEX-11GS4-2826-SM-5HL56',\n 'GTEX-11GS4-2926-SM-5A5LF',\n 'GTEX-11GS4-3026-SM-5A5LG',\n 'GTEX-11GS4-3126-SM-5A5LH',\n 'GTEX-11GSO-0005-SM-5O9CA',\n 'GTEX-11GSO-0011-R1b-SM-57WD3',\n 'GTEX-11GSO-0011-R2a-SM-57WDF',\n 'GTEX-11GSO-0011-R3b-SM-57WB2',\n 'GTEX-11GSO-0226-SM-5A5LV',\n 'GTEX-11GSO-0626-SM-5A5LW',\n 'GTEX-11GSO-1926-SM-5A5K3',\n 'GTEX-11GSO-2326-SM-5A5LX',\n 'GTEX-11GSO-2426-SM-5A5LY',\n 'GTEX-11GSO-2526-SM-5PNVX',\n 'GTEX-11GSO-2626-SM-5Q5AK',\n 'GTEX-11GSO-2826-SM-5HL6Q',\n 'GTEX-11GSO-2926-SM-5HL73',\n 'GTEX-11GSO-3026-SM-5Q5AL',\n 'GTEX-11GSP-0006-SM-5N9EL',\n 'GTEX-11GSP-0008-SM-5Q5DM',\n 'GTEX-11GSP-0011-R10a-SM-5NQ7J',\n 'GTEX-11GSP-0011-R11b-SM-5NQ7V',\n 'GTEX-11GSP-0011-R1a-SM-9QEJ3',\n 'GTEX-11GSP-0011-R2b-SM-9QEGE',\n 'GTEX-11GSP-0011-R3a-SM-9QEGF',\n 'GTEX-11GSP-0011-R5a-SM-57WBE',\n 'GTEX-11GSP-0011-R6b-SM-57WBQ',\n 'GTEX-11GSP-0011-R7b-SM-57WC3',\n 'GTEX-11GSP-0011-R8b-SM-5NQ79',\n 'GTEX-11GSP-0011-R9b-SM-5NQ77',\n 'GTEX-11GSP-0126-SM-5A5KU',\n 'GTEX-11GSP-0226-SM-5A5KV',\n 'GTEX-11GSP-0326-SM-5A5KW',\n 'GTEX-11GSP-0426-SM-5A5KX',\n 'GTEX-11GSP-0626-SM-5986T',\n 'GTEX-11GSP-0726-SM-5986L',\n 'GTEX-11GSP-0926-SM-9WYSG',\n 'GTEX-11GSP-1026-SM-9WYSH',\n 'GTEX-11GSP-1126-SM-5A5LM',\n 'GTEX-11GSP-1226-SM-5985M',\n 'GTEX-11GSP-1326-SM-5A5KY',\n 'GTEX-11GSP-1626-SM-5986N',\n 'GTEX-11GSP-1726-SM-5A5LI',\n 'GTEX-11GSP-1826-SM-5N9DQ',\n 'GTEX-11GSP-2126-SM-5HL5E',\n 'GTEX-11GSP-2226-SM-5HL5Q',\n 'GTEX-11GSP-2326-SM-5HL63',\n 'GTEX-11GSP-2426-SM-5N9BD',\n 'GTEX-11GSP-2526-SM-5N9BP',\n 'GTEX-11GSP-2726-SM-5A5LJ',\n 'GTEX-11GSP-2826-SM-5A5LK',\n 'GTEX-11GSP-2926-SM-5N9C2',\n 'GTEX-11GSP-3026-SM-5N9CE',\n 'GTEX-11GSP-3126-SM-5A5LL',\n 'GTEX-11GSP-3226-SM-5986O',\n 'GTEX-11H98-0008-SM-5QGR8',\n 'GTEX-11H98-0011-R10b-SM-5NQ98',\n 'GTEX-11H98-0011-R11b-SM-5NQ6U',\n 'GTEX-11H98-0011-R5b-SM-57WCF',\n 'GTEX-11H98-0011-R8a-SM-5NQ8V',\n 'GTEX-11H98-0126-SM-5EGHG',\n 'GTEX-11H98-0226-SM-5NQ89',\n 'GTEX-11H98-0326-SM-5HL4S',\n 'GTEX-11H98-0426-SM-5HL55',\n 'GTEX-11I78-0001-SM-5Q5BE',\n 'GTEX-11I78-0005-SM-5N9GB',\n 'GTEX-11I78-0008-SM-5Q5DI',\n 'GTEX-11I78-0126-SM-5HL6F',\n 'GTEX-11I78-0226-SM-5HL6R',\n 'GTEX-11I78-0526-SM-5986A',\n 'GTEX-11I78-0626-SM-5A5LZ',\n 'GTEX-11I78-0726-SM-5A5M1',\n 'GTEX-11I78-0826-SM-5A5K4',\n 'GTEX-11I78-1026-SM-5HL74',\n 'GTEX-11I78-1126-SM-5A5K5',\n 'GTEX-11I78-1226-SM-5A5K6',\n 'GTEX-11I78-1326-SM-5PNY9',\n 'GTEX-11I78-1426-SM-5PNVY',\n 'GTEX-11I78-1526-SM-5A5K7',\n 'GTEX-11I78-1726-SM-5A5M3',\n 'GTEX-11I78-1826-SM-5A5M4',\n 'GTEX-11I78-1926-SM-59878',\n 'GTEX-11I78-2026-SM-5987C',\n 'GTEX-11I78-2126-SM-5A5K8',\n 'GTEX-11I78-2226-SM-5PNYA',\n 'GTEX-11I78-2326-SM-5Q5AH',\n 'GTEX-11I78-2426-SM-5A5K9',\n 'GTEX-11I78-2626-SM-5Q5AI',\n 'GTEX-11LCK-0005-SM-5O98U',\n 'GTEX-11LCK-0008-SM-5Q5BB',\n 'GTEX-11LCK-0126-SM-5A5M5',\n 'GTEX-11LCK-0226-SM-5A5M6',\n 'GTEX-11LCK-0326-SM-5A5M7',\n 'GTEX-11LCK-0426-SM-5A5M8',\n 'GTEX-11LCK-0526-SM-5A5M9',\n 'GTEX-11LCK-0726-SM-5PNYC',\n 'GTEX-11LCK-0826-SM-5PNYD',\n 'GTEX-11LCK-0926-SM-5A5KA',\n 'GTEX-11LCK-1026-SM-5A5KB',\n 'GTEX-11LCK-1126-SM-5A5KC',\n 'GTEX-11LCK-1226-SM-5Q5AM',\n 'GTEX-11LCK-1326-SM-5Q5AN',\n 'GTEX-11LCK-1426-SM-5HL5R',\n 'GTEX-11LCK-1526-SM-5HL64',\n 'GTEX-11LCK-1626-SM-5PNYB',\n 'GTEX-11LCK-1726-SM-5S2OQ',\n 'GTEX-11LCK-1926-SM-5A5KE',\n 'GTEX-11LCK-2026-SM-5A5MA',\n 'GTEX-11LCK-2226-SM-5HL4Q',\n 'GTEX-11LCK-2326-SM-5HL53',\n 'GTEX-11LCK-2426-SM-5HL5F',\n 'GTEX-11NSD-0008-SM-5Q5BC',\n 'GTEX-11NSD-0126-SM-5987F',\n 'GTEX-11NSD-0226-SM-5A5LR',\n 'GTEX-11NSD-0326-SM-5A5LS',\n 'GTEX-11NSD-0426-SM-5N9CR',\n 'GTEX-11NSD-0526-SM-5A5LT',\n 'GTEX-11NSD-0626-SM-5A5LU',\n 'GTEX-11NSD-0826-SM-5986S',\n 'GTEX-11NSD-0926-SM-5N9DR',\n 'GTEX-11NSD-1026-SM-5N9BE',\n 'GTEX-11NSD-1126-SM-5N9BQ',\n 'GTEX-11NSD-1226-SM-5986Q',\n 'GTEX-11NSD-1426-SM-5HL67',\n 'GTEX-11NSD-1626-SM-5986U',\n 'GTEX-11NSD-1726-SM-5N9C3',\n 'GTEX-11NSD-1826-SM-5N9CF',\n 'GTEX-11NSD-2026-SM-5HL5U',\n 'GTEX-11NSD-2226-SM-5986V',\n 'GTEX-11NUK-0005-SM-5MR5F',\n 'GTEX-11NUK-0008-SM-5Q5B9',\n 'GTEX-11NUK-0011-R4a-SM-DO12B',\n 'GTEX-11NUK-0011-R5a-SM-DO93N',\n 'GTEX-11NUK-0011-R6a-SM-DO93O',\n 'GTEX-11NUK-0011-R7a-SM-DO93P',\n 'GTEX-11NUK-0126-SM-5A5L3',\n 'GTEX-11NUK-0226-SM-5A5L4',\n 'GTEX-11NUK-0326-SM-5HL5K',\n 'GTEX-11NUK-0426-SM-5HL5V',\n 'GTEX-11NUK-0526-SM-5A5L5',\n 'GTEX-11NUK-0726-SM-5A5ME',\n 'GTEX-11NUK-0826-SM-5HL4U',\n 'GTEX-11NUK-0926-SM-5HL57',\n 'GTEX-11NUK-1026-SM-5HL5J',\n 'GTEX-11NUK-1226-SM-5P9GM',\n 'GTEX-11NUK-1326-SM-5P9GN',\n 'GTEX-11NUK-1426-SM-5HL68',\n 'GTEX-11NUK-1726-SM-5A5L2',\n 'GTEX-11NUK-2026-SM-5PNVZ',\n 'GTEX-11NUK-2426-SM-5BC4U',\n 'GTEX-11NUK-2626-SM-5A5MB',\n 'GTEX-11NUK-2726-SM-5A5MC',\n 'GTEX-11NUK-2926-SM-5A5MD',\n 'GTEX-11NUK-3026-SM-5986K',\n 'GTEX-11NUK-3126-SM-5986M',\n 'GTEX-11NV4-0005-SM-5N9EX',\n 'GTEX-11NV4-0008-SM-5Q5BA',\n 'GTEX-11NV4-0011-R5a-SM-5NQ88',\n 'GTEX-11NV4-0011-R6a-SM-57WD5',\n 'GTEX-11NV4-0011-R7a-SM-57WDH',\n 'GTEX-11NV4-0326-SM-5HL58',\n 'GTEX-11NV4-0526-SM-5N9BF',\n 'GTEX-11NV4-0626-SM-5N9BR',\n 'GTEX-11NV4-0826-SM-5BC4S',\n 'GTEX-11NV4-1126-SM-5HL6J',\n 'GTEX-11NV4-1326-SM-5HL6V',\n 'GTEX-11NV4-1426-SM-5BC4W',\n 'GTEX-11NV4-1726-SM-5N9FC',\n 'GTEX-11NV4-1926-SM-5N9D4',\n 'GTEX-11NV4-2026-SM-5N9DG',\n 'GTEX-11NV4-2126-SM-5N9DS',\n 'GTEX-11NV4-2226-SM-5BC4T',\n 'GTEX-11NV4-2326-SM-5BC4X',\n 'GTEX-11O72-0006-SM-5O9DB',\n 'GTEX-11O72-0008-SM-5Q5DN',\n 'GTEX-11O72-0011-R5a-SM-DO922',\n 'GTEX-11O72-0011-R6a-SM-DNZZQ',\n 'GTEX-11O72-0126-SM-59887',\n 'GTEX-11O72-0226-SM-59869',\n 'GTEX-11O72-0326-SM-5986D',\n 'GTEX-11O72-0426-SM-5BC5B',\n 'GTEX-11O72-0526-SM-5Q5AO',\n 'GTEX-11O72-0626-SM-5PNYE',\n 'GTEX-11O72-0726-SM-5P9GO',\n 'GTEX-11O72-1026-SM-5986B',\n 'GTEX-11O72-1126-SM-5N9E2',\n 'GTEX-11O72-1326-SM-5BC5A',\n 'GTEX-11O72-1926-SM-5PNW1',\n 'GTEX-11O72-2026-SM-5N9G8',\n 'GTEX-11O72-2126-SM-5N9FO',\n 'GTEX-11O72-2226-SM-5PNW2',\n 'GTEX-11O72-2326-SM-5BC7H',\n 'GTEX-11O72-2726-SM-5HL6K',\n 'GTEX-11O72-2826-SM-5HL6W',\n 'GTEX-11O72-2926-SM-5BC4V',\n 'GTEX-11O72-3026-SM-5986R',\n 'GTEX-11OC5-0004-SM-5S2O6',\n 'GTEX-11OC5-0006-SM-5N9FA',\n 'GTEX-11OC5-0008-SM-5S2OH',\n 'GTEX-11OC5-0126-SM-5HL6A',\n 'GTEX-11OC5-0326-SM-5PNW5',\n 'GTEX-11OC5-0426-SM-5Q5AR',\n 'GTEX-11OC5-0526-SM-5N9EE',\n 'GTEX-11OC5-0626-SM-5HL6M',\n 'GTEX-11OC5-0726-SM-5P9JK',\n 'GTEX-11OF3-0006-SM-5O9CM',\n 'GTEX-11OF3-0008-SM-5S2NH',\n 'GTEX-11OF3-0011-R11a-SM-57WCR',\n 'GTEX-11OF3-0011-R5a-SM-57WB4',\n 'GTEX-11OF3-0011-R6b-SM-57WBG',\n 'GTEX-11OF3-0011-R7a-SM-57WCG',\n 'GTEX-11OF3-0011-R8b-SM-57WCS',\n 'GTEX-11OF3-0126-SM-5PNYF',\n 'GTEX-11OF3-0626-SM-5BC4Y',\n 'GTEX-11OF3-0726-SM-5BC4Z',\n 'GTEX-11OF3-0826-SM-5BC51',\n 'GTEX-11OF3-1126-SM-5986C',\n 'GTEX-11OF3-1326-SM-5N9FJ',\n 'GTEX-11OF3-1726-SM-5GU5Q',\n 'GTEX-11OF3-1826-SM-5987N',\n 'GTEX-11OF3-1926-SM-59889',\n 'GTEX-11OF3-2226-SM-5986F',\n 'GTEX-11OF3-2326-SM-5GU73',\n 'GTEX-11OF3-2426-SM-5Q5AS',\n 'GTEX-11OF3-2526-SM-5P9JL',\n 'GTEX-11OF3-2626-SM-5GU7F',\n 'GTEX-11OF3-2926-SM-5HL78',\n 'GTEX-11OF3-3026-SM-5GU52',\n 'GTEX-11ONC-0005-SM-5O9CY',\n 'GTEX-11ONC-0008-SM-5S2MG',\n 'GTEX-11ONC-0011-R1a-SM-57WD4',\n 'GTEX-11ONC-0011-R4b-SM-DO93H',\n 'GTEX-11ONC-0011-R5b-SM-DO93I',\n 'GTEX-11ONC-0011-R6a-SM-DO12A',\n 'GTEX-11ONC-0011-R7b-SM-DO93J',\n 'GTEX-11ONC-0011-R8b-SM-5NQ87',\n 'GTEX-11ONC-0011-R9b-SM-5NQ8J',\n 'GTEX-11ONC-0126-SM-5PNW6',\n 'GTEX-11ONC-0526-SM-5BC57',\n 'GTEX-11ONC-0926-SM-5BC5E',\n 'GTEX-11ONC-1026-SM-5GU64',\n 'GTEX-11ONC-1126-SM-5GU6G',\n 'GTEX-11ONC-1426-SM-5N9F4',\n 'GTEX-11ONC-1526-SM-5GU6S',\n 'GTEX-11ONC-1926-SM-5GU75',\n 'GTEX-11ONC-2026-SM-5HL61',\n 'GTEX-11ONC-2126-SM-5HL6E',\n 'GTEX-11ONC-2226-SM-5HL6D',\n 'GTEX-11ONC-2326-SM-5HL6P',\n 'GTEX-11ONC-2426-SM-5GU7H',\n 'GTEX-11ONC-2526-SM-5986W',\n 'GTEX-11ONC-2726-SM-5N9DZ',\n 'GTEX-11ONC-2826-SM-5P9GQ',\n 'GTEX-11ONC-2926-SM-5P9JM',\n 'GTEX-11ONC-3026-SM-5985W',\n 'GTEX-11P7K-0003-SM-5S2OU',\n 'GTEX-11P7K-0006-SM-5N9FM',\n 'GTEX-11P7K-0008-SM-5S2O5',\n 'GTEX-11P7K-0126-SM-5986E',\n 'GTEX-11P7K-0226-SM-5986Z',\n 'GTEX-11P7K-0326-SM-59871',\n 'GTEX-11P7K-0426-SM-5BC5H',\n 'GTEX-11P7K-0526-SM-5BC5I',\n 'GTEX-11P7K-0626-SM-5985Z',\n 'GTEX-11P7K-0726-SM-5EGKX',\n 'GTEX-11P7K-0826-SM-5BC5F',\n 'GTEX-11P7K-1026-SM-5HL6Y',\n 'GTEX-11P7K-1126-SM-5HL4L',\n 'GTEX-11P7K-1226-SM-5HL4X',\n 'GTEX-11P7K-1326-SM-5BC5G',\n 'GTEX-11P7K-1426-SM-5EGKY',\n 'GTEX-11P7K-1526-SM-5EGI7',\n 'GTEX-11P7K-1626-SM-5GU63',\n 'GTEX-11P7K-1726-SM-5GU6F',\n 'GTEX-11P7K-1826-SM-5HL5A',\n 'GTEX-11P7K-1926-SM-5GU6R',\n 'GTEX-11P7K-2026-SM-5GU74',\n 'GTEX-11P7K-2126-SM-5GU7G',\n 'GTEX-11P7K-2226-SM-5GU56',\n 'GTEX-11P7K-2326-SM-5EGKZ',\n 'GTEX-11P81-0006-SM-5NQ7A',\n 'GTEX-11P81-0008-SM-5S2OT',\n 'GTEX-11P81-0126-SM-5HL5Y',\n 'GTEX-11P81-0226-SM-5HL5M',\n 'GTEX-11P81-0326-SM-5HL6B',\n 'GTEX-11P81-0526-SM-59873',\n 'GTEX-11P81-0726-SM-5PNYH',\n 'GTEX-11P81-0826-SM-5P9GR',\n 'GTEX-11P81-0926-SM-59874',\n 'GTEX-11P81-1026-SM-5GU54',\n 'GTEX-11P81-1126-SM-5GU5G',\n 'GTEX-11P81-1326-SM-5GU5S',\n 'GTEX-11P81-1426-SM-5P9JN',\n 'GTEX-11P81-1526-SM-5P9GS',\n 'GTEX-11P81-1626-SM-5BC52',\n 'GTEX-11P81-1926-SM-5BC53',\n 'GTEX-11P81-2026-SM-5P9GT',\n 'GTEX-11P81-2126-SM-5HL6N',\n 'GTEX-11P81-2226-SM-5PNYI',\n 'GTEX-11P81-2326-SM-59875',\n 'GTEX-11P81-2426-SM-5GU65',\n 'GTEX-11P81-2526-SM-5GU6H',\n 'GTEX-11P81-2626-SM-5GU6T',\n 'GTEX-11P81-2726-SM-59876',\n 'GTEX-11P82-0006-SM-5N9FY',\n 'GTEX-11P82-0008-SM-5S2MS',\n 'GTEX-11P82-0126-SM-5HL72',\n 'GTEX-11P82-0226-SM-5HL4O',\n 'GTEX-11P82-0326-SM-5HL51',\n 'GTEX-11P82-0426-SM-5HL5D',\n 'GTEX-11P82-0526-SM-5986P',\n 'GTEX-11P82-0626-SM-5PNYK',\n 'GTEX-11P82-0726-SM-5PNYL',\n 'GTEX-11P82-0826-SM-5P9GU',\n 'GTEX-11P82-0926-SM-5986X',\n 'GTEX-11P82-1026-SM-5BC5J',\n 'GTEX-11P82-1126-SM-5BC5K',\n 'GTEX-11P82-1326-SM-5HL62',\n 'GTEX-11P82-1426-SM-DTXFY',\n 'GTEX-11P82-1526-SM-5BC5M',\n 'GTEX-11P82-1626-SM-59879',\n 'GTEX-11P82-1726-SM-5Q5AT',\n 'GTEX-11P82-1826-SM-5PNYJ',\n 'GTEX-11P82-1926-SM-5Q5AU',\n 'GTEX-11PRG-0005-SM-5NQ6X',\n 'GTEX-11PRG-0008-SM-5S2N5',\n 'GTEX-11PRG-0011-R10b-SM-DO93G',\n 'GTEX-11PRG-0011-R11b-SM-DNZZY',\n 'GTEX-11PRG-0011-R2a-SM-69LQ5',\n 'GTEX-11PRG-0011-R4a-SM-DNZZR',\n 'GTEX-11PRG-0011-R5b-SM-DNZZS',\n 'GTEX-11PRG-0011-R6b-SM-DO923',\n 'GTEX-11PRG-0011-R7a-SM-DNZZT',\n 'GTEX-11PRG-0126-SM-5BC55',\n 'GTEX-11PRG-0326-SM-5GU53',\n 'GTEX-11PRG-0626-SM-5BC56',\n 'GTEX-11PRG-0726-SM-5EGL1',\n 'GTEX-11PRG-0826-SM-5EQ6A',\n 'GTEX-11PRG-0926-SM-5EGI8',\n 'GTEX-11PRG-1526-SM-5HL6Z',\n 'GTEX-11PRG-2026-SM-5GU5F',\n 'GTEX-11PRG-2826-SM-5BC54',\n 'GTEX-11PRG-2926-SM-5987A',\n 'GTEX-11TT1-0004-SM-5S2NT',\n 'GTEX-11TT1-0005-SM-5NQ8Y',\n 'GTEX-11TT1-0008-SM-5S2P8',\n 'GTEX-11TT1-0126-SM-5LUAA',\n 'GTEX-11TT1-0326-SM-5LUAY',\n 'GTEX-11TT1-0426-SM-5EGI9',\n 'GTEX-11TT1-0526-SM-5P9JO',\n 'GTEX-11TT1-0626-SM-5GU4X',\n 'GTEX-11TT1-0726-SM-5GU5A',\n 'GTEX-11TT1-0926-SM-5GU5M',\n 'GTEX-11TT1-1026-SM-5PNW7',\n 'GTEX-11TT1-1126-SM-5P9GV',\n 'GTEX-11TT1-1226-SM-5Q5AV',\n 'GTEX-11TT1-1326-SM-5PNYM',\n 'GTEX-11TT1-1426-SM-5EGIA',\n 'GTEX-11TT1-1526-SM-5EQKU',\n 'GTEX-11TT1-1626-SM-5EQL7',\n 'GTEX-11TT1-1726-SM-5EQLJ',\n 'GTEX-11TT1-1826-SM-5EQLV',\n 'GTEX-11TT1-1926-SM-5PNYN',\n 'GTEX-11TT1-2026-SM-5EQM8',\n 'GTEX-11TT1-2126-SM-5GU5Y',\n 'GTEX-11TT1-2226-SM-5GU6B',\n 'GTEX-11TT1-2326-SM-5GU6N',\n 'GTEX-11TT1-2426-SM-5EQMK',\n 'GTEX-11TT1-2526-SM-5EGIB',\n 'GTEX-11TT1-2626-SM-5EGL2',\n 'GTEX-11TT1-2726-SM-5LU8L',\n 'GTEX-11TTK-0005-SM-5O9BX',\n 'GTEX-11TTK-0008-SM-5S2RU',\n 'GTEX-11TTK-0011-R10b-SM-DO925',\n 'GTEX-11TTK-0011-R11b-SM-DO112',\n 'GTEX-11TTK-0011-R4a-SM-DNZZU',\n 'GTEX-11TTK-0011-R5a-SM-DNZZV',\n 'GTEX-11TTK-0011-R6b-SM-DNZZW',\n 'GTEX-11TTK-0011-R7b-SM-DNZZZ',\n 'GTEX-11TTK-0011-R8b-SM-DO111',\n 'GTEX-11TTK-0126-SM-5987B',\n 'GTEX-11TTK-0226-SM-5N9EC',\n 'GTEX-11TTK-0326-SM-5BC5N',\n 'GTEX-11TTK-0426-SM-5EQLT',\n 'GTEX-11TTK-0826-SM-5N9EG',\n 'GTEX-11TTK-1926-SM-5PNW8',\n 'GTEX-11TTK-2426-SM-5PNYO',\n 'GTEX-11TTK-2726-SM-5GU58',\n 'GTEX-11TTK-2826-SM-5GU5K',\n 'GTEX-11TTK-2926-SM-5PNYP',\n 'GTEX-11TUW-0006-SM-5LZW2',\n 'GTEX-11TUW-0008-SM-5SI6S',\n 'GTEX-11TUW-0011-R10a-SM-DO924',\n 'GTEX-11TUW-0011-R1a-SM-DO92S',\n 'GTEX-11TUW-0011-R2b-SM-DO92T',\n 'GTEX-11TUW-0226-SM-5LU8X',\n 'GTEX-11TUW-0526-SM-5LU9A',\n 'GTEX-11TUW-0626-SM-5LU9M',\n 'GTEX-11TUW-0926-SM-5EQMW',\n 'GTEX-11TUW-1026-SM-5GU7D',\n 'GTEX-11TUW-1126-SM-5EQKJ',\n 'GTEX-11TUW-1226-SM-5GU7C',\n 'GTEX-11TUW-1326-SM-5EQKV',\n 'GTEX-11TUW-1726-SM-5BC5C',\n 'GTEX-11TUW-1826-SM-5BC5D',\n 'GTEX-11TUW-1926-SM-5BC58',\n 'GTEX-11TUW-2026-SM-5EQL8',\n 'GTEX-11TUW-2126-SM-5GU7B',\n 'GTEX-11TUW-2226-SM-5EQL9',\n 'GTEX-11TUW-2326-SM-5EQMO',\n 'GTEX-11TUW-2426-SM-5EQKB',\n 'GTEX-11TUW-2526-SM-5EQKN',\n 'GTEX-11TUW-2626-SM-5EQKZ',\n 'GTEX-11TUW-2726-SM-E9J4M',\n 'GTEX-11TUW-2926-SM-5BC59',\n 'GTEX-11TUW-3026-SM-5EGKM',\n 'GTEX-11UD1-0008-SM-5S2P6',\n 'GTEX-11UD1-0011-R1b-SM-5BC7D',\n 'GTEX-11UD1-0011-R2b-SM-5BC6O',\n 'GTEX-11UD1-0011-R3a-SM-5BC6S',\n 'GTEX-11UD1-0011-R5b-SM-5P9FP',\n 'GTEX-11UD1-0126-SM-5PNYG',\n 'GTEX-11UD1-0226-SM-5EQKL',\n 'GTEX-11UD1-0326-SM-5EQKX',\n 'GTEX-11UD2-0005-SM-5NQ9B',\n 'GTEX-11UD2-0008-SM-5S2P7',\n 'GTEX-11UD2-0011-R9b-SM-DO926',\n 'GTEX-11UD2-0126-SM-5EQL2',\n 'GTEX-11UD2-0226-SM-5EQKY',\n 'GTEX-11UD2-0326-SM-5EQLE',\n 'GTEX-11UD2-0426-SM-5EQ5W',\n 'GTEX-11UD2-0526-SM-5GU69',\n 'GTEX-11UD2-0626-SM-5GU6L',\n 'GTEX-11UD2-0726-SM-5EQ69',\n 'GTEX-11UD2-0826-SM-5EQKS',\n 'GTEX-11UD2-0926-SM-5CVL6',\n 'GTEX-11UD2-1126-SM-5EQM6',\n 'GTEX-11UD2-1226-SM-5EQMI',\n 'GTEX-11UD2-1526-SM-5EQLQ',\n 'GTEX-11UD2-2526-SM-5CVNU',\n 'GTEX-11VI4-0001-SM-5S2OI',\n 'GTEX-11VI4-0006-SM-5N9D8',\n 'GTEX-11VI4-0126-SM-5GU6Z',\n 'GTEX-11VI4-0226-SM-5GU6C',\n 'GTEX-11VI4-0326-SM-5EQ6L',\n 'GTEX-11VI4-0426-SM-5EGHZ',\n 'GTEX-11VI4-0526-SM-5EQ48',\n 'GTEX-11VI4-0626-SM-5EQLO',\n 'GTEX-11VI4-0726-SM-5GU5B',\n 'GTEX-11VI4-0826-SM-5GU5N',\n 'GTEX-11VI4-1026-SM-5EQM1',\n 'GTEX-11VI4-1126-SM-5EQMD',\n 'GTEX-11VI4-1226-SM-5EQMP',\n 'GTEX-11VI4-1426-SM-5GU6O',\n 'GTEX-11VI4-1526-SM-5EQKC',\n 'GTEX-11VI4-1626-SM-5EQKO',\n 'GTEX-11VI4-1726-SM-5CVLH',\n 'GTEX-11VI4-1926-SM-5CVLI',\n 'GTEX-11VI4-2026-SM-5CVLJ',\n 'GTEX-11VI4-2126-SM-5EGI1',\n 'GTEX-11WQC-0006-SM-5LZVP',\n 'GTEX-11WQC-0008-SM-5SI6R',\n 'GTEX-11WQC-0011-R10a-SM-57WCT',\n 'GTEX-11WQC-0011-R11b-SM-57WD6',\n 'GTEX-11WQC-0011-R1b-SM-DO932',\n 'GTEX-11WQC-0011-R2a-SM-DO927',\n 'GTEX-11WQC-0011-R3a-SM-DO11T',\n 'GTEX-11WQC-0011-R5a-SM-5BC74',\n 'GTEX-11WQC-0011-R6a-SM-5BC77',\n 'GTEX-11WQC-0011-R7b-SM-5BC7A',\n 'GTEX-11WQC-0011-R8b-SM-57WCH',\n 'GTEX-11WQC-0626-SM-5EQMF',\n 'GTEX-11WQC-0726-SM-5EQMR',\n 'GTEX-11WQC-1726-SM-5GU4W',\n 'GTEX-11WQC-1826-SM-5GU59',\n 'GTEX-11WQC-2326-SM-5EQKE',\n 'GTEX-11WQC-2426-SM-5EQKQ',\n 'GTEX-11WQC-2526-SM-5CVLE',\n 'GTEX-11WQC-2626-SM-5CVLF',\n 'GTEX-11WQC-2726-SM-5CVLG',\n 'GTEX-11WQC-2826-SM-5GU7A',\n 'GTEX-11WQK-0005-SM-5O9AV',\n 'GTEX-11WQK-0008-SM-5SI6T',\n 'GTEX-11WQK-0011-R10a-SM-5BC6R',\n 'GTEX-11WQK-0011-R3b-SM-DO93K',\n 'GTEX-11WQK-0011-R8a-SM-5BC7C',\n 'GTEX-11WQK-0011-R9b-SM-5BC6N',\n 'GTEX-11WQK-0226-SM-5EQLI',\n 'GTEX-11WQK-0326-SM-5EQL1',\n 'GTEX-11WQK-0526-SM-5EQLD',\n 'GTEX-11WQK-0726-SM-5GU71',\n 'GTEX-11WQK-1026-SM-5EQLX',\n 'GTEX-11WQK-1226-SM-5GU5Z',\n 'GTEX-11WQK-1526-SM-5EGKN',\n 'GTEX-11WQK-1826-SM-5EQM2',\n 'GTEX-11WQK-2226-SM-5CVL7',\n 'GTEX-11WQK-2426-SM-5GU5C',\n 'GTEX-11WQK-2626-SM-5EQ4K',\n 'GTEX-11WQK-2726-SM-5EQMU',\n 'GTEX-11WQK-2826-SM-5EQKH',\n 'GTEX-11WQK-2926-SM-5EQKT',\n 'GTEX-11WQK-3026-SM-5EQL6',\n 'GTEX-11WQK-3226-SM-5EGI3',\n 'GTEX-11XUK-0005-SM-5LU9F',\n 'GTEX-11XUK-0008-SM-5S2WD',\n 'GTEX-11XUK-0126-SM-5CVLK',\n 'GTEX-11XUK-0226-SM-5EQLW',\n 'GTEX-11XUK-0426-SM-5EQML',\n 'GTEX-11XUK-0626-SM-5N9ES',\n ...]"
     },
     "execution_count": 5,
     "metadata": {},
     "output_type": "execute_result"
    }
   ],
   "source": [
    "rnas.columns"
   ],
   "metadata": {
    "collapsed": false,
    "pycharm": {
     "name": "#%%\n"
    }
   }
  },
  {
   "cell_type": "code",
   "execution_count": 6,
   "outputs": [],
   "source": [
    "sample_file = gtex / \"GTEx_Analysis_v8_Annotations_SampleAttributesDS.txt\"\n",
    "phenotypes_file = gtex / \"GTEx_Analysis_v8_Annotations_SubjectPhenotypesDS.txt\""
   ],
   "metadata": {
    "collapsed": false,
    "pycharm": {
     "name": "#%%\n"
    }
   }
  },
  {
   "cell_type": "code",
   "execution_count": 7,
   "outputs": [
    {
     "data": {
      "text/plain": "shape: (10, 63)\n┌────────────────────┬──────┬────────┬────────────────────┬─────┬──────────┬──────┬──────┬─────────┐\n│ SAMPID             ┆ SMAT ┆ SMCENT ┆ SMPTHNTS           ┆ ... ┆ SME1MPRT ┆ SMNU ┆ SMDP ┆ SME2PCT │\n│ ---                ┆ SSCR ┆ ER     ┆ ---                ┆     ┆ ---      ┆ M5CD ┆ MPRT ┆ S       │\n│ str                ┆ ---  ┆ ---    ┆ str                ┆     ┆ f64      ┆ ---  ┆ ---  ┆ ---     │\n│                    ┆ i64  ┆ str    ┆                    ┆     ┆          ┆ str  ┆ i64  ┆ f64     │\n╞════════════════════╪══════╪════════╪════════════════════╪═════╪══════════╪══════╪══════╪═════════╡\n│ GTEX-1117F-0003-SM ┆ null ┆ B1     ┆ null               ┆ ... ┆ null     ┆ null ┆ null ┆ null    │\n│ -58Q7G             ┆      ┆        ┆                    ┆     ┆          ┆      ┆      ┆         │\n├╌╌╌╌╌╌╌╌╌╌╌╌╌╌╌╌╌╌╌╌┼╌╌╌╌╌╌┼╌╌╌╌╌╌╌╌┼╌╌╌╌╌╌╌╌╌╌╌╌╌╌╌╌╌╌╌╌┼╌╌╌╌╌┼╌╌╌╌╌╌╌╌╌╌┼╌╌╌╌╌╌┼╌╌╌╌╌╌┼╌╌╌╌╌╌╌╌╌┤\n│ GTEX-1117F-0003-SM ┆ null ┆ B1     ┆ null               ┆ ... ┆ null     ┆ null ┆ null ┆ null    │\n│ -5DWSB             ┆      ┆        ┆                    ┆     ┆          ┆      ┆      ┆         │\n├╌╌╌╌╌╌╌╌╌╌╌╌╌╌╌╌╌╌╌╌┼╌╌╌╌╌╌┼╌╌╌╌╌╌╌╌┼╌╌╌╌╌╌╌╌╌╌╌╌╌╌╌╌╌╌╌╌┼╌╌╌╌╌┼╌╌╌╌╌╌╌╌╌╌┼╌╌╌╌╌╌┼╌╌╌╌╌╌┼╌╌╌╌╌╌╌╌╌┤\n│ GTEX-1117F-0003-SM ┆ null ┆ B1     ┆ null               ┆ ... ┆ null     ┆ null ┆ null ┆ null    │\n│ -6WBT7             ┆      ┆        ┆                    ┆     ┆          ┆      ┆      ┆         │\n├╌╌╌╌╌╌╌╌╌╌╌╌╌╌╌╌╌╌╌╌┼╌╌╌╌╌╌┼╌╌╌╌╌╌╌╌┼╌╌╌╌╌╌╌╌╌╌╌╌╌╌╌╌╌╌╌╌┼╌╌╌╌╌┼╌╌╌╌╌╌╌╌╌╌┼╌╌╌╌╌╌┼╌╌╌╌╌╌┼╌╌╌╌╌╌╌╌╌┤\n│ GTEX-1117F-0011-R1 ┆ null ┆ B1, A1 ┆ null               ┆ ... ┆ null     ┆ null ┆ null ┆ null    │\n│ 0a-SM-AHZ7F        ┆      ┆        ┆                    ┆     ┆          ┆      ┆      ┆         │\n├╌╌╌╌╌╌╌╌╌╌╌╌╌╌╌╌╌╌╌╌┼╌╌╌╌╌╌┼╌╌╌╌╌╌╌╌┼╌╌╌╌╌╌╌╌╌╌╌╌╌╌╌╌╌╌╌╌┼╌╌╌╌╌┼╌╌╌╌╌╌╌╌╌╌┼╌╌╌╌╌╌┼╌╌╌╌╌╌┼╌╌╌╌╌╌╌╌╌┤\n│ ...                ┆ ...  ┆ ...    ┆ ...                ┆ ... ┆ ...      ┆ ...  ┆ ...  ┆ ...     │\n├╌╌╌╌╌╌╌╌╌╌╌╌╌╌╌╌╌╌╌╌┼╌╌╌╌╌╌┼╌╌╌╌╌╌╌╌┼╌╌╌╌╌╌╌╌╌╌╌╌╌╌╌╌╌╌╌╌┼╌╌╌╌╌┼╌╌╌╌╌╌╌╌╌╌┼╌╌╌╌╌╌┼╌╌╌╌╌╌┼╌╌╌╌╌╌╌╌╌┤\n│ GTEX-1117F-0426-SM ┆ 0    ┆ B1     ┆ 2 pieces, !5%      ┆ ... ┆ 0.995041 ┆ null ┆ 0    ┆ 49.9455 │\n│ -5EGHI             ┆      ┆        ┆ fibrous            ┆     ┆          ┆      ┆      ┆         │\n│                    ┆      ┆        ┆ connective...      ┆     ┆          ┆      ┆      ┆         │\n├╌╌╌╌╌╌╌╌╌╌╌╌╌╌╌╌╌╌╌╌┼╌╌╌╌╌╌┼╌╌╌╌╌╌╌╌┼╌╌╌╌╌╌╌╌╌╌╌╌╌╌╌╌╌╌╌╌┼╌╌╌╌╌┼╌╌╌╌╌╌╌╌╌╌┼╌╌╌╌╌╌┼╌╌╌╌╌╌┼╌╌╌╌╌╌╌╌╌┤\n│ GTEX-1117F-0526-SM ┆ 0    ┆ B1     ┆ 2 pieces, clean,   ┆ ... ┆ 0.994001 ┆ null ┆ 0    ┆ 50.2667 │\n│ -5EGHJ             ┆      ┆        ┆ Monckebeg media... ┆     ┆          ┆      ┆      ┆         │\n├╌╌╌╌╌╌╌╌╌╌╌╌╌╌╌╌╌╌╌╌┼╌╌╌╌╌╌┼╌╌╌╌╌╌╌╌┼╌╌╌╌╌╌╌╌╌╌╌╌╌╌╌╌╌╌╌╌┼╌╌╌╌╌┼╌╌╌╌╌╌╌╌╌╌┼╌╌╌╌╌╌┼╌╌╌╌╌╌┼╌╌╌╌╌╌╌╌╌┤\n│ GTEX-1117F-0626-SM ┆ 1    ┆ B1     ┆ 2 pieces, up to    ┆ ... ┆ 0.992257 ┆ null ┆ 0    ┆ 50.0865 │\n│ -5N9CS             ┆      ┆        ┆ 4mm aderent        ┆     ┆          ┆      ┆      ┆         │\n│                    ┆      ┆        ┆ fat/...            ┆     ┆          ┆      ┆      ┆         │\n├╌╌╌╌╌╌╌╌╌╌╌╌╌╌╌╌╌╌╌╌┼╌╌╌╌╌╌┼╌╌╌╌╌╌╌╌┼╌╌╌╌╌╌╌╌╌╌╌╌╌╌╌╌╌╌╌╌┼╌╌╌╌╌┼╌╌╌╌╌╌╌╌╌╌┼╌╌╌╌╌╌┼╌╌╌╌╌╌┼╌╌╌╌╌╌╌╌╌┤\n│ GTEX-1117F-0726-SM ┆ 1    ┆ B1     ┆ 2 pieces, no       ┆ ... ┆ 0.995711 ┆ null ┆ 0    ┆ 49.9563 │\n│ -5GIEN             ┆      ┆        ┆ abnormalities      ┆     ┆          ┆      ┆      ┆         │\n└────────────────────┴──────┴────────┴────────────────────┴─────┴──────────┴──────┴──────┴─────────┘",
      "text/html": "<div>\n<style scoped>\n    .dataframe tbody tr th:only-of-type {\n        vertical-align: middle;\n    }\n\n    .dataframe tbody tr th {\n        vertical-align: top;\n    }\n\n    .dataframe thead th {\n        text-align: right;\n    }\n\n    .dataframe td {\n        white-space: pre;\n    }\n\n    .dataframe td {\n        padding-top: 0;\n    }\n\n    .dataframe td {\n        padding-bottom: 0;\n    }\n\n    .dataframe td {\n        line-height: 95%;\n    }\n</style>\n<table border=\"1\" class=\"dataframe\" >\n<small>shape: (10, 63)</small>\n<thead>\n<tr>\n<th>\nSAMPID\n</th>\n<th>\nSMATSSCR\n</th>\n<th>\nSMCENTER\n</th>\n<th>\nSMPTHNTS\n</th>\n<th>\nSMRIN\n</th>\n<th>\nSMTS\n</th>\n<th>\nSMTSD\n</th>\n<th>\nSMUBRID\n</th>\n<th>\nSMTSISCH\n</th>\n<th>\nSMTSPAX\n</th>\n<th>\nSMNABTCH\n</th>\n<th>\nSMNABTCHT\n</th>\n<th>\nSMNABTCHD\n</th>\n<th>\nSMGEBTCH\n</th>\n<th>\nSMGEBTCHD\n</th>\n<th>\nSMGEBTCHT\n</th>\n<th>\nSMAFRZE\n</th>\n<th>\nSMGTC\n</th>\n<th>\nSME2MPRT\n</th>\n<th>\nSMCHMPRS\n</th>\n<th>\nSMNTRART\n</th>\n<th>\nSMNUMGPS\n</th>\n<th>\nSMMAPRT\n</th>\n<th>\nSMEXNCRT\n</th>\n<th>\nSM550NRM\n</th>\n<th>\nSMGNSDTC\n</th>\n<th>\nSMUNMPRT\n</th>\n<th>\nSM350NRM\n</th>\n<th>\nSMRDLGTH\n</th>\n<th>\nSMMNCPB\n</th>\n<th>\nSME1MMRT\n</th>\n<th>\nSMSFLGTH\n</th>\n<th>\nSMESTLBS\n</th>\n<th>\nSMMPPD\n</th>\n<th>\nSMNTERRT\n</th>\n<th>\nSMRRNANM\n</th>\n<th>\nSMRDTTL\n</th>\n<th>\nSMVQCFL\n</th>\n<th>\nSMMNCV\n</th>\n<th>\nSMTRSCPT\n</th>\n<th>\nSMMPPDPR\n</th>\n<th>\nSMCGLGTH\n</th>\n<th>\nSMGAPPCT\n</th>\n<th>\nSMUNPDRD\n</th>\n<th>\nSMNTRNRT\n</th>\n<th>\nSMMPUNRT\n</th>\n<th>\nSMEXPEFF\n</th>\n<th>\nSMMPPDUN\n</th>\n<th>\nSME2MMRT\n</th>\n<th>\nSME2ANTI\n</th>\n<th>\nSMALTALG\n</th>\n<th>\nSME2SNSE\n</th>\n<th>\nSMMFLGTH\n</th>\n<th>\nSME1ANTI\n</th>\n<th>\nSMSPLTRD\n</th>\n<th>\nSMBSMMRT\n</th>\n<th>\nSME1SNSE\n</th>\n<th>\nSME1PCTS\n</th>\n<th>\nSMRRNART\n</th>\n<th>\nSME1MPRT\n</th>\n<th>\nSMNUM5CD\n</th>\n<th>\nSMDPMPRT\n</th>\n<th>\nSME2PCTS\n</th>\n</tr>\n<tr>\n<td>\nstr\n</td>\n<td>\ni64\n</td>\n<td>\nstr\n</td>\n<td>\nstr\n</td>\n<td>\nf64\n</td>\n<td>\nstr\n</td>\n<td>\nstr\n</td>\n<td>\nstr\n</td>\n<td>\ni64\n</td>\n<td>\ni64\n</td>\n<td>\nstr\n</td>\n<td>\nstr\n</td>\n<td>\nstr\n</td>\n<td>\nstr\n</td>\n<td>\nstr\n</td>\n<td>\nstr\n</td>\n<td>\nstr\n</td>\n<td>\nstr\n</td>\n<td>\nf64\n</td>\n<td>\ni64\n</td>\n<td>\nf64\n</td>\n<td>\nstr\n</td>\n<td>\nf64\n</td>\n<td>\nf64\n</td>\n<td>\nstr\n</td>\n<td>\ni64\n</td>\n<td>\ni64\n</td>\n<td>\nstr\n</td>\n<td>\ni64\n</td>\n<td>\nstr\n</td>\n<td>\nf64\n</td>\n<td>\ni64\n</td>\n<td>\ni64\n</td>\n<td>\nf64\n</td>\n<td>\nf64\n</td>\n<td>\nf64\n</td>\n<td>\nf64\n</td>\n<td>\nf64\n</td>\n<td>\nstr\n</td>\n<td>\ni64\n</td>\n<td>\nf64\n</td>\n<td>\nstr\n</td>\n<td>\nstr\n</td>\n<td>\ni64\n</td>\n<td>\nf64\n</td>\n<td>\nf64\n</td>\n<td>\nf64\n</td>\n<td>\nf64\n</td>\n<td>\nf64\n</td>\n<td>\nf64\n</td>\n<td>\nf64\n</td>\n<td>\nf64\n</td>\n<td>\ni64\n</td>\n<td>\nf64\n</td>\n<td>\nf64\n</td>\n<td>\nf64\n</td>\n<td>\nf64\n</td>\n<td>\nf64\n</td>\n<td>\nf64\n</td>\n<td>\nf64\n</td>\n<td>\nstr\n</td>\n<td>\ni64\n</td>\n<td>\nf64\n</td>\n</tr>\n</thead>\n<tbody>\n<tr>\n<td>\n\"GTEX-1117F-000...\n</td>\n<td>\nnull\n</td>\n<td>\n\"B1\"\n</td>\n<td>\nnull\n</td>\n<td>\nnull\n</td>\n<td>\n\"Blood\"\n</td>\n<td>\n\"Whole Blood\"\n</td>\n<td>\n\"0013756\"\n</td>\n<td>\n1188\n</td>\n<td>\nnull\n</td>\n<td>\n\"BP-38516\"\n</td>\n<td>\n\"DNA isolation_...\n</td>\n<td>\n\"05/02/2013\"\n</td>\n<td>\n\"LCSET-4574\"\n</td>\n<td>\n\"01/15/2014\"\n</td>\n<td>\n\"Standard Exome...\n</td>\n<td>\n\"WES\"\n</td>\n<td>\nnull\n</td>\n<td>\nnull\n</td>\n<td>\nnull\n</td>\n<td>\nnull\n</td>\n<td>\nnull\n</td>\n<td>\nnull\n</td>\n<td>\nnull\n</td>\n<td>\nnull\n</td>\n<td>\nnull\n</td>\n<td>\nnull\n</td>\n<td>\nnull\n</td>\n<td>\nnull\n</td>\n<td>\nnull\n</td>\n<td>\nnull\n</td>\n<td>\nnull\n</td>\n<td>\nnull\n</td>\n<td>\nnull\n</td>\n<td>\nnull\n</td>\n<td>\nnull\n</td>\n<td>\nnull\n</td>\n<td>\nnull\n</td>\n<td>\nnull\n</td>\n<td>\nnull\n</td>\n<td>\nnull\n</td>\n<td>\nnull\n</td>\n<td>\nnull\n</td>\n<td>\nnull\n</td>\n<td>\nnull\n</td>\n<td>\nnull\n</td>\n<td>\nnull\n</td>\n<td>\nnull\n</td>\n<td>\nnull\n</td>\n<td>\nnull\n</td>\n<td>\nnull\n</td>\n<td>\nnull\n</td>\n<td>\nnull\n</td>\n<td>\nnull\n</td>\n<td>\nnull\n</td>\n<td>\nnull\n</td>\n<td>\nnull\n</td>\n<td>\nnull\n</td>\n<td>\nnull\n</td>\n<td>\nnull\n</td>\n<td>\nnull\n</td>\n<td>\nnull\n</td>\n<td>\nnull\n</td>\n</tr>\n<tr>\n<td>\n\"GTEX-1117F-000...\n</td>\n<td>\nnull\n</td>\n<td>\n\"B1\"\n</td>\n<td>\nnull\n</td>\n<td>\nnull\n</td>\n<td>\n\"Blood\"\n</td>\n<td>\n\"Whole Blood\"\n</td>\n<td>\n\"0013756\"\n</td>\n<td>\n1188\n</td>\n<td>\nnull\n</td>\n<td>\n\"BP-38516\"\n</td>\n<td>\n\"DNA isolation_...\n</td>\n<td>\n\"05/02/2013\"\n</td>\n<td>\n\"GTEx_OM25_Dec_...\n</td>\n<td>\n\"01/28/2014\"\n</td>\n<td>\n\"Illumina OMNI ...\n</td>\n<td>\n\"OMNI\"\n</td>\n<td>\nnull\n</td>\n<td>\nnull\n</td>\n<td>\nnull\n</td>\n<td>\nnull\n</td>\n<td>\nnull\n</td>\n<td>\nnull\n</td>\n<td>\nnull\n</td>\n<td>\nnull\n</td>\n<td>\nnull\n</td>\n<td>\nnull\n</td>\n<td>\nnull\n</td>\n<td>\nnull\n</td>\n<td>\nnull\n</td>\n<td>\nnull\n</td>\n<td>\nnull\n</td>\n<td>\nnull\n</td>\n<td>\nnull\n</td>\n<td>\nnull\n</td>\n<td>\nnull\n</td>\n<td>\nnull\n</td>\n<td>\nnull\n</td>\n<td>\nnull\n</td>\n<td>\nnull\n</td>\n<td>\nnull\n</td>\n<td>\nnull\n</td>\n<td>\nnull\n</td>\n<td>\nnull\n</td>\n<td>\nnull\n</td>\n<td>\nnull\n</td>\n<td>\nnull\n</td>\n<td>\nnull\n</td>\n<td>\nnull\n</td>\n<td>\nnull\n</td>\n<td>\nnull\n</td>\n<td>\nnull\n</td>\n<td>\nnull\n</td>\n<td>\nnull\n</td>\n<td>\nnull\n</td>\n<td>\nnull\n</td>\n<td>\nnull\n</td>\n<td>\nnull\n</td>\n<td>\nnull\n</td>\n<td>\nnull\n</td>\n<td>\nnull\n</td>\n<td>\nnull\n</td>\n<td>\nnull\n</td>\n</tr>\n<tr>\n<td>\n\"GTEX-1117F-000...\n</td>\n<td>\nnull\n</td>\n<td>\n\"B1\"\n</td>\n<td>\nnull\n</td>\n<td>\nnull\n</td>\n<td>\n\"Blood\"\n</td>\n<td>\n\"Whole Blood\"\n</td>\n<td>\n\"0013756\"\n</td>\n<td>\n1188\n</td>\n<td>\nnull\n</td>\n<td>\n\"BP-38516\"\n</td>\n<td>\n\"DNA isolation_...\n</td>\n<td>\n\"05/02/2013\"\n</td>\n<td>\n\"LCSET-6056\"\n</td>\n<td>\n\"09/20/2014\"\n</td>\n<td>\n\"PCR+ 30x Cover...\n</td>\n<td>\n\"WGS\"\n</td>\n<td>\nnull\n</td>\n<td>\nnull\n</td>\n<td>\nnull\n</td>\n<td>\nnull\n</td>\n<td>\nnull\n</td>\n<td>\nnull\n</td>\n<td>\nnull\n</td>\n<td>\nnull\n</td>\n<td>\nnull\n</td>\n<td>\nnull\n</td>\n<td>\nnull\n</td>\n<td>\nnull\n</td>\n<td>\nnull\n</td>\n<td>\nnull\n</td>\n<td>\nnull\n</td>\n<td>\nnull\n</td>\n<td>\nnull\n</td>\n<td>\nnull\n</td>\n<td>\nnull\n</td>\n<td>\nnull\n</td>\n<td>\nnull\n</td>\n<td>\nnull\n</td>\n<td>\nnull\n</td>\n<td>\nnull\n</td>\n<td>\nnull\n</td>\n<td>\nnull\n</td>\n<td>\nnull\n</td>\n<td>\nnull\n</td>\n<td>\nnull\n</td>\n<td>\nnull\n</td>\n<td>\nnull\n</td>\n<td>\nnull\n</td>\n<td>\nnull\n</td>\n<td>\nnull\n</td>\n<td>\nnull\n</td>\n<td>\nnull\n</td>\n<td>\nnull\n</td>\n<td>\nnull\n</td>\n<td>\nnull\n</td>\n<td>\nnull\n</td>\n<td>\nnull\n</td>\n<td>\nnull\n</td>\n<td>\nnull\n</td>\n<td>\nnull\n</td>\n<td>\nnull\n</td>\n<td>\nnull\n</td>\n</tr>\n<tr>\n<td>\n\"GTEX-1117F-001...\n</td>\n<td>\nnull\n</td>\n<td>\n\"B1, A1\"\n</td>\n<td>\nnull\n</td>\n<td>\nnull\n</td>\n<td>\n\"Brain\"\n</td>\n<td>\n\"Brain - Fronta...\n</td>\n<td>\n\"0009834\"\n</td>\n<td>\n1193\n</td>\n<td>\nnull\n</td>\n<td>\nnull\n</td>\n<td>\nnull\n</td>\n<td>\nnull\n</td>\n<td>\nnull\n</td>\n<td>\nnull\n</td>\n<td>\n\"ChIP-Seq\"\n</td>\n<td>\nnull\n</td>\n<td>\nnull\n</td>\n<td>\nnull\n</td>\n<td>\nnull\n</td>\n<td>\nnull\n</td>\n<td>\nnull\n</td>\n<td>\nnull\n</td>\n<td>\nnull\n</td>\n<td>\nnull\n</td>\n<td>\nnull\n</td>\n<td>\nnull\n</td>\n<td>\nnull\n</td>\n<td>\nnull\n</td>\n<td>\nnull\n</td>\n<td>\nnull\n</td>\n<td>\nnull\n</td>\n<td>\nnull\n</td>\n<td>\nnull\n</td>\n<td>\nnull\n</td>\n<td>\nnull\n</td>\n<td>\nnull\n</td>\n<td>\nnull\n</td>\n<td>\nnull\n</td>\n<td>\nnull\n</td>\n<td>\nnull\n</td>\n<td>\nnull\n</td>\n<td>\nnull\n</td>\n<td>\nnull\n</td>\n<td>\nnull\n</td>\n<td>\nnull\n</td>\n<td>\nnull\n</td>\n<td>\nnull\n</td>\n<td>\nnull\n</td>\n<td>\nnull\n</td>\n<td>\nnull\n</td>\n<td>\nnull\n</td>\n<td>\nnull\n</td>\n<td>\nnull\n</td>\n<td>\nnull\n</td>\n<td>\nnull\n</td>\n<td>\nnull\n</td>\n<td>\nnull\n</td>\n<td>\nnull\n</td>\n<td>\nnull\n</td>\n<td>\nnull\n</td>\n<td>\nnull\n</td>\n<td>\nnull\n</td>\n</tr>\n<tr>\n<td>\n\"GTEX-1117F-001...\n</td>\n<td>\nnull\n</td>\n<td>\n\"B1, A1\"\n</td>\n<td>\nnull\n</td>\n<td>\n7.2\n</td>\n<td>\n\"Brain\"\n</td>\n<td>\n\"Brain - Fronta...\n</td>\n<td>\n\"0009834\"\n</td>\n<td>\n1193\n</td>\n<td>\nnull\n</td>\n<td>\n\"BP-42319\"\n</td>\n<td>\n\"RNA isolation_...\n</td>\n<td>\n\"08/14/2013\"\n</td>\n<td>\nnull\n</td>\n<td>\nnull\n</td>\n<td>\n\"RIP-Seq\"\n</td>\n<td>\nnull\n</td>\n<td>\nnull\n</td>\n<td>\nnull\n</td>\n<td>\nnull\n</td>\n<td>\nnull\n</td>\n<td>\nnull\n</td>\n<td>\nnull\n</td>\n<td>\nnull\n</td>\n<td>\nnull\n</td>\n<td>\nnull\n</td>\n<td>\nnull\n</td>\n<td>\nnull\n</td>\n<td>\nnull\n</td>\n<td>\nnull\n</td>\n<td>\nnull\n</td>\n<td>\nnull\n</td>\n<td>\nnull\n</td>\n<td>\nnull\n</td>\n<td>\nnull\n</td>\n<td>\nnull\n</td>\n<td>\nnull\n</td>\n<td>\nnull\n</td>\n<td>\nnull\n</td>\n<td>\nnull\n</td>\n<td>\nnull\n</td>\n<td>\nnull\n</td>\n<td>\nnull\n</td>\n<td>\nnull\n</td>\n<td>\nnull\n</td>\n<td>\nnull\n</td>\n<td>\nnull\n</td>\n<td>\nnull\n</td>\n<td>\nnull\n</td>\n<td>\nnull\n</td>\n<td>\nnull\n</td>\n<td>\nnull\n</td>\n<td>\nnull\n</td>\n<td>\nnull\n</td>\n<td>\nnull\n</td>\n<td>\nnull\n</td>\n<td>\nnull\n</td>\n<td>\nnull\n</td>\n<td>\nnull\n</td>\n<td>\nnull\n</td>\n<td>\nnull\n</td>\n<td>\nnull\n</td>\n<td>\nnull\n</td>\n</tr>\n<tr>\n<td>\n\"GTEX-1117F-022...\n</td>\n<td>\n0\n</td>\n<td>\n\"B1\"\n</td>\n<td>\n\"2 pieces, ~15%...\n</td>\n<td>\n6.8\n</td>\n<td>\n\"Adipose Tissue...\n</td>\n<td>\n\"Adipose - Subc...\n</td>\n<td>\n\"0002190\"\n</td>\n<td>\n1214\n</td>\n<td>\n1125\n</td>\n<td>\n\"BP-43693\"\n</td>\n<td>\n\"RNA Extraction...\n</td>\n<td>\n\"09/17/2013\"\n</td>\n<td>\n\"LCSET-4804\"\n</td>\n<td>\n\"03/05/2014\"\n</td>\n<td>\n\"TruSeq.v1\"\n</td>\n<td>\n\"RNASEQ\"\n</td>\n<td>\nnull\n</td>\n<td>\n0.986026\n</td>\n<td>\n345562\n</td>\n<td>\n0.966793\n</td>\n<td>\nnull\n</td>\n<td>\n0.990383\n</td>\n<td>\n0.756726\n</td>\n<td>\nnull\n</td>\n<td>\n23548\n</td>\n<td>\n1\n</td>\n<td>\nnull\n</td>\n<td>\n76\n</td>\n<td>\nnull\n</td>\n<td>\n0.002403\n</td>\n<td>\n136\n</td>\n<td>\n0\n</td>\n<td>\n6.68332e7\n</td>\n<td>\n0.0329192\n</td>\n<td>\n209558.0\n</td>\n<td>\n6.74822e7\n</td>\n<td>\n8.79766e6\n</td>\n<td>\nnull\n</td>\n<td>\n23575\n</td>\n<td>\n3.3158e7\n</td>\n<td>\nnull\n</td>\n<td>\nnull\n</td>\n<td>\n0\n</td>\n<td>\n0.210067\n</td>\n<td>\n0.990383\n</td>\n<td>\n0.749449\n</td>\n<td>\n6.68332e7\n</td>\n<td>\n0.003919\n</td>\n<td>\n1.44627e7\n</td>\n<td>\n8.9149e6\n</td>\n<td>\n1.45756e7\n</td>\n<td>\n144\n</td>\n<td>\n1.46488e7\n</td>\n<td>\n1.19993e7\n</td>\n<td>\n0.003158\n</td>\n<td>\n1.46695e7\n</td>\n<td>\n50.0354\n</td>\n<td>\n0.003105\n</td>\n<td>\n0.99474\n</td>\n<td>\nnull\n</td>\n<td>\n0\n</td>\n<td>\n50.1944\n</td>\n</tr>\n<tr>\n<td>\n\"GTEX-1117F-042...\n</td>\n<td>\n0\n</td>\n<td>\n\"B1\"\n</td>\n<td>\n\"2 pieces, !5% ...\n</td>\n<td>\n7.1\n</td>\n<td>\n\"Muscle\"\n</td>\n<td>\n\"Muscle - Skele...\n</td>\n<td>\n\"0011907\"\n</td>\n<td>\n1220\n</td>\n<td>\n1119\n</td>\n<td>\n\"BP-43495\"\n</td>\n<td>\n\"RNA Extraction...\n</td>\n<td>\n\"09/12/2013\"\n</td>\n<td>\n\"LCSET-4764\"\n</td>\n<td>\n\"02/09/2014\"\n</td>\n<td>\n\"TruSeq.v1\"\n</td>\n<td>\n\"RNASEQ\"\n</td>\n<td>\nnull\n</td>\n<td>\n0.985786\n</td>\n<td>\n145441\n</td>\n<td>\n0.978816\n</td>\n<td>\nnull\n</td>\n<td>\n0.990413\n</td>\n<td>\n0.838961\n</td>\n<td>\nnull\n</td>\n<td>\n20246\n</td>\n<td>\n1\n</td>\n<td>\nnull\n</td>\n<td>\n76\n</td>\n<td>\nnull\n</td>\n<td>\n0.002413\n</td>\n<td>\n137\n</td>\n<td>\n0\n</td>\n<td>\n5.99636e7\n</td>\n<td>\n0.0209516\n</td>\n<td>\n423484.0\n</td>\n<td>\n6.05441e7\n</td>\n<td>\n9.60146e6\n</td>\n<td>\nnull\n</td>\n<td>\n20259\n</td>\n<td>\n2.97858e7\n</td>\n<td>\nnull\n</td>\n<td>\nnull\n</td>\n<td>\n0\n</td>\n<td>\n0.139855\n</td>\n<td>\n0.990413\n</td>\n<td>\n0.830918\n</td>\n<td>\n5.99636e7\n</td>\n<td>\n0.005538\n</td>\n<td>\n1.31545e7\n</td>\n<td>\n8.38344e6\n</td>\n<td>\n1.31258e7\n</td>\n<td>\n139\n</td>\n<td>\n1.31915e7\n</td>\n<td>\n1.15502e7\n</td>\n<td>\n0.003968\n</td>\n<td>\n1.33405e7\n</td>\n<td>\n50.2809\n</td>\n<td>\n0.006995\n</td>\n<td>\n0.995041\n</td>\n<td>\nnull\n</td>\n<td>\n0\n</td>\n<td>\n49.9455\n</td>\n</tr>\n<tr>\n<td>\n\"GTEX-1117F-052...\n</td>\n<td>\n0\n</td>\n<td>\n\"B1\"\n</td>\n<td>\n\"2 pieces, clea...\n</td>\n<td>\n8.0\n</td>\n<td>\n\"Blood Vessel\"\n</td>\n<td>\n\"Artery - Tibia...\n</td>\n<td>\n\"0007610\"\n</td>\n<td>\n1221\n</td>\n<td>\n1120\n</td>\n<td>\n\"BP-43495\"\n</td>\n<td>\n\"RNA Extraction...\n</td>\n<td>\n\"09/12/2013\"\n</td>\n<td>\n\"LCSET-4764\"\n</td>\n<td>\n\"02/09/2014\"\n</td>\n<td>\n\"TruSeq.v1\"\n</td>\n<td>\n\"RNASEQ\"\n</td>\n<td>\nnull\n</td>\n<td>\n0.983859\n</td>\n<td>\n223040\n</td>\n<td>\n0.97136\n</td>\n<td>\nnull\n</td>\n<td>\n0.98893\n</td>\n<td>\n0.767837\n</td>\n<td>\nnull\n</td>\n<td>\n22193\n</td>\n<td>\n1\n</td>\n<td>\nnull\n</td>\n<td>\n76\n</td>\n<td>\nnull\n</td>\n<td>\n0.002631\n</td>\n<td>\n126\n</td>\n<td>\n0\n</td>\n<td>\n5.98394e7\n</td>\n<td>\n0.0283102\n</td>\n<td>\n173556.0\n</td>\n<td>\n6.05092e7\n</td>\n<td>\n9.40759e6\n</td>\n<td>\nnull\n</td>\n<td>\n22218\n</td>\n<td>\n2.9681e7\n</td>\n<td>\nnull\n</td>\n<td>\nnull\n</td>\n<td>\n0\n</td>\n<td>\n0.203524\n</td>\n<td>\n0.98893\n</td>\n<td>\n0.759337\n</td>\n<td>\n5.98394e7\n</td>\n<td>\n0.005929\n</td>\n<td>\n1.29512e7\n</td>\n<td>\n6.13979e6\n</td>\n<td>\n1.30901e7\n</td>\n<td>\n125\n</td>\n<td>\n1.31754e7\n</td>\n<td>\n1.10003e7\n</td>\n<td>\n0.004271\n</td>\n<td>\n1.31509e7\n</td>\n<td>\n49.9535\n</td>\n<td>\n0.002868\n</td>\n<td>\n0.994001\n</td>\n<td>\nnull\n</td>\n<td>\n0\n</td>\n<td>\n50.2667\n</td>\n</tr>\n<tr>\n<td>\n\"GTEX-1117F-062...\n</td>\n<td>\n1\n</td>\n<td>\n\"B1\"\n</td>\n<td>\n\"2 pieces, up t...\n</td>\n<td>\n6.9\n</td>\n<td>\n\"Blood Vessel\"\n</td>\n<td>\n\"Artery - Coron...\n</td>\n<td>\n\"0001621\"\n</td>\n<td>\n1243\n</td>\n<td>\n1098\n</td>\n<td>\n\"BP-43956\"\n</td>\n<td>\n\"RNA Extraction...\n</td>\n<td>\n\"09/25/2013\"\n</td>\n<td>\n\"LCSET-4904\"\n</td>\n<td>\n\"03/22/2014\"\n</td>\n<td>\n\"TruSeq.v1\"\n</td>\n<td>\n\"RNASEQ\"\n</td>\n<td>\nnull\n</td>\n<td>\n0.990294\n</td>\n<td>\n174501\n</td>\n<td>\n0.970076\n</td>\n<td>\nnull\n</td>\n<td>\n0.991275\n</td>\n<td>\n0.76982\n</td>\n<td>\nnull\n</td>\n<td>\n23331\n</td>\n<td>\n1\n</td>\n<td>\nnull\n</td>\n<td>\n76\n</td>\n<td>\nnull\n</td>\n<td>\n0.0030529\n</td>\n<td>\n136\n</td>\n<td>\n0\n</td>\n<td>\n6.98592e7\n</td>\n<td>\n0.0296435\n</td>\n<td>\n376087.0\n</td>\n<td>\n7.0474e7\n</td>\n<td>\n3.63312e6\n</td>\n<td>\nnull\n</td>\n<td>\n23354\n</td>\n<td>\n3.47665e7\n</td>\n<td>\nnull\n</td>\n<td>\nnull\n</td>\n<td>\n0\n</td>\n<td>\n0.200257\n</td>\n<td>\n0.991275\n</td>\n<td>\n0.763103\n</td>\n<td>\n6.98592e7\n</td>\n<td>\n0.003671\n</td>\n<td>\n1.51676e7\n</td>\n<td>\n6.12486e6\n</td>\n<td>\n1.52201e7\n</td>\n<td>\n151\n</td>\n<td>\n1.51642e7\n</td>\n<td>\n1.16179e7\n</td>\n<td>\n0.003362\n</td>\n<td>\n1.52919e7\n</td>\n<td>\n50.2096\n</td>\n<td>\n0.005337\n</td>\n<td>\n0.992257\n</td>\n<td>\nnull\n</td>\n<td>\n0\n</td>\n<td>\n50.0865\n</td>\n</tr>\n<tr>\n<td>\n\"GTEX-1117F-072...\n</td>\n<td>\n1\n</td>\n<td>\n\"B1\"\n</td>\n<td>\n\"2 pieces, no a...\n</td>\n<td>\n6.3\n</td>\n<td>\n\"Heart\"\n</td>\n<td>\n\"Heart - Atrial...\n</td>\n<td>\n\"0006631\"\n</td>\n<td>\n1244\n</td>\n<td>\n1097\n</td>\n<td>\n\"BP-44261\"\n</td>\n<td>\n\"RNA Extraction...\n</td>\n<td>\n\"10/03/2013\"\n</td>\n<td>\n\"LCSET-4796\"\n</td>\n<td>\n\"02/27/2014\"\n</td>\n<td>\n\"TruSeq.v1\"\n</td>\n<td>\n\"RNASEQ\"\n</td>\n<td>\nnull\n</td>\n<td>\n0.990734\n</td>\n<td>\n184394\n</td>\n<td>\n0.97883\n</td>\n<td>\nnull\n</td>\n<td>\n0.993223\n</td>\n<td>\n0.803478\n</td>\n<td>\nnull\n</td>\n<td>\n22000\n</td>\n<td>\n1\n</td>\n<td>\nnull\n</td>\n<td>\n76\n</td>\n<td>\nnull\n</td>\n<td>\n0.003114\n</td>\n<td>\n131\n</td>\n<td>\n0\n</td>\n<td>\n6.28857e7\n</td>\n<td>\n0.0208913\n</td>\n<td>\n1.93643e6\n</td>\n<td>\n6.33148e7\n</td>\n<td>\n8.25297e6\n</td>\n<td>\nnull\n</td>\n<td>\n22015\n</td>\n<td>\n3.12915e7\n</td>\n<td>\nnull\n</td>\n<td>\nnull\n</td>\n<td>\n0\n</td>\n<td>\n0.175352\n</td>\n<td>\n0.993223\n</td>\n<td>\n0.798033\n</td>\n<td>\n6.28857e7\n</td>\n<td>\n0.003772\n</td>\n<td>\n1.36366e7\n</td>\n<td>\n9.07565e6\n</td>\n<td>\n1.36128e7\n</td>\n<td>\n146\n</td>\n<td>\n1.36271e7\n</td>\n<td>\n9.26607e6\n</td>\n<td>\n0.003442\n</td>\n<td>\n1.37567e7\n</td>\n<td>\n50.2367\n</td>\n<td>\n0.0305841\n</td>\n<td>\n0.995711\n</td>\n<td>\nnull\n</td>\n<td>\n0\n</td>\n<td>\n49.9563\n</td>\n</tr>\n</tbody>\n</table>\n</div>"
     },
     "execution_count": 7,
     "metadata": {},
     "output_type": "execute_result"
    }
   ],
   "source": [
    "samples = pl.read_csv(sample_file,comment_char=\"#\", sep=\"\\t\", ignore_errors=True)\n",
    "samples.head(10)"
   ],
   "metadata": {
    "collapsed": false,
    "pycharm": {
     "name": "#%%\n"
    }
   }
  },
  {
   "cell_type": "code",
   "execution_count": 8,
   "outputs": [
    {
     "data": {
      "text/plain": "shape: (10, 4)\n┌────────────┬─────┬───────┬─────────┐\n│ SUBJID     ┆ SEX ┆ AGE   ┆ DTHHRDY │\n│ ---        ┆ --- ┆ ---   ┆ ---     │\n│ str        ┆ i64 ┆ str   ┆ i64     │\n╞════════════╪═════╪═══════╪═════════╡\n│ GTEX-1117F ┆ 2   ┆ 60-69 ┆ 4       │\n├╌╌╌╌╌╌╌╌╌╌╌╌┼╌╌╌╌╌┼╌╌╌╌╌╌╌┼╌╌╌╌╌╌╌╌╌┤\n│ GTEX-111CU ┆ 1   ┆ 50-59 ┆ 0       │\n├╌╌╌╌╌╌╌╌╌╌╌╌┼╌╌╌╌╌┼╌╌╌╌╌╌╌┼╌╌╌╌╌╌╌╌╌┤\n│ GTEX-111FC ┆ 1   ┆ 60-69 ┆ 1       │\n├╌╌╌╌╌╌╌╌╌╌╌╌┼╌╌╌╌╌┼╌╌╌╌╌╌╌┼╌╌╌╌╌╌╌╌╌┤\n│ GTEX-111VG ┆ 1   ┆ 60-69 ┆ 3       │\n├╌╌╌╌╌╌╌╌╌╌╌╌┼╌╌╌╌╌┼╌╌╌╌╌╌╌┼╌╌╌╌╌╌╌╌╌┤\n│ ...        ┆ ... ┆ ...   ┆ ...     │\n├╌╌╌╌╌╌╌╌╌╌╌╌┼╌╌╌╌╌┼╌╌╌╌╌╌╌┼╌╌╌╌╌╌╌╌╌┤\n│ GTEX-1128S ┆ 2   ┆ 60-69 ┆ 2       │\n├╌╌╌╌╌╌╌╌╌╌╌╌┼╌╌╌╌╌┼╌╌╌╌╌╌╌┼╌╌╌╌╌╌╌╌╌┤\n│ GTEX-113IC ┆ 1   ┆ 60-69 ┆ null    │\n├╌╌╌╌╌╌╌╌╌╌╌╌┼╌╌╌╌╌┼╌╌╌╌╌╌╌┼╌╌╌╌╌╌╌╌╌┤\n│ GTEX-113JC ┆ 2   ┆ 50-59 ┆ 2       │\n├╌╌╌╌╌╌╌╌╌╌╌╌┼╌╌╌╌╌┼╌╌╌╌╌╌╌┼╌╌╌╌╌╌╌╌╌┤\n│ GTEX-117XS ┆ 1   ┆ 60-69 ┆ 2       │\n└────────────┴─────┴───────┴─────────┘",
      "text/html": "<div>\n<style scoped>\n    .dataframe tbody tr th:only-of-type {\n        vertical-align: middle;\n    }\n\n    .dataframe tbody tr th {\n        vertical-align: top;\n    }\n\n    .dataframe thead th {\n        text-align: right;\n    }\n\n    .dataframe td {\n        white-space: pre;\n    }\n\n    .dataframe td {\n        padding-top: 0;\n    }\n\n    .dataframe td {\n        padding-bottom: 0;\n    }\n\n    .dataframe td {\n        line-height: 95%;\n    }\n</style>\n<table border=\"1\" class=\"dataframe\" >\n<small>shape: (10, 4)</small>\n<thead>\n<tr>\n<th>\nSUBJID\n</th>\n<th>\nSEX\n</th>\n<th>\nAGE\n</th>\n<th>\nDTHHRDY\n</th>\n</tr>\n<tr>\n<td>\nstr\n</td>\n<td>\ni64\n</td>\n<td>\nstr\n</td>\n<td>\ni64\n</td>\n</tr>\n</thead>\n<tbody>\n<tr>\n<td>\n\"GTEX-1117F\"\n</td>\n<td>\n2\n</td>\n<td>\n\"60-69\"\n</td>\n<td>\n4\n</td>\n</tr>\n<tr>\n<td>\n\"GTEX-111CU\"\n</td>\n<td>\n1\n</td>\n<td>\n\"50-59\"\n</td>\n<td>\n0\n</td>\n</tr>\n<tr>\n<td>\n\"GTEX-111FC\"\n</td>\n<td>\n1\n</td>\n<td>\n\"60-69\"\n</td>\n<td>\n1\n</td>\n</tr>\n<tr>\n<td>\n\"GTEX-111VG\"\n</td>\n<td>\n1\n</td>\n<td>\n\"60-69\"\n</td>\n<td>\n3\n</td>\n</tr>\n<tr>\n<td>\n\"GTEX-111YS\"\n</td>\n<td>\n1\n</td>\n<td>\n\"60-69\"\n</td>\n<td>\n0\n</td>\n</tr>\n<tr>\n<td>\n\"GTEX-1122O\"\n</td>\n<td>\n2\n</td>\n<td>\n\"60-69\"\n</td>\n<td>\n0\n</td>\n</tr>\n<tr>\n<td>\n\"GTEX-1128S\"\n</td>\n<td>\n2\n</td>\n<td>\n\"60-69\"\n</td>\n<td>\n2\n</td>\n</tr>\n<tr>\n<td>\n\"GTEX-113IC\"\n</td>\n<td>\n1\n</td>\n<td>\n\"60-69\"\n</td>\n<td>\nnull\n</td>\n</tr>\n<tr>\n<td>\n\"GTEX-113JC\"\n</td>\n<td>\n2\n</td>\n<td>\n\"50-59\"\n</td>\n<td>\n2\n</td>\n</tr>\n<tr>\n<td>\n\"GTEX-117XS\"\n</td>\n<td>\n1\n</td>\n<td>\n\"60-69\"\n</td>\n<td>\n2\n</td>\n</tr>\n</tbody>\n</table>\n</div>"
     },
     "execution_count": 8,
     "metadata": {},
     "output_type": "execute_result"
    }
   ],
   "source": [
    "phenotypes = pl.read_csv(phenotypes_file, comment_char=\"#\", sep=\"\\t\", ignore_errors=True)\n",
    "phenotypes.head(10)"
   ],
   "metadata": {
    "collapsed": false,
    "pycharm": {
     "name": "#%%\n"
    }
   }
  },
  {
   "cell_type": "code",
   "execution_count": 12,
   "outputs": [
    {
     "data": {
      "text/plain": "shape: (980, 5)\n┌────────────┬─────┬───────┬─────────┬────────────┐\n│ SUBJID     ┆ SEX ┆ AGE   ┆ DTHHRDY ┆ medium_age │\n│ ---        ┆ --- ┆ ---   ┆ ---     ┆ ---        │\n│ str        ┆ i64 ┆ str   ┆ i64     ┆ f64        │\n╞════════════╪═════╪═══════╪═════════╪════════════╡\n│ GTEX-1117F ┆ 2   ┆ 60-69 ┆ 4       ┆ 64.5       │\n├╌╌╌╌╌╌╌╌╌╌╌╌┼╌╌╌╌╌┼╌╌╌╌╌╌╌┼╌╌╌╌╌╌╌╌╌┼╌╌╌╌╌╌╌╌╌╌╌╌┤\n│ GTEX-111CU ┆ 1   ┆ 50-59 ┆ 0       ┆ 54.5       │\n├╌╌╌╌╌╌╌╌╌╌╌╌┼╌╌╌╌╌┼╌╌╌╌╌╌╌┼╌╌╌╌╌╌╌╌╌┼╌╌╌╌╌╌╌╌╌╌╌╌┤\n│ GTEX-111FC ┆ 1   ┆ 60-69 ┆ 1       ┆ 64.5       │\n├╌╌╌╌╌╌╌╌╌╌╌╌┼╌╌╌╌╌┼╌╌╌╌╌╌╌┼╌╌╌╌╌╌╌╌╌┼╌╌╌╌╌╌╌╌╌╌╌╌┤\n│ GTEX-111VG ┆ 1   ┆ 60-69 ┆ 3       ┆ 64.5       │\n├╌╌╌╌╌╌╌╌╌╌╌╌┼╌╌╌╌╌┼╌╌╌╌╌╌╌┼╌╌╌╌╌╌╌╌╌┼╌╌╌╌╌╌╌╌╌╌╌╌┤\n│ ...        ┆ ... ┆ ...   ┆ ...     ┆ ...        │\n├╌╌╌╌╌╌╌╌╌╌╌╌┼╌╌╌╌╌┼╌╌╌╌╌╌╌┼╌╌╌╌╌╌╌╌╌┼╌╌╌╌╌╌╌╌╌╌╌╌┤\n│ GTEX-ZZ64  ┆ 1   ┆ 20-29 ┆ 0       ┆ 24.5       │\n├╌╌╌╌╌╌╌╌╌╌╌╌┼╌╌╌╌╌┼╌╌╌╌╌╌╌┼╌╌╌╌╌╌╌╌╌┼╌╌╌╌╌╌╌╌╌╌╌╌┤\n│ GTEX-ZZPT  ┆ 1   ┆ 50-59 ┆ 4       ┆ 54.5       │\n├╌╌╌╌╌╌╌╌╌╌╌╌┼╌╌╌╌╌┼╌╌╌╌╌╌╌┼╌╌╌╌╌╌╌╌╌┼╌╌╌╌╌╌╌╌╌╌╌╌┤\n│ GTEX-ZZPU  ┆ 2   ┆ 50-59 ┆ 0       ┆ 54.5       │\n├╌╌╌╌╌╌╌╌╌╌╌╌┼╌╌╌╌╌┼╌╌╌╌╌╌╌┼╌╌╌╌╌╌╌╌╌┼╌╌╌╌╌╌╌╌╌╌╌╌┤\n│ K-562      ┆ 2   ┆ 50-59 ┆ null    ┆ 54.5       │\n└────────────┴─────┴───────┴─────────┴────────────┘",
      "text/html": "<div>\n<style scoped>\n    .dataframe tbody tr th:only-of-type {\n        vertical-align: middle;\n    }\n\n    .dataframe tbody tr th {\n        vertical-align: top;\n    }\n\n    .dataframe thead th {\n        text-align: right;\n    }\n\n    .dataframe td {\n        white-space: pre;\n    }\n\n    .dataframe td {\n        padding-top: 0;\n    }\n\n    .dataframe td {\n        padding-bottom: 0;\n    }\n\n    .dataframe td {\n        line-height: 95%;\n    }\n</style>\n<table border=\"1\" class=\"dataframe\" >\n<small>shape: (980, 5)</small>\n<thead>\n<tr>\n<th>\nSUBJID\n</th>\n<th>\nSEX\n</th>\n<th>\nAGE\n</th>\n<th>\nDTHHRDY\n</th>\n<th>\nmedium_age\n</th>\n</tr>\n<tr>\n<td>\nstr\n</td>\n<td>\ni64\n</td>\n<td>\nstr\n</td>\n<td>\ni64\n</td>\n<td>\nf64\n</td>\n</tr>\n</thead>\n<tbody>\n<tr>\n<td>\n\"GTEX-1117F\"\n</td>\n<td>\n2\n</td>\n<td>\n\"60-69\"\n</td>\n<td>\n4\n</td>\n<td>\n64.5\n</td>\n</tr>\n<tr>\n<td>\n\"GTEX-111CU\"\n</td>\n<td>\n1\n</td>\n<td>\n\"50-59\"\n</td>\n<td>\n0\n</td>\n<td>\n54.5\n</td>\n</tr>\n<tr>\n<td>\n\"GTEX-111FC\"\n</td>\n<td>\n1\n</td>\n<td>\n\"60-69\"\n</td>\n<td>\n1\n</td>\n<td>\n64.5\n</td>\n</tr>\n<tr>\n<td>\n\"GTEX-111VG\"\n</td>\n<td>\n1\n</td>\n<td>\n\"60-69\"\n</td>\n<td>\n3\n</td>\n<td>\n64.5\n</td>\n</tr>\n<tr>\n<td>\n\"GTEX-111YS\"\n</td>\n<td>\n1\n</td>\n<td>\n\"60-69\"\n</td>\n<td>\n0\n</td>\n<td>\n64.5\n</td>\n</tr>\n<tr>\n<td>\n\"GTEX-1122O\"\n</td>\n<td>\n2\n</td>\n<td>\n\"60-69\"\n</td>\n<td>\n0\n</td>\n<td>\n64.5\n</td>\n</tr>\n<tr>\n<td>\n\"GTEX-1128S\"\n</td>\n<td>\n2\n</td>\n<td>\n\"60-69\"\n</td>\n<td>\n2\n</td>\n<td>\n64.5\n</td>\n</tr>\n<tr>\n<td>\n\"GTEX-113IC\"\n</td>\n<td>\n1\n</td>\n<td>\n\"60-69\"\n</td>\n<td>\nnull\n</td>\n<td>\n64.5\n</td>\n</tr>\n<tr>\n<td>\n\"GTEX-113JC\"\n</td>\n<td>\n2\n</td>\n<td>\n\"50-59\"\n</td>\n<td>\n2\n</td>\n<td>\n54.5\n</td>\n</tr>\n<tr>\n<td>\n\"GTEX-117XS\"\n</td>\n<td>\n1\n</td>\n<td>\n\"60-69\"\n</td>\n<td>\n2\n</td>\n<td>\n64.5\n</td>\n</tr>\n<tr>\n<td>\n\"GTEX-117YW\"\n</td>\n<td>\n1\n</td>\n<td>\n\"50-59\"\n</td>\n<td>\n3\n</td>\n<td>\n54.5\n</td>\n</tr>\n<tr>\n<td>\n\"GTEX-117YX\"\n</td>\n<td>\n1\n</td>\n<td>\n\"50-59\"\n</td>\n<td>\n0\n</td>\n<td>\n54.5\n</td>\n</tr>\n<tr>\n<td>\n...\n</td>\n<td>\n...\n</td>\n<td>\n...\n</td>\n<td>\n...\n</td>\n<td>\n...\n</td>\n</tr>\n<tr>\n<td>\n\"GTEX-ZYFC\"\n</td>\n<td>\n1\n</td>\n<td>\n\"50-59\"\n</td>\n<td>\n2\n</td>\n<td>\n54.5\n</td>\n</tr>\n<tr>\n<td>\n\"GTEX-ZYFD\"\n</td>\n<td>\n1\n</td>\n<td>\n\"50-59\"\n</td>\n<td>\n3\n</td>\n<td>\n54.5\n</td>\n</tr>\n<tr>\n<td>\n\"GTEX-ZYFG\"\n</td>\n<td>\n2\n</td>\n<td>\n\"60-69\"\n</td>\n<td>\n0\n</td>\n<td>\n64.5\n</td>\n</tr>\n<tr>\n<td>\n\"GTEX-ZYT6\"\n</td>\n<td>\n1\n</td>\n<td>\n\"30-39\"\n</td>\n<td>\n1\n</td>\n<td>\n34.5\n</td>\n</tr>\n<tr>\n<td>\n\"GTEX-ZYVF\"\n</td>\n<td>\n2\n</td>\n<td>\n\"50-59\"\n</td>\n<td>\n0\n</td>\n<td>\n54.5\n</td>\n</tr>\n<tr>\n<td>\n\"GTEX-ZYW4\"\n</td>\n<td>\n1\n</td>\n<td>\n\"60-69\"\n</td>\n<td>\n3\n</td>\n<td>\n64.5\n</td>\n</tr>\n<tr>\n<td>\n\"GTEX-ZYWO\"\n</td>\n<td>\n2\n</td>\n<td>\n\"40-49\"\n</td>\n<td>\n0\n</td>\n<td>\n44.5\n</td>\n</tr>\n<tr>\n<td>\n\"GTEX-ZYY3\"\n</td>\n<td>\n2\n</td>\n<td>\n\"60-69\"\n</td>\n<td>\n4\n</td>\n<td>\n64.5\n</td>\n</tr>\n<tr>\n<td>\n\"GTEX-ZZ64\"\n</td>\n<td>\n1\n</td>\n<td>\n\"20-29\"\n</td>\n<td>\n0\n</td>\n<td>\n24.5\n</td>\n</tr>\n<tr>\n<td>\n\"GTEX-ZZPT\"\n</td>\n<td>\n1\n</td>\n<td>\n\"50-59\"\n</td>\n<td>\n4\n</td>\n<td>\n54.5\n</td>\n</tr>\n<tr>\n<td>\n\"GTEX-ZZPU\"\n</td>\n<td>\n2\n</td>\n<td>\n\"50-59\"\n</td>\n<td>\n0\n</td>\n<td>\n54.5\n</td>\n</tr>\n<tr>\n<td>\n\"K-562\"\n</td>\n<td>\n2\n</td>\n<td>\n\"50-59\"\n</td>\n<td>\nnull\n</td>\n<td>\n54.5\n</td>\n</tr>\n</tbody>\n</table>\n</div>"
     },
     "execution_count": 12,
     "metadata": {},
     "output_type": "execute_result"
    }
   ],
   "source": [
    "medium_age = pl.col(\"AGE\").str.split(\"-\").alias(\"medium_age\").apply(lambda s: (int(s[1])+int(s[0]))/2.0)\n",
    "phenotypes_extended = phenotypes.with_column(medium_age)\n",
    "phenotypes_extended"
   ],
   "metadata": {
    "collapsed": false,
    "pycharm": {
     "name": "#%%\n"
    }
   }
  },
  {
   "cell_type": "markdown",
   "source": [
    "## Exploration\n",
    "\n",
    "Exploratory analysis"
   ],
   "metadata": {
    "collapsed": false,
    "pycharm": {
     "name": "#%% md\n"
    }
   }
  },
  {
   "cell_type": "code",
   "execution_count": 22,
   "outputs": [
    {
     "data": {
      "application/vnd.plotly.v1+json": {
       "data": [
        {
         "alignmentgroup": "True",
         "box": {
          "visible": true
         },
         "hovertemplate": "SEX=2<br>DTHHRDY=%{x}<br>medium_age=%{y}<extra></extra>",
         "legendgroup": "2",
         "marker": {
          "color": "#636efa"
         },
         "name": "2",
         "offsetgroup": "2",
         "orientation": "v",
         "points": "all",
         "scalegroup": "True",
         "showlegend": true,
         "x": [
          4.0,
          0.0,
          2.0,
          2.0,
          0.0,
          0.0,
          2.0,
          2.0,
          0.0,
          0.0,
          0.0,
          4.0,
          3.0,
          0.0,
          0.0,
          2.0,
          0.0,
          2.0,
          0.0,
          2.0,
          3.0,
          4.0,
          2.0,
          0.0,
          0.0,
          0.0,
          1.0,
          0.0,
          2.0,
          0.0,
          4.0,
          2.0,
          0.0,
          0.0,
          0.0,
          0.0,
          0.0,
          3.0,
          0.0,
          0.0,
          0.0,
          0.0,
          2.0,
          0.0,
          0.0,
          4.0,
          3.0,
          0.0,
          2.0,
          3.0,
          0.0,
          2.0,
          0.0,
          0.0,
          2.0,
          2.0,
          2.0,
          2.0,
          0.0,
          0.0,
          0.0,
          0.0,
          4.0,
          4.0,
          0.0,
          2.0,
          0.0,
          0.0,
          0.0,
          0.0,
          4.0,
          0.0,
          3.0,
          2.0,
          0.0,
          4.0,
          0.0,
          0.0,
          4.0,
          3.0,
          4.0,
          0.0,
          0.0,
          0.0,
          2.0,
          0.0,
          0.0,
          0.0,
          0.0,
          4.0,
          0.0,
          0.0,
          2.0,
          0.0,
          3.0,
          2.0,
          0.0,
          0.0,
          1.0,
          0.0,
          0.0,
          0.0,
          0.0,
          2.0,
          4.0,
          0.0,
          0.0,
          4.0,
          0.0,
          0.0,
          4.0,
          0.0,
          0.0,
          2.0,
          0.0,
          4.0,
          2.0,
          0.0,
          3.0,
          2.0,
          4.0,
          2.0,
          0.0,
          0.0,
          0.0,
          2.0,
          0.0,
          0.0,
          0.0,
          2.0,
          4.0,
          2.0,
          4.0,
          4.0,
          0.0,
          4.0,
          1.0,
          4.0,
          2.0,
          0.0,
          0.0,
          3.0,
          4.0,
          0.0,
          0.0,
          1.0,
          2.0,
          2.0,
          4.0,
          4.0,
          4.0,
          0.0,
          2.0,
          2.0,
          0.0,
          0.0,
          0.0,
          4.0,
          0.0,
          0.0,
          0.0,
          0.0,
          0.0,
          0.0,
          0.0,
          0.0,
          2.0,
          4.0,
          2.0,
          2.0,
          0.0,
          3.0,
          4.0,
          0.0,
          0.0,
          0.0,
          0.0,
          0.0,
          0.0,
          0.0,
          4.0,
          4.0,
          0.0,
          0.0,
          0.0,
          0.0,
          0.0,
          0.0,
          4.0,
          0.0,
          0.0,
          4.0,
          2.0,
          0.0,
          1.0,
          0.0,
          1.0,
          2.0,
          0.0,
          3.0,
          0.0,
          0.0,
          0.0,
          4.0,
          0.0,
          0.0,
          3.0,
          3.0,
          0.0,
          0.0,
          0.0,
          0.0,
          0.0,
          4.0,
          2.0,
          4.0,
          3.0,
          0.0,
          0.0,
          0.0,
          0.0,
          4.0,
          3.0,
          0.0,
          0.0,
          null,
          null,
          0.0,
          0.0,
          0.0,
          4.0,
          0.0,
          0.0,
          2.0,
          0.0,
          0.0,
          4.0,
          4.0,
          4.0,
          4.0,
          0.0,
          0.0,
          0.0,
          4.0,
          1.0,
          4.0,
          0.0,
          2.0,
          0.0,
          0.0,
          0.0,
          0.0,
          0.0,
          0.0,
          0.0,
          2.0,
          1.0,
          0.0,
          0.0,
          0.0,
          0.0,
          0.0,
          0.0,
          0.0,
          0.0,
          2.0,
          0.0,
          0.0,
          0.0,
          0.0,
          0.0,
          1.0,
          3.0,
          0.0,
          0.0,
          0.0,
          0.0,
          3.0,
          4.0,
          null,
          0.0,
          0.0,
          0.0,
          2.0,
          0.0,
          0.0,
          0.0,
          0.0,
          0.0,
          0.0,
          0.0,
          0.0,
          0.0,
          0.0,
          0.0,
          null,
          1.0,
          1.0,
          3.0,
          2.0,
          0.0,
          2.0,
          0.0,
          0.0,
          0.0,
          0.0,
          0.0,
          0.0,
          0.0,
          0.0,
          0.0,
          0.0,
          0.0,
          2.0,
          0.0,
          0.0,
          0.0,
          2.0,
          3.0,
          1.0,
          0.0,
          0.0,
          0.0,
          0.0,
          4.0,
          0.0,
          null
         ],
         "x0": " ",
         "xaxis": "x",
         "y": [
          64.5,
          64.5,
          64.5,
          54.5,
          64.5,
          24.5,
          64.5,
          64.5,
          54.5,
          44.5,
          34.5,
          64.5,
          44.5,
          44.5,
          44.5,
          64.5,
          64.5,
          54.5,
          64.5,
          64.5,
          54.5,
          64.5,
          64.5,
          54.5,
          44.5,
          44.5,
          44.5,
          64.5,
          54.5,
          54.5,
          54.5,
          64.5,
          54.5,
          24.5,
          34.5,
          54.5,
          34.5,
          54.5,
          64.5,
          54.5,
          54.5,
          24.5,
          44.5,
          44.5,
          54.5,
          64.5,
          64.5,
          64.5,
          54.5,
          44.5,
          64.5,
          64.5,
          64.5,
          44.5,
          64.5,
          64.5,
          64.5,
          54.5,
          44.5,
          24.5,
          64.5,
          54.5,
          64.5,
          64.5,
          44.5,
          64.5,
          54.5,
          64.5,
          54.5,
          64.5,
          54.5,
          44.5,
          64.5,
          54.5,
          24.5,
          64.5,
          44.5,
          34.5,
          74.5,
          64.5,
          64.5,
          64.5,
          64.5,
          64.5,
          54.5,
          74.5,
          44.5,
          24.5,
          64.5,
          54.5,
          64.5,
          64.5,
          74.5,
          24.5,
          54.5,
          64.5,
          34.5,
          24.5,
          24.5,
          44.5,
          34.5,
          54.5,
          54.5,
          44.5,
          74.5,
          34.5,
          34.5,
          64.5,
          64.5,
          44.5,
          54.5,
          44.5,
          74.5,
          34.5,
          64.5,
          74.5,
          54.5,
          34.5,
          74.5,
          54.5,
          64.5,
          54.5,
          34.5,
          54.5,
          44.5,
          54.5,
          54.5,
          44.5,
          44.5,
          44.5,
          64.5,
          74.5,
          54.5,
          64.5,
          44.5,
          64.5,
          24.5,
          64.5,
          64.5,
          44.5,
          44.5,
          54.5,
          54.5,
          54.5,
          54.5,
          54.5,
          64.5,
          44.5,
          64.5,
          44.5,
          64.5,
          44.5,
          64.5,
          64.5,
          54.5,
          54.5,
          44.5,
          64.5,
          64.5,
          54.5,
          74.5,
          54.5,
          54.5,
          64.5,
          44.5,
          34.5,
          64.5,
          44.5,
          64.5,
          64.5,
          64.5,
          54.5,
          64.5,
          54.5,
          64.5,
          24.5,
          54.5,
          54.5,
          24.5,
          54.5,
          54.5,
          54.5,
          54.5,
          54.5,
          54.5,
          24.5,
          34.5,
          24.5,
          24.5,
          44.5,
          24.5,
          64.5,
          54.5,
          34.5,
          24.5,
          24.5,
          34.5,
          64.5,
          64.5,
          64.5,
          54.5,
          44.5,
          34.5,
          64.5,
          34.5,
          44.5,
          64.5,
          54.5,
          24.5,
          24.5,
          64.5,
          34.5,
          34.5,
          64.5,
          64.5,
          64.5,
          64.5,
          54.5,
          64.5,
          64.5,
          54.5,
          64.5,
          64.5,
          34.5,
          54.5,
          44.5,
          54.5,
          24.5,
          24.5,
          44.5,
          64.5,
          44.5,
          24.5,
          44.5,
          44.5,
          54.5,
          34.5,
          64.5,
          64.5,
          44.5,
          64.5,
          54.5,
          44.5,
          54.5,
          54.5,
          64.5,
          24.5,
          54.5,
          64.5,
          54.5,
          44.5,
          54.5,
          44.5,
          24.5,
          44.5,
          54.5,
          24.5,
          24.5,
          44.5,
          44.5,
          44.5,
          64.5,
          34.5,
          54.5,
          24.5,
          54.5,
          54.5,
          44.5,
          44.5,
          44.5,
          24.5,
          54.5,
          54.5,
          54.5,
          64.5,
          44.5,
          54.5,
          64.5,
          64.5,
          74.5,
          54.5,
          64.5,
          54.5,
          64.5,
          64.5,
          54.5,
          34.5,
          44.5,
          64.5,
          54.5,
          54.5,
          44.5,
          64.5,
          54.5,
          44.5,
          54.5,
          44.5,
          44.5,
          54.5,
          54.5,
          44.5,
          54.5,
          64.5,
          54.5,
          54.5,
          44.5,
          64.5,
          54.5,
          24.5,
          64.5,
          44.5,
          64.5,
          24.5,
          54.5,
          44.5,
          54.5,
          54.5,
          64.5,
          54.5,
          64.5,
          34.5,
          64.5,
          54.5,
          44.5,
          64.5,
          54.5,
          54.5
         ],
         "y0": " ",
         "yaxis": "y",
         "type": "violin"
        },
        {
         "alignmentgroup": "True",
         "box": {
          "visible": true
         },
         "hovertemplate": "SEX=1<br>DTHHRDY=%{x}<br>medium_age=%{y}<extra></extra>",
         "legendgroup": "1",
         "marker": {
          "color": "#EF553B"
         },
         "name": "1",
         "offsetgroup": "1",
         "orientation": "v",
         "points": "all",
         "scalegroup": "True",
         "showlegend": true,
         "x": [
          0.0,
          1.0,
          3.0,
          0.0,
          null,
          2.0,
          3.0,
          0.0,
          2.0,
          4.0,
          2.0,
          2.0,
          0.0,
          2.0,
          4.0,
          4.0,
          4.0,
          2.0,
          2.0,
          2.0,
          2.0,
          0.0,
          0.0,
          2.0,
          2.0,
          2.0,
          2.0,
          2.0,
          2.0,
          0.0,
          1.0,
          2.0,
          0.0,
          2.0,
          2.0,
          2.0,
          2.0,
          4.0,
          1.0,
          1.0,
          2.0,
          3.0,
          3.0,
          0.0,
          0.0,
          0.0,
          4.0,
          2.0,
          2.0,
          4.0,
          2.0,
          2.0,
          0.0,
          2.0,
          0.0,
          4.0,
          2.0,
          2.0,
          0.0,
          2.0,
          0.0,
          0.0,
          0.0,
          2.0,
          1.0,
          4.0,
          0.0,
          0.0,
          0.0,
          0.0,
          2.0,
          0.0,
          4.0,
          2.0,
          2.0,
          3.0,
          2.0,
          2.0,
          0.0,
          2.0,
          2.0,
          0.0,
          2.0,
          0.0,
          4.0,
          2.0,
          2.0,
          0.0,
          2.0,
          2.0,
          2.0,
          4.0,
          2.0,
          0.0,
          2.0,
          2.0,
          2.0,
          4.0,
          0.0,
          2.0,
          0.0,
          2.0,
          0.0,
          4.0,
          2.0,
          0.0,
          0.0,
          2.0,
          0.0,
          2.0,
          3.0,
          2.0,
          2.0,
          2.0,
          4.0,
          2.0,
          0.0,
          4.0,
          0.0,
          4.0,
          0.0,
          2.0,
          2.0,
          0.0,
          4.0,
          2.0,
          0.0,
          3.0,
          2.0,
          2.0,
          0.0,
          0.0,
          4.0,
          0.0,
          2.0,
          0.0,
          2.0,
          2.0,
          1.0,
          0.0,
          3.0,
          0.0,
          4.0,
          4.0,
          2.0,
          2.0,
          2.0,
          2.0,
          0.0,
          2.0,
          0.0,
          2.0,
          2.0,
          0.0,
          2.0,
          2.0,
          0.0,
          2.0,
          4.0,
          0.0,
          0.0,
          4.0,
          2.0,
          0.0,
          2.0,
          0.0,
          0.0,
          4.0,
          2.0,
          2.0,
          0.0,
          4.0,
          0.0,
          0.0,
          0.0,
          0.0,
          4.0,
          0.0,
          2.0,
          4.0,
          0.0,
          2.0,
          2.0,
          2.0,
          0.0,
          4.0,
          0.0,
          0.0,
          2.0,
          0.0,
          0.0,
          0.0,
          0.0,
          0.0,
          4.0,
          0.0,
          0.0,
          0.0,
          2.0,
          4.0,
          0.0,
          0.0,
          0.0,
          0.0,
          2.0,
          0.0,
          0.0,
          0.0,
          0.0,
          0.0,
          1.0,
          2.0,
          0.0,
          0.0,
          2.0,
          1.0,
          0.0,
          4.0,
          0.0,
          0.0,
          0.0,
          0.0,
          2.0,
          2.0,
          0.0,
          2.0,
          0.0,
          0.0,
          4.0,
          2.0,
          4.0,
          0.0,
          2.0,
          3.0,
          0.0,
          0.0,
          0.0,
          0.0,
          4.0,
          2.0,
          2.0,
          0.0,
          0.0,
          2.0,
          0.0,
          0.0,
          0.0,
          0.0,
          0.0,
          0.0,
          2.0,
          2.0,
          2.0,
          0.0,
          2.0,
          2.0,
          2.0,
          0.0,
          0.0,
          2.0,
          0.0,
          2.0,
          2.0,
          2.0,
          2.0,
          2.0,
          0.0,
          0.0,
          0.0,
          2.0,
          0.0,
          3.0,
          2.0,
          2.0,
          4.0,
          2.0,
          2.0,
          2.0,
          2.0,
          2.0,
          0.0,
          2.0,
          2.0,
          2.0,
          4.0,
          0.0,
          2.0,
          0.0,
          2.0,
          3.0,
          0.0,
          0.0,
          0.0,
          2.0,
          2.0,
          2.0,
          2.0,
          2.0,
          0.0,
          2.0,
          2.0,
          2.0,
          0.0,
          0.0,
          0.0,
          0.0,
          4.0,
          4.0,
          4.0,
          2.0,
          4.0,
          0.0,
          2.0,
          2.0,
          2.0,
          0.0,
          0.0,
          0.0,
          4.0,
          2.0,
          2.0,
          0.0,
          4.0,
          4.0,
          0.0,
          2.0,
          3.0,
          0.0,
          0.0,
          2.0,
          0.0,
          4.0,
          2.0,
          2.0,
          2.0,
          4.0,
          0.0,
          2.0,
          3.0,
          0.0,
          0.0,
          0.0,
          3.0,
          4.0,
          0.0,
          0.0,
          0.0,
          1.0,
          3.0,
          4.0,
          2.0,
          2.0,
          2.0,
          2.0,
          2.0,
          1.0,
          0.0,
          3.0,
          0.0,
          4.0,
          3.0,
          2.0,
          0.0,
          0.0,
          0.0,
          2.0,
          0.0,
          4.0,
          0.0,
          2.0,
          0.0,
          0.0,
          0.0,
          0.0,
          3.0,
          0.0,
          2.0,
          2.0,
          2.0,
          1.0,
          0.0,
          0.0,
          2.0,
          0.0,
          0.0,
          3.0,
          2.0,
          0.0,
          2.0,
          0.0,
          4.0,
          2.0,
          4.0,
          2.0,
          0.0,
          2.0,
          3.0,
          0.0,
          0.0,
          2.0,
          0.0,
          0.0,
          0.0,
          2.0,
          1.0,
          3.0,
          2.0,
          0.0,
          0.0,
          4.0,
          2.0,
          3.0,
          0.0,
          0.0,
          0.0,
          0.0,
          4.0,
          4.0,
          0.0,
          0.0,
          0.0,
          0.0,
          0.0,
          2.0,
          0.0,
          0.0,
          4.0,
          0.0,
          0.0,
          0.0,
          2.0,
          0.0,
          0.0,
          0.0,
          2.0,
          0.0,
          0.0,
          0.0,
          0.0,
          0.0,
          0.0,
          0.0,
          0.0,
          0.0,
          0.0,
          3.0,
          0.0,
          4.0,
          0.0,
          4.0,
          2.0,
          3.0,
          0.0,
          3.0,
          0.0,
          0.0,
          0.0,
          0.0,
          2.0,
          0.0,
          3.0,
          4.0,
          4.0,
          0.0,
          4.0,
          0.0,
          0.0,
          0.0,
          0.0,
          0.0,
          0.0,
          0.0,
          0.0,
          0.0,
          0.0,
          0.0,
          0.0,
          4.0,
          0.0,
          null,
          0.0,
          0.0,
          0.0,
          0.0,
          0.0,
          2.0,
          0.0,
          0.0,
          0.0,
          0.0,
          0.0,
          1.0,
          0.0,
          3.0,
          0.0,
          0.0,
          0.0,
          4.0,
          0.0,
          0.0,
          0.0,
          1.0,
          0.0,
          0.0,
          1.0,
          4.0,
          0.0,
          0.0,
          1.0,
          0.0,
          2.0,
          3.0,
          1.0,
          2.0,
          2.0,
          0.0,
          0.0,
          0.0,
          0.0,
          2.0,
          0.0,
          0.0,
          2.0,
          2.0,
          0.0,
          0.0,
          null,
          0.0,
          4.0,
          2.0,
          2.0,
          0.0,
          0.0,
          0.0,
          null,
          null,
          null,
          0.0,
          0.0,
          3.0,
          0.0,
          0.0,
          4.0,
          0.0,
          2.0,
          0.0,
          3.0,
          0.0,
          0.0,
          0.0,
          0.0,
          null,
          null,
          0.0,
          0.0,
          0.0,
          0.0,
          0.0,
          0.0,
          0.0,
          3.0,
          0.0,
          1.0,
          2.0,
          0.0,
          0.0,
          0.0,
          0.0,
          2.0,
          0.0,
          0.0,
          0.0,
          1.0,
          4.0,
          0.0,
          0.0,
          4.0,
          0.0,
          4.0,
          0.0,
          0.0,
          null,
          0.0,
          2.0,
          0.0,
          0.0,
          0.0,
          0.0,
          3.0,
          4.0,
          0.0,
          2.0,
          0.0,
          0.0,
          1.0,
          0.0,
          null,
          0.0,
          1.0,
          0.0,
          0.0,
          2.0,
          0.0,
          null,
          0.0,
          0.0,
          0.0,
          0.0,
          3.0,
          0.0,
          0.0,
          2.0,
          0.0,
          2.0,
          null,
          0.0,
          0.0,
          4.0,
          0.0,
          null,
          2.0,
          0.0,
          2.0,
          0.0,
          2.0,
          0.0,
          4.0,
          0.0,
          0.0,
          0.0,
          0.0,
          0.0,
          0.0,
          0.0,
          3.0,
          0.0,
          2.0,
          2.0,
          0.0,
          0.0,
          0.0,
          1.0,
          null,
          0.0,
          4.0,
          3.0,
          0.0,
          2.0,
          3.0,
          1.0,
          3.0,
          0.0,
          4.0
         ],
         "x0": " ",
         "xaxis": "x",
         "y": [
          54.5,
          64.5,
          64.5,
          64.5,
          64.5,
          64.5,
          54.5,
          54.5,
          64.5,
          54.5,
          44.5,
          64.5,
          54.5,
          64.5,
          54.5,
          64.5,
          64.5,
          34.5,
          64.5,
          64.5,
          54.5,
          34.5,
          24.5,
          54.5,
          64.5,
          44.5,
          64.5,
          64.5,
          64.5,
          34.5,
          24.5,
          54.5,
          24.5,
          64.5,
          54.5,
          64.5,
          54.5,
          64.5,
          34.5,
          24.5,
          64.5,
          44.5,
          64.5,
          64.5,
          24.5,
          34.5,
          64.5,
          54.5,
          24.5,
          74.5,
          54.5,
          54.5,
          54.5,
          64.5,
          44.5,
          54.5,
          64.5,
          64.5,
          54.5,
          54.5,
          34.5,
          54.5,
          64.5,
          54.5,
          64.5,
          64.5,
          64.5,
          44.5,
          44.5,
          34.5,
          64.5,
          54.5,
          64.5,
          64.5,
          64.5,
          64.5,
          64.5,
          64.5,
          54.5,
          64.5,
          54.5,
          24.5,
          64.5,
          64.5,
          54.5,
          54.5,
          54.5,
          44.5,
          64.5,
          54.5,
          64.5,
          74.5,
          64.5,
          74.5,
          64.5,
          44.5,
          64.5,
          64.5,
          54.5,
          64.5,
          34.5,
          64.5,
          54.5,
          54.5,
          54.5,
          64.5,
          64.5,
          74.5,
          44.5,
          54.5,
          64.5,
          54.5,
          54.5,
          64.5,
          64.5,
          54.5,
          54.5,
          64.5,
          24.5,
          44.5,
          44.5,
          74.5,
          54.5,
          54.5,
          64.5,
          54.5,
          64.5,
          64.5,
          54.5,
          54.5,
          24.5,
          54.5,
          64.5,
          44.5,
          54.5,
          54.5,
          54.5,
          54.5,
          54.5,
          34.5,
          64.5,
          34.5,
          64.5,
          64.5,
          54.5,
          64.5,
          64.5,
          74.5,
          64.5,
          64.5,
          34.5,
          54.5,
          64.5,
          34.5,
          54.5,
          54.5,
          54.5,
          44.5,
          64.5,
          54.5,
          54.5,
          44.5,
          54.5,
          34.5,
          74.5,
          44.5,
          34.5,
          64.5,
          44.5,
          64.5,
          54.5,
          64.5,
          54.5,
          54.5,
          64.5,
          34.5,
          64.5,
          24.5,
          54.5,
          64.5,
          54.5,
          54.5,
          44.5,
          54.5,
          24.5,
          54.5,
          54.5,
          44.5,
          64.5,
          34.5,
          64.5,
          24.5,
          44.5,
          44.5,
          44.5,
          64.5,
          64.5,
          64.5,
          54.5,
          64.5,
          44.5,
          24.5,
          54.5,
          54.5,
          64.5,
          54.5,
          54.5,
          54.5,
          74.5,
          64.5,
          34.5,
          64.5,
          44.5,
          24.5,
          44.5,
          74.5,
          74.5,
          54.5,
          54.5,
          64.5,
          54.5,
          54.5,
          54.5,
          54.5,
          54.5,
          44.5,
          24.5,
          24.5,
          54.5,
          54.5,
          64.5,
          54.5,
          64.5,
          74.5,
          64.5,
          44.5,
          34.5,
          34.5,
          64.5,
          64.5,
          64.5,
          44.5,
          64.5,
          64.5,
          64.5,
          54.5,
          54.5,
          54.5,
          54.5,
          54.5,
          64.5,
          64.5,
          54.5,
          44.5,
          64.5,
          64.5,
          74.5,
          54.5,
          34.5,
          54.5,
          64.5,
          54.5,
          64.5,
          64.5,
          64.5,
          44.5,
          24.5,
          64.5,
          64.5,
          64.5,
          54.5,
          64.5,
          54.5,
          54.5,
          64.5,
          64.5,
          64.5,
          44.5,
          64.5,
          54.5,
          54.5,
          64.5,
          64.5,
          54.5,
          54.5,
          44.5,
          64.5,
          44.5,
          64.5,
          64.5,
          54.5,
          54.5,
          44.5,
          54.5,
          64.5,
          64.5,
          64.5,
          64.5,
          24.5,
          64.5,
          44.5,
          54.5,
          44.5,
          24.5,
          74.5,
          34.5,
          74.5,
          64.5,
          64.5,
          64.5,
          44.5,
          54.5,
          54.5,
          54.5,
          54.5,
          54.5,
          54.5,
          24.5,
          54.5,
          44.5,
          64.5,
          44.5,
          64.5,
          64.5,
          64.5,
          64.5,
          64.5,
          74.5,
          54.5,
          34.5,
          64.5,
          74.5,
          54.5,
          54.5,
          64.5,
          64.5,
          44.5,
          64.5,
          64.5,
          34.5,
          44.5,
          54.5,
          64.5,
          64.5,
          54.5,
          34.5,
          24.5,
          74.5,
          64.5,
          64.5,
          64.5,
          64.5,
          64.5,
          74.5,
          54.5,
          64.5,
          44.5,
          64.5,
          64.5,
          64.5,
          74.5,
          64.5,
          64.5,
          34.5,
          24.5,
          54.5,
          34.5,
          34.5,
          54.5,
          54.5,
          64.5,
          64.5,
          54.5,
          24.5,
          54.5,
          24.5,
          54.5,
          44.5,
          54.5,
          34.5,
          64.5,
          54.5,
          54.5,
          24.5,
          34.5,
          64.5,
          54.5,
          34.5,
          54.5,
          54.5,
          64.5,
          54.5,
          64.5,
          64.5,
          44.5,
          64.5,
          64.5,
          44.5,
          44.5,
          54.5,
          24.5,
          64.5,
          44.5,
          54.5,
          64.5,
          64.5,
          64.5,
          54.5,
          54.5,
          54.5,
          64.5,
          64.5,
          54.5,
          64.5,
          24.5,
          64.5,
          44.5,
          54.5,
          34.5,
          24.5,
          34.5,
          24.5,
          34.5,
          64.5,
          44.5,
          24.5,
          74.5,
          54.5,
          34.5,
          44.5,
          64.5,
          54.5,
          54.5,
          54.5,
          44.5,
          34.5,
          34.5,
          64.5,
          44.5,
          64.5,
          54.5,
          24.5,
          24.5,
          34.5,
          44.5,
          54.5,
          64.5,
          54.5,
          54.5,
          64.5,
          64.5,
          64.5,
          54.5,
          64.5,
          24.5,
          44.5,
          24.5,
          44.5,
          64.5,
          44.5,
          64.5,
          54.5,
          44.5,
          24.5,
          64.5,
          54.5,
          64.5,
          54.5,
          64.5,
          54.5,
          54.5,
          44.5,
          64.5,
          44.5,
          54.5,
          54.5,
          34.5,
          44.5,
          64.5,
          64.5,
          64.5,
          54.5,
          34.5,
          64.5,
          54.5,
          44.5,
          24.5,
          44.5,
          44.5,
          54.5,
          54.5,
          34.5,
          24.5,
          54.5,
          24.5,
          64.5,
          34.5,
          54.5,
          54.5,
          34.5,
          54.5,
          54.5,
          44.5,
          54.5,
          24.5,
          54.5,
          64.5,
          54.5,
          54.5,
          54.5,
          54.5,
          64.5,
          44.5,
          34.5,
          74.5,
          54.5,
          24.5,
          64.5,
          64.5,
          54.5,
          64.5,
          54.5,
          54.5,
          64.5,
          24.5,
          44.5,
          64.5,
          74.5,
          54.5,
          24.5,
          54.5,
          44.5,
          34.5,
          54.5,
          54.5,
          64.5,
          54.5,
          34.5,
          44.5,
          64.5,
          44.5,
          64.5,
          34.5,
          54.5,
          54.5,
          44.5,
          64.5,
          54.5,
          64.5,
          64.5,
          54.5,
          34.5,
          54.5,
          24.5,
          24.5,
          34.5,
          44.5,
          44.5,
          54.5,
          54.5,
          24.5,
          54.5,
          54.5,
          54.5,
          64.5,
          24.5,
          64.5,
          54.5,
          54.5,
          54.5,
          54.5,
          54.5,
          44.5,
          54.5,
          44.5,
          54.5,
          64.5,
          64.5,
          54.5,
          44.5,
          54.5,
          34.5,
          44.5,
          54.5,
          64.5,
          44.5,
          54.5,
          44.5,
          64.5,
          64.5,
          44.5,
          54.5,
          24.5,
          54.5,
          24.5,
          54.5,
          54.5,
          54.5,
          54.5,
          54.5,
          64.5,
          64.5,
          44.5,
          64.5,
          34.5,
          44.5,
          54.5,
          44.5,
          64.5,
          54.5,
          44.5,
          64.5,
          24.5,
          54.5,
          54.5,
          44.5,
          24.5,
          44.5,
          54.5,
          74.5,
          64.5,
          64.5,
          64.5,
          54.5,
          64.5,
          54.5,
          64.5,
          54.5,
          44.5,
          44.5,
          34.5,
          54.5,
          44.5,
          44.5,
          54.5,
          24.5,
          34.5,
          44.5,
          54.5,
          54.5,
          54.5,
          24.5,
          44.5,
          54.5,
          34.5,
          64.5,
          54.5,
          54.5,
          54.5,
          34.5,
          64.5,
          24.5,
          54.5
         ],
         "y0": " ",
         "yaxis": "y",
         "type": "violin"
        }
       ],
       "layout": {
        "template": {
         "data": {
          "histogram2dcontour": [
           {
            "type": "histogram2dcontour",
            "colorbar": {
             "outlinewidth": 0,
             "ticks": ""
            },
            "colorscale": [
             [
              0.0,
              "#0d0887"
             ],
             [
              0.1111111111111111,
              "#46039f"
             ],
             [
              0.2222222222222222,
              "#7201a8"
             ],
             [
              0.3333333333333333,
              "#9c179e"
             ],
             [
              0.4444444444444444,
              "#bd3786"
             ],
             [
              0.5555555555555556,
              "#d8576b"
             ],
             [
              0.6666666666666666,
              "#ed7953"
             ],
             [
              0.7777777777777778,
              "#fb9f3a"
             ],
             [
              0.8888888888888888,
              "#fdca26"
             ],
             [
              1.0,
              "#f0f921"
             ]
            ]
           }
          ],
          "choropleth": [
           {
            "type": "choropleth",
            "colorbar": {
             "outlinewidth": 0,
             "ticks": ""
            }
           }
          ],
          "histogram2d": [
           {
            "type": "histogram2d",
            "colorbar": {
             "outlinewidth": 0,
             "ticks": ""
            },
            "colorscale": [
             [
              0.0,
              "#0d0887"
             ],
             [
              0.1111111111111111,
              "#46039f"
             ],
             [
              0.2222222222222222,
              "#7201a8"
             ],
             [
              0.3333333333333333,
              "#9c179e"
             ],
             [
              0.4444444444444444,
              "#bd3786"
             ],
             [
              0.5555555555555556,
              "#d8576b"
             ],
             [
              0.6666666666666666,
              "#ed7953"
             ],
             [
              0.7777777777777778,
              "#fb9f3a"
             ],
             [
              0.8888888888888888,
              "#fdca26"
             ],
             [
              1.0,
              "#f0f921"
             ]
            ]
           }
          ],
          "heatmap": [
           {
            "type": "heatmap",
            "colorbar": {
             "outlinewidth": 0,
             "ticks": ""
            },
            "colorscale": [
             [
              0.0,
              "#0d0887"
             ],
             [
              0.1111111111111111,
              "#46039f"
             ],
             [
              0.2222222222222222,
              "#7201a8"
             ],
             [
              0.3333333333333333,
              "#9c179e"
             ],
             [
              0.4444444444444444,
              "#bd3786"
             ],
             [
              0.5555555555555556,
              "#d8576b"
             ],
             [
              0.6666666666666666,
              "#ed7953"
             ],
             [
              0.7777777777777778,
              "#fb9f3a"
             ],
             [
              0.8888888888888888,
              "#fdca26"
             ],
             [
              1.0,
              "#f0f921"
             ]
            ]
           }
          ],
          "heatmapgl": [
           {
            "type": "heatmapgl",
            "colorbar": {
             "outlinewidth": 0,
             "ticks": ""
            },
            "colorscale": [
             [
              0.0,
              "#0d0887"
             ],
             [
              0.1111111111111111,
              "#46039f"
             ],
             [
              0.2222222222222222,
              "#7201a8"
             ],
             [
              0.3333333333333333,
              "#9c179e"
             ],
             [
              0.4444444444444444,
              "#bd3786"
             ],
             [
              0.5555555555555556,
              "#d8576b"
             ],
             [
              0.6666666666666666,
              "#ed7953"
             ],
             [
              0.7777777777777778,
              "#fb9f3a"
             ],
             [
              0.8888888888888888,
              "#fdca26"
             ],
             [
              1.0,
              "#f0f921"
             ]
            ]
           }
          ],
          "contourcarpet": [
           {
            "type": "contourcarpet",
            "colorbar": {
             "outlinewidth": 0,
             "ticks": ""
            }
           }
          ],
          "contour": [
           {
            "type": "contour",
            "colorbar": {
             "outlinewidth": 0,
             "ticks": ""
            },
            "colorscale": [
             [
              0.0,
              "#0d0887"
             ],
             [
              0.1111111111111111,
              "#46039f"
             ],
             [
              0.2222222222222222,
              "#7201a8"
             ],
             [
              0.3333333333333333,
              "#9c179e"
             ],
             [
              0.4444444444444444,
              "#bd3786"
             ],
             [
              0.5555555555555556,
              "#d8576b"
             ],
             [
              0.6666666666666666,
              "#ed7953"
             ],
             [
              0.7777777777777778,
              "#fb9f3a"
             ],
             [
              0.8888888888888888,
              "#fdca26"
             ],
             [
              1.0,
              "#f0f921"
             ]
            ]
           }
          ],
          "surface": [
           {
            "type": "surface",
            "colorbar": {
             "outlinewidth": 0,
             "ticks": ""
            },
            "colorscale": [
             [
              0.0,
              "#0d0887"
             ],
             [
              0.1111111111111111,
              "#46039f"
             ],
             [
              0.2222222222222222,
              "#7201a8"
             ],
             [
              0.3333333333333333,
              "#9c179e"
             ],
             [
              0.4444444444444444,
              "#bd3786"
             ],
             [
              0.5555555555555556,
              "#d8576b"
             ],
             [
              0.6666666666666666,
              "#ed7953"
             ],
             [
              0.7777777777777778,
              "#fb9f3a"
             ],
             [
              0.8888888888888888,
              "#fdca26"
             ],
             [
              1.0,
              "#f0f921"
             ]
            ]
           }
          ],
          "mesh3d": [
           {
            "type": "mesh3d",
            "colorbar": {
             "outlinewidth": 0,
             "ticks": ""
            }
           }
          ],
          "scatter": [
           {
            "marker": {
             "line": {
              "color": "#283442"
             }
            },
            "type": "scatter"
           }
          ],
          "parcoords": [
           {
            "type": "parcoords",
            "line": {
             "colorbar": {
              "outlinewidth": 0,
              "ticks": ""
             }
            }
           }
          ],
          "scatterpolargl": [
           {
            "type": "scatterpolargl",
            "marker": {
             "colorbar": {
              "outlinewidth": 0,
              "ticks": ""
             }
            }
           }
          ],
          "bar": [
           {
            "error_x": {
             "color": "#f2f5fa"
            },
            "error_y": {
             "color": "#f2f5fa"
            },
            "marker": {
             "line": {
              "color": "rgb(17,17,17)",
              "width": 0.5
             },
             "pattern": {
              "fillmode": "overlay",
              "size": 10,
              "solidity": 0.2
             }
            },
            "type": "bar"
           }
          ],
          "scattergeo": [
           {
            "type": "scattergeo",
            "marker": {
             "colorbar": {
              "outlinewidth": 0,
              "ticks": ""
             }
            }
           }
          ],
          "scatterpolar": [
           {
            "type": "scatterpolar",
            "marker": {
             "colorbar": {
              "outlinewidth": 0,
              "ticks": ""
             }
            }
           }
          ],
          "histogram": [
           {
            "marker": {
             "pattern": {
              "fillmode": "overlay",
              "size": 10,
              "solidity": 0.2
             }
            },
            "type": "histogram"
           }
          ],
          "scattergl": [
           {
            "marker": {
             "line": {
              "color": "#283442"
             }
            },
            "type": "scattergl"
           }
          ],
          "scatter3d": [
           {
            "type": "scatter3d",
            "line": {
             "colorbar": {
              "outlinewidth": 0,
              "ticks": ""
             }
            },
            "marker": {
             "colorbar": {
              "outlinewidth": 0,
              "ticks": ""
             }
            }
           }
          ],
          "scattermapbox": [
           {
            "type": "scattermapbox",
            "marker": {
             "colorbar": {
              "outlinewidth": 0,
              "ticks": ""
             }
            }
           }
          ],
          "scatterternary": [
           {
            "type": "scatterternary",
            "marker": {
             "colorbar": {
              "outlinewidth": 0,
              "ticks": ""
             }
            }
           }
          ],
          "scattercarpet": [
           {
            "type": "scattercarpet",
            "marker": {
             "colorbar": {
              "outlinewidth": 0,
              "ticks": ""
             }
            }
           }
          ],
          "carpet": [
           {
            "aaxis": {
             "endlinecolor": "#A2B1C6",
             "gridcolor": "#506784",
             "linecolor": "#506784",
             "minorgridcolor": "#506784",
             "startlinecolor": "#A2B1C6"
            },
            "baxis": {
             "endlinecolor": "#A2B1C6",
             "gridcolor": "#506784",
             "linecolor": "#506784",
             "minorgridcolor": "#506784",
             "startlinecolor": "#A2B1C6"
            },
            "type": "carpet"
           }
          ],
          "table": [
           {
            "cells": {
             "fill": {
              "color": "#506784"
             },
             "line": {
              "color": "rgb(17,17,17)"
             }
            },
            "header": {
             "fill": {
              "color": "#2a3f5f"
             },
             "line": {
              "color": "rgb(17,17,17)"
             }
            },
            "type": "table"
           }
          ],
          "barpolar": [
           {
            "marker": {
             "line": {
              "color": "rgb(17,17,17)",
              "width": 0.5
             },
             "pattern": {
              "fillmode": "overlay",
              "size": 10,
              "solidity": 0.2
             }
            },
            "type": "barpolar"
           }
          ],
          "pie": [
           {
            "automargin": true,
            "type": "pie"
           }
          ]
         },
         "layout": {
          "autotypenumbers": "strict",
          "colorway": [
           "#636efa",
           "#EF553B",
           "#00cc96",
           "#ab63fa",
           "#FFA15A",
           "#19d3f3",
           "#FF6692",
           "#B6E880",
           "#FF97FF",
           "#FECB52"
          ],
          "font": {
           "color": "#f2f5fa"
          },
          "hovermode": "closest",
          "hoverlabel": {
           "align": "left"
          },
          "paper_bgcolor": "rgb(17,17,17)",
          "plot_bgcolor": "rgb(17,17,17)",
          "polar": {
           "bgcolor": "rgb(17,17,17)",
           "angularaxis": {
            "gridcolor": "#506784",
            "linecolor": "#506784",
            "ticks": ""
           },
           "radialaxis": {
            "gridcolor": "#506784",
            "linecolor": "#506784",
            "ticks": ""
           }
          },
          "ternary": {
           "bgcolor": "rgb(17,17,17)",
           "aaxis": {
            "gridcolor": "#506784",
            "linecolor": "#506784",
            "ticks": ""
           },
           "baxis": {
            "gridcolor": "#506784",
            "linecolor": "#506784",
            "ticks": ""
           },
           "caxis": {
            "gridcolor": "#506784",
            "linecolor": "#506784",
            "ticks": ""
           }
          },
          "coloraxis": {
           "colorbar": {
            "outlinewidth": 0,
            "ticks": ""
           }
          },
          "colorscale": {
           "sequential": [
            [
             0.0,
             "#0d0887"
            ],
            [
             0.1111111111111111,
             "#46039f"
            ],
            [
             0.2222222222222222,
             "#7201a8"
            ],
            [
             0.3333333333333333,
             "#9c179e"
            ],
            [
             0.4444444444444444,
             "#bd3786"
            ],
            [
             0.5555555555555556,
             "#d8576b"
            ],
            [
             0.6666666666666666,
             "#ed7953"
            ],
            [
             0.7777777777777778,
             "#fb9f3a"
            ],
            [
             0.8888888888888888,
             "#fdca26"
            ],
            [
             1.0,
             "#f0f921"
            ]
           ],
           "sequentialminus": [
            [
             0.0,
             "#0d0887"
            ],
            [
             0.1111111111111111,
             "#46039f"
            ],
            [
             0.2222222222222222,
             "#7201a8"
            ],
            [
             0.3333333333333333,
             "#9c179e"
            ],
            [
             0.4444444444444444,
             "#bd3786"
            ],
            [
             0.5555555555555556,
             "#d8576b"
            ],
            [
             0.6666666666666666,
             "#ed7953"
            ],
            [
             0.7777777777777778,
             "#fb9f3a"
            ],
            [
             0.8888888888888888,
             "#fdca26"
            ],
            [
             1.0,
             "#f0f921"
            ]
           ],
           "diverging": [
            [
             0,
             "#8e0152"
            ],
            [
             0.1,
             "#c51b7d"
            ],
            [
             0.2,
             "#de77ae"
            ],
            [
             0.3,
             "#f1b6da"
            ],
            [
             0.4,
             "#fde0ef"
            ],
            [
             0.5,
             "#f7f7f7"
            ],
            [
             0.6,
             "#e6f5d0"
            ],
            [
             0.7,
             "#b8e186"
            ],
            [
             0.8,
             "#7fbc41"
            ],
            [
             0.9,
             "#4d9221"
            ],
            [
             1,
             "#276419"
            ]
           ]
          },
          "xaxis": {
           "gridcolor": "#283442",
           "linecolor": "#506784",
           "ticks": "",
           "title": {
            "standoff": 15
           },
           "zerolinecolor": "#283442",
           "automargin": true,
           "zerolinewidth": 2
          },
          "yaxis": {
           "gridcolor": "#283442",
           "linecolor": "#506784",
           "ticks": "",
           "title": {
            "standoff": 15
           },
           "zerolinecolor": "#283442",
           "automargin": true,
           "zerolinewidth": 2
          },
          "scene": {
           "xaxis": {
            "backgroundcolor": "rgb(17,17,17)",
            "gridcolor": "#506784",
            "linecolor": "#506784",
            "showbackground": true,
            "ticks": "",
            "zerolinecolor": "#C8D4E3",
            "gridwidth": 2
           },
           "yaxis": {
            "backgroundcolor": "rgb(17,17,17)",
            "gridcolor": "#506784",
            "linecolor": "#506784",
            "showbackground": true,
            "ticks": "",
            "zerolinecolor": "#C8D4E3",
            "gridwidth": 2
           },
           "zaxis": {
            "backgroundcolor": "rgb(17,17,17)",
            "gridcolor": "#506784",
            "linecolor": "#506784",
            "showbackground": true,
            "ticks": "",
            "zerolinecolor": "#C8D4E3",
            "gridwidth": 2
           }
          },
          "shapedefaults": {
           "line": {
            "color": "#f2f5fa"
           }
          },
          "annotationdefaults": {
           "arrowcolor": "#f2f5fa",
           "arrowhead": 0,
           "arrowwidth": 1
          },
          "geo": {
           "bgcolor": "rgb(17,17,17)",
           "landcolor": "rgb(17,17,17)",
           "subunitcolor": "#506784",
           "showland": true,
           "showlakes": true,
           "lakecolor": "rgb(17,17,17)"
          },
          "title": {
           "x": 0.05
          },
          "updatemenudefaults": {
           "bgcolor": "#506784",
           "borderwidth": 0
          },
          "sliderdefaults": {
           "bgcolor": "#C8D4E3",
           "borderwidth": 1,
           "bordercolor": "rgb(17,17,17)",
           "tickwidth": 0
          },
          "mapbox": {
           "style": "dark"
          }
         }
        },
        "xaxis": {
         "anchor": "y",
         "domain": [
          0.0,
          1.0
         ],
         "title": {
          "text": "DTHHRDY"
         }
        },
        "yaxis": {
         "anchor": "x",
         "domain": [
          0.0,
          1.0
         ],
         "title": {
          "text": "medium_age"
         }
        },
        "legend": {
         "title": {
          "text": "SEX"
         },
         "tracegroupgap": 0
        },
        "margin": {
         "t": 60
        },
        "violinmode": "group"
       },
       "config": {
        "plotlyServerURL": "https://plot.ly"
       }
      },
      "text/html": "<div>                            <div id=\"a35155b4-e0c7-464e-989a-ea04b51f732e\" class=\"plotly-graph-div\" style=\"height:525px; width:100%;\"></div>            <script type=\"text/javascript\">                require([\"plotly\"], function(Plotly) {                    window.PLOTLYENV=window.PLOTLYENV || {};                                    if (document.getElementById(\"a35155b4-e0c7-464e-989a-ea04b51f732e\")) {                    Plotly.newPlot(                        \"a35155b4-e0c7-464e-989a-ea04b51f732e\",                        [{\"alignmentgroup\":\"True\",\"box\":{\"visible\":true},\"hovertemplate\":\"SEX=2<br>DTHHRDY=%{x}<br>medium_age=%{y}<extra></extra>\",\"legendgroup\":\"2\",\"marker\":{\"color\":\"#636efa\"},\"name\":\"2\",\"offsetgroup\":\"2\",\"orientation\":\"v\",\"points\":\"all\",\"scalegroup\":\"True\",\"showlegend\":true,\"x\":[4.0,0.0,2.0,2.0,0.0,0.0,2.0,2.0,0.0,0.0,0.0,4.0,3.0,0.0,0.0,2.0,0.0,2.0,0.0,2.0,3.0,4.0,2.0,0.0,0.0,0.0,1.0,0.0,2.0,0.0,4.0,2.0,0.0,0.0,0.0,0.0,0.0,3.0,0.0,0.0,0.0,0.0,2.0,0.0,0.0,4.0,3.0,0.0,2.0,3.0,0.0,2.0,0.0,0.0,2.0,2.0,2.0,2.0,0.0,0.0,0.0,0.0,4.0,4.0,0.0,2.0,0.0,0.0,0.0,0.0,4.0,0.0,3.0,2.0,0.0,4.0,0.0,0.0,4.0,3.0,4.0,0.0,0.0,0.0,2.0,0.0,0.0,0.0,0.0,4.0,0.0,0.0,2.0,0.0,3.0,2.0,0.0,0.0,1.0,0.0,0.0,0.0,0.0,2.0,4.0,0.0,0.0,4.0,0.0,0.0,4.0,0.0,0.0,2.0,0.0,4.0,2.0,0.0,3.0,2.0,4.0,2.0,0.0,0.0,0.0,2.0,0.0,0.0,0.0,2.0,4.0,2.0,4.0,4.0,0.0,4.0,1.0,4.0,2.0,0.0,0.0,3.0,4.0,0.0,0.0,1.0,2.0,2.0,4.0,4.0,4.0,0.0,2.0,2.0,0.0,0.0,0.0,4.0,0.0,0.0,0.0,0.0,0.0,0.0,0.0,0.0,2.0,4.0,2.0,2.0,0.0,3.0,4.0,0.0,0.0,0.0,0.0,0.0,0.0,0.0,4.0,4.0,0.0,0.0,0.0,0.0,0.0,0.0,4.0,0.0,0.0,4.0,2.0,0.0,1.0,0.0,1.0,2.0,0.0,3.0,0.0,0.0,0.0,4.0,0.0,0.0,3.0,3.0,0.0,0.0,0.0,0.0,0.0,4.0,2.0,4.0,3.0,0.0,0.0,0.0,0.0,4.0,3.0,0.0,0.0,null,null,0.0,0.0,0.0,4.0,0.0,0.0,2.0,0.0,0.0,4.0,4.0,4.0,4.0,0.0,0.0,0.0,4.0,1.0,4.0,0.0,2.0,0.0,0.0,0.0,0.0,0.0,0.0,0.0,2.0,1.0,0.0,0.0,0.0,0.0,0.0,0.0,0.0,0.0,2.0,0.0,0.0,0.0,0.0,0.0,1.0,3.0,0.0,0.0,0.0,0.0,3.0,4.0,null,0.0,0.0,0.0,2.0,0.0,0.0,0.0,0.0,0.0,0.0,0.0,0.0,0.0,0.0,0.0,null,1.0,1.0,3.0,2.0,0.0,2.0,0.0,0.0,0.0,0.0,0.0,0.0,0.0,0.0,0.0,0.0,0.0,2.0,0.0,0.0,0.0,2.0,3.0,1.0,0.0,0.0,0.0,0.0,4.0,0.0,null],\"x0\":\" \",\"xaxis\":\"x\",\"y\":[64.5,64.5,64.5,54.5,64.5,24.5,64.5,64.5,54.5,44.5,34.5,64.5,44.5,44.5,44.5,64.5,64.5,54.5,64.5,64.5,54.5,64.5,64.5,54.5,44.5,44.5,44.5,64.5,54.5,54.5,54.5,64.5,54.5,24.5,34.5,54.5,34.5,54.5,64.5,54.5,54.5,24.5,44.5,44.5,54.5,64.5,64.5,64.5,54.5,44.5,64.5,64.5,64.5,44.5,64.5,64.5,64.5,54.5,44.5,24.5,64.5,54.5,64.5,64.5,44.5,64.5,54.5,64.5,54.5,64.5,54.5,44.5,64.5,54.5,24.5,64.5,44.5,34.5,74.5,64.5,64.5,64.5,64.5,64.5,54.5,74.5,44.5,24.5,64.5,54.5,64.5,64.5,74.5,24.5,54.5,64.5,34.5,24.5,24.5,44.5,34.5,54.5,54.5,44.5,74.5,34.5,34.5,64.5,64.5,44.5,54.5,44.5,74.5,34.5,64.5,74.5,54.5,34.5,74.5,54.5,64.5,54.5,34.5,54.5,44.5,54.5,54.5,44.5,44.5,44.5,64.5,74.5,54.5,64.5,44.5,64.5,24.5,64.5,64.5,44.5,44.5,54.5,54.5,54.5,54.5,54.5,64.5,44.5,64.5,44.5,64.5,44.5,64.5,64.5,54.5,54.5,44.5,64.5,64.5,54.5,74.5,54.5,54.5,64.5,44.5,34.5,64.5,44.5,64.5,64.5,64.5,54.5,64.5,54.5,64.5,24.5,54.5,54.5,24.5,54.5,54.5,54.5,54.5,54.5,54.5,24.5,34.5,24.5,24.5,44.5,24.5,64.5,54.5,34.5,24.5,24.5,34.5,64.5,64.5,64.5,54.5,44.5,34.5,64.5,34.5,44.5,64.5,54.5,24.5,24.5,64.5,34.5,34.5,64.5,64.5,64.5,64.5,54.5,64.5,64.5,54.5,64.5,64.5,34.5,54.5,44.5,54.5,24.5,24.5,44.5,64.5,44.5,24.5,44.5,44.5,54.5,34.5,64.5,64.5,44.5,64.5,54.5,44.5,54.5,54.5,64.5,24.5,54.5,64.5,54.5,44.5,54.5,44.5,24.5,44.5,54.5,24.5,24.5,44.5,44.5,44.5,64.5,34.5,54.5,24.5,54.5,54.5,44.5,44.5,44.5,24.5,54.5,54.5,54.5,64.5,44.5,54.5,64.5,64.5,74.5,54.5,64.5,54.5,64.5,64.5,54.5,34.5,44.5,64.5,54.5,54.5,44.5,64.5,54.5,44.5,54.5,44.5,44.5,54.5,54.5,44.5,54.5,64.5,54.5,54.5,44.5,64.5,54.5,24.5,64.5,44.5,64.5,24.5,54.5,44.5,54.5,54.5,64.5,54.5,64.5,34.5,64.5,54.5,44.5,64.5,54.5,54.5],\"y0\":\" \",\"yaxis\":\"y\",\"type\":\"violin\"},{\"alignmentgroup\":\"True\",\"box\":{\"visible\":true},\"hovertemplate\":\"SEX=1<br>DTHHRDY=%{x}<br>medium_age=%{y}<extra></extra>\",\"legendgroup\":\"1\",\"marker\":{\"color\":\"#EF553B\"},\"name\":\"1\",\"offsetgroup\":\"1\",\"orientation\":\"v\",\"points\":\"all\",\"scalegroup\":\"True\",\"showlegend\":true,\"x\":[0.0,1.0,3.0,0.0,null,2.0,3.0,0.0,2.0,4.0,2.0,2.0,0.0,2.0,4.0,4.0,4.0,2.0,2.0,2.0,2.0,0.0,0.0,2.0,2.0,2.0,2.0,2.0,2.0,0.0,1.0,2.0,0.0,2.0,2.0,2.0,2.0,4.0,1.0,1.0,2.0,3.0,3.0,0.0,0.0,0.0,4.0,2.0,2.0,4.0,2.0,2.0,0.0,2.0,0.0,4.0,2.0,2.0,0.0,2.0,0.0,0.0,0.0,2.0,1.0,4.0,0.0,0.0,0.0,0.0,2.0,0.0,4.0,2.0,2.0,3.0,2.0,2.0,0.0,2.0,2.0,0.0,2.0,0.0,4.0,2.0,2.0,0.0,2.0,2.0,2.0,4.0,2.0,0.0,2.0,2.0,2.0,4.0,0.0,2.0,0.0,2.0,0.0,4.0,2.0,0.0,0.0,2.0,0.0,2.0,3.0,2.0,2.0,2.0,4.0,2.0,0.0,4.0,0.0,4.0,0.0,2.0,2.0,0.0,4.0,2.0,0.0,3.0,2.0,2.0,0.0,0.0,4.0,0.0,2.0,0.0,2.0,2.0,1.0,0.0,3.0,0.0,4.0,4.0,2.0,2.0,2.0,2.0,0.0,2.0,0.0,2.0,2.0,0.0,2.0,2.0,0.0,2.0,4.0,0.0,0.0,4.0,2.0,0.0,2.0,0.0,0.0,4.0,2.0,2.0,0.0,4.0,0.0,0.0,0.0,0.0,4.0,0.0,2.0,4.0,0.0,2.0,2.0,2.0,0.0,4.0,0.0,0.0,2.0,0.0,0.0,0.0,0.0,0.0,4.0,0.0,0.0,0.0,2.0,4.0,0.0,0.0,0.0,0.0,2.0,0.0,0.0,0.0,0.0,0.0,1.0,2.0,0.0,0.0,2.0,1.0,0.0,4.0,0.0,0.0,0.0,0.0,2.0,2.0,0.0,2.0,0.0,0.0,4.0,2.0,4.0,0.0,2.0,3.0,0.0,0.0,0.0,0.0,4.0,2.0,2.0,0.0,0.0,2.0,0.0,0.0,0.0,0.0,0.0,0.0,2.0,2.0,2.0,0.0,2.0,2.0,2.0,0.0,0.0,2.0,0.0,2.0,2.0,2.0,2.0,2.0,0.0,0.0,0.0,2.0,0.0,3.0,2.0,2.0,4.0,2.0,2.0,2.0,2.0,2.0,0.0,2.0,2.0,2.0,4.0,0.0,2.0,0.0,2.0,3.0,0.0,0.0,0.0,2.0,2.0,2.0,2.0,2.0,0.0,2.0,2.0,2.0,0.0,0.0,0.0,0.0,4.0,4.0,4.0,2.0,4.0,0.0,2.0,2.0,2.0,0.0,0.0,0.0,4.0,2.0,2.0,0.0,4.0,4.0,0.0,2.0,3.0,0.0,0.0,2.0,0.0,4.0,2.0,2.0,2.0,4.0,0.0,2.0,3.0,0.0,0.0,0.0,3.0,4.0,0.0,0.0,0.0,1.0,3.0,4.0,2.0,2.0,2.0,2.0,2.0,1.0,0.0,3.0,0.0,4.0,3.0,2.0,0.0,0.0,0.0,2.0,0.0,4.0,0.0,2.0,0.0,0.0,0.0,0.0,3.0,0.0,2.0,2.0,2.0,1.0,0.0,0.0,2.0,0.0,0.0,3.0,2.0,0.0,2.0,0.0,4.0,2.0,4.0,2.0,0.0,2.0,3.0,0.0,0.0,2.0,0.0,0.0,0.0,2.0,1.0,3.0,2.0,0.0,0.0,4.0,2.0,3.0,0.0,0.0,0.0,0.0,4.0,4.0,0.0,0.0,0.0,0.0,0.0,2.0,0.0,0.0,4.0,0.0,0.0,0.0,2.0,0.0,0.0,0.0,2.0,0.0,0.0,0.0,0.0,0.0,0.0,0.0,0.0,0.0,0.0,3.0,0.0,4.0,0.0,4.0,2.0,3.0,0.0,3.0,0.0,0.0,0.0,0.0,2.0,0.0,3.0,4.0,4.0,0.0,4.0,0.0,0.0,0.0,0.0,0.0,0.0,0.0,0.0,0.0,0.0,0.0,0.0,4.0,0.0,null,0.0,0.0,0.0,0.0,0.0,2.0,0.0,0.0,0.0,0.0,0.0,1.0,0.0,3.0,0.0,0.0,0.0,4.0,0.0,0.0,0.0,1.0,0.0,0.0,1.0,4.0,0.0,0.0,1.0,0.0,2.0,3.0,1.0,2.0,2.0,0.0,0.0,0.0,0.0,2.0,0.0,0.0,2.0,2.0,0.0,0.0,null,0.0,4.0,2.0,2.0,0.0,0.0,0.0,null,null,null,0.0,0.0,3.0,0.0,0.0,4.0,0.0,2.0,0.0,3.0,0.0,0.0,0.0,0.0,null,null,0.0,0.0,0.0,0.0,0.0,0.0,0.0,3.0,0.0,1.0,2.0,0.0,0.0,0.0,0.0,2.0,0.0,0.0,0.0,1.0,4.0,0.0,0.0,4.0,0.0,4.0,0.0,0.0,null,0.0,2.0,0.0,0.0,0.0,0.0,3.0,4.0,0.0,2.0,0.0,0.0,1.0,0.0,null,0.0,1.0,0.0,0.0,2.0,0.0,null,0.0,0.0,0.0,0.0,3.0,0.0,0.0,2.0,0.0,2.0,null,0.0,0.0,4.0,0.0,null,2.0,0.0,2.0,0.0,2.0,0.0,4.0,0.0,0.0,0.0,0.0,0.0,0.0,0.0,3.0,0.0,2.0,2.0,0.0,0.0,0.0,1.0,null,0.0,4.0,3.0,0.0,2.0,3.0,1.0,3.0,0.0,4.0],\"x0\":\" \",\"xaxis\":\"x\",\"y\":[54.5,64.5,64.5,64.5,64.5,64.5,54.5,54.5,64.5,54.5,44.5,64.5,54.5,64.5,54.5,64.5,64.5,34.5,64.5,64.5,54.5,34.5,24.5,54.5,64.5,44.5,64.5,64.5,64.5,34.5,24.5,54.5,24.5,64.5,54.5,64.5,54.5,64.5,34.5,24.5,64.5,44.5,64.5,64.5,24.5,34.5,64.5,54.5,24.5,74.5,54.5,54.5,54.5,64.5,44.5,54.5,64.5,64.5,54.5,54.5,34.5,54.5,64.5,54.5,64.5,64.5,64.5,44.5,44.5,34.5,64.5,54.5,64.5,64.5,64.5,64.5,64.5,64.5,54.5,64.5,54.5,24.5,64.5,64.5,54.5,54.5,54.5,44.5,64.5,54.5,64.5,74.5,64.5,74.5,64.5,44.5,64.5,64.5,54.5,64.5,34.5,64.5,54.5,54.5,54.5,64.5,64.5,74.5,44.5,54.5,64.5,54.5,54.5,64.5,64.5,54.5,54.5,64.5,24.5,44.5,44.5,74.5,54.5,54.5,64.5,54.5,64.5,64.5,54.5,54.5,24.5,54.5,64.5,44.5,54.5,54.5,54.5,54.5,54.5,34.5,64.5,34.5,64.5,64.5,54.5,64.5,64.5,74.5,64.5,64.5,34.5,54.5,64.5,34.5,54.5,54.5,54.5,44.5,64.5,54.5,54.5,44.5,54.5,34.5,74.5,44.5,34.5,64.5,44.5,64.5,54.5,64.5,54.5,54.5,64.5,34.5,64.5,24.5,54.5,64.5,54.5,54.5,44.5,54.5,24.5,54.5,54.5,44.5,64.5,34.5,64.5,24.5,44.5,44.5,44.5,64.5,64.5,64.5,54.5,64.5,44.5,24.5,54.5,54.5,64.5,54.5,54.5,54.5,74.5,64.5,34.5,64.5,44.5,24.5,44.5,74.5,74.5,54.5,54.5,64.5,54.5,54.5,54.5,54.5,54.5,44.5,24.5,24.5,54.5,54.5,64.5,54.5,64.5,74.5,64.5,44.5,34.5,34.5,64.5,64.5,64.5,44.5,64.5,64.5,64.5,54.5,54.5,54.5,54.5,54.5,64.5,64.5,54.5,44.5,64.5,64.5,74.5,54.5,34.5,54.5,64.5,54.5,64.5,64.5,64.5,44.5,24.5,64.5,64.5,64.5,54.5,64.5,54.5,54.5,64.5,64.5,64.5,44.5,64.5,54.5,54.5,64.5,64.5,54.5,54.5,44.5,64.5,44.5,64.5,64.5,54.5,54.5,44.5,54.5,64.5,64.5,64.5,64.5,24.5,64.5,44.5,54.5,44.5,24.5,74.5,34.5,74.5,64.5,64.5,64.5,44.5,54.5,54.5,54.5,54.5,54.5,54.5,24.5,54.5,44.5,64.5,44.5,64.5,64.5,64.5,64.5,64.5,74.5,54.5,34.5,64.5,74.5,54.5,54.5,64.5,64.5,44.5,64.5,64.5,34.5,44.5,54.5,64.5,64.5,54.5,34.5,24.5,74.5,64.5,64.5,64.5,64.5,64.5,74.5,54.5,64.5,44.5,64.5,64.5,64.5,74.5,64.5,64.5,34.5,24.5,54.5,34.5,34.5,54.5,54.5,64.5,64.5,54.5,24.5,54.5,24.5,54.5,44.5,54.5,34.5,64.5,54.5,54.5,24.5,34.5,64.5,54.5,34.5,54.5,54.5,64.5,54.5,64.5,64.5,44.5,64.5,64.5,44.5,44.5,54.5,24.5,64.5,44.5,54.5,64.5,64.5,64.5,54.5,54.5,54.5,64.5,64.5,54.5,64.5,24.5,64.5,44.5,54.5,34.5,24.5,34.5,24.5,34.5,64.5,44.5,24.5,74.5,54.5,34.5,44.5,64.5,54.5,54.5,54.5,44.5,34.5,34.5,64.5,44.5,64.5,54.5,24.5,24.5,34.5,44.5,54.5,64.5,54.5,54.5,64.5,64.5,64.5,54.5,64.5,24.5,44.5,24.5,44.5,64.5,44.5,64.5,54.5,44.5,24.5,64.5,54.5,64.5,54.5,64.5,54.5,54.5,44.5,64.5,44.5,54.5,54.5,34.5,44.5,64.5,64.5,64.5,54.5,34.5,64.5,54.5,44.5,24.5,44.5,44.5,54.5,54.5,34.5,24.5,54.5,24.5,64.5,34.5,54.5,54.5,34.5,54.5,54.5,44.5,54.5,24.5,54.5,64.5,54.5,54.5,54.5,54.5,64.5,44.5,34.5,74.5,54.5,24.5,64.5,64.5,54.5,64.5,54.5,54.5,64.5,24.5,44.5,64.5,74.5,54.5,24.5,54.5,44.5,34.5,54.5,54.5,64.5,54.5,34.5,44.5,64.5,44.5,64.5,34.5,54.5,54.5,44.5,64.5,54.5,64.5,64.5,54.5,34.5,54.5,24.5,24.5,34.5,44.5,44.5,54.5,54.5,24.5,54.5,54.5,54.5,64.5,24.5,64.5,54.5,54.5,54.5,54.5,54.5,44.5,54.5,44.5,54.5,64.5,64.5,54.5,44.5,54.5,34.5,44.5,54.5,64.5,44.5,54.5,44.5,64.5,64.5,44.5,54.5,24.5,54.5,24.5,54.5,54.5,54.5,54.5,54.5,64.5,64.5,44.5,64.5,34.5,44.5,54.5,44.5,64.5,54.5,44.5,64.5,24.5,54.5,54.5,44.5,24.5,44.5,54.5,74.5,64.5,64.5,64.5,54.5,64.5,54.5,64.5,54.5,44.5,44.5,34.5,54.5,44.5,44.5,54.5,24.5,34.5,44.5,54.5,54.5,54.5,24.5,44.5,54.5,34.5,64.5,54.5,54.5,54.5,34.5,64.5,24.5,54.5],\"y0\":\" \",\"yaxis\":\"y\",\"type\":\"violin\"}],                        {\"template\":{\"data\":{\"histogram2dcontour\":[{\"type\":\"histogram2dcontour\",\"colorbar\":{\"outlinewidth\":0,\"ticks\":\"\"},\"colorscale\":[[0.0,\"#0d0887\"],[0.1111111111111111,\"#46039f\"],[0.2222222222222222,\"#7201a8\"],[0.3333333333333333,\"#9c179e\"],[0.4444444444444444,\"#bd3786\"],[0.5555555555555556,\"#d8576b\"],[0.6666666666666666,\"#ed7953\"],[0.7777777777777778,\"#fb9f3a\"],[0.8888888888888888,\"#fdca26\"],[1.0,\"#f0f921\"]]}],\"choropleth\":[{\"type\":\"choropleth\",\"colorbar\":{\"outlinewidth\":0,\"ticks\":\"\"}}],\"histogram2d\":[{\"type\":\"histogram2d\",\"colorbar\":{\"outlinewidth\":0,\"ticks\":\"\"},\"colorscale\":[[0.0,\"#0d0887\"],[0.1111111111111111,\"#46039f\"],[0.2222222222222222,\"#7201a8\"],[0.3333333333333333,\"#9c179e\"],[0.4444444444444444,\"#bd3786\"],[0.5555555555555556,\"#d8576b\"],[0.6666666666666666,\"#ed7953\"],[0.7777777777777778,\"#fb9f3a\"],[0.8888888888888888,\"#fdca26\"],[1.0,\"#f0f921\"]]}],\"heatmap\":[{\"type\":\"heatmap\",\"colorbar\":{\"outlinewidth\":0,\"ticks\":\"\"},\"colorscale\":[[0.0,\"#0d0887\"],[0.1111111111111111,\"#46039f\"],[0.2222222222222222,\"#7201a8\"],[0.3333333333333333,\"#9c179e\"],[0.4444444444444444,\"#bd3786\"],[0.5555555555555556,\"#d8576b\"],[0.6666666666666666,\"#ed7953\"],[0.7777777777777778,\"#fb9f3a\"],[0.8888888888888888,\"#fdca26\"],[1.0,\"#f0f921\"]]}],\"heatmapgl\":[{\"type\":\"heatmapgl\",\"colorbar\":{\"outlinewidth\":0,\"ticks\":\"\"},\"colorscale\":[[0.0,\"#0d0887\"],[0.1111111111111111,\"#46039f\"],[0.2222222222222222,\"#7201a8\"],[0.3333333333333333,\"#9c179e\"],[0.4444444444444444,\"#bd3786\"],[0.5555555555555556,\"#d8576b\"],[0.6666666666666666,\"#ed7953\"],[0.7777777777777778,\"#fb9f3a\"],[0.8888888888888888,\"#fdca26\"],[1.0,\"#f0f921\"]]}],\"contourcarpet\":[{\"type\":\"contourcarpet\",\"colorbar\":{\"outlinewidth\":0,\"ticks\":\"\"}}],\"contour\":[{\"type\":\"contour\",\"colorbar\":{\"outlinewidth\":0,\"ticks\":\"\"},\"colorscale\":[[0.0,\"#0d0887\"],[0.1111111111111111,\"#46039f\"],[0.2222222222222222,\"#7201a8\"],[0.3333333333333333,\"#9c179e\"],[0.4444444444444444,\"#bd3786\"],[0.5555555555555556,\"#d8576b\"],[0.6666666666666666,\"#ed7953\"],[0.7777777777777778,\"#fb9f3a\"],[0.8888888888888888,\"#fdca26\"],[1.0,\"#f0f921\"]]}],\"surface\":[{\"type\":\"surface\",\"colorbar\":{\"outlinewidth\":0,\"ticks\":\"\"},\"colorscale\":[[0.0,\"#0d0887\"],[0.1111111111111111,\"#46039f\"],[0.2222222222222222,\"#7201a8\"],[0.3333333333333333,\"#9c179e\"],[0.4444444444444444,\"#bd3786\"],[0.5555555555555556,\"#d8576b\"],[0.6666666666666666,\"#ed7953\"],[0.7777777777777778,\"#fb9f3a\"],[0.8888888888888888,\"#fdca26\"],[1.0,\"#f0f921\"]]}],\"mesh3d\":[{\"type\":\"mesh3d\",\"colorbar\":{\"outlinewidth\":0,\"ticks\":\"\"}}],\"scatter\":[{\"marker\":{\"line\":{\"color\":\"#283442\"}},\"type\":\"scatter\"}],\"parcoords\":[{\"type\":\"parcoords\",\"line\":{\"colorbar\":{\"outlinewidth\":0,\"ticks\":\"\"}}}],\"scatterpolargl\":[{\"type\":\"scatterpolargl\",\"marker\":{\"colorbar\":{\"outlinewidth\":0,\"ticks\":\"\"}}}],\"bar\":[{\"error_x\":{\"color\":\"#f2f5fa\"},\"error_y\":{\"color\":\"#f2f5fa\"},\"marker\":{\"line\":{\"color\":\"rgb(17,17,17)\",\"width\":0.5},\"pattern\":{\"fillmode\":\"overlay\",\"size\":10,\"solidity\":0.2}},\"type\":\"bar\"}],\"scattergeo\":[{\"type\":\"scattergeo\",\"marker\":{\"colorbar\":{\"outlinewidth\":0,\"ticks\":\"\"}}}],\"scatterpolar\":[{\"type\":\"scatterpolar\",\"marker\":{\"colorbar\":{\"outlinewidth\":0,\"ticks\":\"\"}}}],\"histogram\":[{\"marker\":{\"pattern\":{\"fillmode\":\"overlay\",\"size\":10,\"solidity\":0.2}},\"type\":\"histogram\"}],\"scattergl\":[{\"marker\":{\"line\":{\"color\":\"#283442\"}},\"type\":\"scattergl\"}],\"scatter3d\":[{\"type\":\"scatter3d\",\"line\":{\"colorbar\":{\"outlinewidth\":0,\"ticks\":\"\"}},\"marker\":{\"colorbar\":{\"outlinewidth\":0,\"ticks\":\"\"}}}],\"scattermapbox\":[{\"type\":\"scattermapbox\",\"marker\":{\"colorbar\":{\"outlinewidth\":0,\"ticks\":\"\"}}}],\"scatterternary\":[{\"type\":\"scatterternary\",\"marker\":{\"colorbar\":{\"outlinewidth\":0,\"ticks\":\"\"}}}],\"scattercarpet\":[{\"type\":\"scattercarpet\",\"marker\":{\"colorbar\":{\"outlinewidth\":0,\"ticks\":\"\"}}}],\"carpet\":[{\"aaxis\":{\"endlinecolor\":\"#A2B1C6\",\"gridcolor\":\"#506784\",\"linecolor\":\"#506784\",\"minorgridcolor\":\"#506784\",\"startlinecolor\":\"#A2B1C6\"},\"baxis\":{\"endlinecolor\":\"#A2B1C6\",\"gridcolor\":\"#506784\",\"linecolor\":\"#506784\",\"minorgridcolor\":\"#506784\",\"startlinecolor\":\"#A2B1C6\"},\"type\":\"carpet\"}],\"table\":[{\"cells\":{\"fill\":{\"color\":\"#506784\"},\"line\":{\"color\":\"rgb(17,17,17)\"}},\"header\":{\"fill\":{\"color\":\"#2a3f5f\"},\"line\":{\"color\":\"rgb(17,17,17)\"}},\"type\":\"table\"}],\"barpolar\":[{\"marker\":{\"line\":{\"color\":\"rgb(17,17,17)\",\"width\":0.5},\"pattern\":{\"fillmode\":\"overlay\",\"size\":10,\"solidity\":0.2}},\"type\":\"barpolar\"}],\"pie\":[{\"automargin\":true,\"type\":\"pie\"}]},\"layout\":{\"autotypenumbers\":\"strict\",\"colorway\":[\"#636efa\",\"#EF553B\",\"#00cc96\",\"#ab63fa\",\"#FFA15A\",\"#19d3f3\",\"#FF6692\",\"#B6E880\",\"#FF97FF\",\"#FECB52\"],\"font\":{\"color\":\"#f2f5fa\"},\"hovermode\":\"closest\",\"hoverlabel\":{\"align\":\"left\"},\"paper_bgcolor\":\"rgb(17,17,17)\",\"plot_bgcolor\":\"rgb(17,17,17)\",\"polar\":{\"bgcolor\":\"rgb(17,17,17)\",\"angularaxis\":{\"gridcolor\":\"#506784\",\"linecolor\":\"#506784\",\"ticks\":\"\"},\"radialaxis\":{\"gridcolor\":\"#506784\",\"linecolor\":\"#506784\",\"ticks\":\"\"}},\"ternary\":{\"bgcolor\":\"rgb(17,17,17)\",\"aaxis\":{\"gridcolor\":\"#506784\",\"linecolor\":\"#506784\",\"ticks\":\"\"},\"baxis\":{\"gridcolor\":\"#506784\",\"linecolor\":\"#506784\",\"ticks\":\"\"},\"caxis\":{\"gridcolor\":\"#506784\",\"linecolor\":\"#506784\",\"ticks\":\"\"}},\"coloraxis\":{\"colorbar\":{\"outlinewidth\":0,\"ticks\":\"\"}},\"colorscale\":{\"sequential\":[[0.0,\"#0d0887\"],[0.1111111111111111,\"#46039f\"],[0.2222222222222222,\"#7201a8\"],[0.3333333333333333,\"#9c179e\"],[0.4444444444444444,\"#bd3786\"],[0.5555555555555556,\"#d8576b\"],[0.6666666666666666,\"#ed7953\"],[0.7777777777777778,\"#fb9f3a\"],[0.8888888888888888,\"#fdca26\"],[1.0,\"#f0f921\"]],\"sequentialminus\":[[0.0,\"#0d0887\"],[0.1111111111111111,\"#46039f\"],[0.2222222222222222,\"#7201a8\"],[0.3333333333333333,\"#9c179e\"],[0.4444444444444444,\"#bd3786\"],[0.5555555555555556,\"#d8576b\"],[0.6666666666666666,\"#ed7953\"],[0.7777777777777778,\"#fb9f3a\"],[0.8888888888888888,\"#fdca26\"],[1.0,\"#f0f921\"]],\"diverging\":[[0,\"#8e0152\"],[0.1,\"#c51b7d\"],[0.2,\"#de77ae\"],[0.3,\"#f1b6da\"],[0.4,\"#fde0ef\"],[0.5,\"#f7f7f7\"],[0.6,\"#e6f5d0\"],[0.7,\"#b8e186\"],[0.8,\"#7fbc41\"],[0.9,\"#4d9221\"],[1,\"#276419\"]]},\"xaxis\":{\"gridcolor\":\"#283442\",\"linecolor\":\"#506784\",\"ticks\":\"\",\"title\":{\"standoff\":15},\"zerolinecolor\":\"#283442\",\"automargin\":true,\"zerolinewidth\":2},\"yaxis\":{\"gridcolor\":\"#283442\",\"linecolor\":\"#506784\",\"ticks\":\"\",\"title\":{\"standoff\":15},\"zerolinecolor\":\"#283442\",\"automargin\":true,\"zerolinewidth\":2},\"scene\":{\"xaxis\":{\"backgroundcolor\":\"rgb(17,17,17)\",\"gridcolor\":\"#506784\",\"linecolor\":\"#506784\",\"showbackground\":true,\"ticks\":\"\",\"zerolinecolor\":\"#C8D4E3\",\"gridwidth\":2},\"yaxis\":{\"backgroundcolor\":\"rgb(17,17,17)\",\"gridcolor\":\"#506784\",\"linecolor\":\"#506784\",\"showbackground\":true,\"ticks\":\"\",\"zerolinecolor\":\"#C8D4E3\",\"gridwidth\":2},\"zaxis\":{\"backgroundcolor\":\"rgb(17,17,17)\",\"gridcolor\":\"#506784\",\"linecolor\":\"#506784\",\"showbackground\":true,\"ticks\":\"\",\"zerolinecolor\":\"#C8D4E3\",\"gridwidth\":2}},\"shapedefaults\":{\"line\":{\"color\":\"#f2f5fa\"}},\"annotationdefaults\":{\"arrowcolor\":\"#f2f5fa\",\"arrowhead\":0,\"arrowwidth\":1},\"geo\":{\"bgcolor\":\"rgb(17,17,17)\",\"landcolor\":\"rgb(17,17,17)\",\"subunitcolor\":\"#506784\",\"showland\":true,\"showlakes\":true,\"lakecolor\":\"rgb(17,17,17)\"},\"title\":{\"x\":0.05},\"updatemenudefaults\":{\"bgcolor\":\"#506784\",\"borderwidth\":0},\"sliderdefaults\":{\"bgcolor\":\"#C8D4E3\",\"borderwidth\":1,\"bordercolor\":\"rgb(17,17,17)\",\"tickwidth\":0},\"mapbox\":{\"style\":\"dark\"}}},\"xaxis\":{\"anchor\":\"y\",\"domain\":[0.0,1.0],\"title\":{\"text\":\"DTHHRDY\"}},\"yaxis\":{\"anchor\":\"x\",\"domain\":[0.0,1.0],\"title\":{\"text\":\"medium_age\"}},\"legend\":{\"title\":{\"text\":\"SEX\"},\"tracegroupgap\":0},\"margin\":{\"t\":60},\"violinmode\":\"group\"},                        {\"responsive\": true}                    ).then(function(){\n                            \nvar gd = document.getElementById('a35155b4-e0c7-464e-989a-ea04b51f732e');\nvar x = new MutationObserver(function (mutations, observer) {{\n        var display = window.getComputedStyle(gd).display;\n        if (!display || display === 'none') {{\n            console.log([gd, 'removed!']);\n            Plotly.purge(gd);\n            observer.disconnect();\n        }}\n}});\n\n// Listen for the removal of the full notebook cells\nvar notebookContainer = gd.closest('#notebook-container');\nif (notebookContainer) {{\n    x.observe(notebookContainer, {childList: true});\n}}\n\n// Listen for the clearing of the current output cell\nvar outputEl = gd.closest('.output');\nif (outputEl) {{\n    x.observe(outputEl, {childList: true});\n}}\n\n                        })                };                });            </script>        </div>"
     },
     "metadata": {},
     "output_type": "display_data"
    }
   ],
   "source": [
    "import plotly.express as px\n",
    "pheno_pandas = phenotypes_extended.to_pandas()\n",
    "fig_d = px.violin(pheno_pandas, y=\"medium_age\", x=\"DTHHRDY\", color=\"SEX\", box=True, points=\"all\")\n",
    "fig_d.show()"
   ],
   "metadata": {
    "collapsed": false,
    "pycharm": {
     "name": "#%%\n"
    }
   }
  }
 ],
 "metadata": {
  "kernelspec": {
   "display_name": "Python 3",
   "language": "python",
   "name": "python3"
  },
  "language_info": {
   "codemirror_mode": {
    "name": "ipython",
    "version": 2
   },
   "file_extension": ".py",
   "mimetype": "text/x-python",
   "name": "python",
   "nbconvert_exporter": "python",
   "pygments_lexer": "ipython2",
   "version": "2.7.6"
  }
 },
 "nbformat": 4,
 "nbformat_minor": 0
}