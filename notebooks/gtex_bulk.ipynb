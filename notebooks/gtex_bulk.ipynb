{
 "cells": [
  {
   "cell_type": "markdown",
   "source": [
    "# Bulk RNA-Seq GTEX code\n",
    "\n",
    "Basic imports"
   ],
   "metadata": {
    "collapsed": false,
    "pycharm": {
     "name": "#%% md\n"
    }
   }
  },
  {
   "cell_type": "code",
   "execution_count": 1,
   "outputs": [],
   "source": [
    "import polars as pl\n",
    "from pathlib import Path\n",
    "from pycomfort.files import *\n",
    "from pycomfort import files\n",
    "import pyarrow"
   ],
   "metadata": {
    "collapsed": false,
    "pycharm": {
     "name": "#%%\n"
    }
   }
  },
  {
   "cell_type": "markdown",
   "source": [
    "setting up paths"
   ],
   "metadata": {
    "collapsed": false,
    "pycharm": {
     "name": "#%% md\n"
    }
   }
  },
  {
   "cell_type": "code",
   "execution_count": 2,
   "outputs": [
    {
     "name": "stdout",
     "output_type": "stream",
     "text": [
      "gtex\n",
      "\tGTEx_8_tissues_snRNAseq_atlas_071421.public_obs.h5ad\n",
      "\tGTEx_Analysis_v8_Annotations_SubjectPhenotypesDS.txt\n",
      "\tGTEx_Analysis_v8_Annotations_SampleAttributesDS.txt\n",
      "\tGTEx_8_tissues_snRNAseq_immune_atlas_071421.public_obs.h5ad\n",
      "\tGTEx_Analysis_2017-06-05_v8_RNASeQCv1.1.9_gene_tpm.gct\n"
     ]
    }
   ],
   "source": [
    "base = Path(\"..\").absolute().resolve()\n",
    "data = base / \"data\"\n",
    "input = data / \"input\"\n",
    "gtex = input / \"gtex\"\n",
    "gtex.mkdir(parents=True, exist_ok=True)\n",
    "tprint(gtex)"
   ],
   "metadata": {
    "collapsed": false,
    "pycharm": {
     "name": "#%%\n"
    }
   }
  },
  {
   "cell_type": "markdown",
   "source": [
    "## Bulk RNA-Seq"
   ],
   "metadata": {
    "collapsed": false,
    "pycharm": {
     "name": "#%% md\n"
    }
   }
  },
  {
   "cell_type": "code",
   "execution_count": 3,
   "outputs": [
    {
     "data": {
      "text/plain": "PosixPath('/home/antonkulaga/rna-clock/data/input/gtex/GTEx_Analysis_2017-06-05_v8_RNASeQCv1.1.9_gene_tpm.gct')"
     },
     "execution_count": 3,
     "metadata": {},
     "output_type": "execute_result"
    }
   ],
   "source": [
    "gct = files.with_ext(gtex, \".gct\")[0]\n",
    "gct"
   ],
   "metadata": {
    "collapsed": false,
    "pycharm": {
     "name": "#%%\n"
    }
   }
  },
  {
   "cell_type": "code",
   "execution_count": 4,
   "outputs": [
    {
     "data": {
      "text/plain": "shape: (10, 17384)\n┌───┬───────────┬────────────┬────────────┬─────┬────────────┬────────────┬────────────┬────────────┐\n│ N ┆ Descripti ┆ GTEX-1117F ┆ GTEX-1117F ┆ ... ┆ GTEX-ZZPU- ┆ GTEX-ZZPU- ┆ GTEX-ZZPU- ┆ GTEX-ZZPU- │\n│ a ┆ on        ┆ -0226-SM-5 ┆ -0426-SM-5 ┆     ┆ 2226-SM-5E ┆ 2426-SM-5E ┆ 2626-SM-5E ┆ 2726-SM-5N │\n│ m ┆ ---       ┆ GZZ7       ┆ EGHI       ┆     ┆ GIV        ┆ 44I        ┆ 45Y        ┆ Q8O        │\n│ e ┆ str       ┆ ---        ┆ ---        ┆     ┆ ---        ┆ ---        ┆ ---        ┆ ---        │\n│ - ┆           ┆ f64        ┆ f64        ┆     ┆ f64        ┆ f64        ┆ f64        ┆ f64        │\n│ - ┆           ┆            ┆            ┆     ┆            ┆            ┆            ┆            │\n│ - ┆           ┆            ┆            ┆     ┆            ┆            ┆            ┆            │\n│ s ┆           ┆            ┆            ┆     ┆            ┆            ┆            ┆            │\n│ t ┆           ┆            ┆            ┆     ┆            ┆            ┆            ┆            │\n│ r ┆           ┆            ┆            ┆     ┆            ┆            ┆            ┆            │\n╞═══╪═══════════╪════════════╪════════════╪═════╪════════════╪════════════╪════════════╪════════════╡\n│ E ┆ DDX11L1   ┆ 0.0        ┆ 0.0        ┆ ... ┆ 0.0        ┆ 0.0        ┆ 0.01965    ┆ 0.02522    │\n│ N ┆           ┆            ┆            ┆     ┆            ┆            ┆            ┆            │\n│ S ┆           ┆            ┆            ┆     ┆            ┆            ┆            ┆            │\n│ G ┆           ┆            ┆            ┆     ┆            ┆            ┆            ┆            │\n│ 0 ┆           ┆            ┆            ┆     ┆            ┆            ┆            ┆            │\n│ 0 ┆           ┆            ┆            ┆     ┆            ┆            ┆            ┆            │\n│ 0 ┆           ┆            ┆            ┆     ┆            ┆            ┆            ┆            │\n│ 0 ┆           ┆            ┆            ┆     ┆            ┆            ┆            ┆            │\n│ 0 ┆           ┆            ┆            ┆     ┆            ┆            ┆            ┆            │\n│ 2 ┆           ┆            ┆            ┆     ┆            ┆            ┆            ┆            │\n│ 2 ┆           ┆            ┆            ┆     ┆            ┆            ┆            ┆            │\n│ 3 ┆           ┆            ┆            ┆     ┆            ┆            ┆            ┆            │\n│ 9 ┆           ┆            ┆            ┆     ┆            ┆            ┆            ┆            │\n│ 7 ┆           ┆            ┆            ┆     ┆            ┆            ┆            ┆            │\n│ 2 ┆           ┆            ┆            ┆     ┆            ┆            ┆            ┆            │\n│ . ┆           ┆            ┆            ┆     ┆            ┆            ┆            ┆            │\n│ 5 ┆           ┆            ┆            ┆     ┆            ┆            ┆            ┆            │\n├╌╌╌┼╌╌╌╌╌╌╌╌╌╌╌┼╌╌╌╌╌╌╌╌╌╌╌╌┼╌╌╌╌╌╌╌╌╌╌╌╌┼╌╌╌╌╌┼╌╌╌╌╌╌╌╌╌╌╌╌┼╌╌╌╌╌╌╌╌╌╌╌╌┼╌╌╌╌╌╌╌╌╌╌╌╌┼╌╌╌╌╌╌╌╌╌╌╌╌┤\n│ E ┆ WASH7P    ┆ 8.764      ┆ 3.861      ┆ ... ┆ 1.922      ┆ 2.857      ┆ 0.8696     ┆ 2.167      │\n│ N ┆           ┆            ┆            ┆     ┆            ┆            ┆            ┆            │\n│ S ┆           ┆            ┆            ┆     ┆            ┆            ┆            ┆            │\n│ G ┆           ┆            ┆            ┆     ┆            ┆            ┆            ┆            │\n│ 0 ┆           ┆            ┆            ┆     ┆            ┆            ┆            ┆            │\n│ 0 ┆           ┆            ┆            ┆     ┆            ┆            ┆            ┆            │\n│ 0 ┆           ┆            ┆            ┆     ┆            ┆            ┆            ┆            │\n│ 0 ┆           ┆            ┆            ┆     ┆            ┆            ┆            ┆            │\n│ 0 ┆           ┆            ┆            ┆     ┆            ┆            ┆            ┆            │\n│ 2 ┆           ┆            ┆            ┆     ┆            ┆            ┆            ┆            │\n│ 2 ┆           ┆            ┆            ┆     ┆            ┆            ┆            ┆            │\n│ 7 ┆           ┆            ┆            ┆     ┆            ┆            ┆            ┆            │\n│ 2 ┆           ┆            ┆            ┆     ┆            ┆            ┆            ┆            │\n│ 3 ┆           ┆            ┆            ┆     ┆            ┆            ┆            ┆            │\n│ 2 ┆           ┆            ┆            ┆     ┆            ┆            ┆            ┆            │\n│ . ┆           ┆            ┆            ┆     ┆            ┆            ┆            ┆            │\n│ 5 ┆           ┆            ┆            ┆     ┆            ┆            ┆            ┆            │\n├╌╌╌┼╌╌╌╌╌╌╌╌╌╌╌┼╌╌╌╌╌╌╌╌╌╌╌╌┼╌╌╌╌╌╌╌╌╌╌╌╌┼╌╌╌╌╌┼╌╌╌╌╌╌╌╌╌╌╌╌┼╌╌╌╌╌╌╌╌╌╌╌╌┼╌╌╌╌╌╌╌╌╌╌╌╌┼╌╌╌╌╌╌╌╌╌╌╌╌┤\n│ E ┆ MIR6859-1 ┆ 0.0        ┆ 0.0        ┆ ... ┆ 0.0        ┆ 0.0        ┆ 0.0        ┆ 0.0        │\n│ N ┆           ┆            ┆            ┆     ┆            ┆            ┆            ┆            │\n│ S ┆           ┆            ┆            ┆     ┆            ┆            ┆            ┆            │\n│ G ┆           ┆            ┆            ┆     ┆            ┆            ┆            ┆            │\n│ 0 ┆           ┆            ┆            ┆     ┆            ┆            ┆            ┆            │\n│ 0 ┆           ┆            ┆            ┆     ┆            ┆            ┆            ┆            │\n│ 0 ┆           ┆            ┆            ┆     ┆            ┆            ┆            ┆            │\n│ 0 ┆           ┆            ┆            ┆     ┆            ┆            ┆            ┆            │\n│ 0 ┆           ┆            ┆            ┆     ┆            ┆            ┆            ┆            │\n│ 2 ┆           ┆            ┆            ┆     ┆            ┆            ┆            ┆            │\n│ 7 ┆           ┆            ┆            ┆     ┆            ┆            ┆            ┆            │\n│ 8 ┆           ┆            ┆            ┆     ┆            ┆            ┆            ┆            │\n│ 2 ┆           ┆            ┆            ┆     ┆            ┆            ┆            ┆            │\n│ 6 ┆           ┆            ┆            ┆     ┆            ┆            ┆            ┆            │\n│ 7 ┆           ┆            ┆            ┆     ┆            ┆            ┆            ┆            │\n│ . ┆           ┆            ┆            ┆     ┆            ┆            ┆            ┆            │\n│ 1 ┆           ┆            ┆            ┆     ┆            ┆            ┆            ┆            │\n├╌╌╌┼╌╌╌╌╌╌╌╌╌╌╌┼╌╌╌╌╌╌╌╌╌╌╌╌┼╌╌╌╌╌╌╌╌╌╌╌╌┼╌╌╌╌╌┼╌╌╌╌╌╌╌╌╌╌╌╌┼╌╌╌╌╌╌╌╌╌╌╌╌┼╌╌╌╌╌╌╌╌╌╌╌╌┼╌╌╌╌╌╌╌╌╌╌╌╌┤\n│ E ┆ MIR1302-2 ┆ 0.07187    ┆ 0.0        ┆ ... ┆ 0.0        ┆ 0.05216    ┆ 0.0        ┆ 0.0        │\n│ N ┆ HG        ┆            ┆            ┆     ┆            ┆            ┆            ┆            │\n│ S ┆           ┆            ┆            ┆     ┆            ┆            ┆            ┆            │\n│ G ┆           ┆            ┆            ┆     ┆            ┆            ┆            ┆            │\n│ 0 ┆           ┆            ┆            ┆     ┆            ┆            ┆            ┆            │\n│ 0 ┆           ┆            ┆            ┆     ┆            ┆            ┆            ┆            │\n│ 0 ┆           ┆            ┆            ┆     ┆            ┆            ┆            ┆            │\n│ 0 ┆           ┆            ┆            ┆     ┆            ┆            ┆            ┆            │\n│ 0 ┆           ┆            ┆            ┆     ┆            ┆            ┆            ┆            │\n│ 2 ┆           ┆            ┆            ┆     ┆            ┆            ┆            ┆            │\n│ 4 ┆           ┆            ┆            ┆     ┆            ┆            ┆            ┆            │\n│ 3 ┆           ┆            ┆            ┆     ┆            ┆            ┆            ┆            │\n│ 4 ┆           ┆            ┆            ┆     ┆            ┆            ┆            ┆            │\n│ 8 ┆           ┆            ┆            ┆     ┆            ┆            ┆            ┆            │\n│ 5 ┆           ┆            ┆            ┆     ┆            ┆            ┆            ┆            │\n│ . ┆           ┆            ┆            ┆     ┆            ┆            ┆            ┆            │\n│ 5 ┆           ┆            ┆            ┆     ┆            ┆            ┆            ┆            │\n├╌╌╌┼╌╌╌╌╌╌╌╌╌╌╌┼╌╌╌╌╌╌╌╌╌╌╌╌┼╌╌╌╌╌╌╌╌╌╌╌╌┼╌╌╌╌╌┼╌╌╌╌╌╌╌╌╌╌╌╌┼╌╌╌╌╌╌╌╌╌╌╌╌┼╌╌╌╌╌╌╌╌╌╌╌╌┼╌╌╌╌╌╌╌╌╌╌╌╌┤\n│ . ┆ ...       ┆ ...        ┆ ...        ┆ ... ┆ ...        ┆ ...        ┆ ...        ┆ ...        │\n│ . ┆           ┆            ┆            ┆     ┆            ┆            ┆            ┆            │\n│ . ┆           ┆            ┆            ┆     ┆            ┆            ┆            ┆            │\n├╌╌╌┼╌╌╌╌╌╌╌╌╌╌╌┼╌╌╌╌╌╌╌╌╌╌╌╌┼╌╌╌╌╌╌╌╌╌╌╌╌┼╌╌╌╌╌┼╌╌╌╌╌╌╌╌╌╌╌╌┼╌╌╌╌╌╌╌╌╌╌╌╌┼╌╌╌╌╌╌╌╌╌╌╌╌┼╌╌╌╌╌╌╌╌╌╌╌╌┤\n│ E ┆ OR4G11P   ┆ 0.06621    ┆ 0.05004    ┆ ... ┆ 0.1108     ┆ 0.0961     ┆ 0.03614    ┆ 0.0        │\n│ N ┆           ┆            ┆            ┆     ┆            ┆            ┆            ┆            │\n│ S ┆           ┆            ┆            ┆     ┆            ┆            ┆            ┆            │\n│ G ┆           ┆            ┆            ┆     ┆            ┆            ┆            ┆            │\n│ 0 ┆           ┆            ┆            ┆     ┆            ┆            ┆            ┆            │\n│ 0 ┆           ┆            ┆            ┆     ┆            ┆            ┆            ┆            │\n│ 0 ┆           ┆            ┆            ┆     ┆            ┆            ┆            ┆            │\n│ 0 ┆           ┆            ┆            ┆     ┆            ┆            ┆            ┆            │\n│ 0 ┆           ┆            ┆            ┆     ┆            ┆            ┆            ┆            │\n│ 2 ┆           ┆            ┆            ┆     ┆            ┆            ┆            ┆            │\n│ 4 ┆           ┆            ┆            ┆     ┆            ┆            ┆            ┆            │\n│ 0 ┆           ┆            ┆            ┆     ┆            ┆            ┆            ┆            │\n│ 3 ┆           ┆            ┆            ┆     ┆            ┆            ┆            ┆            │\n│ 6 ┆           ┆            ┆            ┆     ┆            ┆            ┆            ┆            │\n│ 1 ┆           ┆            ┆            ┆     ┆            ┆            ┆            ┆            │\n│ . ┆           ┆            ┆            ┆     ┆            ┆            ┆            ┆            │\n│ 1 ┆           ┆            ┆            ┆     ┆            ┆            ┆            ┆            │\n├╌╌╌┼╌╌╌╌╌╌╌╌╌╌╌┼╌╌╌╌╌╌╌╌╌╌╌╌┼╌╌╌╌╌╌╌╌╌╌╌╌┼╌╌╌╌╌┼╌╌╌╌╌╌╌╌╌╌╌╌┼╌╌╌╌╌╌╌╌╌╌╌╌┼╌╌╌╌╌╌╌╌╌╌╌╌┼╌╌╌╌╌╌╌╌╌╌╌╌┤\n│ E ┆ OR4F5     ┆ 0.0        ┆ 0.1025     ┆ ... ┆ 0.1135     ┆ 0.0        ┆ 0.148      ┆ 0.0        │\n│ N ┆           ┆            ┆            ┆     ┆            ┆            ┆            ┆            │\n│ S ┆           ┆            ┆            ┆     ┆            ┆            ┆            ┆            │\n│ G ┆           ┆            ┆            ┆     ┆            ┆            ┆            ┆            │\n│ 0 ┆           ┆            ┆            ┆     ┆            ┆            ┆            ┆            │\n│ 0 ┆           ┆            ┆            ┆     ┆            ┆            ┆            ┆            │\n│ 0 ┆           ┆            ┆            ┆     ┆            ┆            ┆            ┆            │\n│ 0 ┆           ┆            ┆            ┆     ┆            ┆            ┆            ┆            │\n│ 0 ┆           ┆            ┆            ┆     ┆            ┆            ┆            ┆            │\n│ 1 ┆           ┆            ┆            ┆     ┆            ┆            ┆            ┆            │\n│ 8 ┆           ┆            ┆            ┆     ┆            ┆            ┆            ┆            │\n│ 6 ┆           ┆            ┆            ┆     ┆            ┆            ┆            ┆            │\n│ 0 ┆           ┆            ┆            ┆     ┆            ┆            ┆            ┆            │\n│ 9 ┆           ┆            ┆            ┆     ┆            ┆            ┆            ┆            │\n│ 2 ┆           ┆            ┆            ┆     ┆            ┆            ┆            ┆            │\n│ . ┆           ┆            ┆            ┆     ┆            ┆            ┆            ┆            │\n│ 4 ┆           ┆            ┆            ┆     ┆            ┆            ┆            ┆            │\n├╌╌╌┼╌╌╌╌╌╌╌╌╌╌╌┼╌╌╌╌╌╌╌╌╌╌╌╌┼╌╌╌╌╌╌╌╌╌╌╌╌┼╌╌╌╌╌┼╌╌╌╌╌╌╌╌╌╌╌╌┼╌╌╌╌╌╌╌╌╌╌╌╌┼╌╌╌╌╌╌╌╌╌╌╌╌┼╌╌╌╌╌╌╌╌╌╌╌╌┤\n│ E ┆ RP11-34P1 ┆ 0.0        ┆ 0.04574    ┆ ... ┆ 0.0        ┆ 0.1098     ┆ 0.01651    ┆ 0.0212     │\n│ N ┆ 3.7       ┆            ┆            ┆     ┆            ┆            ┆            ┆            │\n│ S ┆           ┆            ┆            ┆     ┆            ┆            ┆            ┆            │\n│ G ┆           ┆            ┆            ┆     ┆            ┆            ┆            ┆            │\n│ 0 ┆           ┆            ┆            ┆     ┆            ┆            ┆            ┆            │\n│ 0 ┆           ┆            ┆            ┆     ┆            ┆            ┆            ┆            │\n│ 0 ┆           ┆            ┆            ┆     ┆            ┆            ┆            ┆            │\n│ 0 ┆           ┆            ┆            ┆     ┆            ┆            ┆            ┆            │\n│ 0 ┆           ┆            ┆            ┆     ┆            ┆            ┆            ┆            │\n│ 2 ┆           ┆            ┆            ┆     ┆            ┆            ┆            ┆            │\n│ 3 ┆           ┆            ┆            ┆     ┆            ┆            ┆            ┆            │\n│ 8 ┆           ┆            ┆            ┆     ┆            ┆            ┆            ┆            │\n│ 0 ┆           ┆            ┆            ┆     ┆            ┆            ┆            ┆            │\n│ 0 ┆           ┆            ┆            ┆     ┆            ┆            ┆            ┆            │\n│ 9 ┆           ┆            ┆            ┆     ┆            ┆            ┆            ┆            │\n│ . ┆           ┆            ┆            ┆     ┆            ┆            ┆            ┆            │\n│ 6 ┆           ┆            ┆            ┆     ┆            ┆            ┆            ┆            │\n├╌╌╌┼╌╌╌╌╌╌╌╌╌╌╌┼╌╌╌╌╌╌╌╌╌╌╌╌┼╌╌╌╌╌╌╌╌╌╌╌╌┼╌╌╌╌╌┼╌╌╌╌╌╌╌╌╌╌╌╌┼╌╌╌╌╌╌╌╌╌╌╌╌┼╌╌╌╌╌╌╌╌╌╌╌╌┼╌╌╌╌╌╌╌╌╌╌╌╌┤\n│ E ┆ CICP27    ┆ 0.03595    ┆ 0.01359    ┆ ... ┆ 0.2709     ┆ 0.05219    ┆ 0.0        ┆ 0.1134     │\n│ N ┆           ┆            ┆            ┆     ┆            ┆            ┆            ┆            │\n│ S ┆           ┆            ┆            ┆     ┆            ┆            ┆            ┆            │\n│ G ┆           ┆            ┆            ┆     ┆            ┆            ┆            ┆            │\n│ 0 ┆           ┆            ┆            ┆     ┆            ┆            ┆            ┆            │\n│ 0 ┆           ┆            ┆            ┆     ┆            ┆            ┆            ┆            │\n│ 0 ┆           ┆            ┆            ┆     ┆            ┆            ┆            ┆            │\n│ 0 ┆           ┆            ┆            ┆     ┆            ┆            ┆            ┆            │\n│ 0 ┆           ┆            ┆            ┆     ┆            ┆            ┆            ┆            │\n│ 2 ┆           ┆            ┆            ┆     ┆            ┆            ┆            ┆            │\n│ 3 ┆           ┆            ┆            ┆     ┆            ┆            ┆            ┆            │\n│ 3 ┆           ┆            ┆            ┆     ┆            ┆            ┆            ┆            │\n│ 7 ┆           ┆            ┆            ┆     ┆            ┆            ┆            ┆            │\n│ 5 ┆           ┆            ┆            ┆     ┆            ┆            ┆            ┆            │\n│ 0 ┆           ┆            ┆            ┆     ┆            ┆            ┆            ┆            │\n│ . ┆           ┆            ┆            ┆     ┆            ┆            ┆            ┆            │\n│ 3 ┆           ┆            ┆            ┆     ┆            ┆            ┆            ┆            │\n└───┴───────────┴────────────┴────────────┴─────┴────────────┴────────────┴────────────┴────────────┘",
      "text/html": "<div>\n<style scoped>\n    .dataframe tbody tr th:only-of-type {\n        vertical-align: middle;\n    }\n\n    .dataframe tbody tr th {\n        vertical-align: top;\n    }\n\n    .dataframe thead th {\n        text-align: right;\n    }\n\n    .dataframe td {\n        white-space: pre;\n    }\n\n    .dataframe td {\n        padding-top: 0;\n    }\n\n    .dataframe td {\n        padding-bottom: 0;\n    }\n\n    .dataframe td {\n        line-height: 95%;\n    }\n</style>\n<table border=\"1\" class=\"dataframe\" >\n<small>shape: (10, 17384)</small>\n<thead>\n<tr>\n<th>\nName\n</th>\n<th>\nDescription\n</th>\n<th>\nGTEX-1117F-0226-SM-5GZZ7\n</th>\n<th>\nGTEX-1117F-0426-SM-5EGHI\n</th>\n<th>\nGTEX-1117F-0526-SM-5EGHJ\n</th>\n<th>\nGTEX-1117F-0626-SM-5N9CS\n</th>\n<th>\nGTEX-1117F-0726-SM-5GIEN\n</th>\n<th>\nGTEX-1117F-1326-SM-5EGHH\n</th>\n<th>\nGTEX-1117F-2426-SM-5EGGH\n</th>\n<th>\nGTEX-1117F-2526-SM-5GZY6\n</th>\n<th>\nGTEX-1117F-2826-SM-5GZXL\n</th>\n<th>\nGTEX-1117F-2926-SM-5GZYI\n</th>\n<th>\nGTEX-1117F-3026-SM-5GZYU\n</th>\n<th>\nGTEX-1117F-3226-SM-5N9CT\n</th>\n<th>\nGTEX-111CU-0126-SM-5GZWZ\n</th>\n<th>\nGTEX-111CU-0226-SM-5GZXC\n</th>\n<th>\nGTEX-111CU-0326-SM-5GZXO\n</th>\n<th>\nGTEX-111CU-0426-SM-5GZY1\n</th>\n<th>\nGTEX-111CU-0526-SM-5EGHK\n</th>\n<th>\nGTEX-111CU-0626-SM-5EGHL\n</th>\n<th>\nGTEX-111CU-0726-SM-5GZYD\n</th>\n<th>\nGTEX-111CU-0826-SM-5EGIJ\n</th>\n<th>\nGTEX-111CU-0926-SM-5EGIK\n</th>\n<th>\nGTEX-111CU-1026-SM-5EGIL\n</th>\n<th>\nGTEX-111CU-1126-SM-5EGIM\n</th>\n<th>\nGTEX-111CU-1226-SM-5EGIN\n</th>\n<th>\nGTEX-111CU-1326-SM-5NQ8L\n</th>\n<th>\nGTEX-111CU-1426-SM-5GZYP\n</th>\n<th>\nGTEX-111CU-1526-SM-5N9FS\n</th>\n<th>\nGTEX-111CU-1726-SM-5EGHM\n</th>\n<th>\nGTEX-111CU-1826-SM-5GZYN\n</th>\n<th>\nGTEX-111CU-2026-SM-5GZZC\n</th>\n<th>\nGTEX-111CU-2226-SM-5N9G5\n</th>\n<th>\nGTEX-111FC-0126-SM-5N9DL\n</th>\n<th>\nGTEX-111FC-0226-SM-5N9B8\n</th>\n<th>\nGTEX-111FC-0326-SM-5GZZ1\n</th>\n<th>\nGTEX-111FC-0426-SM-5N9CV\n</th>\n<th>\n...\n</th>\n<th>\nGTEX-ZZ64-0826-SM-5E449\n</th>\n<th>\nGTEX-ZZ64-0926-SM-5E44L\n</th>\n<th>\nGTEX-ZZ64-1026-SM-5GZXG\n</th>\n<th>\nGTEX-ZZ64-1126-SM-5GZXY\n</th>\n<th>\nGTEX-ZZ64-1226-SM-5E43R\n</th>\n<th>\nGTEX-ZZ64-1326-SM-5E444\n</th>\n<th>\nGTEX-ZZ64-1426-SM-5NQ8C\n</th>\n<th>\nGTEX-ZZ64-1526-SM-5E43K\n</th>\n<th>\nGTEX-ZZ64-1626-SM-5E43W\n</th>\n<th>\nGTEX-ZZ64-1726-SM-5GZYB\n</th>\n<th>\nGTEX-ZZPT-0226-SM-5E43X\n</th>\n<th>\nGTEX-ZZPT-0626-SM-5GZXT\n</th>\n<th>\nGTEX-ZZPT-0926-SM-5GICZ\n</th>\n<th>\nGTEX-ZZPT-1326-SM-5E43H\n</th>\n<th>\nGTEX-ZZPT-1426-SM-5N9C5\n</th>\n<th>\nGTEX-ZZPT-2926-SM-5EQ5S\n</th>\n<th>\nGTEX-ZZPT-3026-SM-5GZXH\n</th>\n<th>\nGTEX-ZZPU-0126-SM-5E446\n</th>\n<th>\nGTEX-ZZPU-0226-SM-5N9BV\n</th>\n<th>\nGTEX-ZZPU-0326-SM-5N9BJ\n</th>\n<th>\nGTEX-ZZPU-0426-SM-5GZYH\n</th>\n<th>\nGTEX-ZZPU-0526-SM-5E44U\n</th>\n<th>\nGTEX-ZZPU-0626-SM-5E43T\n</th>\n<th>\nGTEX-ZZPU-0726-SM-5N9C8\n</th>\n<th>\nGTEX-ZZPU-0826-SM-5GZX5\n</th>\n<th>\nGTEX-ZZPU-0926-SM-5GZYT\n</th>\n<th>\nGTEX-ZZPU-1026-SM-5E457\n</th>\n<th>\nGTEX-ZZPU-1126-SM-5N9CW\n</th>\n<th>\nGTEX-ZZPU-1226-SM-5N9CK\n</th>\n<th>\nGTEX-ZZPU-1326-SM-5GZWS\n</th>\n<th>\nGTEX-ZZPU-1426-SM-5GZZ6\n</th>\n<th>\nGTEX-ZZPU-1826-SM-5E43L\n</th>\n<th>\nGTEX-ZZPU-2126-SM-5EGIU\n</th>\n<th>\nGTEX-ZZPU-2226-SM-5EGIV\n</th>\n<th>\nGTEX-ZZPU-2426-SM-5E44I\n</th>\n<th>\nGTEX-ZZPU-2626-SM-5E45Y\n</th>\n<th>\nGTEX-ZZPU-2726-SM-5NQ8O\n</th>\n</tr>\n<tr>\n<td>\nstr\n</td>\n<td>\nstr\n</td>\n<td>\nf64\n</td>\n<td>\nf64\n</td>\n<td>\nf64\n</td>\n<td>\nf64\n</td>\n<td>\nf64\n</td>\n<td>\nf64\n</td>\n<td>\nf64\n</td>\n<td>\nf64\n</td>\n<td>\nf64\n</td>\n<td>\nf64\n</td>\n<td>\nf64\n</td>\n<td>\nf64\n</td>\n<td>\nf64\n</td>\n<td>\nf64\n</td>\n<td>\nf64\n</td>\n<td>\nf64\n</td>\n<td>\nf64\n</td>\n<td>\nf64\n</td>\n<td>\nf64\n</td>\n<td>\nf64\n</td>\n<td>\nf64\n</td>\n<td>\nf64\n</td>\n<td>\nf64\n</td>\n<td>\nf64\n</td>\n<td>\nf64\n</td>\n<td>\nf64\n</td>\n<td>\nf64\n</td>\n<td>\nf64\n</td>\n<td>\nf64\n</td>\n<td>\nf64\n</td>\n<td>\nf64\n</td>\n<td>\nf64\n</td>\n<td>\nf64\n</td>\n<td>\nf64\n</td>\n<td>\nf64\n</td>\n<td>\n...\n</td>\n<td>\nf64\n</td>\n<td>\nf64\n</td>\n<td>\nf64\n</td>\n<td>\nf64\n</td>\n<td>\nf64\n</td>\n<td>\nf64\n</td>\n<td>\nf64\n</td>\n<td>\nf64\n</td>\n<td>\nf64\n</td>\n<td>\nf64\n</td>\n<td>\nf64\n</td>\n<td>\nf64\n</td>\n<td>\nf64\n</td>\n<td>\nf64\n</td>\n<td>\nf64\n</td>\n<td>\nf64\n</td>\n<td>\nf64\n</td>\n<td>\nf64\n</td>\n<td>\nf64\n</td>\n<td>\nf64\n</td>\n<td>\nf64\n</td>\n<td>\nf64\n</td>\n<td>\nf64\n</td>\n<td>\nf64\n</td>\n<td>\nf64\n</td>\n<td>\nf64\n</td>\n<td>\nf64\n</td>\n<td>\nf64\n</td>\n<td>\nf64\n</td>\n<td>\nf64\n</td>\n<td>\nf64\n</td>\n<td>\nf64\n</td>\n<td>\nf64\n</td>\n<td>\nf64\n</td>\n<td>\nf64\n</td>\n<td>\nf64\n</td>\n<td>\nf64\n</td>\n</tr>\n</thead>\n<tbody>\n<tr>\n<td>\n\"ENSG0000022397...\n</td>\n<td>\n\"DDX11L1\"\n</td>\n<td>\n0.0\n</td>\n<td>\n0.0\n</td>\n<td>\n0.0\n</td>\n<td>\n0.0\n</td>\n<td>\n0.0\n</td>\n<td>\n0.0\n</td>\n<td>\n0.0\n</td>\n<td>\n0.0\n</td>\n<td>\n0.0\n</td>\n<td>\n0.0\n</td>\n<td>\n0.0\n</td>\n<td>\n0.01776\n</td>\n<td>\n0.03757\n</td>\n<td>\n0.04667\n</td>\n<td>\n0.0\n</td>\n<td>\n0.01832\n</td>\n<td>\n0.0\n</td>\n<td>\n0.0\n</td>\n<td>\n0.06455\n</td>\n<td>\n0.0\n</td>\n<td>\n0.1064\n</td>\n<td>\n0.0\n</td>\n<td>\n0.0\n</td>\n<td>\n0.0\n</td>\n<td>\n0.0\n</td>\n<td>\n0.01936\n</td>\n<td>\n0.0\n</td>\n<td>\n0.2137\n</td>\n<td>\n0.0\n</td>\n<td>\n0.0\n</td>\n<td>\n0.02434\n</td>\n<td>\n0.0\n</td>\n<td>\n0.0\n</td>\n<td>\n0.01768\n</td>\n<td>\n0.0\n</td>\n<td>\n...\n</td>\n<td>\n0.0\n</td>\n<td>\n0.0\n</td>\n<td>\n0.0\n</td>\n<td>\n0.392\n</td>\n<td>\n0.0\n</td>\n<td>\n0.0\n</td>\n<td>\n0.0\n</td>\n<td>\n0.0\n</td>\n<td>\n0.0\n</td>\n<td>\n0.0\n</td>\n<td>\n0.0\n</td>\n<td>\n0.02796\n</td>\n<td>\n0.01816\n</td>\n<td>\n0.0\n</td>\n<td>\n0.06966\n</td>\n<td>\n0.03126\n</td>\n<td>\n0.01874\n</td>\n<td>\n0.1319\n</td>\n<td>\n0.02201\n</td>\n<td>\n0.0\n</td>\n<td>\n0.0218\n</td>\n<td>\n0.04614\n</td>\n<td>\n0.04273\n</td>\n<td>\n0.03502\n</td>\n<td>\n0.0\n</td>\n<td>\n0.0\n</td>\n<td>\n0.01989\n</td>\n<td>\n0.0\n</td>\n<td>\n0.03629\n</td>\n<td>\n0.0\n</td>\n<td>\n0.0\n</td>\n<td>\n0.0\n</td>\n<td>\n0.0\n</td>\n<td>\n0.0\n</td>\n<td>\n0.0\n</td>\n<td>\n0.01965\n</td>\n<td>\n0.02522\n</td>\n</tr>\n<tr>\n<td>\n\"ENSG0000022723...\n</td>\n<td>\n\"WASH7P\"\n</td>\n<td>\n8.764\n</td>\n<td>\n3.861\n</td>\n<td>\n7.349\n</td>\n<td>\n11.07\n</td>\n<td>\n3.306\n</td>\n<td>\n5.389\n</td>\n<td>\n11.99\n</td>\n<td>\n16.95\n</td>\n<td>\n10.04\n</td>\n<td>\n12.5\n</td>\n<td>\n9.357\n</td>\n<td>\n6.892\n</td>\n<td>\n0.9295\n</td>\n<td>\n1.823\n</td>\n<td>\n1.794\n</td>\n<td>\n2.338\n</td>\n<td>\n0.7206\n</td>\n<td>\n1.452\n</td>\n<td>\n0.9525\n</td>\n<td>\n1.828\n</td>\n<td>\n1.2\n</td>\n<td>\n0.838\n</td>\n<td>\n4.459\n</td>\n<td>\n1.909\n</td>\n<td>\n2.198\n</td>\n<td>\n1.235\n</td>\n<td>\n4.252\n</td>\n<td>\n3.101\n</td>\n<td>\n3.082\n</td>\n<td>\n1.036\n</td>\n<td>\n4.753\n</td>\n<td>\n5.766\n</td>\n<td>\n4.2\n</td>\n<td>\n1.197\n</td>\n<td>\n3.378\n</td>\n<td>\n...\n</td>\n<td>\n4.077\n</td>\n<td>\n11.49\n</td>\n<td>\n4.14\n</td>\n<td>\n4.703\n</td>\n<td>\n2.466\n</td>\n<td>\n4.744\n</td>\n<td>\n5.785\n</td>\n<td>\n1.819\n</td>\n<td>\n4.201\n</td>\n<td>\n8.683\n</td>\n<td>\n4.186\n</td>\n<td>\n3.604\n</td>\n<td>\n2.341\n</td>\n<td>\n4.139\n</td>\n<td>\n7.497\n</td>\n<td>\n3.907\n</td>\n<td>\n2.123\n</td>\n<td>\n2.747\n</td>\n<td>\n2.322\n</td>\n<td>\n1.454\n</td>\n<td>\n1.135\n</td>\n<td>\n2.733\n</td>\n<td>\n2.003\n</td>\n<td>\n1.938\n</td>\n<td>\n6.115\n</td>\n<td>\n1.016\n</td>\n<td>\n2.252\n</td>\n<td>\n1.606\n</td>\n<td>\n2.268\n</td>\n<td>\n5.386\n</td>\n<td>\n2.31\n</td>\n<td>\n2.456\n</td>\n<td>\n4.023\n</td>\n<td>\n1.922\n</td>\n<td>\n2.857\n</td>\n<td>\n0.8696\n</td>\n<td>\n2.167\n</td>\n</tr>\n<tr>\n<td>\n\"ENSG0000027826...\n</td>\n<td>\n\"MIR6859-1\"\n</td>\n<td>\n0.0\n</td>\n<td>\n0.0\n</td>\n<td>\n1.004\n</td>\n<td>\n0.0\n</td>\n<td>\n0.0\n</td>\n<td>\n0.0\n</td>\n<td>\n0.0\n</td>\n<td>\n0.0\n</td>\n<td>\n0.0\n</td>\n<td>\n0.0\n</td>\n<td>\n0.0\n</td>\n<td>\n0.0\n</td>\n<td>\n0.0\n</td>\n<td>\n0.0\n</td>\n<td>\n0.0\n</td>\n<td>\n0.0\n</td>\n<td>\n0.0\n</td>\n<td>\n0.0\n</td>\n<td>\n0.0\n</td>\n<td>\n0.0\n</td>\n<td>\n0.0\n</td>\n<td>\n0.0\n</td>\n<td>\n0.0\n</td>\n<td>\n0.0\n</td>\n<td>\n0.0\n</td>\n<td>\n0.0\n</td>\n<td>\n0.0\n</td>\n<td>\n0.0\n</td>\n<td>\n0.0\n</td>\n<td>\n0.0\n</td>\n<td>\n0.0\n</td>\n<td>\n0.0\n</td>\n<td>\n0.0\n</td>\n<td>\n0.0\n</td>\n<td>\n0.0\n</td>\n<td>\n...\n</td>\n<td>\n0.0\n</td>\n<td>\n0.0\n</td>\n<td>\n0.0\n</td>\n<td>\n0.0\n</td>\n<td>\n0.0\n</td>\n<td>\n0.0\n</td>\n<td>\n0.0\n</td>\n<td>\n0.0\n</td>\n<td>\n0.0\n</td>\n<td>\n0.0\n</td>\n<td>\n0.0\n</td>\n<td>\n0.0\n</td>\n<td>\n0.0\n</td>\n<td>\n0.0\n</td>\n<td>\n0.0\n</td>\n<td>\n0.0\n</td>\n<td>\n0.0\n</td>\n<td>\n0.0\n</td>\n<td>\n0.0\n</td>\n<td>\n0.0\n</td>\n<td>\n0.0\n</td>\n<td>\n0.0\n</td>\n<td>\n0.0\n</td>\n<td>\n0.0\n</td>\n<td>\n0.0\n</td>\n<td>\n0.4723\n</td>\n<td>\n0.0\n</td>\n<td>\n0.0\n</td>\n<td>\n0.0\n</td>\n<td>\n0.0\n</td>\n<td>\n0.0\n</td>\n<td>\n0.0\n</td>\n<td>\n0.0\n</td>\n<td>\n0.0\n</td>\n<td>\n0.0\n</td>\n<td>\n0.0\n</td>\n<td>\n0.0\n</td>\n</tr>\n<tr>\n<td>\n\"ENSG0000024348...\n</td>\n<td>\n\"MIR1302-2HG\"\n</td>\n<td>\n0.07187\n</td>\n<td>\n0.0\n</td>\n<td>\n0.0\n</td>\n<td>\n0.06761\n</td>\n<td>\n0.0\n</td>\n<td>\n0.0\n</td>\n<td>\n0.0\n</td>\n<td>\n0.0\n</td>\n<td>\n0.0\n</td>\n<td>\n0.06265\n</td>\n<td>\n0.05905\n</td>\n<td>\n0.0\n</td>\n<td>\n0.0\n</td>\n<td>\n0.04659\n</td>\n<td>\n0.0\n</td>\n<td>\n0.0\n</td>\n<td>\n0.0425\n</td>\n<td>\n0.05431\n</td>\n<td>\n0.0\n</td>\n<td>\n0.06094\n</td>\n<td>\n0.07078\n</td>\n<td>\n0.0378\n</td>\n<td>\n0.0\n</td>\n<td>\n0.0\n</td>\n<td>\n0.0\n</td>\n<td>\n0.0\n</td>\n<td>\n0.0\n</td>\n<td>\n0.06096\n</td>\n<td>\n0.0\n</td>\n<td>\n0.0\n</td>\n<td>\n0.0486\n</td>\n<td>\n0.0\n</td>\n<td>\n0.04183\n</td>\n<td>\n0.0\n</td>\n<td>\n0.0\n</td>\n<td>\n...\n</td>\n<td>\n0.0\n</td>\n<td>\n0.146\n</td>\n<td>\n0.05038\n</td>\n<td>\n0.0559\n</td>\n<td>\n0.0\n</td>\n<td>\n0.0\n</td>\n<td>\n0.0\n</td>\n<td>\n0.0\n</td>\n<td>\n0.05113\n</td>\n<td>\n0.0\n</td>\n<td>\n0.04755\n</td>\n<td>\n0.1116\n</td>\n<td>\n0.0\n</td>\n<td>\n0.0\n</td>\n<td>\n0.0\n</td>\n<td>\n0.0\n</td>\n<td>\n0.0\n</td>\n<td>\n0.1129\n</td>\n<td>\n0.0\n</td>\n<td>\n0.0\n</td>\n<td>\n0.04352\n</td>\n<td>\n0.09211\n</td>\n<td>\n0.04265\n</td>\n<td>\n0.03496\n</td>\n<td>\n0.05935\n</td>\n<td>\n0.0\n</td>\n<td>\n0.0794\n</td>\n<td>\n0.0\n</td>\n<td>\n0.0\n</td>\n<td>\n0.06073\n</td>\n<td>\n0.0\n</td>\n<td>\n0.08464\n</td>\n<td>\n0.1435\n</td>\n<td>\n0.0\n</td>\n<td>\n0.05216\n</td>\n<td>\n0.0\n</td>\n<td>\n0.0\n</td>\n</tr>\n<tr>\n<td>\n\"ENSG0000023761...\n</td>\n<td>\n\"FAM138A\"\n</td>\n<td>\n0.0\n</td>\n<td>\n0.0\n</td>\n<td>\n0.0\n</td>\n<td>\n0.0\n</td>\n<td>\n0.0\n</td>\n<td>\n0.0\n</td>\n<td>\n0.0\n</td>\n<td>\n0.03904\n</td>\n<td>\n0.0\n</td>\n<td>\n0.0\n</td>\n<td>\n0.0\n</td>\n<td>\n0.0\n</td>\n<td>\n0.0\n</td>\n<td>\n0.0331\n</td>\n<td>\n0.0\n</td>\n<td>\n0.02599\n</td>\n<td>\n0.0\n</td>\n<td>\n0.0\n</td>\n<td>\n0.03052\n</td>\n<td>\n0.04329\n</td>\n<td>\n0.0\n</td>\n<td>\n0.02685\n</td>\n<td>\n0.04188\n</td>\n<td>\n0.04332\n</td>\n<td>\n0.0\n</td>\n<td>\n0.0\n</td>\n<td>\n0.05034\n</td>\n<td>\n0.0\n</td>\n<td>\n0.0\n</td>\n<td>\n0.0\n</td>\n<td>\n0.0\n</td>\n<td>\n0.0\n</td>\n<td>\n0.0\n</td>\n<td>\n0.02508\n</td>\n<td>\n0.0\n</td>\n<td>\n...\n</td>\n<td>\n0.0\n</td>\n<td>\n0.03457\n</td>\n<td>\n0.03579\n</td>\n<td>\n0.0\n</td>\n<td>\n0.05597\n</td>\n<td>\n0.0\n</td>\n<td>\n0.0\n</td>\n<td>\n0.0\n</td>\n<td>\n0.0\n</td>\n<td>\n0.0\n</td>\n<td>\n0.03378\n</td>\n<td>\n0.0\n</td>\n<td>\n0.0\n</td>\n<td>\n0.0\n</td>\n<td>\n0.0\n</td>\n<td>\n0.0\n</td>\n<td>\n0.0\n</td>\n<td>\n0.0\n</td>\n<td>\n0.0\n</td>\n<td>\n0.0\n</td>\n<td>\n0.0\n</td>\n<td>\n0.03272\n</td>\n<td>\n0.0\n</td>\n<td>\n0.0\n</td>\n<td>\n0.0\n</td>\n<td>\n0.0\n</td>\n<td>\n0.0\n</td>\n<td>\n0.02429\n</td>\n<td>\n0.0\n</td>\n<td>\n0.0\n</td>\n<td>\n0.0\n</td>\n<td>\n0.0\n</td>\n<td>\n0.0\n</td>\n<td>\n0.0\n</td>\n<td>\n0.0\n</td>\n<td>\n0.0\n</td>\n<td>\n0.0\n</td>\n</tr>\n<tr>\n<td>\n\"ENSG0000026802...\n</td>\n<td>\n\"OR4G4P\"\n</td>\n<td>\n0.0\n</td>\n<td>\n0.056\n</td>\n<td>\n0.0\n</td>\n<td>\n0.0\n</td>\n<td>\n0.0\n</td>\n<td>\n0.0613\n</td>\n<td>\n0.09523\n</td>\n<td>\n0.0\n</td>\n<td>\n0.0555\n</td>\n<td>\n0.1292\n</td>\n<td>\n0.0\n</td>\n<td>\n0.03656\n</td>\n<td>\n0.07734\n</td>\n<td>\n0.0\n</td>\n<td>\n0.0\n</td>\n<td>\n0.0\n</td>\n<td>\n0.0\n</td>\n<td>\n0.0\n</td>\n<td>\n0.0\n</td>\n<td>\n0.0\n</td>\n<td>\n0.0\n</td>\n<td>\n0.03897\n</td>\n<td>\n0.1216\n</td>\n<td>\n0.06287\n</td>\n<td>\n0.0\n</td>\n<td>\n0.07971\n</td>\n<td>\n0.07306\n</td>\n<td>\n0.0\n</td>\n<td>\n0.0\n</td>\n<td>\n0.0\n</td>\n<td>\n0.0\n</td>\n<td>\n0.0\n</td>\n<td>\n0.0\n</td>\n<td>\n0.07278\n</td>\n<td>\n0.0\n</td>\n<td>\n...\n</td>\n<td>\n0.0\n</td>\n<td>\n0.05017\n</td>\n<td>\n0.0\n</td>\n<td>\n0.1153\n</td>\n<td>\n0.04061\n</td>\n<td>\n0.1103\n</td>\n<td>\n0.0\n</td>\n<td>\n0.03886\n</td>\n<td>\n0.0\n</td>\n<td>\n0.0\n</td>\n<td>\n0.09804\n</td>\n<td>\n0.0\n</td>\n<td>\n0.0\n</td>\n<td>\n0.0\n</td>\n<td>\n0.0\n</td>\n<td>\n0.0\n</td>\n<td>\n0.03857\n</td>\n<td>\n0.03878\n</td>\n<td>\n0.04531\n</td>\n<td>\n0.0\n</td>\n<td>\n0.04487\n</td>\n<td>\n0.0\n</td>\n<td>\n0.0\n</td>\n<td>\n0.0\n</td>\n<td>\n0.1224\n</td>\n<td>\n0.0\n</td>\n<td>\n0.1228\n</td>\n<td>\n0.03526\n</td>\n<td>\n0.0\n</td>\n<td>\n0.0\n</td>\n<td>\n0.04624\n</td>\n<td>\n0.08726\n</td>\n<td>\n0.0\n</td>\n<td>\n0.0\n</td>\n<td>\n0.0\n</td>\n<td>\n0.04044\n</td>\n<td>\n0.05191\n</td>\n</tr>\n<tr>\n<td>\n\"ENSG0000024036...\n</td>\n<td>\n\"OR4G11P\"\n</td>\n<td>\n0.06621\n</td>\n<td>\n0.05004\n</td>\n<td>\n0.0\n</td>\n<td>\n0.0\n</td>\n<td>\n0.0\n</td>\n<td>\n0.0\n</td>\n<td>\n0.0\n</td>\n<td>\n0.0\n</td>\n<td>\n0.0992\n</td>\n<td>\n0.0\n</td>\n<td>\n0.1088\n</td>\n<td>\n0.03267\n</td>\n<td>\n0.1382\n</td>\n<td>\n0.0\n</td>\n<td>\n0.04296\n</td>\n<td>\n0.0337\n</td>\n<td>\n0.03915\n</td>\n<td>\n0.0\n</td>\n<td>\n0.03958\n</td>\n<td>\n0.1684\n</td>\n<td>\n0.0\n</td>\n<td>\n0.2438\n</td>\n<td>\n0.1629\n</td>\n<td>\n0.05618\n</td>\n<td>\n0.0\n</td>\n<td>\n0.07123\n</td>\n<td>\n0.06529\n</td>\n<td>\n0.2247\n</td>\n<td>\n0.1062\n</td>\n<td>\n0.1098\n</td>\n<td>\n0.04477\n</td>\n<td>\n0.0\n</td>\n<td>\n0.07707\n</td>\n<td>\n0.09755\n</td>\n<td>\n0.1224\n</td>\n<td>\n...\n</td>\n<td>\n0.05008\n</td>\n<td>\n0.08967\n</td>\n<td>\n0.04642\n</td>\n<td>\n0.0515\n</td>\n<td>\n0.03629\n</td>\n<td>\n0.0\n</td>\n<td>\n0.0\n</td>\n<td>\n0.03473\n</td>\n<td>\n0.1884\n</td>\n<td>\n0.04887\n</td>\n<td>\n0.08761\n</td>\n<td>\n0.05143\n</td>\n<td>\n0.03341\n</td>\n<td>\n0.04716\n</td>\n<td>\n0.04271\n</td>\n<td>\n0.115\n</td>\n<td>\n0.1034\n</td>\n<td>\n0.0\n</td>\n<td>\n0.08099\n</td>\n<td>\n0.04028\n</td>\n<td>\n0.08019\n</td>\n<td>\n0.0\n</td>\n<td>\n0.1179\n</td>\n<td>\n0.0\n</td>\n<td>\n0.05468\n</td>\n<td>\n0.03417\n</td>\n<td>\n0.03658\n</td>\n<td>\n0.189\n</td>\n<td>\n0.0\n</td>\n<td>\n0.0\n</td>\n<td>\n0.04132\n</td>\n<td>\n0.07797\n</td>\n<td>\n0.0\n</td>\n<td>\n0.1108\n</td>\n<td>\n0.0961\n</td>\n<td>\n0.03614\n</td>\n<td>\n0.0\n</td>\n</tr>\n<tr>\n<td>\n\"ENSG0000018609...\n</td>\n<td>\n\"OR4F5\"\n</td>\n<td>\n0.0\n</td>\n<td>\n0.1025\n</td>\n<td>\n0.07434\n</td>\n<td>\n0.0\n</td>\n<td>\n0.04233\n</td>\n<td>\n0.05609\n</td>\n<td>\n0.1743\n</td>\n<td>\n0.0\n</td>\n<td>\n0.0\n</td>\n<td>\n0.0591\n</td>\n<td>\n0.0557\n</td>\n<td>\n0.1004\n</td>\n<td>\n0.07077\n</td>\n<td>\n0.04395\n</td>\n<td>\n0.04399\n</td>\n<td>\n0.03451\n</td>\n<td>\n0.08019\n</td>\n<td>\n0.05124\n</td>\n<td>\n0.08106\n</td>\n<td>\n0.05748\n</td>\n<td>\n0.1335\n</td>\n<td>\n0.1426\n</td>\n<td>\n0.0\n</td>\n<td>\n0.05753\n</td>\n<td>\n0.0\n</td>\n<td>\n0.03647\n</td>\n<td>\n0.1671\n</td>\n<td>\n0.115\n</td>\n<td>\n0.0\n</td>\n<td>\n0.0\n</td>\n<td>\n0.1375\n</td>\n<td>\n0.0331\n</td>\n<td>\n0.0\n</td>\n<td>\n0.09989\n</td>\n<td>\n0.06265\n</td>\n<td>\n...\n</td>\n<td>\n0.0\n</td>\n<td>\n0.09181\n</td>\n<td>\n0.04753\n</td>\n<td>\n0.0\n</td>\n<td>\n0.07433\n</td>\n<td>\n0.1009\n</td>\n<td>\n0.0\n</td>\n<td>\n0.03556\n</td>\n<td>\n0.0\n</td>\n<td>\n0.0\n</td>\n<td>\n0.1346\n</td>\n<td>\n0.05266\n</td>\n<td>\n0.06841\n</td>\n<td>\n0.09658\n</td>\n<td>\n0.0\n</td>\n<td>\n0.0\n</td>\n<td>\n0.0\n</td>\n<td>\n0.1065\n</td>\n<td>\n0.1244\n</td>\n<td>\n0.0\n</td>\n<td>\n0.08212\n</td>\n<td>\n0.0869\n</td>\n<td>\n0.1207\n</td>\n<td>\n0.0\n</td>\n<td>\n0.05599\n</td>\n<td>\n0.06997\n</td>\n<td>\n0.1124\n</td>\n<td>\n0.129\n</td>\n<td>\n0.1367\n</td>\n<td>\n0.05729\n</td>\n<td>\n0.1269\n</td>\n<td>\n0.1198\n</td>\n<td>\n0.06767\n</td>\n<td>\n0.1135\n</td>\n<td>\n0.0\n</td>\n<td>\n0.148\n</td>\n<td>\n0.0\n</td>\n</tr>\n<tr>\n<td>\n\"ENSG0000023800...\n</td>\n<td>\n\"RP11-34P13.7\"\n</td>\n<td>\n0.0\n</td>\n<td>\n0.04574\n</td>\n<td>\n0.09953\n</td>\n<td>\n0.0\n</td>\n<td>\n0.07556\n</td>\n<td>\n0.05006\n</td>\n<td>\n0.03889\n</td>\n<td>\n0.04627\n</td>\n<td>\n0.0\n</td>\n<td>\n0.05275\n</td>\n<td>\n0.02486\n</td>\n<td>\n0.02986\n</td>\n<td>\n0.01579\n</td>\n<td>\n0.0\n</td>\n<td>\n0.03927\n</td>\n<td>\n0.07701\n</td>\n<td>\n0.01789\n</td>\n<td>\n0.0\n</td>\n<td>\n0.03617\n</td>\n<td>\n0.07696\n</td>\n<td>\n0.0\n</td>\n<td>\n0.0\n</td>\n<td>\n0.07446\n</td>\n<td>\n0.02567\n</td>\n<td>\n0.0\n</td>\n<td>\n0.01628\n</td>\n<td>\n0.02983\n</td>\n<td>\n0.4107\n</td>\n<td>\n0.0\n</td>\n<td>\n0.03345\n</td>\n<td>\n0.0\n</td>\n<td>\n0.02954\n</td>\n<td>\n0.07044\n</td>\n<td>\n0.05944\n</td>\n<td>\n0.0\n</td>\n<td>\n...\n</td>\n<td>\n0.0\n</td>\n<td>\n0.08195\n</td>\n<td>\n0.02121\n</td>\n<td>\n0.6354\n</td>\n<td>\n0.0\n</td>\n<td>\n0.02252\n</td>\n<td>\n0.04343\n</td>\n<td>\n0.01587\n</td>\n<td>\n0.04305\n</td>\n<td>\n0.0\n</td>\n<td>\n0.0\n</td>\n<td>\n0.0\n</td>\n<td>\n0.0\n</td>\n<td>\n0.02155\n</td>\n<td>\n0.03903\n</td>\n<td>\n0.02627\n</td>\n<td>\n0.01575\n</td>\n<td>\n0.09502\n</td>\n<td>\n0.03701\n</td>\n<td>\n0.0\n</td>\n<td>\n0.0\n</td>\n<td>\n0.0\n</td>\n<td>\n0.03592\n</td>\n<td>\n0.0\n</td>\n<td>\n0.0\n</td>\n<td>\n0.01561\n</td>\n<td>\n0.05014\n</td>\n<td>\n0.0\n</td>\n<td>\n0.01525\n</td>\n<td>\n0.0\n</td>\n<td>\n0.03776\n</td>\n<td>\n0.03563\n</td>\n<td>\n0.0604\n</td>\n<td>\n0.0\n</td>\n<td>\n0.1098\n</td>\n<td>\n0.01651\n</td>\n<td>\n0.0212\n</td>\n</tr>\n<tr>\n<td>\n\"ENSG0000023375...\n</td>\n<td>\n\"CICP27\"\n</td>\n<td>\n0.03595\n</td>\n<td>\n0.01359\n</td>\n<td>\n0.0\n</td>\n<td>\n0.0\n</td>\n<td>\n0.0\n</td>\n<td>\n0.0\n</td>\n<td>\n0.0\n</td>\n<td>\n0.02749\n</td>\n<td>\n0.0\n</td>\n<td>\n0.0\n</td>\n<td>\n0.0\n</td>\n<td>\n0.0\n</td>\n<td>\n0.03753\n</td>\n<td>\n0.05827\n</td>\n<td>\n0.3966\n</td>\n<td>\n0.8236\n</td>\n<td>\n0.02126\n</td>\n<td>\n0.0\n</td>\n<td>\n0.4191\n</td>\n<td>\n0.03049\n</td>\n<td>\n0.03541\n</td>\n<td>\n0.06618\n</td>\n<td>\n0.08848\n</td>\n<td>\n0.03051\n</td>\n<td>\n0.1711\n</td>\n<td>\n0.06769\n</td>\n<td>\n0.04432\n</td>\n<td>\n0.2897\n</td>\n<td>\n0.173\n</td>\n<td>\n0.0\n</td>\n<td>\n0.02431\n</td>\n<td>\n0.008777\n</td>\n<td>\n0.0\n</td>\n<td>\n0.0\n</td>\n<td>\n0.0\n</td>\n<td>\n...\n</td>\n<td>\n0.08159\n</td>\n<td>\n0.04869\n</td>\n<td>\n0.0\n</td>\n<td>\n0.1958\n</td>\n<td>\n0.009854\n</td>\n<td>\n0.0\n</td>\n<td>\n0.0129\n</td>\n<td>\n0.0\n</td>\n<td>\n0.01279\n</td>\n<td>\n0.07962\n</td>\n<td>\n0.03568\n</td>\n<td>\n0.0\n</td>\n<td>\n0.0\n</td>\n<td>\n0.03841\n</td>\n<td>\n0.1739\n</td>\n<td>\n0.01561\n</td>\n<td>\n0.01872\n</td>\n<td>\n1.656\n</td>\n<td>\n0.4288\n</td>\n<td>\n0.4484\n</td>\n<td>\n0.09798\n</td>\n<td>\n0.4839\n</td>\n<td>\n0.1814\n</td>\n<td>\n0.2186\n</td>\n<td>\n0.08907\n</td>\n<td>\n0.06494\n</td>\n<td>\n0.2284\n</td>\n<td>\n0.06843\n</td>\n<td>\n0.09967\n</td>\n<td>\n0.2583\n</td>\n<td>\n0.03366\n</td>\n<td>\n0.04234\n</td>\n<td>\n0.3409\n</td>\n<td>\n0.2709\n</td>\n<td>\n0.05219\n</td>\n<td>\n0.0\n</td>\n<td>\n0.1134\n</td>\n</tr>\n</tbody>\n</table>\n</div>"
     },
     "execution_count": 4,
     "metadata": {},
     "output_type": "execute_result"
    }
   ],
   "source": [
    "rnas = pl.read_csv(gct, comment_char=\"#\", sep=\"\\t\")\n",
    "rnas.head(10)"
   ],
   "metadata": {
    "collapsed": false,
    "pycharm": {
     "name": "#%%\n"
    }
   }
  },
  {
   "cell_type": "code",
   "execution_count": null,
   "outputs": [],
   "source": [
    "expressions = rnas.transpose()\n",
    "expressions.head()"
   ],
   "metadata": {
    "collapsed": false,
    "pycharm": {
     "name": "#%%\n",
     "is_executing": true
    }
   }
  },
  {
   "cell_type": "code",
   "execution_count": 6,
   "outputs": [],
   "source": [
    "sample_file = gtex / \"GTEx_Analysis_v8_Annotations_SampleAttributesDS.txt\"\n",
    "phenotypes_file = gtex / \"GTEx_Analysis_v8_Annotations_SubjectPhenotypesDS.txt\""
   ],
   "metadata": {
    "collapsed": false,
    "pycharm": {
     "name": "#%%\n"
    }
   }
  },
  {
   "cell_type": "code",
   "execution_count": 7,
   "outputs": [
    {
     "data": {
      "text/plain": "shape: (10, 63)\n┌────────────────────┬──────┬────────┬────────────────────┬─────┬──────────┬──────┬──────┬─────────┐\n│ SAMPID             ┆ SMAT ┆ SMCENT ┆ SMPTHNTS           ┆ ... ┆ SME1MPRT ┆ SMNU ┆ SMDP ┆ SME2PCT │\n│ ---                ┆ SSCR ┆ ER     ┆ ---                ┆     ┆ ---      ┆ M5CD ┆ MPRT ┆ S       │\n│ str                ┆ ---  ┆ ---    ┆ str                ┆     ┆ f64      ┆ ---  ┆ ---  ┆ ---     │\n│                    ┆ i64  ┆ str    ┆                    ┆     ┆          ┆ str  ┆ i64  ┆ f64     │\n╞════════════════════╪══════╪════════╪════════════════════╪═════╪══════════╪══════╪══════╪═════════╡\n│ GTEX-1117F-0003-SM ┆ null ┆ B1     ┆ null               ┆ ... ┆ null     ┆ null ┆ null ┆ null    │\n│ -58Q7G             ┆      ┆        ┆                    ┆     ┆          ┆      ┆      ┆         │\n├╌╌╌╌╌╌╌╌╌╌╌╌╌╌╌╌╌╌╌╌┼╌╌╌╌╌╌┼╌╌╌╌╌╌╌╌┼╌╌╌╌╌╌╌╌╌╌╌╌╌╌╌╌╌╌╌╌┼╌╌╌╌╌┼╌╌╌╌╌╌╌╌╌╌┼╌╌╌╌╌╌┼╌╌╌╌╌╌┼╌╌╌╌╌╌╌╌╌┤\n│ GTEX-1117F-0003-SM ┆ null ┆ B1     ┆ null               ┆ ... ┆ null     ┆ null ┆ null ┆ null    │\n│ -5DWSB             ┆      ┆        ┆                    ┆     ┆          ┆      ┆      ┆         │\n├╌╌╌╌╌╌╌╌╌╌╌╌╌╌╌╌╌╌╌╌┼╌╌╌╌╌╌┼╌╌╌╌╌╌╌╌┼╌╌╌╌╌╌╌╌╌╌╌╌╌╌╌╌╌╌╌╌┼╌╌╌╌╌┼╌╌╌╌╌╌╌╌╌╌┼╌╌╌╌╌╌┼╌╌╌╌╌╌┼╌╌╌╌╌╌╌╌╌┤\n│ GTEX-1117F-0003-SM ┆ null ┆ B1     ┆ null               ┆ ... ┆ null     ┆ null ┆ null ┆ null    │\n│ -6WBT7             ┆      ┆        ┆                    ┆     ┆          ┆      ┆      ┆         │\n├╌╌╌╌╌╌╌╌╌╌╌╌╌╌╌╌╌╌╌╌┼╌╌╌╌╌╌┼╌╌╌╌╌╌╌╌┼╌╌╌╌╌╌╌╌╌╌╌╌╌╌╌╌╌╌╌╌┼╌╌╌╌╌┼╌╌╌╌╌╌╌╌╌╌┼╌╌╌╌╌╌┼╌╌╌╌╌╌┼╌╌╌╌╌╌╌╌╌┤\n│ GTEX-1117F-0011-R1 ┆ null ┆ B1, A1 ┆ null               ┆ ... ┆ null     ┆ null ┆ null ┆ null    │\n│ 0a-SM-AHZ7F        ┆      ┆        ┆                    ┆     ┆          ┆      ┆      ┆         │\n├╌╌╌╌╌╌╌╌╌╌╌╌╌╌╌╌╌╌╌╌┼╌╌╌╌╌╌┼╌╌╌╌╌╌╌╌┼╌╌╌╌╌╌╌╌╌╌╌╌╌╌╌╌╌╌╌╌┼╌╌╌╌╌┼╌╌╌╌╌╌╌╌╌╌┼╌╌╌╌╌╌┼╌╌╌╌╌╌┼╌╌╌╌╌╌╌╌╌┤\n│ ...                ┆ ...  ┆ ...    ┆ ...                ┆ ... ┆ ...      ┆ ...  ┆ ...  ┆ ...     │\n├╌╌╌╌╌╌╌╌╌╌╌╌╌╌╌╌╌╌╌╌┼╌╌╌╌╌╌┼╌╌╌╌╌╌╌╌┼╌╌╌╌╌╌╌╌╌╌╌╌╌╌╌╌╌╌╌╌┼╌╌╌╌╌┼╌╌╌╌╌╌╌╌╌╌┼╌╌╌╌╌╌┼╌╌╌╌╌╌┼╌╌╌╌╌╌╌╌╌┤\n│ GTEX-1117F-0426-SM ┆ 0    ┆ B1     ┆ 2 pieces, !5%      ┆ ... ┆ 0.995041 ┆ null ┆ 0    ┆ 49.9455 │\n│ -5EGHI             ┆      ┆        ┆ fibrous            ┆     ┆          ┆      ┆      ┆         │\n│                    ┆      ┆        ┆ connective...      ┆     ┆          ┆      ┆      ┆         │\n├╌╌╌╌╌╌╌╌╌╌╌╌╌╌╌╌╌╌╌╌┼╌╌╌╌╌╌┼╌╌╌╌╌╌╌╌┼╌╌╌╌╌╌╌╌╌╌╌╌╌╌╌╌╌╌╌╌┼╌╌╌╌╌┼╌╌╌╌╌╌╌╌╌╌┼╌╌╌╌╌╌┼╌╌╌╌╌╌┼╌╌╌╌╌╌╌╌╌┤\n│ GTEX-1117F-0526-SM ┆ 0    ┆ B1     ┆ 2 pieces, clean,   ┆ ... ┆ 0.994001 ┆ null ┆ 0    ┆ 50.2667 │\n│ -5EGHJ             ┆      ┆        ┆ Monckebeg media... ┆     ┆          ┆      ┆      ┆         │\n├╌╌╌╌╌╌╌╌╌╌╌╌╌╌╌╌╌╌╌╌┼╌╌╌╌╌╌┼╌╌╌╌╌╌╌╌┼╌╌╌╌╌╌╌╌╌╌╌╌╌╌╌╌╌╌╌╌┼╌╌╌╌╌┼╌╌╌╌╌╌╌╌╌╌┼╌╌╌╌╌╌┼╌╌╌╌╌╌┼╌╌╌╌╌╌╌╌╌┤\n│ GTEX-1117F-0626-SM ┆ 1    ┆ B1     ┆ 2 pieces, up to    ┆ ... ┆ 0.992257 ┆ null ┆ 0    ┆ 50.0865 │\n│ -5N9CS             ┆      ┆        ┆ 4mm aderent        ┆     ┆          ┆      ┆      ┆         │\n│                    ┆      ┆        ┆ fat/...            ┆     ┆          ┆      ┆      ┆         │\n├╌╌╌╌╌╌╌╌╌╌╌╌╌╌╌╌╌╌╌╌┼╌╌╌╌╌╌┼╌╌╌╌╌╌╌╌┼╌╌╌╌╌╌╌╌╌╌╌╌╌╌╌╌╌╌╌╌┼╌╌╌╌╌┼╌╌╌╌╌╌╌╌╌╌┼╌╌╌╌╌╌┼╌╌╌╌╌╌┼╌╌╌╌╌╌╌╌╌┤\n│ GTEX-1117F-0726-SM ┆ 1    ┆ B1     ┆ 2 pieces, no       ┆ ... ┆ 0.995711 ┆ null ┆ 0    ┆ 49.9563 │\n│ -5GIEN             ┆      ┆        ┆ abnormalities      ┆     ┆          ┆      ┆      ┆         │\n└────────────────────┴──────┴────────┴────────────────────┴─────┴──────────┴──────┴──────┴─────────┘",
      "text/html": "<div>\n<style scoped>\n    .dataframe tbody tr th:only-of-type {\n        vertical-align: middle;\n    }\n\n    .dataframe tbody tr th {\n        vertical-align: top;\n    }\n\n    .dataframe thead th {\n        text-align: right;\n    }\n\n    .dataframe td {\n        white-space: pre;\n    }\n\n    .dataframe td {\n        padding-top: 0;\n    }\n\n    .dataframe td {\n        padding-bottom: 0;\n    }\n\n    .dataframe td {\n        line-height: 95%;\n    }\n</style>\n<table border=\"1\" class=\"dataframe\" >\n<small>shape: (10, 63)</small>\n<thead>\n<tr>\n<th>\nSAMPID\n</th>\n<th>\nSMATSSCR\n</th>\n<th>\nSMCENTER\n</th>\n<th>\nSMPTHNTS\n</th>\n<th>\nSMRIN\n</th>\n<th>\nSMTS\n</th>\n<th>\nSMTSD\n</th>\n<th>\nSMUBRID\n</th>\n<th>\nSMTSISCH\n</th>\n<th>\nSMTSPAX\n</th>\n<th>\nSMNABTCH\n</th>\n<th>\nSMNABTCHT\n</th>\n<th>\nSMNABTCHD\n</th>\n<th>\nSMGEBTCH\n</th>\n<th>\nSMGEBTCHD\n</th>\n<th>\nSMGEBTCHT\n</th>\n<th>\nSMAFRZE\n</th>\n<th>\nSMGTC\n</th>\n<th>\nSME2MPRT\n</th>\n<th>\nSMCHMPRS\n</th>\n<th>\nSMNTRART\n</th>\n<th>\nSMNUMGPS\n</th>\n<th>\nSMMAPRT\n</th>\n<th>\nSMEXNCRT\n</th>\n<th>\nSM550NRM\n</th>\n<th>\nSMGNSDTC\n</th>\n<th>\nSMUNMPRT\n</th>\n<th>\nSM350NRM\n</th>\n<th>\nSMRDLGTH\n</th>\n<th>\nSMMNCPB\n</th>\n<th>\nSME1MMRT\n</th>\n<th>\nSMSFLGTH\n</th>\n<th>\nSMESTLBS\n</th>\n<th>\nSMMPPD\n</th>\n<th>\nSMNTERRT\n</th>\n<th>\nSMRRNANM\n</th>\n<th>\nSMRDTTL\n</th>\n<th>\nSMVQCFL\n</th>\n<th>\nSMMNCV\n</th>\n<th>\nSMTRSCPT\n</th>\n<th>\nSMMPPDPR\n</th>\n<th>\nSMCGLGTH\n</th>\n<th>\nSMGAPPCT\n</th>\n<th>\nSMUNPDRD\n</th>\n<th>\nSMNTRNRT\n</th>\n<th>\nSMMPUNRT\n</th>\n<th>\nSMEXPEFF\n</th>\n<th>\nSMMPPDUN\n</th>\n<th>\nSME2MMRT\n</th>\n<th>\nSME2ANTI\n</th>\n<th>\nSMALTALG\n</th>\n<th>\nSME2SNSE\n</th>\n<th>\nSMMFLGTH\n</th>\n<th>\nSME1ANTI\n</th>\n<th>\nSMSPLTRD\n</th>\n<th>\nSMBSMMRT\n</th>\n<th>\nSME1SNSE\n</th>\n<th>\nSME1PCTS\n</th>\n<th>\nSMRRNART\n</th>\n<th>\nSME1MPRT\n</th>\n<th>\nSMNUM5CD\n</th>\n<th>\nSMDPMPRT\n</th>\n<th>\nSME2PCTS\n</th>\n</tr>\n<tr>\n<td>\nstr\n</td>\n<td>\ni64\n</td>\n<td>\nstr\n</td>\n<td>\nstr\n</td>\n<td>\nf64\n</td>\n<td>\nstr\n</td>\n<td>\nstr\n</td>\n<td>\nstr\n</td>\n<td>\ni64\n</td>\n<td>\ni64\n</td>\n<td>\nstr\n</td>\n<td>\nstr\n</td>\n<td>\nstr\n</td>\n<td>\nstr\n</td>\n<td>\nstr\n</td>\n<td>\nstr\n</td>\n<td>\nstr\n</td>\n<td>\nstr\n</td>\n<td>\nf64\n</td>\n<td>\ni64\n</td>\n<td>\nf64\n</td>\n<td>\nstr\n</td>\n<td>\nf64\n</td>\n<td>\nf64\n</td>\n<td>\nstr\n</td>\n<td>\ni64\n</td>\n<td>\ni64\n</td>\n<td>\nstr\n</td>\n<td>\ni64\n</td>\n<td>\nstr\n</td>\n<td>\nf64\n</td>\n<td>\ni64\n</td>\n<td>\ni64\n</td>\n<td>\nf64\n</td>\n<td>\nf64\n</td>\n<td>\nf64\n</td>\n<td>\nf64\n</td>\n<td>\nf64\n</td>\n<td>\nstr\n</td>\n<td>\ni64\n</td>\n<td>\nf64\n</td>\n<td>\nstr\n</td>\n<td>\nstr\n</td>\n<td>\ni64\n</td>\n<td>\nf64\n</td>\n<td>\nf64\n</td>\n<td>\nf64\n</td>\n<td>\nf64\n</td>\n<td>\nf64\n</td>\n<td>\nf64\n</td>\n<td>\nf64\n</td>\n<td>\nf64\n</td>\n<td>\ni64\n</td>\n<td>\nf64\n</td>\n<td>\nf64\n</td>\n<td>\nf64\n</td>\n<td>\nf64\n</td>\n<td>\nf64\n</td>\n<td>\nf64\n</td>\n<td>\nf64\n</td>\n<td>\nstr\n</td>\n<td>\ni64\n</td>\n<td>\nf64\n</td>\n</tr>\n</thead>\n<tbody>\n<tr>\n<td>\n\"GTEX-1117F-000...\n</td>\n<td>\nnull\n</td>\n<td>\n\"B1\"\n</td>\n<td>\nnull\n</td>\n<td>\nnull\n</td>\n<td>\n\"Blood\"\n</td>\n<td>\n\"Whole Blood\"\n</td>\n<td>\n\"0013756\"\n</td>\n<td>\n1188\n</td>\n<td>\nnull\n</td>\n<td>\n\"BP-38516\"\n</td>\n<td>\n\"DNA isolation_...\n</td>\n<td>\n\"05/02/2013\"\n</td>\n<td>\n\"LCSET-4574\"\n</td>\n<td>\n\"01/15/2014\"\n</td>\n<td>\n\"Standard Exome...\n</td>\n<td>\n\"WES\"\n</td>\n<td>\nnull\n</td>\n<td>\nnull\n</td>\n<td>\nnull\n</td>\n<td>\nnull\n</td>\n<td>\nnull\n</td>\n<td>\nnull\n</td>\n<td>\nnull\n</td>\n<td>\nnull\n</td>\n<td>\nnull\n</td>\n<td>\nnull\n</td>\n<td>\nnull\n</td>\n<td>\nnull\n</td>\n<td>\nnull\n</td>\n<td>\nnull\n</td>\n<td>\nnull\n</td>\n<td>\nnull\n</td>\n<td>\nnull\n</td>\n<td>\nnull\n</td>\n<td>\nnull\n</td>\n<td>\nnull\n</td>\n<td>\nnull\n</td>\n<td>\nnull\n</td>\n<td>\nnull\n</td>\n<td>\nnull\n</td>\n<td>\nnull\n</td>\n<td>\nnull\n</td>\n<td>\nnull\n</td>\n<td>\nnull\n</td>\n<td>\nnull\n</td>\n<td>\nnull\n</td>\n<td>\nnull\n</td>\n<td>\nnull\n</td>\n<td>\nnull\n</td>\n<td>\nnull\n</td>\n<td>\nnull\n</td>\n<td>\nnull\n</td>\n<td>\nnull\n</td>\n<td>\nnull\n</td>\n<td>\nnull\n</td>\n<td>\nnull\n</td>\n<td>\nnull\n</td>\n<td>\nnull\n</td>\n<td>\nnull\n</td>\n<td>\nnull\n</td>\n<td>\nnull\n</td>\n<td>\nnull\n</td>\n</tr>\n<tr>\n<td>\n\"GTEX-1117F-000...\n</td>\n<td>\nnull\n</td>\n<td>\n\"B1\"\n</td>\n<td>\nnull\n</td>\n<td>\nnull\n</td>\n<td>\n\"Blood\"\n</td>\n<td>\n\"Whole Blood\"\n</td>\n<td>\n\"0013756\"\n</td>\n<td>\n1188\n</td>\n<td>\nnull\n</td>\n<td>\n\"BP-38516\"\n</td>\n<td>\n\"DNA isolation_...\n</td>\n<td>\n\"05/02/2013\"\n</td>\n<td>\n\"GTEx_OM25_Dec_...\n</td>\n<td>\n\"01/28/2014\"\n</td>\n<td>\n\"Illumina OMNI ...\n</td>\n<td>\n\"OMNI\"\n</td>\n<td>\nnull\n</td>\n<td>\nnull\n</td>\n<td>\nnull\n</td>\n<td>\nnull\n</td>\n<td>\nnull\n</td>\n<td>\nnull\n</td>\n<td>\nnull\n</td>\n<td>\nnull\n</td>\n<td>\nnull\n</td>\n<td>\nnull\n</td>\n<td>\nnull\n</td>\n<td>\nnull\n</td>\n<td>\nnull\n</td>\n<td>\nnull\n</td>\n<td>\nnull\n</td>\n<td>\nnull\n</td>\n<td>\nnull\n</td>\n<td>\nnull\n</td>\n<td>\nnull\n</td>\n<td>\nnull\n</td>\n<td>\nnull\n</td>\n<td>\nnull\n</td>\n<td>\nnull\n</td>\n<td>\nnull\n</td>\n<td>\nnull\n</td>\n<td>\nnull\n</td>\n<td>\nnull\n</td>\n<td>\nnull\n</td>\n<td>\nnull\n</td>\n<td>\nnull\n</td>\n<td>\nnull\n</td>\n<td>\nnull\n</td>\n<td>\nnull\n</td>\n<td>\nnull\n</td>\n<td>\nnull\n</td>\n<td>\nnull\n</td>\n<td>\nnull\n</td>\n<td>\nnull\n</td>\n<td>\nnull\n</td>\n<td>\nnull\n</td>\n<td>\nnull\n</td>\n<td>\nnull\n</td>\n<td>\nnull\n</td>\n<td>\nnull\n</td>\n<td>\nnull\n</td>\n<td>\nnull\n</td>\n</tr>\n<tr>\n<td>\n\"GTEX-1117F-000...\n</td>\n<td>\nnull\n</td>\n<td>\n\"B1\"\n</td>\n<td>\nnull\n</td>\n<td>\nnull\n</td>\n<td>\n\"Blood\"\n</td>\n<td>\n\"Whole Blood\"\n</td>\n<td>\n\"0013756\"\n</td>\n<td>\n1188\n</td>\n<td>\nnull\n</td>\n<td>\n\"BP-38516\"\n</td>\n<td>\n\"DNA isolation_...\n</td>\n<td>\n\"05/02/2013\"\n</td>\n<td>\n\"LCSET-6056\"\n</td>\n<td>\n\"09/20/2014\"\n</td>\n<td>\n\"PCR+ 30x Cover...\n</td>\n<td>\n\"WGS\"\n</td>\n<td>\nnull\n</td>\n<td>\nnull\n</td>\n<td>\nnull\n</td>\n<td>\nnull\n</td>\n<td>\nnull\n</td>\n<td>\nnull\n</td>\n<td>\nnull\n</td>\n<td>\nnull\n</td>\n<td>\nnull\n</td>\n<td>\nnull\n</td>\n<td>\nnull\n</td>\n<td>\nnull\n</td>\n<td>\nnull\n</td>\n<td>\nnull\n</td>\n<td>\nnull\n</td>\n<td>\nnull\n</td>\n<td>\nnull\n</td>\n<td>\nnull\n</td>\n<td>\nnull\n</td>\n<td>\nnull\n</td>\n<td>\nnull\n</td>\n<td>\nnull\n</td>\n<td>\nnull\n</td>\n<td>\nnull\n</td>\n<td>\nnull\n</td>\n<td>\nnull\n</td>\n<td>\nnull\n</td>\n<td>\nnull\n</td>\n<td>\nnull\n</td>\n<td>\nnull\n</td>\n<td>\nnull\n</td>\n<td>\nnull\n</td>\n<td>\nnull\n</td>\n<td>\nnull\n</td>\n<td>\nnull\n</td>\n<td>\nnull\n</td>\n<td>\nnull\n</td>\n<td>\nnull\n</td>\n<td>\nnull\n</td>\n<td>\nnull\n</td>\n<td>\nnull\n</td>\n<td>\nnull\n</td>\n<td>\nnull\n</td>\n<td>\nnull\n</td>\n<td>\nnull\n</td>\n<td>\nnull\n</td>\n</tr>\n<tr>\n<td>\n\"GTEX-1117F-001...\n</td>\n<td>\nnull\n</td>\n<td>\n\"B1, A1\"\n</td>\n<td>\nnull\n</td>\n<td>\nnull\n</td>\n<td>\n\"Brain\"\n</td>\n<td>\n\"Brain - Fronta...\n</td>\n<td>\n\"0009834\"\n</td>\n<td>\n1193\n</td>\n<td>\nnull\n</td>\n<td>\nnull\n</td>\n<td>\nnull\n</td>\n<td>\nnull\n</td>\n<td>\nnull\n</td>\n<td>\nnull\n</td>\n<td>\n\"ChIP-Seq\"\n</td>\n<td>\nnull\n</td>\n<td>\nnull\n</td>\n<td>\nnull\n</td>\n<td>\nnull\n</td>\n<td>\nnull\n</td>\n<td>\nnull\n</td>\n<td>\nnull\n</td>\n<td>\nnull\n</td>\n<td>\nnull\n</td>\n<td>\nnull\n</td>\n<td>\nnull\n</td>\n<td>\nnull\n</td>\n<td>\nnull\n</td>\n<td>\nnull\n</td>\n<td>\nnull\n</td>\n<td>\nnull\n</td>\n<td>\nnull\n</td>\n<td>\nnull\n</td>\n<td>\nnull\n</td>\n<td>\nnull\n</td>\n<td>\nnull\n</td>\n<td>\nnull\n</td>\n<td>\nnull\n</td>\n<td>\nnull\n</td>\n<td>\nnull\n</td>\n<td>\nnull\n</td>\n<td>\nnull\n</td>\n<td>\nnull\n</td>\n<td>\nnull\n</td>\n<td>\nnull\n</td>\n<td>\nnull\n</td>\n<td>\nnull\n</td>\n<td>\nnull\n</td>\n<td>\nnull\n</td>\n<td>\nnull\n</td>\n<td>\nnull\n</td>\n<td>\nnull\n</td>\n<td>\nnull\n</td>\n<td>\nnull\n</td>\n<td>\nnull\n</td>\n<td>\nnull\n</td>\n<td>\nnull\n</td>\n<td>\nnull\n</td>\n<td>\nnull\n</td>\n<td>\nnull\n</td>\n<td>\nnull\n</td>\n<td>\nnull\n</td>\n</tr>\n<tr>\n<td>\n\"GTEX-1117F-001...\n</td>\n<td>\nnull\n</td>\n<td>\n\"B1, A1\"\n</td>\n<td>\nnull\n</td>\n<td>\n7.2\n</td>\n<td>\n\"Brain\"\n</td>\n<td>\n\"Brain - Fronta...\n</td>\n<td>\n\"0009834\"\n</td>\n<td>\n1193\n</td>\n<td>\nnull\n</td>\n<td>\n\"BP-42319\"\n</td>\n<td>\n\"RNA isolation_...\n</td>\n<td>\n\"08/14/2013\"\n</td>\n<td>\nnull\n</td>\n<td>\nnull\n</td>\n<td>\n\"RIP-Seq\"\n</td>\n<td>\nnull\n</td>\n<td>\nnull\n</td>\n<td>\nnull\n</td>\n<td>\nnull\n</td>\n<td>\nnull\n</td>\n<td>\nnull\n</td>\n<td>\nnull\n</td>\n<td>\nnull\n</td>\n<td>\nnull\n</td>\n<td>\nnull\n</td>\n<td>\nnull\n</td>\n<td>\nnull\n</td>\n<td>\nnull\n</td>\n<td>\nnull\n</td>\n<td>\nnull\n</td>\n<td>\nnull\n</td>\n<td>\nnull\n</td>\n<td>\nnull\n</td>\n<td>\nnull\n</td>\n<td>\nnull\n</td>\n<td>\nnull\n</td>\n<td>\nnull\n</td>\n<td>\nnull\n</td>\n<td>\nnull\n</td>\n<td>\nnull\n</td>\n<td>\nnull\n</td>\n<td>\nnull\n</td>\n<td>\nnull\n</td>\n<td>\nnull\n</td>\n<td>\nnull\n</td>\n<td>\nnull\n</td>\n<td>\nnull\n</td>\n<td>\nnull\n</td>\n<td>\nnull\n</td>\n<td>\nnull\n</td>\n<td>\nnull\n</td>\n<td>\nnull\n</td>\n<td>\nnull\n</td>\n<td>\nnull\n</td>\n<td>\nnull\n</td>\n<td>\nnull\n</td>\n<td>\nnull\n</td>\n<td>\nnull\n</td>\n<td>\nnull\n</td>\n<td>\nnull\n</td>\n<td>\nnull\n</td>\n<td>\nnull\n</td>\n</tr>\n<tr>\n<td>\n\"GTEX-1117F-022...\n</td>\n<td>\n0\n</td>\n<td>\n\"B1\"\n</td>\n<td>\n\"2 pieces, ~15%...\n</td>\n<td>\n6.8\n</td>\n<td>\n\"Adipose Tissue...\n</td>\n<td>\n\"Adipose - Subc...\n</td>\n<td>\n\"0002190\"\n</td>\n<td>\n1214\n</td>\n<td>\n1125\n</td>\n<td>\n\"BP-43693\"\n</td>\n<td>\n\"RNA Extraction...\n</td>\n<td>\n\"09/17/2013\"\n</td>\n<td>\n\"LCSET-4804\"\n</td>\n<td>\n\"03/05/2014\"\n</td>\n<td>\n\"TruSeq.v1\"\n</td>\n<td>\n\"RNASEQ\"\n</td>\n<td>\nnull\n</td>\n<td>\n0.986026\n</td>\n<td>\n345562\n</td>\n<td>\n0.966793\n</td>\n<td>\nnull\n</td>\n<td>\n0.990383\n</td>\n<td>\n0.756726\n</td>\n<td>\nnull\n</td>\n<td>\n23548\n</td>\n<td>\n1\n</td>\n<td>\nnull\n</td>\n<td>\n76\n</td>\n<td>\nnull\n</td>\n<td>\n0.002403\n</td>\n<td>\n136\n</td>\n<td>\n0\n</td>\n<td>\n6.68332e7\n</td>\n<td>\n0.0329192\n</td>\n<td>\n209558.0\n</td>\n<td>\n6.74822e7\n</td>\n<td>\n8.79766e6\n</td>\n<td>\nnull\n</td>\n<td>\n23575\n</td>\n<td>\n3.3158e7\n</td>\n<td>\nnull\n</td>\n<td>\nnull\n</td>\n<td>\n0\n</td>\n<td>\n0.210067\n</td>\n<td>\n0.990383\n</td>\n<td>\n0.749449\n</td>\n<td>\n6.68332e7\n</td>\n<td>\n0.003919\n</td>\n<td>\n1.44627e7\n</td>\n<td>\n8.9149e6\n</td>\n<td>\n1.45756e7\n</td>\n<td>\n144\n</td>\n<td>\n1.46488e7\n</td>\n<td>\n1.19993e7\n</td>\n<td>\n0.003158\n</td>\n<td>\n1.46695e7\n</td>\n<td>\n50.0354\n</td>\n<td>\n0.003105\n</td>\n<td>\n0.99474\n</td>\n<td>\nnull\n</td>\n<td>\n0\n</td>\n<td>\n50.1944\n</td>\n</tr>\n<tr>\n<td>\n\"GTEX-1117F-042...\n</td>\n<td>\n0\n</td>\n<td>\n\"B1\"\n</td>\n<td>\n\"2 pieces, !5% ...\n</td>\n<td>\n7.1\n</td>\n<td>\n\"Muscle\"\n</td>\n<td>\n\"Muscle - Skele...\n</td>\n<td>\n\"0011907\"\n</td>\n<td>\n1220\n</td>\n<td>\n1119\n</td>\n<td>\n\"BP-43495\"\n</td>\n<td>\n\"RNA Extraction...\n</td>\n<td>\n\"09/12/2013\"\n</td>\n<td>\n\"LCSET-4764\"\n</td>\n<td>\n\"02/09/2014\"\n</td>\n<td>\n\"TruSeq.v1\"\n</td>\n<td>\n\"RNASEQ\"\n</td>\n<td>\nnull\n</td>\n<td>\n0.985786\n</td>\n<td>\n145441\n</td>\n<td>\n0.978816\n</td>\n<td>\nnull\n</td>\n<td>\n0.990413\n</td>\n<td>\n0.838961\n</td>\n<td>\nnull\n</td>\n<td>\n20246\n</td>\n<td>\n1\n</td>\n<td>\nnull\n</td>\n<td>\n76\n</td>\n<td>\nnull\n</td>\n<td>\n0.002413\n</td>\n<td>\n137\n</td>\n<td>\n0\n</td>\n<td>\n5.99636e7\n</td>\n<td>\n0.0209516\n</td>\n<td>\n423484.0\n</td>\n<td>\n6.05441e7\n</td>\n<td>\n9.60146e6\n</td>\n<td>\nnull\n</td>\n<td>\n20259\n</td>\n<td>\n2.97858e7\n</td>\n<td>\nnull\n</td>\n<td>\nnull\n</td>\n<td>\n0\n</td>\n<td>\n0.139855\n</td>\n<td>\n0.990413\n</td>\n<td>\n0.830918\n</td>\n<td>\n5.99636e7\n</td>\n<td>\n0.005538\n</td>\n<td>\n1.31545e7\n</td>\n<td>\n8.38344e6\n</td>\n<td>\n1.31258e7\n</td>\n<td>\n139\n</td>\n<td>\n1.31915e7\n</td>\n<td>\n1.15502e7\n</td>\n<td>\n0.003968\n</td>\n<td>\n1.33405e7\n</td>\n<td>\n50.2809\n</td>\n<td>\n0.006995\n</td>\n<td>\n0.995041\n</td>\n<td>\nnull\n</td>\n<td>\n0\n</td>\n<td>\n49.9455\n</td>\n</tr>\n<tr>\n<td>\n\"GTEX-1117F-052...\n</td>\n<td>\n0\n</td>\n<td>\n\"B1\"\n</td>\n<td>\n\"2 pieces, clea...\n</td>\n<td>\n8.0\n</td>\n<td>\n\"Blood Vessel\"\n</td>\n<td>\n\"Artery - Tibia...\n</td>\n<td>\n\"0007610\"\n</td>\n<td>\n1221\n</td>\n<td>\n1120\n</td>\n<td>\n\"BP-43495\"\n</td>\n<td>\n\"RNA Extraction...\n</td>\n<td>\n\"09/12/2013\"\n</td>\n<td>\n\"LCSET-4764\"\n</td>\n<td>\n\"02/09/2014\"\n</td>\n<td>\n\"TruSeq.v1\"\n</td>\n<td>\n\"RNASEQ\"\n</td>\n<td>\nnull\n</td>\n<td>\n0.983859\n</td>\n<td>\n223040\n</td>\n<td>\n0.97136\n</td>\n<td>\nnull\n</td>\n<td>\n0.98893\n</td>\n<td>\n0.767837\n</td>\n<td>\nnull\n</td>\n<td>\n22193\n</td>\n<td>\n1\n</td>\n<td>\nnull\n</td>\n<td>\n76\n</td>\n<td>\nnull\n</td>\n<td>\n0.002631\n</td>\n<td>\n126\n</td>\n<td>\n0\n</td>\n<td>\n5.98394e7\n</td>\n<td>\n0.0283102\n</td>\n<td>\n173556.0\n</td>\n<td>\n6.05092e7\n</td>\n<td>\n9.40759e6\n</td>\n<td>\nnull\n</td>\n<td>\n22218\n</td>\n<td>\n2.9681e7\n</td>\n<td>\nnull\n</td>\n<td>\nnull\n</td>\n<td>\n0\n</td>\n<td>\n0.203524\n</td>\n<td>\n0.98893\n</td>\n<td>\n0.759337\n</td>\n<td>\n5.98394e7\n</td>\n<td>\n0.005929\n</td>\n<td>\n1.29512e7\n</td>\n<td>\n6.13979e6\n</td>\n<td>\n1.30901e7\n</td>\n<td>\n125\n</td>\n<td>\n1.31754e7\n</td>\n<td>\n1.10003e7\n</td>\n<td>\n0.004271\n</td>\n<td>\n1.31509e7\n</td>\n<td>\n49.9535\n</td>\n<td>\n0.002868\n</td>\n<td>\n0.994001\n</td>\n<td>\nnull\n</td>\n<td>\n0\n</td>\n<td>\n50.2667\n</td>\n</tr>\n<tr>\n<td>\n\"GTEX-1117F-062...\n</td>\n<td>\n1\n</td>\n<td>\n\"B1\"\n</td>\n<td>\n\"2 pieces, up t...\n</td>\n<td>\n6.9\n</td>\n<td>\n\"Blood Vessel\"\n</td>\n<td>\n\"Artery - Coron...\n</td>\n<td>\n\"0001621\"\n</td>\n<td>\n1243\n</td>\n<td>\n1098\n</td>\n<td>\n\"BP-43956\"\n</td>\n<td>\n\"RNA Extraction...\n</td>\n<td>\n\"09/25/2013\"\n</td>\n<td>\n\"LCSET-4904\"\n</td>\n<td>\n\"03/22/2014\"\n</td>\n<td>\n\"TruSeq.v1\"\n</td>\n<td>\n\"RNASEQ\"\n</td>\n<td>\nnull\n</td>\n<td>\n0.990294\n</td>\n<td>\n174501\n</td>\n<td>\n0.970076\n</td>\n<td>\nnull\n</td>\n<td>\n0.991275\n</td>\n<td>\n0.76982\n</td>\n<td>\nnull\n</td>\n<td>\n23331\n</td>\n<td>\n1\n</td>\n<td>\nnull\n</td>\n<td>\n76\n</td>\n<td>\nnull\n</td>\n<td>\n0.0030529\n</td>\n<td>\n136\n</td>\n<td>\n0\n</td>\n<td>\n6.98592e7\n</td>\n<td>\n0.0296435\n</td>\n<td>\n376087.0\n</td>\n<td>\n7.0474e7\n</td>\n<td>\n3.63312e6\n</td>\n<td>\nnull\n</td>\n<td>\n23354\n</td>\n<td>\n3.47665e7\n</td>\n<td>\nnull\n</td>\n<td>\nnull\n</td>\n<td>\n0\n</td>\n<td>\n0.200257\n</td>\n<td>\n0.991275\n</td>\n<td>\n0.763103\n</td>\n<td>\n6.98592e7\n</td>\n<td>\n0.003671\n</td>\n<td>\n1.51676e7\n</td>\n<td>\n6.12486e6\n</td>\n<td>\n1.52201e7\n</td>\n<td>\n151\n</td>\n<td>\n1.51642e7\n</td>\n<td>\n1.16179e7\n</td>\n<td>\n0.003362\n</td>\n<td>\n1.52919e7\n</td>\n<td>\n50.2096\n</td>\n<td>\n0.005337\n</td>\n<td>\n0.992257\n</td>\n<td>\nnull\n</td>\n<td>\n0\n</td>\n<td>\n50.0865\n</td>\n</tr>\n<tr>\n<td>\n\"GTEX-1117F-072...\n</td>\n<td>\n1\n</td>\n<td>\n\"B1\"\n</td>\n<td>\n\"2 pieces, no a...\n</td>\n<td>\n6.3\n</td>\n<td>\n\"Heart\"\n</td>\n<td>\n\"Heart - Atrial...\n</td>\n<td>\n\"0006631\"\n</td>\n<td>\n1244\n</td>\n<td>\n1097\n</td>\n<td>\n\"BP-44261\"\n</td>\n<td>\n\"RNA Extraction...\n</td>\n<td>\n\"10/03/2013\"\n</td>\n<td>\n\"LCSET-4796\"\n</td>\n<td>\n\"02/27/2014\"\n</td>\n<td>\n\"TruSeq.v1\"\n</td>\n<td>\n\"RNASEQ\"\n</td>\n<td>\nnull\n</td>\n<td>\n0.990734\n</td>\n<td>\n184394\n</td>\n<td>\n0.97883\n</td>\n<td>\nnull\n</td>\n<td>\n0.993223\n</td>\n<td>\n0.803478\n</td>\n<td>\nnull\n</td>\n<td>\n22000\n</td>\n<td>\n1\n</td>\n<td>\nnull\n</td>\n<td>\n76\n</td>\n<td>\nnull\n</td>\n<td>\n0.003114\n</td>\n<td>\n131\n</td>\n<td>\n0\n</td>\n<td>\n6.28857e7\n</td>\n<td>\n0.0208913\n</td>\n<td>\n1.93643e6\n</td>\n<td>\n6.33148e7\n</td>\n<td>\n8.25297e6\n</td>\n<td>\nnull\n</td>\n<td>\n22015\n</td>\n<td>\n3.12915e7\n</td>\n<td>\nnull\n</td>\n<td>\nnull\n</td>\n<td>\n0\n</td>\n<td>\n0.175352\n</td>\n<td>\n0.993223\n</td>\n<td>\n0.798033\n</td>\n<td>\n6.28857e7\n</td>\n<td>\n0.003772\n</td>\n<td>\n1.36366e7\n</td>\n<td>\n9.07565e6\n</td>\n<td>\n1.36128e7\n</td>\n<td>\n146\n</td>\n<td>\n1.36271e7\n</td>\n<td>\n9.26607e6\n</td>\n<td>\n0.003442\n</td>\n<td>\n1.37567e7\n</td>\n<td>\n50.2367\n</td>\n<td>\n0.0305841\n</td>\n<td>\n0.995711\n</td>\n<td>\nnull\n</td>\n<td>\n0\n</td>\n<td>\n49.9563\n</td>\n</tr>\n</tbody>\n</table>\n</div>"
     },
     "execution_count": 7,
     "metadata": {},
     "output_type": "execute_result"
    }
   ],
   "source": [
    "samples = pl.read_csv(sample_file,comment_char=\"#\", sep=\"\\t\", ignore_errors=True)\n",
    "samples.head(10)"
   ],
   "metadata": {
    "collapsed": false,
    "pycharm": {
     "name": "#%%\n"
    }
   }
  },
  {
   "cell_type": "code",
   "execution_count": 8,
   "outputs": [
    {
     "data": {
      "text/plain": "shape: (10, 4)\n┌────────────┬─────┬───────┬─────────┐\n│ SUBJID     ┆ SEX ┆ AGE   ┆ DTHHRDY │\n│ ---        ┆ --- ┆ ---   ┆ ---     │\n│ str        ┆ i64 ┆ str   ┆ i64     │\n╞════════════╪═════╪═══════╪═════════╡\n│ GTEX-1117F ┆ 2   ┆ 60-69 ┆ 4       │\n├╌╌╌╌╌╌╌╌╌╌╌╌┼╌╌╌╌╌┼╌╌╌╌╌╌╌┼╌╌╌╌╌╌╌╌╌┤\n│ GTEX-111CU ┆ 1   ┆ 50-59 ┆ 0       │\n├╌╌╌╌╌╌╌╌╌╌╌╌┼╌╌╌╌╌┼╌╌╌╌╌╌╌┼╌╌╌╌╌╌╌╌╌┤\n│ GTEX-111FC ┆ 1   ┆ 60-69 ┆ 1       │\n├╌╌╌╌╌╌╌╌╌╌╌╌┼╌╌╌╌╌┼╌╌╌╌╌╌╌┼╌╌╌╌╌╌╌╌╌┤\n│ GTEX-111VG ┆ 1   ┆ 60-69 ┆ 3       │\n├╌╌╌╌╌╌╌╌╌╌╌╌┼╌╌╌╌╌┼╌╌╌╌╌╌╌┼╌╌╌╌╌╌╌╌╌┤\n│ ...        ┆ ... ┆ ...   ┆ ...     │\n├╌╌╌╌╌╌╌╌╌╌╌╌┼╌╌╌╌╌┼╌╌╌╌╌╌╌┼╌╌╌╌╌╌╌╌╌┤\n│ GTEX-1128S ┆ 2   ┆ 60-69 ┆ 2       │\n├╌╌╌╌╌╌╌╌╌╌╌╌┼╌╌╌╌╌┼╌╌╌╌╌╌╌┼╌╌╌╌╌╌╌╌╌┤\n│ GTEX-113IC ┆ 1   ┆ 60-69 ┆ null    │\n├╌╌╌╌╌╌╌╌╌╌╌╌┼╌╌╌╌╌┼╌╌╌╌╌╌╌┼╌╌╌╌╌╌╌╌╌┤\n│ GTEX-113JC ┆ 2   ┆ 50-59 ┆ 2       │\n├╌╌╌╌╌╌╌╌╌╌╌╌┼╌╌╌╌╌┼╌╌╌╌╌╌╌┼╌╌╌╌╌╌╌╌╌┤\n│ GTEX-117XS ┆ 1   ┆ 60-69 ┆ 2       │\n└────────────┴─────┴───────┴─────────┘",
      "text/html": "<div>\n<style scoped>\n    .dataframe tbody tr th:only-of-type {\n        vertical-align: middle;\n    }\n\n    .dataframe tbody tr th {\n        vertical-align: top;\n    }\n\n    .dataframe thead th {\n        text-align: right;\n    }\n\n    .dataframe td {\n        white-space: pre;\n    }\n\n    .dataframe td {\n        padding-top: 0;\n    }\n\n    .dataframe td {\n        padding-bottom: 0;\n    }\n\n    .dataframe td {\n        line-height: 95%;\n    }\n</style>\n<table border=\"1\" class=\"dataframe\" >\n<small>shape: (10, 4)</small>\n<thead>\n<tr>\n<th>\nSUBJID\n</th>\n<th>\nSEX\n</th>\n<th>\nAGE\n</th>\n<th>\nDTHHRDY\n</th>\n</tr>\n<tr>\n<td>\nstr\n</td>\n<td>\ni64\n</td>\n<td>\nstr\n</td>\n<td>\ni64\n</td>\n</tr>\n</thead>\n<tbody>\n<tr>\n<td>\n\"GTEX-1117F\"\n</td>\n<td>\n2\n</td>\n<td>\n\"60-69\"\n</td>\n<td>\n4\n</td>\n</tr>\n<tr>\n<td>\n\"GTEX-111CU\"\n</td>\n<td>\n1\n</td>\n<td>\n\"50-59\"\n</td>\n<td>\n0\n</td>\n</tr>\n<tr>\n<td>\n\"GTEX-111FC\"\n</td>\n<td>\n1\n</td>\n<td>\n\"60-69\"\n</td>\n<td>\n1\n</td>\n</tr>\n<tr>\n<td>\n\"GTEX-111VG\"\n</td>\n<td>\n1\n</td>\n<td>\n\"60-69\"\n</td>\n<td>\n3\n</td>\n</tr>\n<tr>\n<td>\n\"GTEX-111YS\"\n</td>\n<td>\n1\n</td>\n<td>\n\"60-69\"\n</td>\n<td>\n0\n</td>\n</tr>\n<tr>\n<td>\n\"GTEX-1122O\"\n</td>\n<td>\n2\n</td>\n<td>\n\"60-69\"\n</td>\n<td>\n0\n</td>\n</tr>\n<tr>\n<td>\n\"GTEX-1128S\"\n</td>\n<td>\n2\n</td>\n<td>\n\"60-69\"\n</td>\n<td>\n2\n</td>\n</tr>\n<tr>\n<td>\n\"GTEX-113IC\"\n</td>\n<td>\n1\n</td>\n<td>\n\"60-69\"\n</td>\n<td>\nnull\n</td>\n</tr>\n<tr>\n<td>\n\"GTEX-113JC\"\n</td>\n<td>\n2\n</td>\n<td>\n\"50-59\"\n</td>\n<td>\n2\n</td>\n</tr>\n<tr>\n<td>\n\"GTEX-117XS\"\n</td>\n<td>\n1\n</td>\n<td>\n\"60-69\"\n</td>\n<td>\n2\n</td>\n</tr>\n</tbody>\n</table>\n</div>"
     },
     "execution_count": 8,
     "metadata": {},
     "output_type": "execute_result"
    }
   ],
   "source": [
    "phenotypes = pl.read_csv(phenotypes_file, comment_char=\"#\", sep=\"\\t\", ignore_errors=True)\n",
    "phenotypes.head(10)"
   ],
   "metadata": {
    "collapsed": false,
    "pycharm": {
     "name": "#%%\n"
    }
   }
  },
  {
   "cell_type": "code",
   "execution_count": 12,
   "outputs": [
    {
     "data": {
      "text/plain": "shape: (980, 5)\n┌────────────┬─────┬───────┬─────────┬────────────┐\n│ SUBJID     ┆ SEX ┆ AGE   ┆ DTHHRDY ┆ medium_age │\n│ ---        ┆ --- ┆ ---   ┆ ---     ┆ ---        │\n│ str        ┆ i64 ┆ str   ┆ i64     ┆ f64        │\n╞════════════╪═════╪═══════╪═════════╪════════════╡\n│ GTEX-1117F ┆ 2   ┆ 60-69 ┆ 4       ┆ 64.5       │\n├╌╌╌╌╌╌╌╌╌╌╌╌┼╌╌╌╌╌┼╌╌╌╌╌╌╌┼╌╌╌╌╌╌╌╌╌┼╌╌╌╌╌╌╌╌╌╌╌╌┤\n│ GTEX-111CU ┆ 1   ┆ 50-59 ┆ 0       ┆ 54.5       │\n├╌╌╌╌╌╌╌╌╌╌╌╌┼╌╌╌╌╌┼╌╌╌╌╌╌╌┼╌╌╌╌╌╌╌╌╌┼╌╌╌╌╌╌╌╌╌╌╌╌┤\n│ GTEX-111FC ┆ 1   ┆ 60-69 ┆ 1       ┆ 64.5       │\n├╌╌╌╌╌╌╌╌╌╌╌╌┼╌╌╌╌╌┼╌╌╌╌╌╌╌┼╌╌╌╌╌╌╌╌╌┼╌╌╌╌╌╌╌╌╌╌╌╌┤\n│ GTEX-111VG ┆ 1   ┆ 60-69 ┆ 3       ┆ 64.5       │\n├╌╌╌╌╌╌╌╌╌╌╌╌┼╌╌╌╌╌┼╌╌╌╌╌╌╌┼╌╌╌╌╌╌╌╌╌┼╌╌╌╌╌╌╌╌╌╌╌╌┤\n│ ...        ┆ ... ┆ ...   ┆ ...     ┆ ...        │\n├╌╌╌╌╌╌╌╌╌╌╌╌┼╌╌╌╌╌┼╌╌╌╌╌╌╌┼╌╌╌╌╌╌╌╌╌┼╌╌╌╌╌╌╌╌╌╌╌╌┤\n│ GTEX-ZZ64  ┆ 1   ┆ 20-29 ┆ 0       ┆ 24.5       │\n├╌╌╌╌╌╌╌╌╌╌╌╌┼╌╌╌╌╌┼╌╌╌╌╌╌╌┼╌╌╌╌╌╌╌╌╌┼╌╌╌╌╌╌╌╌╌╌╌╌┤\n│ GTEX-ZZPT  ┆ 1   ┆ 50-59 ┆ 4       ┆ 54.5       │\n├╌╌╌╌╌╌╌╌╌╌╌╌┼╌╌╌╌╌┼╌╌╌╌╌╌╌┼╌╌╌╌╌╌╌╌╌┼╌╌╌╌╌╌╌╌╌╌╌╌┤\n│ GTEX-ZZPU  ┆ 2   ┆ 50-59 ┆ 0       ┆ 54.5       │\n├╌╌╌╌╌╌╌╌╌╌╌╌┼╌╌╌╌╌┼╌╌╌╌╌╌╌┼╌╌╌╌╌╌╌╌╌┼╌╌╌╌╌╌╌╌╌╌╌╌┤\n│ K-562      ┆ 2   ┆ 50-59 ┆ null    ┆ 54.5       │\n└────────────┴─────┴───────┴─────────┴────────────┘",
      "text/html": "<div>\n<style scoped>\n    .dataframe tbody tr th:only-of-type {\n        vertical-align: middle;\n    }\n\n    .dataframe tbody tr th {\n        vertical-align: top;\n    }\n\n    .dataframe thead th {\n        text-align: right;\n    }\n\n    .dataframe td {\n        white-space: pre;\n    }\n\n    .dataframe td {\n        padding-top: 0;\n    }\n\n    .dataframe td {\n        padding-bottom: 0;\n    }\n\n    .dataframe td {\n        line-height: 95%;\n    }\n</style>\n<table border=\"1\" class=\"dataframe\" >\n<small>shape: (980, 5)</small>\n<thead>\n<tr>\n<th>\nSUBJID\n</th>\n<th>\nSEX\n</th>\n<th>\nAGE\n</th>\n<th>\nDTHHRDY\n</th>\n<th>\nmedium_age\n</th>\n</tr>\n<tr>\n<td>\nstr\n</td>\n<td>\ni64\n</td>\n<td>\nstr\n</td>\n<td>\ni64\n</td>\n<td>\nf64\n</td>\n</tr>\n</thead>\n<tbody>\n<tr>\n<td>\n\"GTEX-1117F\"\n</td>\n<td>\n2\n</td>\n<td>\n\"60-69\"\n</td>\n<td>\n4\n</td>\n<td>\n64.5\n</td>\n</tr>\n<tr>\n<td>\n\"GTEX-111CU\"\n</td>\n<td>\n1\n</td>\n<td>\n\"50-59\"\n</td>\n<td>\n0\n</td>\n<td>\n54.5\n</td>\n</tr>\n<tr>\n<td>\n\"GTEX-111FC\"\n</td>\n<td>\n1\n</td>\n<td>\n\"60-69\"\n</td>\n<td>\n1\n</td>\n<td>\n64.5\n</td>\n</tr>\n<tr>\n<td>\n\"GTEX-111VG\"\n</td>\n<td>\n1\n</td>\n<td>\n\"60-69\"\n</td>\n<td>\n3\n</td>\n<td>\n64.5\n</td>\n</tr>\n<tr>\n<td>\n\"GTEX-111YS\"\n</td>\n<td>\n1\n</td>\n<td>\n\"60-69\"\n</td>\n<td>\n0\n</td>\n<td>\n64.5\n</td>\n</tr>\n<tr>\n<td>\n\"GTEX-1122O\"\n</td>\n<td>\n2\n</td>\n<td>\n\"60-69\"\n</td>\n<td>\n0\n</td>\n<td>\n64.5\n</td>\n</tr>\n<tr>\n<td>\n\"GTEX-1128S\"\n</td>\n<td>\n2\n</td>\n<td>\n\"60-69\"\n</td>\n<td>\n2\n</td>\n<td>\n64.5\n</td>\n</tr>\n<tr>\n<td>\n\"GTEX-113IC\"\n</td>\n<td>\n1\n</td>\n<td>\n\"60-69\"\n</td>\n<td>\nnull\n</td>\n<td>\n64.5\n</td>\n</tr>\n<tr>\n<td>\n\"GTEX-113JC\"\n</td>\n<td>\n2\n</td>\n<td>\n\"50-59\"\n</td>\n<td>\n2\n</td>\n<td>\n54.5\n</td>\n</tr>\n<tr>\n<td>\n\"GTEX-117XS\"\n</td>\n<td>\n1\n</td>\n<td>\n\"60-69\"\n</td>\n<td>\n2\n</td>\n<td>\n64.5\n</td>\n</tr>\n<tr>\n<td>\n\"GTEX-117YW\"\n</td>\n<td>\n1\n</td>\n<td>\n\"50-59\"\n</td>\n<td>\n3\n</td>\n<td>\n54.5\n</td>\n</tr>\n<tr>\n<td>\n\"GTEX-117YX\"\n</td>\n<td>\n1\n</td>\n<td>\n\"50-59\"\n</td>\n<td>\n0\n</td>\n<td>\n54.5\n</td>\n</tr>\n<tr>\n<td>\n...\n</td>\n<td>\n...\n</td>\n<td>\n...\n</td>\n<td>\n...\n</td>\n<td>\n...\n</td>\n</tr>\n<tr>\n<td>\n\"GTEX-ZYFC\"\n</td>\n<td>\n1\n</td>\n<td>\n\"50-59\"\n</td>\n<td>\n2\n</td>\n<td>\n54.5\n</td>\n</tr>\n<tr>\n<td>\n\"GTEX-ZYFD\"\n</td>\n<td>\n1\n</td>\n<td>\n\"50-59\"\n</td>\n<td>\n3\n</td>\n<td>\n54.5\n</td>\n</tr>\n<tr>\n<td>\n\"GTEX-ZYFG\"\n</td>\n<td>\n2\n</td>\n<td>\n\"60-69\"\n</td>\n<td>\n0\n</td>\n<td>\n64.5\n</td>\n</tr>\n<tr>\n<td>\n\"GTEX-ZYT6\"\n</td>\n<td>\n1\n</td>\n<td>\n\"30-39\"\n</td>\n<td>\n1\n</td>\n<td>\n34.5\n</td>\n</tr>\n<tr>\n<td>\n\"GTEX-ZYVF\"\n</td>\n<td>\n2\n</td>\n<td>\n\"50-59\"\n</td>\n<td>\n0\n</td>\n<td>\n54.5\n</td>\n</tr>\n<tr>\n<td>\n\"GTEX-ZYW4\"\n</td>\n<td>\n1\n</td>\n<td>\n\"60-69\"\n</td>\n<td>\n3\n</td>\n<td>\n64.5\n</td>\n</tr>\n<tr>\n<td>\n\"GTEX-ZYWO\"\n</td>\n<td>\n2\n</td>\n<td>\n\"40-49\"\n</td>\n<td>\n0\n</td>\n<td>\n44.5\n</td>\n</tr>\n<tr>\n<td>\n\"GTEX-ZYY3\"\n</td>\n<td>\n2\n</td>\n<td>\n\"60-69\"\n</td>\n<td>\n4\n</td>\n<td>\n64.5\n</td>\n</tr>\n<tr>\n<td>\n\"GTEX-ZZ64\"\n</td>\n<td>\n1\n</td>\n<td>\n\"20-29\"\n</td>\n<td>\n0\n</td>\n<td>\n24.5\n</td>\n</tr>\n<tr>\n<td>\n\"GTEX-ZZPT\"\n</td>\n<td>\n1\n</td>\n<td>\n\"50-59\"\n</td>\n<td>\n4\n</td>\n<td>\n54.5\n</td>\n</tr>\n<tr>\n<td>\n\"GTEX-ZZPU\"\n</td>\n<td>\n2\n</td>\n<td>\n\"50-59\"\n</td>\n<td>\n0\n</td>\n<td>\n54.5\n</td>\n</tr>\n<tr>\n<td>\n\"K-562\"\n</td>\n<td>\n2\n</td>\n<td>\n\"50-59\"\n</td>\n<td>\nnull\n</td>\n<td>\n54.5\n</td>\n</tr>\n</tbody>\n</table>\n</div>"
     },
     "execution_count": 12,
     "metadata": {},
     "output_type": "execute_result"
    }
   ],
   "source": [
    "medium_age = pl.col(\"AGE\").str.split(\"-\").alias(\"medium_age\").apply(lambda s: (int(s[1])+int(s[0]))/2.0)\n",
    "phenotypes_extended = phenotypes.with_column(medium_age)\n",
    "phenotypes_extended"
   ],
   "metadata": {
    "collapsed": false,
    "pycharm": {
     "name": "#%%\n"
    }
   }
  },
  {
   "cell_type": "markdown",
   "source": [
    "## Exploration\n",
    "\n",
    "Exploratory analysis"
   ],
   "metadata": {
    "collapsed": false,
    "pycharm": {
     "name": "#%% md\n"
    }
   }
  },
  {
   "cell_type": "code",
   "execution_count": 22,
   "outputs": [
    {
     "data": {
      "application/vnd.plotly.v1+json": {
       "data": [
        {
         "alignmentgroup": "True",
         "box": {
          "visible": true
         },
         "hovertemplate": "SEX=2<br>DTHHRDY=%{x}<br>medium_age=%{y}<extra></extra>",
         "legendgroup": "2",
         "marker": {
          "color": "#636efa"
         },
         "name": "2",
         "offsetgroup": "2",
         "orientation": "v",
         "points": "all",
         "scalegroup": "True",
         "showlegend": true,
         "x": [
          4.0,
          0.0,
          2.0,
          2.0,
          0.0,
          0.0,
          2.0,
          2.0,
          0.0,
          0.0,
          0.0,
          4.0,
          3.0,
          0.0,
          0.0,
          2.0,
          0.0,
          2.0,
          0.0,
          2.0,
          3.0,
          4.0,
          2.0,
          0.0,
          0.0,
          0.0,
          1.0,
          0.0,
          2.0,
          0.0,
          4.0,
          2.0,
          0.0,
          0.0,
          0.0,
          0.0,
          0.0,
          3.0,
          0.0,
          0.0,
          0.0,
          0.0,
          2.0,
          0.0,
          0.0,
          4.0,
          3.0,
          0.0,
          2.0,
          3.0,
          0.0,
          2.0,
          0.0,
          0.0,
          2.0,
          2.0,
          2.0,
          2.0,
          0.0,
          0.0,
          0.0,
          0.0,
          4.0,
          4.0,
          0.0,
          2.0,
          0.0,
          0.0,
          0.0,
          0.0,
          4.0,
          0.0,
          3.0,
          2.0,
          0.0,
          4.0,
          0.0,
          0.0,
          4.0,
          3.0,
          4.0,
          0.0,
          0.0,
          0.0,
          2.0,
          0.0,
          0.0,
          0.0,
          0.0,
          4.0,
          0.0,
          0.0,
          2.0,
          0.0,
          3.0,
          2.0,
          0.0,
          0.0,
          1.0,
          0.0,
          0.0,
          0.0,
          0.0,
          2.0,
          4.0,
          0.0,
          0.0,
          4.0,
          0.0,
          0.0,
          4.0,
          0.0,
          0.0,
          2.0,
          0.0,
          4.0,
          2.0,
          0.0,
          3.0,
          2.0,
          4.0,
          2.0,
          0.0,
          0.0,
          0.0,
          2.0,
          0.0,
          0.0,
          0.0,
          2.0,
          4.0,
          2.0,
          4.0,
          4.0,
          0.0,
          4.0,
          1.0,
          4.0,
          2.0,
          0.0,
          0.0,
          3.0,
          4.0,
          0.0,
          0.0,
          1.0,
          2.0,
          2.0,
          4.0,
          4.0,
          4.0,
          0.0,
          2.0,
          2.0,
          0.0,
          0.0,
          0.0,
          4.0,
          0.0,
          0.0,
          0.0,
          0.0,
          0.0,
          0.0,
          0.0,
          0.0,
          2.0,
          4.0,
          2.0,
          2.0,
          0.0,
          3.0,
          4.0,
          0.0,
          0.0,
          0.0,
          0.0,
          0.0,
          0.0,
          0.0,
          4.0,
          4.0,
          0.0,
          0.0,
          0.0,
          0.0,
          0.0,
          0.0,
          4.0,
          0.0,
          0.0,
          4.0,
          2.0,
          0.0,
          1.0,
          0.0,
          1.0,
          2.0,
          0.0,
          3.0,
          0.0,
          0.0,
          0.0,
          4.0,
          0.0,
          0.0,
          3.0,
          3.0,
          0.0,
          0.0,
          0.0,
          0.0,
          0.0,
          4.0,
          2.0,
          4.0,
          3.0,
          0.0,
          0.0,
          0.0,
          0.0,
          4.0,
          3.0,
          0.0,
          0.0,
          null,
          null,
          0.0,
          0.0,
          0.0,
          4.0,
          0.0,
          0.0,
          2.0,
          0.0,
          0.0,
          4.0,
          4.0,
          4.0,
          4.0,
          0.0,
          0.0,
          0.0,
          4.0,
          1.0,
          4.0,
          0.0,
          2.0,
          0.0,
          0.0,
          0.0,
          0.0,
          0.0,
          0.0,
          0.0,
          2.0,
          1.0,
          0.0,
          0.0,
          0.0,
          0.0,
          0.0,
          0.0,
          0.0,
          0.0,
          2.0,
          0.0,
          0.0,
          0.0,
          0.0,
          0.0,
          1.0,
          3.0,
          0.0,
          0.0,
          0.0,
          0.0,
          3.0,
          4.0,
          null,
          0.0,
          0.0,
          0.0,
          2.0,
          0.0,
          0.0,
          0.0,
          0.0,
          0.0,
          0.0,
          0.0,
          0.0,
          0.0,
          0.0,
          0.0,
          null,
          1.0,
          1.0,
          3.0,
          2.0,
          0.0,
          2.0,
          0.0,
          0.0,
          0.0,
          0.0,
          0.0,
          0.0,
          0.0,
          0.0,
          0.0,
          0.0,
          0.0,
          2.0,
          0.0,
          0.0,
          0.0,
          2.0,
          3.0,
          1.0,
          0.0,
          0.0,
          0.0,
          0.0,
          4.0,
          0.0,
          null
         ],
         "x0": " ",
         "xaxis": "x",
         "y": [
          64.5,
          64.5,
          64.5,
          54.5,
          64.5,
          24.5,
          64.5,
          64.5,
          54.5,
          44.5,
          34.5,
          64.5,
          44.5,
          44.5,
          44.5,
          64.5,
          64.5,
          54.5,
          64.5,
          64.5,
          54.5,
          64.5,
          64.5,
          54.5,
          44.5,
          44.5,
          44.5,
          64.5,
          54.5,
          54.5,
          54.5,
          64.5,
          54.5,
          24.5,
          34.5,
          54.5,
          34.5,
          54.5,
          64.5,
          54.5,
          54.5,
          24.5,
          44.5,
          44.5,
          54.5,
          64.5,
          64.5,
          64.5,
          54.5,
          44.5,
          64.5,
          64.5,
          64.5,
          44.5,
          64.5,
          64.5,
          64.5,
          54.5,
          44.5,
          24.5,
          64.5,
          54.5,
          64.5,
          64.5,
          44.5,
          64.5,
          54.5,
          64.5,
          54.5,
          64.5,
          54.5,
          44.5,
          64.5,
          54.5,
          24.5,
          64.5,
          44.5,
          34.5,
          74.5,
          64.5,
          64.5,
          64.5,
          64.5,
          64.5,
          54.5,
          74.5,
          44.5,
          24.5,
          64.5,
          54.5,
          64.5,
          64.5,
          74.5,
          24.5,
          54.5,
          64.5,
          34.5,
          24.5,
          24.5,
          44.5,
          34.5,
          54.5,
          54.5,
          44.5,
          74.5,
          34.5,
          34.5,
          64.5,
          64.5,
          44.5,
          54.5,
          44.5,
          74.5,
          34.5,
          64.5,
          74.5,
          54.5,
          34.5,
          74.5,
          54.5,
          64.5,
          54.5,
          34.5,
          54.5,
          44.5,
          54.5,
          54.5,
          44.5,
          44.5,
          44.5,
          64.5,
          74.5,
          54.5,
          64.5,
          44.5,
          64.5,
          24.5,
          64.5,
          64.5,
          44.5,
          44.5,
          54.5,
          54.5,
          54.5,
          54.5,
          54.5,
          64.5,
          44.5,
          64.5,
          44.5,
          64.5,
          44.5,
          64.5,
          64.5,
          54.5,
          54.5,
          44.5,
          64.5,
          64.5,
          54.5,
          74.5,
          54.5,
          54.5,
          64.5,
          44.5,
          34.5,
          64.5,
          44.5,
          64.5,
          64.5,
          64.5,
          54.5,
          64.5,
          54.5,
          64.5,
          24.5,
          54.5,
          54.5,
          24.5,
          54.5,
          54.5,
          54.5,
          54.5,
          54.5,
          54.5,
          24.5,
          34.5,
          24.5,
          24.5,
          44.5,
          24.5,
          64.5,
          54.5,
          34.5,
          24.5,
          24.5,
          34.5,
          64.5,
          64.5,
          64.5,
          54.5,
          44.5,
          34.5,
          64.5,
          34.5,
          44.5,
          64.5,
          54.5,
          24.5,
          24.5,
          64.5,
          34.5,
          34.5,
          64.5,
          64.5,
          64.5,
          64.5,
          54.5,
          64.5,
          64.5,
          54.5,
          64.5,
          64.5,
          34.5,
          54.5,
          44.5,
          54.5,
          24.5,
          24.5,
          44.5,
          64.5,
          44.5,
          24.5,
          44.5,
          44.5,
          54.5,
          34.5,
          64.5,
          64.5,
          44.5,
          64.5,
          54.5,
          44.5,
          54.5,
          54.5,
          64.5,
          24.5,
          54.5,
          64.5,
          54.5,
          44.5,
          54.5,
          44.5,
          24.5,
          44.5,
          54.5,
          24.5,
          24.5,
          44.5,
          44.5,
          44.5,
          64.5,
          34.5,
          54.5,
          24.5,
          54.5,
          54.5,
          44.5,
          44.5,
          44.5,
          24.5,
          54.5,
          54.5,
          54.5,
          64.5,
          44.5,
          54.5,
          64.5,
          64.5,
          74.5,
          54.5,
          64.5,
          54.5,
          64.5,
          64.5,
          54.5,
          34.5,
          44.5,
          64.5,
          54.5,
          54.5,
          44.5,
          64.5,
          54.5,
          44.5,
          54.5,
          44.5,
          44.5,
          54.5,
          54.5,
          44.5,
          54.5,
          64.5,
          54.5,
          54.5,
          44.5,
          64.5,
          54.5,
          24.5,
          64.5,
          44.5,
          64.5,
          24.5,
          54.5,
          44.5,
          54.5,
          54.5,
          64.5,
          54.5,
          64.5,
          34.5,
          64.5,
          54.5,
          44.5,
          64.5,
          54.5,
          54.5
         ],
         "y0": " ",
         "yaxis": "y",
         "type": "violin"
        },
        {
         "alignmentgroup": "True",
         "box": {
          "visible": true
         },
         "hovertemplate": "SEX=1<br>DTHHRDY=%{x}<br>medium_age=%{y}<extra></extra>",
         "legendgroup": "1",
         "marker": {
          "color": "#EF553B"
         },
         "name": "1",
         "offsetgroup": "1",
         "orientation": "v",
         "points": "all",
         "scalegroup": "True",
         "showlegend": true,
         "x": [
          0.0,
          1.0,
          3.0,
          0.0,
          null,
          2.0,
          3.0,
          0.0,
          2.0,
          4.0,
          2.0,
          2.0,
          0.0,
          2.0,
          4.0,
          4.0,
          4.0,
          2.0,
          2.0,
          2.0,
          2.0,
          0.0,
          0.0,
          2.0,
          2.0,
          2.0,
          2.0,
          2.0,
          2.0,
          0.0,
          1.0,
          2.0,
          0.0,
          2.0,
          2.0,
          2.0,
          2.0,
          4.0,
          1.0,
          1.0,
          2.0,
          3.0,
          3.0,
          0.0,
          0.0,
          0.0,
          4.0,
          2.0,
          2.0,
          4.0,
          2.0,
          2.0,
          0.0,
          2.0,
          0.0,
          4.0,
          2.0,
          2.0,
          0.0,
          2.0,
          0.0,
          0.0,
          0.0,
          2.0,
          1.0,
          4.0,
          0.0,
          0.0,
          0.0,
          0.0,
          2.0,
          0.0,
          4.0,
          2.0,
          2.0,
          3.0,
          2.0,
          2.0,
          0.0,
          2.0,
          2.0,
          0.0,
          2.0,
          0.0,
          4.0,
          2.0,
          2.0,
          0.0,
          2.0,
          2.0,
          2.0,
          4.0,
          2.0,
          0.0,
          2.0,
          2.0,
          2.0,
          4.0,
          0.0,
          2.0,
          0.0,
          2.0,
          0.0,
          4.0,
          2.0,
          0.0,
          0.0,
          2.0,
          0.0,
          2.0,
          3.0,
          2.0,
          2.0,
          2.0,
          4.0,
          2.0,
          0.0,
          4.0,
          0.0,
          4.0,
          0.0,
          2.0,
          2.0,
          0.0,
          4.0,
          2.0,
          0.0,
          3.0,
          2.0,
          2.0,
          0.0,
          0.0,
          4.0,
          0.0,
          2.0,
          0.0,
          2.0,
          2.0,
          1.0,
          0.0,
          3.0,
          0.0,
          4.0,
          4.0,
          2.0,
          2.0,
          2.0,
          2.0,
          0.0,
          2.0,
          0.0,
          2.0,
          2.0,
          0.0,
          2.0,
          2.0,
          0.0,
          2.0,
          4.0,
          0.0,
          0.0,
          4.0,
          2.0,
          0.0,
          2.0,
          0.0,
          0.0,
          4.0,
          2.0,
          2.0,
          0.0,
          4.0,
          0.0,
          0.0,
          0.0,
          0.0,
          4.0,
          0.0,
          2.0,
          4.0,
          0.0,
          2.0,
          2.0,
          2.0,
          0.0,
          4.0,
          0.0,
          0.0,
          2.0,
          0.0,
          0.0,
          0.0,
          0.0,
          0.0,
          4.0,
          0.0,
          0.0,
          0.0,
          2.0,
          4.0,
          0.0,
          0.0,
          0.0,
          0.0,
          2.0,
          0.0,
          0.0,
          0.0,
          0.0,
          0.0,
          1.0,
          2.0,
          0.0,
          0.0,
          2.0,
          1.0,
          0.0,
          4.0,
          0.0,
          0.0,
          0.0,
          0.0,
          2.0,
          2.0,
          0.0,
          2.0,
          0.0,
          0.0,
          4.0,
          2.0,
          4.0,
          0.0,
          2.0,
          3.0,
          0.0,
          0.0,
          0.0,
          0.0,
          4.0,
          2.0,
          2.0,
          0.0,
          0.0,
          2.0,
          0.0,
          0.0,
          0.0,
          0.0,
          0.0,
          0.0,
          2.0,
          2.0,
          2.0,
          0.0,
          2.0,
          2.0,
          2.0,
          0.0,
          0.0,
          2.0,
          0.0,
          2.0,
          2.0,
          2.0,
          2.0,
          2.0,
          0.0,
          0.0,
          0.0,
          2.0,
          0.0,
          3.0,
          2.0,
          2.0,
          4.0,
          2.0,
          2.0,
          2.0,
          2.0,
          2.0,
          0.0,
          2.0,
          2.0,
          2.0,
          4.0,
          0.0,
          2.0,
          0.0,
          2.0,
          3.0,
          0.0,
          0.0,
          0.0,
          2.0,
          2.0,
          2.0,
          2.0,
          2.0,
          0.0,
          2.0,
          2.0,
          2.0,
          0.0,
          0.0,
          0.0,
          0.0,
          4.0,
          4.0,
          4.0,
          2.0,
          4.0,
          0.0,
          2.0,
          2.0,
          2.0,
          0.0,
          0.0,
          0.0,
          4.0,
          2.0,
          2.0,
          0.0,
          4.0,
          4.0,
          0.0,
          2.0,
          3.0,
          0.0,
          0.0,
          2.0,
          0.0,
          4.0,
          2.0,
          2.0,
          2.0,
          4.0,
          0.0,
          2.0,
          3.0,
          0.0,
          0.0,
          0.0,
          3.0,
          4.0,
          0.0,
          0.0,
          0.0,
          1.0,
          3.0,
          4.0,
          2.0,
          2.0,
          2.0,
          2.0,
          2.0,
          1.0,
          0.0,
          3.0,
          0.0,
          4.0,
          3.0,
          2.0,
          0.0,
          0.0,
          0.0,
          2.0,
          0.0,
          4.0,
          0.0,
          2.0,
          0.0,
          0.0,
          0.0,
          0.0,
          3.0,
          0.0,
          2.0,
          2.0,
          2.0,
          1.0,
          0.0,
          0.0,
          2.0,
          0.0,
          0.0,
          3.0,
          2.0,
          0.0,
          2.0,
          0.0,
          4.0,
          2.0,
          4.0,
          2.0,
          0.0,
          2.0,
          3.0,
          0.0,
          0.0,
          2.0,
          0.0,
          0.0,
          0.0,
          2.0,
          1.0,
          3.0,
          2.0,
          0.0,
          0.0,
          4.0,
          2.0,
          3.0,
          0.0,
          0.0,
          0.0,
          0.0,
          4.0,
          4.0,
          0.0,
          0.0,
          0.0,
          0.0,
          0.0,
          2.0,
          0.0,
          0.0,
          4.0,
          0.0,
          0.0,
          0.0,
          2.0,
          0.0,
          0.0,
          0.0,
          2.0,
          0.0,
          0.0,
          0.0,
          0.0,
          0.0,
          0.0,
          0.0,
          0.0,
          0.0,
          0.0,
          3.0,
          0.0,
          4.0,
          0.0,
          4.0,
          2.0,
          3.0,
          0.0,
          3.0,
          0.0,
          0.0,
          0.0,
          0.0,
          2.0,
          0.0,
          3.0,
          4.0,
          4.0,
          0.0,
          4.0,
          0.0,
          0.0,
          0.0,
          0.0,
          0.0,
          0.0,
          0.0,
          0.0,
          0.0,
          0.0,
          0.0,
          0.0,
          4.0,
          0.0,
          null,
          0.0,
          0.0,
          0.0,
          0.0,
          0.0,
          2.0,
          0.0,
          0.0,
          0.0,
          0.0,
          0.0,
          1.0,
          0.0,
          3.0,
          0.0,
          0.0,
          0.0,
          4.0,
          0.0,
          0.0,
          0.0,
          1.0,
          0.0,
          0.0,
          1.0,
          4.0,
          0.0,
          0.0,
          1.0,
          0.0,
          2.0,
          3.0,
          1.0,
          2.0,
          2.0,
          0.0,
          0.0,
          0.0,
          0.0,
          2.0,
          0.0,
          0.0,
          2.0,
          2.0,
          0.0,
          0.0,
          null,
          0.0,
          4.0,
          2.0,
          2.0,
          0.0,
          0.0,
          0.0,
          null,
          null,
          null,
          0.0,
          0.0,
          3.0,
          0.0,
          0.0,
          4.0,
          0.0,
          2.0,
          0.0,
          3.0,
          0.0,
          0.0,
          0.0,
          0.0,
          null,
          null,
          0.0,
          0.0,
          0.0,
          0.0,
          0.0,
          0.0,
          0.0,
          3.0,
          0.0,
          1.0,
          2.0,
          0.0,
          0.0,
          0.0,
          0.0,
          2.0,
          0.0,
          0.0,
          0.0,
          1.0,
          4.0,
          0.0,
          0.0,
          4.0,
          0.0,
          4.0,
          0.0,
          0.0,
          null,
          0.0,
          2.0,
          0.0,
          0.0,
          0.0,
          0.0,
          3.0,
          4.0,
          0.0,
          2.0,
          0.0,
          0.0,
          1.0,
          0.0,
          null,
          0.0,
          1.0,
          0.0,
          0.0,
          2.0,
          0.0,
          null,
          0.0,
          0.0,
          0.0,
          0.0,
          3.0,
          0.0,
          0.0,
          2.0,
          0.0,
          2.0,
          null,
          0.0,
          0.0,
          4.0,
          0.0,
          null,
          2.0,
          0.0,
          2.0,
          0.0,
          2.0,
          0.0,
          4.0,
          0.0,
          0.0,
          0.0,
          0.0,
          0.0,
          0.0,
          0.0,
          3.0,
          0.0,
          2.0,
          2.0,
          0.0,
          0.0,
          0.0,
          1.0,
          null,
          0.0,
          4.0,
          3.0,
          0.0,
          2.0,
          3.0,
          1.0,
          3.0,
          0.0,
          4.0
         ],
         "x0": " ",
         "xaxis": "x",
         "y": [
          54.5,
          64.5,
          64.5,
          64.5,
          64.5,
          64.5,
          54.5,
          54.5,
          64.5,
          54.5,
          44.5,
          64.5,
          54.5,
          64.5,
          54.5,
          64.5,
          64.5,
          34.5,
          64.5,
          64.5,
          54.5,
          34.5,
          24.5,
          54.5,
          64.5,
          44.5,
          64.5,
          64.5,
          64.5,
          34.5,
          24.5,
          54.5,
          24.5,
          64.5,
          54.5,
          64.5,
          54.5,
          64.5,
          34.5,
          24.5,
          64.5,
          44.5,
          64.5,
          64.5,
          24.5,
          34.5,
          64.5,
          54.5,
          24.5,
          74.5,
          54.5,
          54.5,
          54.5,
          64.5,
          44.5,
          54.5,
          64.5,
          64.5,
          54.5,
          54.5,
          34.5,
          54.5,
          64.5,
          54.5,
          64.5,
          64.5,
          64.5,
          44.5,
          44.5,
          34.5,
          64.5,
          54.5,
          64.5,
          64.5,
          64.5,
          64.5,
          64.5,
          64.5,
          54.5,
          64.5,
          54.5,
          24.5,
          64.5,
          64.5,
          54.5,
          54.5,
          54.5,
          44.5,
          64.5,
          54.5,
          64.5,
          74.5,
          64.5,
          74.5,
          64.5,
          44.5,
          64.5,
          64.5,
          54.5,
          64.5,
          34.5,
          64.5,
          54.5,
          54.5,
          54.5,
          64.5,
          64.5,
          74.5,
          44.5,
          54.5,
          64.5,
          54.5,
          54.5,
          64.5,
          64.5,
          54.5,
          54.5,
          64.5,
          24.5,
          44.5,
          44.5,
          74.5,
          54.5,
          54.5,
          64.5,
          54.5,
          64.5,
          64.5,
          54.5,
          54.5,
          24.5,
          54.5,
          64.5,
          44.5,
          54.5,
          54.5,
          54.5,
          54.5,
          54.5,
          34.5,
          64.5,
          34.5,
          64.5,
          64.5,
          54.5,
          64.5,
          64.5,
          74.5,
          64.5,
          64.5,
          34.5,
          54.5,
          64.5,
          34.5,
          54.5,
          54.5,
          54.5,
          44.5,
          64.5,
          54.5,
          54.5,
          44.5,
          54.5,
          34.5,
          74.5,
          44.5,
          34.5,
          64.5,
          44.5,
          64.5,
          54.5,
          64.5,
          54.5,
          54.5,
          64.5,
          34.5,
          64.5,
          24.5,
          54.5,
          64.5,
          54.5,
          54.5,
          44.5,
          54.5,
          24.5,
          54.5,
          54.5,
          44.5,
          64.5,
          34.5,
          64.5,
          24.5,
          44.5,
          44.5,
          44.5,
          64.5,
          64.5,
          64.5,
          54.5,
          64.5,
          44.5,
          24.5,
          54.5,
          54.5,
          64.5,
          54.5,
          54.5,
          54.5,
          74.5,
          64.5,
          34.5,
          64.5,
          44.5,
          24.5,
          44.5,
          74.5,
          74.5,
          54.5,
          54.5,
          64.5,
          54.5,
          54.5,
          54.5,
          54.5,
          54.5,
          44.5,
          24.5,
          24.5,
          54.5,
          54.5,
          64.5,
          54.5,
          64.5,
          74.5,
          64.5,
          44.5,
          34.5,
          34.5,
          64.5,
          64.5,
          64.5,
          44.5,
          64.5,
          64.5,
          64.5,
          54.5,
          54.5,
          54.5,
          54.5,
          54.5,
          64.5,
          64.5,
          54.5,
          44.5,
          64.5,
          64.5,
          74.5,
          54.5,
          34.5,
          54.5,
          64.5,
          54.5,
          64.5,
          64.5,
          64.5,
          44.5,
          24.5,
          64.5,
          64.5,
          64.5,
          54.5,
          64.5,
          54.5,
          54.5,
          64.5,
          64.5,
          64.5,
          44.5,
          64.5,
          54.5,
          54.5,
          64.5,
          64.5,
          54.5,
          54.5,
          44.5,
          64.5,
          44.5,
          64.5,
          64.5,
          54.5,
          54.5,
          44.5,
          54.5,
          64.5,
          64.5,
          64.5,
          64.5,
          24.5,
          64.5,
          44.5,
          54.5,
          44.5,
          24.5,
          74.5,
          34.5,
          74.5,
          64.5,
          64.5,
          64.5,
          44.5,
          54.5,
          54.5,
          54.5,
          54.5,
          54.5,
          54.5,
          24.5,
          54.5,
          44.5,
          64.5,
          44.5,
          64.5,
          64.5,
          64.5,
          64.5,
          64.5,
          74.5,
          54.5,
          34.5,
          64.5,
          74.5,
          54.5,
          54.5,
          64.5,
          64.5,
          44.5,
          64.5,
          64.5,
          34.5,
          44.5,
          54.5,
          64.5,
          64.5,
          54.5,
          34.5,
          24.5,
          74.5,
          64.5,
          64.5,
          64.5,
          64.5,
          64.5,
          74.5,
          54.5,
          64.5,
          44.5,
          64.5,
          64.5,
          64.5,
          74.5,
          64.5,
          64.5,
          34.5,
          24.5,
          54.5,
          34.5,
          34.5,
          54.5,
          54.5,
          64.5,
          64.5,
          54.5,
          24.5,
          54.5,
          24.5,
          54.5,
          44.5,
          54.5,
          34.5,
          64.5,
          54.5,
          54.5,
          24.5,
          34.5,
          64.5,
          54.5,
          34.5,
          54.5,
          54.5,
          64.5,
          54.5,
          64.5,
          64.5,
          44.5,
          64.5,
          64.5,
          44.5,
          44.5,
          54.5,
          24.5,
          64.5,
          44.5,
          54.5,
          64.5,
          64.5,
          64.5,
          54.5,
          54.5,
          54.5,
          64.5,
          64.5,
          54.5,
          64.5,
          24.5,
          64.5,
          44.5,
          54.5,
          34.5,
          24.5,
          34.5,
          24.5,
          34.5,
          64.5,
          44.5,
          24.5,
          74.5,
          54.5,
          34.5,
          44.5,
          64.5,
          54.5,
          54.5,
          54.5,
          44.5,
          34.5,
          34.5,
          64.5,
          44.5,
          64.5,
          54.5,
          24.5,
          24.5,
          34.5,
          44.5,
          54.5,
          64.5,
          54.5,
          54.5,
          64.5,
          64.5,
          64.5,
          54.5,
          64.5,
          24.5,
          44.5,
          24.5,
          44.5,
          64.5,
          44.5,
          64.5,
          54.5,
          44.5,
          24.5,
          64.5,
          54.5,
          64.5,
          54.5,
          64.5,
          54.5,
          54.5,
          44.5,
          64.5,
          44.5,
          54.5,
          54.5,
          34.5,
          44.5,
          64.5,
          64.5,
          64.5,
          54.5,
          34.5,
          64.5,
          54.5,
          44.5,
          24.5,
          44.5,
          44.5,
          54.5,
          54.5,
          34.5,
          24.5,
          54.5,
          24.5,
          64.5,
          34.5,
          54.5,
          54.5,
          34.5,
          54.5,
          54.5,
          44.5,
          54.5,
          24.5,
          54.5,
          64.5,
          54.5,
          54.5,
          54.5,
          54.5,
          64.5,
          44.5,
          34.5,
          74.5,
          54.5,
          24.5,
          64.5,
          64.5,
          54.5,
          64.5,
          54.5,
          54.5,
          64.5,
          24.5,
          44.5,
          64.5,
          74.5,
          54.5,
          24.5,
          54.5,
          44.5,
          34.5,
          54.5,
          54.5,
          64.5,
          54.5,
          34.5,
          44.5,
          64.5,
          44.5,
          64.5,
          34.5,
          54.5,
          54.5,
          44.5,
          64.5,
          54.5,
          64.5,
          64.5,
          54.5,
          34.5,
          54.5,
          24.5,
          24.5,
          34.5,
          44.5,
          44.5,
          54.5,
          54.5,
          24.5,
          54.5,
          54.5,
          54.5,
          64.5,
          24.5,
          64.5,
          54.5,
          54.5,
          54.5,
          54.5,
          54.5,
          44.5,
          54.5,
          44.5,
          54.5,
          64.5,
          64.5,
          54.5,
          44.5,
          54.5,
          34.5,
          44.5,
          54.5,
          64.5,
          44.5,
          54.5,
          44.5,
          64.5,
          64.5,
          44.5,
          54.5,
          24.5,
          54.5,
          24.5,
          54.5,
          54.5,
          54.5,
          54.5,
          54.5,
          64.5,
          64.5,
          44.5,
          64.5,
          34.5,
          44.5,
          54.5,
          44.5,
          64.5,
          54.5,
          44.5,
          64.5,
          24.5,
          54.5,
          54.5,
          44.5,
          24.5,
          44.5,
          54.5,
          74.5,
          64.5,
          64.5,
          64.5,
          54.5,
          64.5,
          54.5,
          64.5,
          54.5,
          44.5,
          44.5,
          34.5,
          54.5,
          44.5,
          44.5,
          54.5,
          24.5,
          34.5,
          44.5,
          54.5,
          54.5,
          54.5,
          24.5,
          44.5,
          54.5,
          34.5,
          64.5,
          54.5,
          54.5,
          54.5,
          34.5,
          64.5,
          24.5,
          54.5
         ],
         "y0": " ",
         "yaxis": "y",
         "type": "violin"
        }
       ],
       "layout": {
        "template": {
         "data": {
          "histogram2dcontour": [
           {
            "type": "histogram2dcontour",
            "colorbar": {
             "outlinewidth": 0,
             "ticks": ""
            },
            "colorscale": [
             [
              0.0,
              "#0d0887"
             ],
             [
              0.1111111111111111,
              "#46039f"
             ],
             [
              0.2222222222222222,
              "#7201a8"
             ],
             [
              0.3333333333333333,
              "#9c179e"
             ],
             [
              0.4444444444444444,
              "#bd3786"
             ],
             [
              0.5555555555555556,
              "#d8576b"
             ],
             [
              0.6666666666666666,
              "#ed7953"
             ],
             [
              0.7777777777777778,
              "#fb9f3a"
             ],
             [
              0.8888888888888888,
              "#fdca26"
             ],
             [
              1.0,
              "#f0f921"
             ]
            ]
           }
          ],
          "choropleth": [
           {
            "type": "choropleth",
            "colorbar": {
             "outlinewidth": 0,
             "ticks": ""
            }
           }
          ],
          "histogram2d": [
           {
            "type": "histogram2d",
            "colorbar": {
             "outlinewidth": 0,
             "ticks": ""
            },
            "colorscale": [
             [
              0.0,
              "#0d0887"
             ],
             [
              0.1111111111111111,
              "#46039f"
             ],
             [
              0.2222222222222222,
              "#7201a8"
             ],
             [
              0.3333333333333333,
              "#9c179e"
             ],
             [
              0.4444444444444444,
              "#bd3786"
             ],
             [
              0.5555555555555556,
              "#d8576b"
             ],
             [
              0.6666666666666666,
              "#ed7953"
             ],
             [
              0.7777777777777778,
              "#fb9f3a"
             ],
             [
              0.8888888888888888,
              "#fdca26"
             ],
             [
              1.0,
              "#f0f921"
             ]
            ]
           }
          ],
          "heatmap": [
           {
            "type": "heatmap",
            "colorbar": {
             "outlinewidth": 0,
             "ticks": ""
            },
            "colorscale": [
             [
              0.0,
              "#0d0887"
             ],
             [
              0.1111111111111111,
              "#46039f"
             ],
             [
              0.2222222222222222,
              "#7201a8"
             ],
             [
              0.3333333333333333,
              "#9c179e"
             ],
             [
              0.4444444444444444,
              "#bd3786"
             ],
             [
              0.5555555555555556,
              "#d8576b"
             ],
             [
              0.6666666666666666,
              "#ed7953"
             ],
             [
              0.7777777777777778,
              "#fb9f3a"
             ],
             [
              0.8888888888888888,
              "#fdca26"
             ],
             [
              1.0,
              "#f0f921"
             ]
            ]
           }
          ],
          "heatmapgl": [
           {
            "type": "heatmapgl",
            "colorbar": {
             "outlinewidth": 0,
             "ticks": ""
            },
            "colorscale": [
             [
              0.0,
              "#0d0887"
             ],
             [
              0.1111111111111111,
              "#46039f"
             ],
             [
              0.2222222222222222,
              "#7201a8"
             ],
             [
              0.3333333333333333,
              "#9c179e"
             ],
             [
              0.4444444444444444,
              "#bd3786"
             ],
             [
              0.5555555555555556,
              "#d8576b"
             ],
             [
              0.6666666666666666,
              "#ed7953"
             ],
             [
              0.7777777777777778,
              "#fb9f3a"
             ],
             [
              0.8888888888888888,
              "#fdca26"
             ],
             [
              1.0,
              "#f0f921"
             ]
            ]
           }
          ],
          "contourcarpet": [
           {
            "type": "contourcarpet",
            "colorbar": {
             "outlinewidth": 0,
             "ticks": ""
            }
           }
          ],
          "contour": [
           {
            "type": "contour",
            "colorbar": {
             "outlinewidth": 0,
             "ticks": ""
            },
            "colorscale": [
             [
              0.0,
              "#0d0887"
             ],
             [
              0.1111111111111111,
              "#46039f"
             ],
             [
              0.2222222222222222,
              "#7201a8"
             ],
             [
              0.3333333333333333,
              "#9c179e"
             ],
             [
              0.4444444444444444,
              "#bd3786"
             ],
             [
              0.5555555555555556,
              "#d8576b"
             ],
             [
              0.6666666666666666,
              "#ed7953"
             ],
             [
              0.7777777777777778,
              "#fb9f3a"
             ],
             [
              0.8888888888888888,
              "#fdca26"
             ],
             [
              1.0,
              "#f0f921"
             ]
            ]
           }
          ],
          "surface": [
           {
            "type": "surface",
            "colorbar": {
             "outlinewidth": 0,
             "ticks": ""
            },
            "colorscale": [
             [
              0.0,
              "#0d0887"
             ],
             [
              0.1111111111111111,
              "#46039f"
             ],
             [
              0.2222222222222222,
              "#7201a8"
             ],
             [
              0.3333333333333333,
              "#9c179e"
             ],
             [
              0.4444444444444444,
              "#bd3786"
             ],
             [
              0.5555555555555556,
              "#d8576b"
             ],
             [
              0.6666666666666666,
              "#ed7953"
             ],
             [
              0.7777777777777778,
              "#fb9f3a"
             ],
             [
              0.8888888888888888,
              "#fdca26"
             ],
             [
              1.0,
              "#f0f921"
             ]
            ]
           }
          ],
          "mesh3d": [
           {
            "type": "mesh3d",
            "colorbar": {
             "outlinewidth": 0,
             "ticks": ""
            }
           }
          ],
          "scatter": [
           {
            "marker": {
             "line": {
              "color": "#283442"
             }
            },
            "type": "scatter"
           }
          ],
          "parcoords": [
           {
            "type": "parcoords",
            "line": {
             "colorbar": {
              "outlinewidth": 0,
              "ticks": ""
             }
            }
           }
          ],
          "scatterpolargl": [
           {
            "type": "scatterpolargl",
            "marker": {
             "colorbar": {
              "outlinewidth": 0,
              "ticks": ""
             }
            }
           }
          ],
          "bar": [
           {
            "error_x": {
             "color": "#f2f5fa"
            },
            "error_y": {
             "color": "#f2f5fa"
            },
            "marker": {
             "line": {
              "color": "rgb(17,17,17)",
              "width": 0.5
             },
             "pattern": {
              "fillmode": "overlay",
              "size": 10,
              "solidity": 0.2
             }
            },
            "type": "bar"
           }
          ],
          "scattergeo": [
           {
            "type": "scattergeo",
            "marker": {
             "colorbar": {
              "outlinewidth": 0,
              "ticks": ""
             }
            }
           }
          ],
          "scatterpolar": [
           {
            "type": "scatterpolar",
            "marker": {
             "colorbar": {
              "outlinewidth": 0,
              "ticks": ""
             }
            }
           }
          ],
          "histogram": [
           {
            "marker": {
             "pattern": {
              "fillmode": "overlay",
              "size": 10,
              "solidity": 0.2
             }
            },
            "type": "histogram"
           }
          ],
          "scattergl": [
           {
            "marker": {
             "line": {
              "color": "#283442"
             }
            },
            "type": "scattergl"
           }
          ],
          "scatter3d": [
           {
            "type": "scatter3d",
            "line": {
             "colorbar": {
              "outlinewidth": 0,
              "ticks": ""
             }
            },
            "marker": {
             "colorbar": {
              "outlinewidth": 0,
              "ticks": ""
             }
            }
           }
          ],
          "scattermapbox": [
           {
            "type": "scattermapbox",
            "marker": {
             "colorbar": {
              "outlinewidth": 0,
              "ticks": ""
             }
            }
           }
          ],
          "scatterternary": [
           {
            "type": "scatterternary",
            "marker": {
             "colorbar": {
              "outlinewidth": 0,
              "ticks": ""
             }
            }
           }
          ],
          "scattercarpet": [
           {
            "type": "scattercarpet",
            "marker": {
             "colorbar": {
              "outlinewidth": 0,
              "ticks": ""
             }
            }
           }
          ],
          "carpet": [
           {
            "aaxis": {
             "endlinecolor": "#A2B1C6",
             "gridcolor": "#506784",
             "linecolor": "#506784",
             "minorgridcolor": "#506784",
             "startlinecolor": "#A2B1C6"
            },
            "baxis": {
             "endlinecolor": "#A2B1C6",
             "gridcolor": "#506784",
             "linecolor": "#506784",
             "minorgridcolor": "#506784",
             "startlinecolor": "#A2B1C6"
            },
            "type": "carpet"
           }
          ],
          "table": [
           {
            "cells": {
             "fill": {
              "color": "#506784"
             },
             "line": {
              "color": "rgb(17,17,17)"
             }
            },
            "header": {
             "fill": {
              "color": "#2a3f5f"
             },
             "line": {
              "color": "rgb(17,17,17)"
             }
            },
            "type": "table"
           }
          ],
          "barpolar": [
           {
            "marker": {
             "line": {
              "color": "rgb(17,17,17)",
              "width": 0.5
             },
             "pattern": {
              "fillmode": "overlay",
              "size": 10,
              "solidity": 0.2
             }
            },
            "type": "barpolar"
           }
          ],
          "pie": [
           {
            "automargin": true,
            "type": "pie"
           }
          ]
         },
         "layout": {
          "autotypenumbers": "strict",
          "colorway": [
           "#636efa",
           "#EF553B",
           "#00cc96",
           "#ab63fa",
           "#FFA15A",
           "#19d3f3",
           "#FF6692",
           "#B6E880",
           "#FF97FF",
           "#FECB52"
          ],
          "font": {
           "color": "#f2f5fa"
          },
          "hovermode": "closest",
          "hoverlabel": {
           "align": "left"
          },
          "paper_bgcolor": "rgb(17,17,17)",
          "plot_bgcolor": "rgb(17,17,17)",
          "polar": {
           "bgcolor": "rgb(17,17,17)",
           "angularaxis": {
            "gridcolor": "#506784",
            "linecolor": "#506784",
            "ticks": ""
           },
           "radialaxis": {
            "gridcolor": "#506784",
            "linecolor": "#506784",
            "ticks": ""
           }
          },
          "ternary": {
           "bgcolor": "rgb(17,17,17)",
           "aaxis": {
            "gridcolor": "#506784",
            "linecolor": "#506784",
            "ticks": ""
           },
           "baxis": {
            "gridcolor": "#506784",
            "linecolor": "#506784",
            "ticks": ""
           },
           "caxis": {
            "gridcolor": "#506784",
            "linecolor": "#506784",
            "ticks": ""
           }
          },
          "coloraxis": {
           "colorbar": {
            "outlinewidth": 0,
            "ticks": ""
           }
          },
          "colorscale": {
           "sequential": [
            [
             0.0,
             "#0d0887"
            ],
            [
             0.1111111111111111,
             "#46039f"
            ],
            [
             0.2222222222222222,
             "#7201a8"
            ],
            [
             0.3333333333333333,
             "#9c179e"
            ],
            [
             0.4444444444444444,
             "#bd3786"
            ],
            [
             0.5555555555555556,
             "#d8576b"
            ],
            [
             0.6666666666666666,
             "#ed7953"
            ],
            [
             0.7777777777777778,
             "#fb9f3a"
            ],
            [
             0.8888888888888888,
             "#fdca26"
            ],
            [
             1.0,
             "#f0f921"
            ]
           ],
           "sequentialminus": [
            [
             0.0,
             "#0d0887"
            ],
            [
             0.1111111111111111,
             "#46039f"
            ],
            [
             0.2222222222222222,
             "#7201a8"
            ],
            [
             0.3333333333333333,
             "#9c179e"
            ],
            [
             0.4444444444444444,
             "#bd3786"
            ],
            [
             0.5555555555555556,
             "#d8576b"
            ],
            [
             0.6666666666666666,
             "#ed7953"
            ],
            [
             0.7777777777777778,
             "#fb9f3a"
            ],
            [
             0.8888888888888888,
             "#fdca26"
            ],
            [
             1.0,
             "#f0f921"
            ]
           ],
           "diverging": [
            [
             0,
             "#8e0152"
            ],
            [
             0.1,
             "#c51b7d"
            ],
            [
             0.2,
             "#de77ae"
            ],
            [
             0.3,
             "#f1b6da"
            ],
            [
             0.4,
             "#fde0ef"
            ],
            [
             0.5,
             "#f7f7f7"
            ],
            [
             0.6,
             "#e6f5d0"
            ],
            [
             0.7,
             "#b8e186"
            ],
            [
             0.8,
             "#7fbc41"
            ],
            [
             0.9,
             "#4d9221"
            ],
            [
             1,
             "#276419"
            ]
           ]
          },
          "xaxis": {
           "gridcolor": "#283442",
           "linecolor": "#506784",
           "ticks": "",
           "title": {
            "standoff": 15
           },
           "zerolinecolor": "#283442",
           "automargin": true,
           "zerolinewidth": 2
          },
          "yaxis": {
           "gridcolor": "#283442",
           "linecolor": "#506784",
           "ticks": "",
           "title": {
            "standoff": 15
           },
           "zerolinecolor": "#283442",
           "automargin": true,
           "zerolinewidth": 2
          },
          "scene": {
           "xaxis": {
            "backgroundcolor": "rgb(17,17,17)",
            "gridcolor": "#506784",
            "linecolor": "#506784",
            "showbackground": true,
            "ticks": "",
            "zerolinecolor": "#C8D4E3",
            "gridwidth": 2
           },
           "yaxis": {
            "backgroundcolor": "rgb(17,17,17)",
            "gridcolor": "#506784",
            "linecolor": "#506784",
            "showbackground": true,
            "ticks": "",
            "zerolinecolor": "#C8D4E3",
            "gridwidth": 2
           },
           "zaxis": {
            "backgroundcolor": "rgb(17,17,17)",
            "gridcolor": "#506784",
            "linecolor": "#506784",
            "showbackground": true,
            "ticks": "",
            "zerolinecolor": "#C8D4E3",
            "gridwidth": 2
           }
          },
          "shapedefaults": {
           "line": {
            "color": "#f2f5fa"
           }
          },
          "annotationdefaults": {
           "arrowcolor": "#f2f5fa",
           "arrowhead": 0,
           "arrowwidth": 1
          },
          "geo": {
           "bgcolor": "rgb(17,17,17)",
           "landcolor": "rgb(17,17,17)",
           "subunitcolor": "#506784",
           "showland": true,
           "showlakes": true,
           "lakecolor": "rgb(17,17,17)"
          },
          "title": {
           "x": 0.05
          },
          "updatemenudefaults": {
           "bgcolor": "#506784",
           "borderwidth": 0
          },
          "sliderdefaults": {
           "bgcolor": "#C8D4E3",
           "borderwidth": 1,
           "bordercolor": "rgb(17,17,17)",
           "tickwidth": 0
          },
          "mapbox": {
           "style": "dark"
          }
         }
        },
        "xaxis": {
         "anchor": "y",
         "domain": [
          0.0,
          1.0
         ],
         "title": {
          "text": "DTHHRDY"
         }
        },
        "yaxis": {
         "anchor": "x",
         "domain": [
          0.0,
          1.0
         ],
         "title": {
          "text": "medium_age"
         }
        },
        "legend": {
         "title": {
          "text": "SEX"
         },
         "tracegroupgap": 0
        },
        "margin": {
         "t": 60
        },
        "violinmode": "group"
       },
       "config": {
        "plotlyServerURL": "https://plot.ly"
       }
      },
      "text/html": "<div>                            <div id=\"a35155b4-e0c7-464e-989a-ea04b51f732e\" class=\"plotly-graph-div\" style=\"height:525px; width:100%;\"></div>            <script type=\"text/javascript\">                require([\"plotly\"], function(Plotly) {                    window.PLOTLYENV=window.PLOTLYENV || {};                                    if (document.getElementById(\"a35155b4-e0c7-464e-989a-ea04b51f732e\")) {                    Plotly.newPlot(                        \"a35155b4-e0c7-464e-989a-ea04b51f732e\",                        [{\"alignmentgroup\":\"True\",\"box\":{\"visible\":true},\"hovertemplate\":\"SEX=2<br>DTHHRDY=%{x}<br>medium_age=%{y}<extra></extra>\",\"legendgroup\":\"2\",\"marker\":{\"color\":\"#636efa\"},\"name\":\"2\",\"offsetgroup\":\"2\",\"orientation\":\"v\",\"points\":\"all\",\"scalegroup\":\"True\",\"showlegend\":true,\"x\":[4.0,0.0,2.0,2.0,0.0,0.0,2.0,2.0,0.0,0.0,0.0,4.0,3.0,0.0,0.0,2.0,0.0,2.0,0.0,2.0,3.0,4.0,2.0,0.0,0.0,0.0,1.0,0.0,2.0,0.0,4.0,2.0,0.0,0.0,0.0,0.0,0.0,3.0,0.0,0.0,0.0,0.0,2.0,0.0,0.0,4.0,3.0,0.0,2.0,3.0,0.0,2.0,0.0,0.0,2.0,2.0,2.0,2.0,0.0,0.0,0.0,0.0,4.0,4.0,0.0,2.0,0.0,0.0,0.0,0.0,4.0,0.0,3.0,2.0,0.0,4.0,0.0,0.0,4.0,3.0,4.0,0.0,0.0,0.0,2.0,0.0,0.0,0.0,0.0,4.0,0.0,0.0,2.0,0.0,3.0,2.0,0.0,0.0,1.0,0.0,0.0,0.0,0.0,2.0,4.0,0.0,0.0,4.0,0.0,0.0,4.0,0.0,0.0,2.0,0.0,4.0,2.0,0.0,3.0,2.0,4.0,2.0,0.0,0.0,0.0,2.0,0.0,0.0,0.0,2.0,4.0,2.0,4.0,4.0,0.0,4.0,1.0,4.0,2.0,0.0,0.0,3.0,4.0,0.0,0.0,1.0,2.0,2.0,4.0,4.0,4.0,0.0,2.0,2.0,0.0,0.0,0.0,4.0,0.0,0.0,0.0,0.0,0.0,0.0,0.0,0.0,2.0,4.0,2.0,2.0,0.0,3.0,4.0,0.0,0.0,0.0,0.0,0.0,0.0,0.0,4.0,4.0,0.0,0.0,0.0,0.0,0.0,0.0,4.0,0.0,0.0,4.0,2.0,0.0,1.0,0.0,1.0,2.0,0.0,3.0,0.0,0.0,0.0,4.0,0.0,0.0,3.0,3.0,0.0,0.0,0.0,0.0,0.0,4.0,2.0,4.0,3.0,0.0,0.0,0.0,0.0,4.0,3.0,0.0,0.0,null,null,0.0,0.0,0.0,4.0,0.0,0.0,2.0,0.0,0.0,4.0,4.0,4.0,4.0,0.0,0.0,0.0,4.0,1.0,4.0,0.0,2.0,0.0,0.0,0.0,0.0,0.0,0.0,0.0,2.0,1.0,0.0,0.0,0.0,0.0,0.0,0.0,0.0,0.0,2.0,0.0,0.0,0.0,0.0,0.0,1.0,3.0,0.0,0.0,0.0,0.0,3.0,4.0,null,0.0,0.0,0.0,2.0,0.0,0.0,0.0,0.0,0.0,0.0,0.0,0.0,0.0,0.0,0.0,null,1.0,1.0,3.0,2.0,0.0,2.0,0.0,0.0,0.0,0.0,0.0,0.0,0.0,0.0,0.0,0.0,0.0,2.0,0.0,0.0,0.0,2.0,3.0,1.0,0.0,0.0,0.0,0.0,4.0,0.0,null],\"x0\":\" \",\"xaxis\":\"x\",\"y\":[64.5,64.5,64.5,54.5,64.5,24.5,64.5,64.5,54.5,44.5,34.5,64.5,44.5,44.5,44.5,64.5,64.5,54.5,64.5,64.5,54.5,64.5,64.5,54.5,44.5,44.5,44.5,64.5,54.5,54.5,54.5,64.5,54.5,24.5,34.5,54.5,34.5,54.5,64.5,54.5,54.5,24.5,44.5,44.5,54.5,64.5,64.5,64.5,54.5,44.5,64.5,64.5,64.5,44.5,64.5,64.5,64.5,54.5,44.5,24.5,64.5,54.5,64.5,64.5,44.5,64.5,54.5,64.5,54.5,64.5,54.5,44.5,64.5,54.5,24.5,64.5,44.5,34.5,74.5,64.5,64.5,64.5,64.5,64.5,54.5,74.5,44.5,24.5,64.5,54.5,64.5,64.5,74.5,24.5,54.5,64.5,34.5,24.5,24.5,44.5,34.5,54.5,54.5,44.5,74.5,34.5,34.5,64.5,64.5,44.5,54.5,44.5,74.5,34.5,64.5,74.5,54.5,34.5,74.5,54.5,64.5,54.5,34.5,54.5,44.5,54.5,54.5,44.5,44.5,44.5,64.5,74.5,54.5,64.5,44.5,64.5,24.5,64.5,64.5,44.5,44.5,54.5,54.5,54.5,54.5,54.5,64.5,44.5,64.5,44.5,64.5,44.5,64.5,64.5,54.5,54.5,44.5,64.5,64.5,54.5,74.5,54.5,54.5,64.5,44.5,34.5,64.5,44.5,64.5,64.5,64.5,54.5,64.5,54.5,64.5,24.5,54.5,54.5,24.5,54.5,54.5,54.5,54.5,54.5,54.5,24.5,34.5,24.5,24.5,44.5,24.5,64.5,54.5,34.5,24.5,24.5,34.5,64.5,64.5,64.5,54.5,44.5,34.5,64.5,34.5,44.5,64.5,54.5,24.5,24.5,64.5,34.5,34.5,64.5,64.5,64.5,64.5,54.5,64.5,64.5,54.5,64.5,64.5,34.5,54.5,44.5,54.5,24.5,24.5,44.5,64.5,44.5,24.5,44.5,44.5,54.5,34.5,64.5,64.5,44.5,64.5,54.5,44.5,54.5,54.5,64.5,24.5,54.5,64.5,54.5,44.5,54.5,44.5,24.5,44.5,54.5,24.5,24.5,44.5,44.5,44.5,64.5,34.5,54.5,24.5,54.5,54.5,44.5,44.5,44.5,24.5,54.5,54.5,54.5,64.5,44.5,54.5,64.5,64.5,74.5,54.5,64.5,54.5,64.5,64.5,54.5,34.5,44.5,64.5,54.5,54.5,44.5,64.5,54.5,44.5,54.5,44.5,44.5,54.5,54.5,44.5,54.5,64.5,54.5,54.5,44.5,64.5,54.5,24.5,64.5,44.5,64.5,24.5,54.5,44.5,54.5,54.5,64.5,54.5,64.5,34.5,64.5,54.5,44.5,64.5,54.5,54.5],\"y0\":\" \",\"yaxis\":\"y\",\"type\":\"violin\"},{\"alignmentgroup\":\"True\",\"box\":{\"visible\":true},\"hovertemplate\":\"SEX=1<br>DTHHRDY=%{x}<br>medium_age=%{y}<extra></extra>\",\"legendgroup\":\"1\",\"marker\":{\"color\":\"#EF553B\"},\"name\":\"1\",\"offsetgroup\":\"1\",\"orientation\":\"v\",\"points\":\"all\",\"scalegroup\":\"True\",\"showlegend\":true,\"x\":[0.0,1.0,3.0,0.0,null,2.0,3.0,0.0,2.0,4.0,2.0,2.0,0.0,2.0,4.0,4.0,4.0,2.0,2.0,2.0,2.0,0.0,0.0,2.0,2.0,2.0,2.0,2.0,2.0,0.0,1.0,2.0,0.0,2.0,2.0,2.0,2.0,4.0,1.0,1.0,2.0,3.0,3.0,0.0,0.0,0.0,4.0,2.0,2.0,4.0,2.0,2.0,0.0,2.0,0.0,4.0,2.0,2.0,0.0,2.0,0.0,0.0,0.0,2.0,1.0,4.0,0.0,0.0,0.0,0.0,2.0,0.0,4.0,2.0,2.0,3.0,2.0,2.0,0.0,2.0,2.0,0.0,2.0,0.0,4.0,2.0,2.0,0.0,2.0,2.0,2.0,4.0,2.0,0.0,2.0,2.0,2.0,4.0,0.0,2.0,0.0,2.0,0.0,4.0,2.0,0.0,0.0,2.0,0.0,2.0,3.0,2.0,2.0,2.0,4.0,2.0,0.0,4.0,0.0,4.0,0.0,2.0,2.0,0.0,4.0,2.0,0.0,3.0,2.0,2.0,0.0,0.0,4.0,0.0,2.0,0.0,2.0,2.0,1.0,0.0,3.0,0.0,4.0,4.0,2.0,2.0,2.0,2.0,0.0,2.0,0.0,2.0,2.0,0.0,2.0,2.0,0.0,2.0,4.0,0.0,0.0,4.0,2.0,0.0,2.0,0.0,0.0,4.0,2.0,2.0,0.0,4.0,0.0,0.0,0.0,0.0,4.0,0.0,2.0,4.0,0.0,2.0,2.0,2.0,0.0,4.0,0.0,0.0,2.0,0.0,0.0,0.0,0.0,0.0,4.0,0.0,0.0,0.0,2.0,4.0,0.0,0.0,0.0,0.0,2.0,0.0,0.0,0.0,0.0,0.0,1.0,2.0,0.0,0.0,2.0,1.0,0.0,4.0,0.0,0.0,0.0,0.0,2.0,2.0,0.0,2.0,0.0,0.0,4.0,2.0,4.0,0.0,2.0,3.0,0.0,0.0,0.0,0.0,4.0,2.0,2.0,0.0,0.0,2.0,0.0,0.0,0.0,0.0,0.0,0.0,2.0,2.0,2.0,0.0,2.0,2.0,2.0,0.0,0.0,2.0,0.0,2.0,2.0,2.0,2.0,2.0,0.0,0.0,0.0,2.0,0.0,3.0,2.0,2.0,4.0,2.0,2.0,2.0,2.0,2.0,0.0,2.0,2.0,2.0,4.0,0.0,2.0,0.0,2.0,3.0,0.0,0.0,0.0,2.0,2.0,2.0,2.0,2.0,0.0,2.0,2.0,2.0,0.0,0.0,0.0,0.0,4.0,4.0,4.0,2.0,4.0,0.0,2.0,2.0,2.0,0.0,0.0,0.0,4.0,2.0,2.0,0.0,4.0,4.0,0.0,2.0,3.0,0.0,0.0,2.0,0.0,4.0,2.0,2.0,2.0,4.0,0.0,2.0,3.0,0.0,0.0,0.0,3.0,4.0,0.0,0.0,0.0,1.0,3.0,4.0,2.0,2.0,2.0,2.0,2.0,1.0,0.0,3.0,0.0,4.0,3.0,2.0,0.0,0.0,0.0,2.0,0.0,4.0,0.0,2.0,0.0,0.0,0.0,0.0,3.0,0.0,2.0,2.0,2.0,1.0,0.0,0.0,2.0,0.0,0.0,3.0,2.0,0.0,2.0,0.0,4.0,2.0,4.0,2.0,0.0,2.0,3.0,0.0,0.0,2.0,0.0,0.0,0.0,2.0,1.0,3.0,2.0,0.0,0.0,4.0,2.0,3.0,0.0,0.0,0.0,0.0,4.0,4.0,0.0,0.0,0.0,0.0,0.0,2.0,0.0,0.0,4.0,0.0,0.0,0.0,2.0,0.0,0.0,0.0,2.0,0.0,0.0,0.0,0.0,0.0,0.0,0.0,0.0,0.0,0.0,3.0,0.0,4.0,0.0,4.0,2.0,3.0,0.0,3.0,0.0,0.0,0.0,0.0,2.0,0.0,3.0,4.0,4.0,0.0,4.0,0.0,0.0,0.0,0.0,0.0,0.0,0.0,0.0,0.0,0.0,0.0,0.0,4.0,0.0,null,0.0,0.0,0.0,0.0,0.0,2.0,0.0,0.0,0.0,0.0,0.0,1.0,0.0,3.0,0.0,0.0,0.0,4.0,0.0,0.0,0.0,1.0,0.0,0.0,1.0,4.0,0.0,0.0,1.0,0.0,2.0,3.0,1.0,2.0,2.0,0.0,0.0,0.0,0.0,2.0,0.0,0.0,2.0,2.0,0.0,0.0,null,0.0,4.0,2.0,2.0,0.0,0.0,0.0,null,null,null,0.0,0.0,3.0,0.0,0.0,4.0,0.0,2.0,0.0,3.0,0.0,0.0,0.0,0.0,null,null,0.0,0.0,0.0,0.0,0.0,0.0,0.0,3.0,0.0,1.0,2.0,0.0,0.0,0.0,0.0,2.0,0.0,0.0,0.0,1.0,4.0,0.0,0.0,4.0,0.0,4.0,0.0,0.0,null,0.0,2.0,0.0,0.0,0.0,0.0,3.0,4.0,0.0,2.0,0.0,0.0,1.0,0.0,null,0.0,1.0,0.0,0.0,2.0,0.0,null,0.0,0.0,0.0,0.0,3.0,0.0,0.0,2.0,0.0,2.0,null,0.0,0.0,4.0,0.0,null,2.0,0.0,2.0,0.0,2.0,0.0,4.0,0.0,0.0,0.0,0.0,0.0,0.0,0.0,3.0,0.0,2.0,2.0,0.0,0.0,0.0,1.0,null,0.0,4.0,3.0,0.0,2.0,3.0,1.0,3.0,0.0,4.0],\"x0\":\" \",\"xaxis\":\"x\",\"y\":[54.5,64.5,64.5,64.5,64.5,64.5,54.5,54.5,64.5,54.5,44.5,64.5,54.5,64.5,54.5,64.5,64.5,34.5,64.5,64.5,54.5,34.5,24.5,54.5,64.5,44.5,64.5,64.5,64.5,34.5,24.5,54.5,24.5,64.5,54.5,64.5,54.5,64.5,34.5,24.5,64.5,44.5,64.5,64.5,24.5,34.5,64.5,54.5,24.5,74.5,54.5,54.5,54.5,64.5,44.5,54.5,64.5,64.5,54.5,54.5,34.5,54.5,64.5,54.5,64.5,64.5,64.5,44.5,44.5,34.5,64.5,54.5,64.5,64.5,64.5,64.5,64.5,64.5,54.5,64.5,54.5,24.5,64.5,64.5,54.5,54.5,54.5,44.5,64.5,54.5,64.5,74.5,64.5,74.5,64.5,44.5,64.5,64.5,54.5,64.5,34.5,64.5,54.5,54.5,54.5,64.5,64.5,74.5,44.5,54.5,64.5,54.5,54.5,64.5,64.5,54.5,54.5,64.5,24.5,44.5,44.5,74.5,54.5,54.5,64.5,54.5,64.5,64.5,54.5,54.5,24.5,54.5,64.5,44.5,54.5,54.5,54.5,54.5,54.5,34.5,64.5,34.5,64.5,64.5,54.5,64.5,64.5,74.5,64.5,64.5,34.5,54.5,64.5,34.5,54.5,54.5,54.5,44.5,64.5,54.5,54.5,44.5,54.5,34.5,74.5,44.5,34.5,64.5,44.5,64.5,54.5,64.5,54.5,54.5,64.5,34.5,64.5,24.5,54.5,64.5,54.5,54.5,44.5,54.5,24.5,54.5,54.5,44.5,64.5,34.5,64.5,24.5,44.5,44.5,44.5,64.5,64.5,64.5,54.5,64.5,44.5,24.5,54.5,54.5,64.5,54.5,54.5,54.5,74.5,64.5,34.5,64.5,44.5,24.5,44.5,74.5,74.5,54.5,54.5,64.5,54.5,54.5,54.5,54.5,54.5,44.5,24.5,24.5,54.5,54.5,64.5,54.5,64.5,74.5,64.5,44.5,34.5,34.5,64.5,64.5,64.5,44.5,64.5,64.5,64.5,54.5,54.5,54.5,54.5,54.5,64.5,64.5,54.5,44.5,64.5,64.5,74.5,54.5,34.5,54.5,64.5,54.5,64.5,64.5,64.5,44.5,24.5,64.5,64.5,64.5,54.5,64.5,54.5,54.5,64.5,64.5,64.5,44.5,64.5,54.5,54.5,64.5,64.5,54.5,54.5,44.5,64.5,44.5,64.5,64.5,54.5,54.5,44.5,54.5,64.5,64.5,64.5,64.5,24.5,64.5,44.5,54.5,44.5,24.5,74.5,34.5,74.5,64.5,64.5,64.5,44.5,54.5,54.5,54.5,54.5,54.5,54.5,24.5,54.5,44.5,64.5,44.5,64.5,64.5,64.5,64.5,64.5,74.5,54.5,34.5,64.5,74.5,54.5,54.5,64.5,64.5,44.5,64.5,64.5,34.5,44.5,54.5,64.5,64.5,54.5,34.5,24.5,74.5,64.5,64.5,64.5,64.5,64.5,74.5,54.5,64.5,44.5,64.5,64.5,64.5,74.5,64.5,64.5,34.5,24.5,54.5,34.5,34.5,54.5,54.5,64.5,64.5,54.5,24.5,54.5,24.5,54.5,44.5,54.5,34.5,64.5,54.5,54.5,24.5,34.5,64.5,54.5,34.5,54.5,54.5,64.5,54.5,64.5,64.5,44.5,64.5,64.5,44.5,44.5,54.5,24.5,64.5,44.5,54.5,64.5,64.5,64.5,54.5,54.5,54.5,64.5,64.5,54.5,64.5,24.5,64.5,44.5,54.5,34.5,24.5,34.5,24.5,34.5,64.5,44.5,24.5,74.5,54.5,34.5,44.5,64.5,54.5,54.5,54.5,44.5,34.5,34.5,64.5,44.5,64.5,54.5,24.5,24.5,34.5,44.5,54.5,64.5,54.5,54.5,64.5,64.5,64.5,54.5,64.5,24.5,44.5,24.5,44.5,64.5,44.5,64.5,54.5,44.5,24.5,64.5,54.5,64.5,54.5,64.5,54.5,54.5,44.5,64.5,44.5,54.5,54.5,34.5,44.5,64.5,64.5,64.5,54.5,34.5,64.5,54.5,44.5,24.5,44.5,44.5,54.5,54.5,34.5,24.5,54.5,24.5,64.5,34.5,54.5,54.5,34.5,54.5,54.5,44.5,54.5,24.5,54.5,64.5,54.5,54.5,54.5,54.5,64.5,44.5,34.5,74.5,54.5,24.5,64.5,64.5,54.5,64.5,54.5,54.5,64.5,24.5,44.5,64.5,74.5,54.5,24.5,54.5,44.5,34.5,54.5,54.5,64.5,54.5,34.5,44.5,64.5,44.5,64.5,34.5,54.5,54.5,44.5,64.5,54.5,64.5,64.5,54.5,34.5,54.5,24.5,24.5,34.5,44.5,44.5,54.5,54.5,24.5,54.5,54.5,54.5,64.5,24.5,64.5,54.5,54.5,54.5,54.5,54.5,44.5,54.5,44.5,54.5,64.5,64.5,54.5,44.5,54.5,34.5,44.5,54.5,64.5,44.5,54.5,44.5,64.5,64.5,44.5,54.5,24.5,54.5,24.5,54.5,54.5,54.5,54.5,54.5,64.5,64.5,44.5,64.5,34.5,44.5,54.5,44.5,64.5,54.5,44.5,64.5,24.5,54.5,54.5,44.5,24.5,44.5,54.5,74.5,64.5,64.5,64.5,54.5,64.5,54.5,64.5,54.5,44.5,44.5,34.5,54.5,44.5,44.5,54.5,24.5,34.5,44.5,54.5,54.5,54.5,24.5,44.5,54.5,34.5,64.5,54.5,54.5,54.5,34.5,64.5,24.5,54.5],\"y0\":\" \",\"yaxis\":\"y\",\"type\":\"violin\"}],                        {\"template\":{\"data\":{\"histogram2dcontour\":[{\"type\":\"histogram2dcontour\",\"colorbar\":{\"outlinewidth\":0,\"ticks\":\"\"},\"colorscale\":[[0.0,\"#0d0887\"],[0.1111111111111111,\"#46039f\"],[0.2222222222222222,\"#7201a8\"],[0.3333333333333333,\"#9c179e\"],[0.4444444444444444,\"#bd3786\"],[0.5555555555555556,\"#d8576b\"],[0.6666666666666666,\"#ed7953\"],[0.7777777777777778,\"#fb9f3a\"],[0.8888888888888888,\"#fdca26\"],[1.0,\"#f0f921\"]]}],\"choropleth\":[{\"type\":\"choropleth\",\"colorbar\":{\"outlinewidth\":0,\"ticks\":\"\"}}],\"histogram2d\":[{\"type\":\"histogram2d\",\"colorbar\":{\"outlinewidth\":0,\"ticks\":\"\"},\"colorscale\":[[0.0,\"#0d0887\"],[0.1111111111111111,\"#46039f\"],[0.2222222222222222,\"#7201a8\"],[0.3333333333333333,\"#9c179e\"],[0.4444444444444444,\"#bd3786\"],[0.5555555555555556,\"#d8576b\"],[0.6666666666666666,\"#ed7953\"],[0.7777777777777778,\"#fb9f3a\"],[0.8888888888888888,\"#fdca26\"],[1.0,\"#f0f921\"]]}],\"heatmap\":[{\"type\":\"heatmap\",\"colorbar\":{\"outlinewidth\":0,\"ticks\":\"\"},\"colorscale\":[[0.0,\"#0d0887\"],[0.1111111111111111,\"#46039f\"],[0.2222222222222222,\"#7201a8\"],[0.3333333333333333,\"#9c179e\"],[0.4444444444444444,\"#bd3786\"],[0.5555555555555556,\"#d8576b\"],[0.6666666666666666,\"#ed7953\"],[0.7777777777777778,\"#fb9f3a\"],[0.8888888888888888,\"#fdca26\"],[1.0,\"#f0f921\"]]}],\"heatmapgl\":[{\"type\":\"heatmapgl\",\"colorbar\":{\"outlinewidth\":0,\"ticks\":\"\"},\"colorscale\":[[0.0,\"#0d0887\"],[0.1111111111111111,\"#46039f\"],[0.2222222222222222,\"#7201a8\"],[0.3333333333333333,\"#9c179e\"],[0.4444444444444444,\"#bd3786\"],[0.5555555555555556,\"#d8576b\"],[0.6666666666666666,\"#ed7953\"],[0.7777777777777778,\"#fb9f3a\"],[0.8888888888888888,\"#fdca26\"],[1.0,\"#f0f921\"]]}],\"contourcarpet\":[{\"type\":\"contourcarpet\",\"colorbar\":{\"outlinewidth\":0,\"ticks\":\"\"}}],\"contour\":[{\"type\":\"contour\",\"colorbar\":{\"outlinewidth\":0,\"ticks\":\"\"},\"colorscale\":[[0.0,\"#0d0887\"],[0.1111111111111111,\"#46039f\"],[0.2222222222222222,\"#7201a8\"],[0.3333333333333333,\"#9c179e\"],[0.4444444444444444,\"#bd3786\"],[0.5555555555555556,\"#d8576b\"],[0.6666666666666666,\"#ed7953\"],[0.7777777777777778,\"#fb9f3a\"],[0.8888888888888888,\"#fdca26\"],[1.0,\"#f0f921\"]]}],\"surface\":[{\"type\":\"surface\",\"colorbar\":{\"outlinewidth\":0,\"ticks\":\"\"},\"colorscale\":[[0.0,\"#0d0887\"],[0.1111111111111111,\"#46039f\"],[0.2222222222222222,\"#7201a8\"],[0.3333333333333333,\"#9c179e\"],[0.4444444444444444,\"#bd3786\"],[0.5555555555555556,\"#d8576b\"],[0.6666666666666666,\"#ed7953\"],[0.7777777777777778,\"#fb9f3a\"],[0.8888888888888888,\"#fdca26\"],[1.0,\"#f0f921\"]]}],\"mesh3d\":[{\"type\":\"mesh3d\",\"colorbar\":{\"outlinewidth\":0,\"ticks\":\"\"}}],\"scatter\":[{\"marker\":{\"line\":{\"color\":\"#283442\"}},\"type\":\"scatter\"}],\"parcoords\":[{\"type\":\"parcoords\",\"line\":{\"colorbar\":{\"outlinewidth\":0,\"ticks\":\"\"}}}],\"scatterpolargl\":[{\"type\":\"scatterpolargl\",\"marker\":{\"colorbar\":{\"outlinewidth\":0,\"ticks\":\"\"}}}],\"bar\":[{\"error_x\":{\"color\":\"#f2f5fa\"},\"error_y\":{\"color\":\"#f2f5fa\"},\"marker\":{\"line\":{\"color\":\"rgb(17,17,17)\",\"width\":0.5},\"pattern\":{\"fillmode\":\"overlay\",\"size\":10,\"solidity\":0.2}},\"type\":\"bar\"}],\"scattergeo\":[{\"type\":\"scattergeo\",\"marker\":{\"colorbar\":{\"outlinewidth\":0,\"ticks\":\"\"}}}],\"scatterpolar\":[{\"type\":\"scatterpolar\",\"marker\":{\"colorbar\":{\"outlinewidth\":0,\"ticks\":\"\"}}}],\"histogram\":[{\"marker\":{\"pattern\":{\"fillmode\":\"overlay\",\"size\":10,\"solidity\":0.2}},\"type\":\"histogram\"}],\"scattergl\":[{\"marker\":{\"line\":{\"color\":\"#283442\"}},\"type\":\"scattergl\"}],\"scatter3d\":[{\"type\":\"scatter3d\",\"line\":{\"colorbar\":{\"outlinewidth\":0,\"ticks\":\"\"}},\"marker\":{\"colorbar\":{\"outlinewidth\":0,\"ticks\":\"\"}}}],\"scattermapbox\":[{\"type\":\"scattermapbox\",\"marker\":{\"colorbar\":{\"outlinewidth\":0,\"ticks\":\"\"}}}],\"scatterternary\":[{\"type\":\"scatterternary\",\"marker\":{\"colorbar\":{\"outlinewidth\":0,\"ticks\":\"\"}}}],\"scattercarpet\":[{\"type\":\"scattercarpet\",\"marker\":{\"colorbar\":{\"outlinewidth\":0,\"ticks\":\"\"}}}],\"carpet\":[{\"aaxis\":{\"endlinecolor\":\"#A2B1C6\",\"gridcolor\":\"#506784\",\"linecolor\":\"#506784\",\"minorgridcolor\":\"#506784\",\"startlinecolor\":\"#A2B1C6\"},\"baxis\":{\"endlinecolor\":\"#A2B1C6\",\"gridcolor\":\"#506784\",\"linecolor\":\"#506784\",\"minorgridcolor\":\"#506784\",\"startlinecolor\":\"#A2B1C6\"},\"type\":\"carpet\"}],\"table\":[{\"cells\":{\"fill\":{\"color\":\"#506784\"},\"line\":{\"color\":\"rgb(17,17,17)\"}},\"header\":{\"fill\":{\"color\":\"#2a3f5f\"},\"line\":{\"color\":\"rgb(17,17,17)\"}},\"type\":\"table\"}],\"barpolar\":[{\"marker\":{\"line\":{\"color\":\"rgb(17,17,17)\",\"width\":0.5},\"pattern\":{\"fillmode\":\"overlay\",\"size\":10,\"solidity\":0.2}},\"type\":\"barpolar\"}],\"pie\":[{\"automargin\":true,\"type\":\"pie\"}]},\"layout\":{\"autotypenumbers\":\"strict\",\"colorway\":[\"#636efa\",\"#EF553B\",\"#00cc96\",\"#ab63fa\",\"#FFA15A\",\"#19d3f3\",\"#FF6692\",\"#B6E880\",\"#FF97FF\",\"#FECB52\"],\"font\":{\"color\":\"#f2f5fa\"},\"hovermode\":\"closest\",\"hoverlabel\":{\"align\":\"left\"},\"paper_bgcolor\":\"rgb(17,17,17)\",\"plot_bgcolor\":\"rgb(17,17,17)\",\"polar\":{\"bgcolor\":\"rgb(17,17,17)\",\"angularaxis\":{\"gridcolor\":\"#506784\",\"linecolor\":\"#506784\",\"ticks\":\"\"},\"radialaxis\":{\"gridcolor\":\"#506784\",\"linecolor\":\"#506784\",\"ticks\":\"\"}},\"ternary\":{\"bgcolor\":\"rgb(17,17,17)\",\"aaxis\":{\"gridcolor\":\"#506784\",\"linecolor\":\"#506784\",\"ticks\":\"\"},\"baxis\":{\"gridcolor\":\"#506784\",\"linecolor\":\"#506784\",\"ticks\":\"\"},\"caxis\":{\"gridcolor\":\"#506784\",\"linecolor\":\"#506784\",\"ticks\":\"\"}},\"coloraxis\":{\"colorbar\":{\"outlinewidth\":0,\"ticks\":\"\"}},\"colorscale\":{\"sequential\":[[0.0,\"#0d0887\"],[0.1111111111111111,\"#46039f\"],[0.2222222222222222,\"#7201a8\"],[0.3333333333333333,\"#9c179e\"],[0.4444444444444444,\"#bd3786\"],[0.5555555555555556,\"#d8576b\"],[0.6666666666666666,\"#ed7953\"],[0.7777777777777778,\"#fb9f3a\"],[0.8888888888888888,\"#fdca26\"],[1.0,\"#f0f921\"]],\"sequentialminus\":[[0.0,\"#0d0887\"],[0.1111111111111111,\"#46039f\"],[0.2222222222222222,\"#7201a8\"],[0.3333333333333333,\"#9c179e\"],[0.4444444444444444,\"#bd3786\"],[0.5555555555555556,\"#d8576b\"],[0.6666666666666666,\"#ed7953\"],[0.7777777777777778,\"#fb9f3a\"],[0.8888888888888888,\"#fdca26\"],[1.0,\"#f0f921\"]],\"diverging\":[[0,\"#8e0152\"],[0.1,\"#c51b7d\"],[0.2,\"#de77ae\"],[0.3,\"#f1b6da\"],[0.4,\"#fde0ef\"],[0.5,\"#f7f7f7\"],[0.6,\"#e6f5d0\"],[0.7,\"#b8e186\"],[0.8,\"#7fbc41\"],[0.9,\"#4d9221\"],[1,\"#276419\"]]},\"xaxis\":{\"gridcolor\":\"#283442\",\"linecolor\":\"#506784\",\"ticks\":\"\",\"title\":{\"standoff\":15},\"zerolinecolor\":\"#283442\",\"automargin\":true,\"zerolinewidth\":2},\"yaxis\":{\"gridcolor\":\"#283442\",\"linecolor\":\"#506784\",\"ticks\":\"\",\"title\":{\"standoff\":15},\"zerolinecolor\":\"#283442\",\"automargin\":true,\"zerolinewidth\":2},\"scene\":{\"xaxis\":{\"backgroundcolor\":\"rgb(17,17,17)\",\"gridcolor\":\"#506784\",\"linecolor\":\"#506784\",\"showbackground\":true,\"ticks\":\"\",\"zerolinecolor\":\"#C8D4E3\",\"gridwidth\":2},\"yaxis\":{\"backgroundcolor\":\"rgb(17,17,17)\",\"gridcolor\":\"#506784\",\"linecolor\":\"#506784\",\"showbackground\":true,\"ticks\":\"\",\"zerolinecolor\":\"#C8D4E3\",\"gridwidth\":2},\"zaxis\":{\"backgroundcolor\":\"rgb(17,17,17)\",\"gridcolor\":\"#506784\",\"linecolor\":\"#506784\",\"showbackground\":true,\"ticks\":\"\",\"zerolinecolor\":\"#C8D4E3\",\"gridwidth\":2}},\"shapedefaults\":{\"line\":{\"color\":\"#f2f5fa\"}},\"annotationdefaults\":{\"arrowcolor\":\"#f2f5fa\",\"arrowhead\":0,\"arrowwidth\":1},\"geo\":{\"bgcolor\":\"rgb(17,17,17)\",\"landcolor\":\"rgb(17,17,17)\",\"subunitcolor\":\"#506784\",\"showland\":true,\"showlakes\":true,\"lakecolor\":\"rgb(17,17,17)\"},\"title\":{\"x\":0.05},\"updatemenudefaults\":{\"bgcolor\":\"#506784\",\"borderwidth\":0},\"sliderdefaults\":{\"bgcolor\":\"#C8D4E3\",\"borderwidth\":1,\"bordercolor\":\"rgb(17,17,17)\",\"tickwidth\":0},\"mapbox\":{\"style\":\"dark\"}}},\"xaxis\":{\"anchor\":\"y\",\"domain\":[0.0,1.0],\"title\":{\"text\":\"DTHHRDY\"}},\"yaxis\":{\"anchor\":\"x\",\"domain\":[0.0,1.0],\"title\":{\"text\":\"medium_age\"}},\"legend\":{\"title\":{\"text\":\"SEX\"},\"tracegroupgap\":0},\"margin\":{\"t\":60},\"violinmode\":\"group\"},                        {\"responsive\": true}                    ).then(function(){\n                            \nvar gd = document.getElementById('a35155b4-e0c7-464e-989a-ea04b51f732e');\nvar x = new MutationObserver(function (mutations, observer) {{\n        var display = window.getComputedStyle(gd).display;\n        if (!display || display === 'none') {{\n            console.log([gd, 'removed!']);\n            Plotly.purge(gd);\n            observer.disconnect();\n        }}\n}});\n\n// Listen for the removal of the full notebook cells\nvar notebookContainer = gd.closest('#notebook-container');\nif (notebookContainer) {{\n    x.observe(notebookContainer, {childList: true});\n}}\n\n// Listen for the clearing of the current output cell\nvar outputEl = gd.closest('.output');\nif (outputEl) {{\n    x.observe(outputEl, {childList: true});\n}}\n\n                        })                };                });            </script>        </div>"
     },
     "metadata": {},
     "output_type": "display_data"
    }
   ],
   "source": [
    "import plotly.express as px\n",
    "pheno_pandas = phenotypes_extended.to_pandas()\n",
    "fig_d = px.violin(pheno_pandas, y=\"medium_age\", x=\"DTHHRDY\", color=\"SEX\", box=True, points=\"all\")\n",
    "fig_d.show()"
   ],
   "metadata": {
    "collapsed": false,
    "pycharm": {
     "name": "#%%\n"
    }
   }
  },
  {
   "cell_type": "code",
   "execution_count": 23,
   "outputs": [],
   "source": [
    "## LightGBM training"
   ],
   "metadata": {
    "collapsed": false,
    "pycharm": {
     "name": "#%%\n"
    }
   }
  },
  {
   "cell_type": "code",
   "execution_count": null,
   "outputs": [],
   "source": [],
   "metadata": {
    "collapsed": false,
    "pycharm": {
     "name": "#%%\n"
    }
   }
  }
 ],
 "metadata": {
  "kernelspec": {
   "display_name": "Python 3",
   "language": "python",
   "name": "python3"
  },
  "language_info": {
   "codemirror_mode": {
    "name": "ipython",
    "version": 2
   },
   "file_extension": ".py",
   "mimetype": "text/x-python",
   "name": "python",
   "nbconvert_exporter": "python",
   "pygments_lexer": "ipython2",
   "version": "2.7.6"
  }
 },
 "nbformat": 4,
 "nbformat_minor": 0
}