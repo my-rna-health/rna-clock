{
 "cells": [
  {
   "cell_type": "code",
   "execution_count": null,
   "metadata": {
    "collapsed": true,
    "pycharm": {
     "name": "#%%\n"
    }
   },
   "outputs": [],
   "source": [
    "from lassonet import LassoNetClassifierCV\n",
    "model = LassoNetClassifierCV() # LassoNetRegressorCV\n",
    "path = model.fit(X_train, y_train)\n",
    "print(\"Best model scored\", model.score(X_test, y_test))\n",
    "print(\"Lambda =\", model.best_lambda_)"
   ]
  }
 ],
 "metadata": {
  "kernelspec": {
   "display_name": "Python 3",
   "language": "python",
   "name": "python3"
  },
  "language_info": {
   "codemirror_mode": {
    "name": "ipython",
    "version": 2
   },
   "file_extension": ".py",
   "mimetype": "text/x-python",
   "name": "python",
   "nbconvert_exporter": "python",
   "pygments_lexer": "ipython2",
   "version": "2.7.6"
  }
 },
 "nbformat": 4,
 "nbformat_minor": 0
}