{
 "cells": [
  {
   "cell_type": "markdown",
   "metadata": {
    "pycharm": {
     "name": "#%% md\n"
    }
   },
   "source": [
    "## GTEX ss"
   ]
  },
  {
   "cell_type": "code",
   "execution_count": 1,
   "metadata": {
    "collapsed": false,
    "jupyter": {
     "outputs_hidden": false
    },
    "pycharm": {
     "name": "#%%\n"
    }
   },
   "outputs": [],
   "source": [
    "import polars as pl\n",
    "from pathlib import Path\n",
    "from pycomfort.files import *\n",
    "from pycomfort import files\n",
    "import pyarrow"
   ]
  },
  {
   "cell_type": "code",
   "execution_count": 2,
   "metadata": {
    "collapsed": false,
    "jupyter": {
     "outputs_hidden": false
    },
    "pycharm": {
     "name": "#%%\n"
    }
   },
   "outputs": [
    {
     "name": "stdout",
     "output_type": "stream",
     "text": [
      "gtex\n",
      "\tGTEx_8_tissues_snRNAseq_atlas_071421.public_obs.h5ad\n",
      "\tGTEx_Analysis_v8_Annotations_SubjectPhenotypesDS.txt\n",
      "\tGTEx_Analysis_2017-06-05_v8_RNASeQCv1.1.9_gene_tpm_stable_expressions.tsv\n",
      "\tGTEx_Analysis_2017-06-05_v8_RNASeQCv1.1.9_gene_tpm.gct.gz\n",
      "\tGTEx_Analysis_v8_Annotations_SampleAttributesDS.txt\n",
      "\tGTEx_8_tissues_snRNAseq_immune_atlas_071421.public_obs.h5ad\n",
      "\tsamples_with_subjects.parquet\n",
      "\tGTEx_Analysis_2017-06-05_v8_RNASeQCv1.1.9_gene_tpm_stable.gct\n"
     ]
    }
   ],
   "source": [
    "base = Path(\"..\").absolute().resolve()\n",
    "data = base / \"data\"\n",
    "input = data / \"input\"\n",
    "gtex = input / \"gtex\"\n",
    "gtex.mkdir(parents=True, exist_ok=True)\n",
    "tprint(gtex)"
   ]
  },
  {
   "cell_type": "markdown",
   "metadata": {
    "pycharm": {
     "name": "#%% md\n"
    }
   },
   "source": [
    "## Single-cell"
   ]
  },
  {
   "cell_type": "code",
   "execution_count": null,
   "metadata": {
    "collapsed": false,
    "jupyter": {
     "outputs_hidden": false
    },
    "pycharm": {
     "name": "#%%\n"
    }
   },
   "outputs": [],
   "source": []
  }
 ],
 "metadata": {
  "kernelspec": {
   "display_name": "Python 3 (ipykernel)",
   "language": "python",
   "name": "python3"
  },
  "language_info": {
   "codemirror_mode": {
    "name": "ipython",
    "version": 3
   },
   "file_extension": ".py",
   "mimetype": "text/x-python",
   "name": "python",
   "nbconvert_exporter": "python",
   "pygments_lexer": "ipython3",
   "version": "3.10.6"
  }
 },
 "nbformat": 4,
 "nbformat_minor": 4
}
