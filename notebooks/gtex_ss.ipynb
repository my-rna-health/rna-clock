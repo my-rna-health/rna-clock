{
 "cells": [
  {
   "cell_type": "markdown",
   "source": [
    "## GTEX ss"
   ],
   "metadata": {
    "collapsed": false,
    "pycharm": {
     "name": "#%% md\n"
    }
   }
  },
  {
   "cell_type": "code",
   "execution_count": 1,
   "outputs": [],
   "source": [
    "import polars as pl\n",
    "from pathlib import Path\n",
    "from pycomfort.files import *\n",
    "from pycomfort import files\n",
    "import pyarrow"
   ],
   "metadata": {
    "collapsed": false,
    "pycharm": {
     "name": "#%%\n"
    }
   }
  },
  {
   "cell_type": "code",
   "execution_count": 2,
   "outputs": [
    {
     "name": "stdout",
     "output_type": "stream",
     "text": [
      "gtex\n",
      "\tGTEx_8_tissues_snRNAseq_atlas_071421.public_obs.h5ad\n",
      "\tGTEx_Analysis_v8_Annotations_SubjectPhenotypesDS.txt\n",
      "\tGTEx_Analysis_v8_Annotations_SampleAttributesDS.txt\n",
      "\tGTEx_8_tissues_snRNAseq_immune_atlas_071421.public_obs.h5ad\n",
      "\tGTEx_Analysis_2017-06-05_v8_RNASeQCv1.1.9_gene_tpm.gct\n"
     ]
    }
   ],
   "source": [
    "base = Path(\"..\").absolute().resolve()\n",
    "data = base / \"data\"\n",
    "input = data / \"input\"\n",
    "gtex = input / \"gtex\"\n",
    "gtex.mkdir(parents=True, exist_ok=True)\n",
    "tprint(gtex)"
   ],
   "metadata": {
    "collapsed": false,
    "pycharm": {
     "name": "#%%\n"
    }
   }
  },
  {
   "cell_type": "markdown",
   "source": [
    "## Single-cell"
   ],
   "metadata": {
    "collapsed": false,
    "pycharm": {
     "name": "#%% md\n"
    }
   }
  },
  {
   "cell_type": "code",
   "execution_count": null,
   "outputs": [],
   "source": [],
   "metadata": {
    "collapsed": false,
    "pycharm": {
     "name": "#%%\n"
    }
   }
  }
 ],
 "metadata": {
  "kernelspec": {
   "display_name": "Python 3",
   "language": "python",
   "name": "python3"
  },
  "language_info": {
   "codemirror_mode": {
    "name": "ipython",
    "version": 2
   },
   "file_extension": ".py",
   "mimetype": "text/x-python",
   "name": "python",
   "nbconvert_exporter": "python",
   "pygments_lexer": "ipython2",
   "version": "2.7.6"
  }
 },
 "nbformat": 4,
 "nbformat_minor": 0
}